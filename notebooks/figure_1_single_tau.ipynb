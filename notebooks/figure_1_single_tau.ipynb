{
 "cells": [
  {
   "cell_type": "markdown",
   "metadata": {},
   "source": [
    "# Hypergraph information"
   ]
  },
  {
   "cell_type": "code",
   "execution_count": 22,
   "metadata": {},
   "outputs": [],
   "source": [
    "import sys\n",
    "\n",
    "import numpy as np\n",
    "import matplotlib.pyplot as plt\n",
    "import pandas as pd\n",
    "import seaborn as sb\n",
    "from tqdm import tqdm\n",
    "\n",
    "sys.path.append(\"../src/\")\n",
    "\n",
    "import xgi\n",
    "from reducibility_hg import *\n",
    "\n",
    "sb.set_theme(style=\"ticks\", context=\"paper\")"
   ]
  },
  {
   "cell_type": "code",
   "execution_count": 23,
   "metadata": {},
   "outputs": [],
   "source": [
    "results_dir = \"../results/\"\n",
    "out_dir = f\"{results_dir}datasets/\""
   ]
  },
  {
   "cell_type": "markdown",
   "metadata": {},
   "source": [
    "## hypergraph datasets"
   ]
  },
  {
   "cell_type": "code",
   "execution_count": 24,
   "metadata": {},
   "outputs": [
    {
     "name": "stderr",
     "output_type": "stream",
     "text": [
      "100%|█████████████████████████████████████████████| 7/7 [00:07<00:00,  1.06s/it]\n"
     ]
    }
   ],
   "source": [
    "data_names = [\n",
    "    \"email-enron\",\n",
    "    \"email-eu\",\n",
    "    \"hospital-lyon\",\n",
    "    \"contact-high-school\",\n",
    "    \"contact-primary-school\",\n",
    "    \"tags-ask-ubuntu\",\n",
    "    \"congress-bills\",\n",
    "    # \"disgenenet\",\n",
    "    # \"diseasome\",\n",
    "    # \"ndc-substances\",\n",
    "    # \"coauth-mag-geology\",\n",
    "    # \"coauth-mag-history\",\n",
    "]\n",
    "\n",
    "HGs = {}\n",
    "for name in tqdm(data_names):\n",
    "    HGs[name] = xgi.load_xgi_data(name, max_order=None, cache=True)"
   ]
  },
  {
   "cell_type": "code",
   "execution_count": 66,
   "metadata": {},
   "outputs": [
    {
     "name": "stdout",
     "output_type": "stream",
     "text": [
      "Unnamed Hypergraph with 17993 nodes and 6859 hyperedges\n",
      "Unnamed Hypergraph with 17800 nodes and 5770 hyperedges\n"
     ]
    }
   ],
   "source": [
    "pacs = 5\n",
    "name = f\"PACS{pacs}\"\n",
    "H0 = xgi.read_json(f\"../data/{name}.json\")\n",
    "print(H0)\n",
    "H0.cleanup(isolates=False)\n",
    "print(H0)\n",
    "\n",
    "orders = np.array(xgi.unique_edge_sizes(H0)) - 1\n",
    "weights = np.ones(len(orders))"
   ]
  },
  {
   "cell_type": "code",
   "execution_count": 48,
   "metadata": {},
   "outputs": [
    {
     "name": "stdout",
     "output_type": "stream",
     "text": [
      "congress-bills\n",
      "Hypergraph named congress-bills with 1718 nodes and 282049 hyperedges\n",
      "max order: 399\n",
      "Hypergraph named congress-bills with 1718 nodes and 104039 hyperedges\n"
     ]
    }
   ],
   "source": [
    "i = 6  # choose dataset here\n",
    "name = data_names[i]\n",
    "print(name)\n",
    "H0 = HGs[name]\n",
    "print(H0)\n",
    "print(\"max order:\", xgi.max_edge_order(H0))\n",
    "H0.cleanup(isolates=True)\n",
    "print(H0)\n",
    "\n",
    "orders = np.array(xgi.unique_edge_sizes(H0)) - 1\n",
    "weights = np.ones(len(orders))"
   ]
  },
  {
   "cell_type": "code",
   "execution_count": 67,
   "metadata": {},
   "outputs": [],
   "source": [
    "L_multi = xgi.multiorder_laplacian(\n",
    "    H0, orders, weights, rescale_per_node=False, sparse=True\n",
    ")"
   ]
  },
  {
   "cell_type": "code",
   "execution_count": 72,
   "metadata": {},
   "outputs": [],
   "source": [
    "L_multi = L_multi.toarray()"
   ]
  },
  {
   "cell_type": "code",
   "execution_count": 68,
   "metadata": {},
   "outputs": [
    {
     "data": {
      "text/plain": [
       "(17800, 17800)"
      ]
     },
     "execution_count": 68,
     "metadata": {},
     "output_type": "execute_result"
    }
   ],
   "source": [
    "L_multi.shape"
   ]
  },
  {
   "cell_type": "code",
   "execution_count": 69,
   "metadata": {},
   "outputs": [],
   "source": [
    "tau_c = find_charact_tau(H0, orders, weights, sparse=True)"
   ]
  },
  {
   "cell_type": "code",
   "execution_count": 70,
   "metadata": {},
   "outputs": [
    {
     "data": {
      "text/plain": [
       "4.752448902624378e-06"
      ]
     },
     "execution_count": 70,
     "metadata": {},
     "output_type": "execute_result"
    }
   ],
   "source": [
    "tau_c"
   ]
  },
  {
   "cell_type": "code",
   "execution_count": 73,
   "metadata": {},
   "outputs": [],
   "source": [
    "eigenvals, eigenvectors = np.linalg.eigh(L_multi)"
   ]
  },
  {
   "cell_type": "code",
   "execution_count": 74,
   "metadata": {},
   "outputs": [],
   "source": [
    "eigenvals, eigenvectors = np.linalg.eigh(L_multi)\n",
    "\n",
    "# Compute the matrix exponential using the eigendecomposition\n",
    "expvals = np.exp(tau_c * eigenvals)\n",
    "expA = np.dot(eigenvectors, np.dot(np.diag(expvals), eigenvectors.T))"
   ]
  },
  {
   "cell_type": "code",
   "execution_count": 90,
   "metadata": {},
   "outputs": [],
   "source": [
    "from scipy.linalg import expm, logm"
   ]
  },
  {
   "cell_type": "code",
   "execution_count": 65,
   "metadata": {},
   "outputs": [
    {
     "data": {
      "text/plain": [
       "True"
      ]
     },
     "execution_count": 65,
     "metadata": {},
     "output_type": "execute_result"
    }
   ],
   "source": [
    "np.allclose(expm(tau_c * L_multi), expA)"
   ]
  },
  {
   "cell_type": "code",
   "execution_count": 44,
   "metadata": {},
   "outputs": [
    {
     "name": "stdout",
     "output_type": "stream",
     "text": [
      "1.12 ms ± 41.3 µs per loop (mean ± std. dev. of 7 runs, 1,000 loops each)\n"
     ]
    }
   ],
   "source": [
    "%timeit expm(tau_c * L_multi)"
   ]
  },
  {
   "cell_type": "code",
   "execution_count": 63,
   "metadata": {},
   "outputs": [],
   "source": [
    "from scipy.sparse import csr_array"
   ]
  },
  {
   "cell_type": "code",
   "execution_count": 76,
   "metadata": {},
   "outputs": [
    {
     "data": {
      "text/plain": [
       "(17800, 17800)"
      ]
     },
     "execution_count": 76,
     "metadata": {},
     "output_type": "execute_result"
    }
   ],
   "source": [
    "expA.shape"
   ]
  },
  {
   "cell_type": "code",
   "execution_count": 87,
   "metadata": {},
   "outputs": [],
   "source": [
    "rho = expA / np.trace(expA)\n",
    "rho = rho + np.eye(len(rho)) * 10**-10"
   ]
  },
  {
   "cell_type": "code",
   "execution_count": 88,
   "metadata": {},
   "outputs": [
    {
     "data": {
      "text/plain": [
       "array([[ 5.53606831e-05, -1.36452071e-09, -1.36452071e-09, ...,\n",
       "         0.00000000e+00,  0.00000000e+00,  0.00000000e+00],\n",
       "       [-1.36452071e-09,  5.53606831e-05, -1.36452071e-09, ...,\n",
       "         0.00000000e+00,  0.00000000e+00,  0.00000000e+00],\n",
       "       [-1.36452071e-09, -1.36452071e-09,  5.53627518e-05, ...,\n",
       "         0.00000000e+00,  0.00000000e+00,  0.00000000e+00],\n",
       "       ...,\n",
       "       [ 0.00000000e+00,  0.00000000e+00,  0.00000000e+00, ...,\n",
       "         5.53591570e-05,  3.07341221e-27,  3.25019717e-27],\n",
       "       [ 0.00000000e+00,  0.00000000e+00,  0.00000000e+00, ...,\n",
       "         3.07341221e-27,  5.54440760e-05, -1.27460871e-21],\n",
       "       [ 0.00000000e+00,  0.00000000e+00,  0.00000000e+00, ...,\n",
       "         3.25019717e-27, -1.27531207e-21,  5.53591570e-05]])"
      ]
     },
     "execution_count": 88,
     "metadata": {},
     "output_type": "execute_result"
    }
   ],
   "source": [
    "rho"
   ]
  },
  {
   "cell_type": "code",
   "execution_count": null,
   "metadata": {},
   "outputs": [],
   "source": [
    "np.trace(rho @ logm(rho) - rho @ logm(rho))"
   ]
  },
  {
   "cell_type": "code",
   "execution_count": 80,
   "metadata": {},
   "outputs": [
    {
     "data": {
      "text/plain": [
       "<17800x17800 sparse array of type '<class 'numpy.float64'>'\n",
       "\twith 316588002 stored elements in Compressed Sparse Row format>"
      ]
     },
     "execution_count": 80,
     "metadata": {},
     "output_type": "execute_result"
    }
   ],
   "source": [
    "expA_sp = csr_array(expA)\n",
    "expA_sp"
   ]
  },
  {
   "cell_type": "code",
   "execution_count": 79,
   "metadata": {},
   "outputs": [
    {
     "data": {
      "text/plain": [
       "0.99920465219038"
      ]
     },
     "execution_count": 79,
     "metadata": {},
     "output_type": "execute_result"
    }
   ],
   "source": [
    "316588002 / 17800**2"
   ]
  },
  {
   "cell_type": "code",
   "execution_count": 82,
   "metadata": {},
   "outputs": [],
   "source": [
    "expA_sp.eliminate_zeros()"
   ]
  },
  {
   "cell_type": "code",
   "execution_count": 86,
   "metadata": {},
   "outputs": [
    {
     "data": {
      "text/plain": [
       "array([[ 1.00007395e+00, -2.46496972e-05, -2.46496972e-05,\n",
       "        -2.46496972e-05,  0.00000000e+00],\n",
       "       [-2.46496972e-05,  1.00007395e+00, -2.46496972e-05,\n",
       "        -2.46496972e-05,  0.00000000e+00],\n",
       "       [-2.46496972e-05, -2.46496972e-05,  1.00011132e+00,\n",
       "        -6.20194377e-05,  0.00000000e+00],\n",
       "       [-2.46496972e-05, -2.46496972e-05, -6.20194377e-05,\n",
       "         1.00011132e+00,  0.00000000e+00],\n",
       "       [ 0.00000000e+00,  0.00000000e+00,  0.00000000e+00,\n",
       "         0.00000000e+00,  1.00004638e+00]])"
      ]
     },
     "execution_count": 86,
     "metadata": {},
     "output_type": "execute_result"
    }
   ],
   "source": [
    "expA_sp.todense()[:5, :5]"
   ]
  },
  {
   "cell_type": "code",
   "execution_count": null,
   "metadata": {},
   "outputs": [],
   "source": []
  },
  {
   "cell_type": "code",
   "execution_count": null,
   "metadata": {},
   "outputs": [],
   "source": []
  },
  {
   "cell_type": "code",
   "execution_count": 9,
   "metadata": {},
   "outputs": [
    {
     "name": "stderr",
     "output_type": "stream",
     "text": [
      "/Users/maxime/.pyenv/versions/venv_xgi/lib/python3.9/site-packages/scipy/sparse/linalg/_dsolve/linsolve.py:347: SparseEfficiencyWarning: splu converted its input to CSC format\n",
      "  warn('splu converted its input to CSC format', SparseEfficiencyWarning)\n",
      "/Users/maxime/.pyenv/versions/venv_xgi/lib/python3.9/site-packages/scipy/sparse/linalg/_dsolve/linsolve.py:239: SparseEfficiencyWarning: spsolve is more efficient when sparse b is in the CSC matrix format\n",
      "  warn('spsolve is more efficient when sparse b '\n"
     ]
    }
   ],
   "source": [
    "Ds_H, lZs_H, orders = compute_information(H0, tau_c, sparse=True)"
   ]
  },
  {
   "cell_type": "code",
   "execution_count": 10,
   "metadata": {},
   "outputs": [
    {
     "data": {
      "text/plain": [
       "(array([0.01654861, 0.01569046, 0.01404307, 0.01170881, 0.0089686 ,\n",
       "        0.00664769, 0.00382031, 0.00185159, 0.        ]),\n",
       " array([0.01342429, 0.01344965, 0.01358906, 0.01402962, 0.0150333 ,\n",
       "        0.01664093, 0.01960684, 0.02385424, 0.03034162]))"
      ]
     },
     "execution_count": 10,
     "metadata": {},
     "output_type": "execute_result"
    }
   ],
   "source": [
    "Ds_H, lZs_H"
   ]
  },
  {
   "cell_type": "code",
   "execution_count": null,
   "metadata": {},
   "outputs": [],
   "source": []
  },
  {
   "cell_type": "code",
   "execution_count": 14,
   "metadata": {},
   "outputs": [
    {
     "data": {
      "text/plain": [
       "(array([0.01654861, 0.01569046, 0.01404307, 0.01170881, 0.0089686 ,\n",
       "        0.00664769, 0.00382031, 0.00185159, 0.        ]),\n",
       " array([0.01342429, 0.01344965, 0.01358906, 0.01402962, 0.0150333 ,\n",
       "        0.01664093, 0.01960684, 0.02385424, 0.03034162]))"
      ]
     },
     "execution_count": 14,
     "metadata": {},
     "output_type": "execute_result"
    }
   ],
   "source": [
    "optimization(H0, tau_c, sparse=True)"
   ]
  },
  {
   "cell_type": "code",
   "execution_count": null,
   "metadata": {},
   "outputs": [],
   "source": []
  },
  {
   "cell_type": "code",
   "execution_count": null,
   "metadata": {},
   "outputs": [],
   "source": []
  },
  {
   "cell_type": "code",
   "execution_count": 11,
   "metadata": {},
   "outputs": [],
   "source": [
    "from scipy.sparse import csr_array, lil_array"
   ]
  },
  {
   "cell_type": "code",
   "execution_count": 16,
   "metadata": {},
   "outputs": [
    {
     "name": "stderr",
     "output_type": "stream",
     "text": [
      "Process SpawnPoolWorker-13:\n",
      "Traceback (most recent call last):\n",
      "  File \"/Users/maxime/.pyenv/versions/3.9.13/lib/python3.9/multiprocessing/process.py\", line 315, in _bootstrap\n",
      "    self.run()\n",
      "  File \"/Users/maxime/.pyenv/versions/3.9.13/lib/python3.9/multiprocessing/process.py\", line 108, in run\n",
      "    self._target(*self._args, **self._kwargs)\n",
      "  File \"/Users/maxime/.pyenv/versions/3.9.13/lib/python3.9/multiprocessing/pool.py\", line 114, in worker\n",
      "    task = get()\n",
      "  File \"/Users/maxime/.pyenv/versions/3.9.13/lib/python3.9/multiprocessing/queues.py\", line 367, in get\n",
      "    return _ForkingPickler.loads(res)\n",
      "AttributeError: Can't get attribute 'logm_submatrix' on <module '__main__' (built-in)>\n",
      "Process SpawnPoolWorker-14:\n",
      "Traceback (most recent call last):\n",
      "  File \"/Users/maxime/.pyenv/versions/3.9.13/lib/python3.9/multiprocessing/process.py\", line 315, in _bootstrap\n",
      "    self.run()\n",
      "  File \"/Users/maxime/.pyenv/versions/3.9.13/lib/python3.9/multiprocessing/process.py\", line 108, in run\n",
      "    self._target(*self._args, **self._kwargs)\n",
      "  File \"/Users/maxime/.pyenv/versions/3.9.13/lib/python3.9/multiprocessing/pool.py\", line 114, in worker\n",
      "    task = get()\n",
      "  File \"/Users/maxime/.pyenv/versions/3.9.13/lib/python3.9/multiprocessing/queues.py\", line 367, in get\n",
      "    return _ForkingPickler.loads(res)\n",
      "AttributeError: Can't get attribute 'logm_submatrix' on <module '__main__' (built-in)>\n",
      "Process SpawnPoolWorker-15:\n",
      "Traceback (most recent call last):\n",
      "  File \"/Users/maxime/.pyenv/versions/3.9.13/lib/python3.9/multiprocessing/process.py\", line 315, in _bootstrap\n",
      "    self.run()\n",
      "  File \"/Users/maxime/.pyenv/versions/3.9.13/lib/python3.9/multiprocessing/process.py\", line 108, in run\n",
      "    self._target(*self._args, **self._kwargs)\n",
      "  File \"/Users/maxime/.pyenv/versions/3.9.13/lib/python3.9/multiprocessing/pool.py\", line 114, in worker\n",
      "    task = get()\n",
      "  File \"/Users/maxime/.pyenv/versions/3.9.13/lib/python3.9/multiprocessing/queues.py\", line 367, in get\n",
      "    return _ForkingPickler.loads(res)\n",
      "AttributeError: Can't get attribute 'logm_submatrix' on <module '__main__' (built-in)>\n",
      "Process SpawnPoolWorker-16:\n",
      "Traceback (most recent call last):\n",
      "  File \"/Users/maxime/.pyenv/versions/3.9.13/lib/python3.9/multiprocessing/process.py\", line 315, in _bootstrap\n",
      "    self.run()\n",
      "  File \"/Users/maxime/.pyenv/versions/3.9.13/lib/python3.9/multiprocessing/process.py\", line 108, in run\n",
      "    self._target(*self._args, **self._kwargs)\n",
      "  File \"/Users/maxime/.pyenv/versions/3.9.13/lib/python3.9/multiprocessing/pool.py\", line 114, in worker\n",
      "    task = get()\n",
      "  File \"/Users/maxime/.pyenv/versions/3.9.13/lib/python3.9/multiprocessing/queues.py\", line 367, in get\n",
      "    return _ForkingPickler.loads(res)\n",
      "AttributeError: Can't get attribute 'logm_submatrix' on <module '__main__' (built-in)>\n",
      "Process SpawnPoolWorker-19:\n",
      "Process SpawnPoolWorker-20:\n",
      "Process SpawnPoolWorker-18:\n",
      "Process SpawnPoolWorker-9:\n",
      "Process SpawnPoolWorker-17:\n",
      "Process SpawnPoolWorker-12:\n",
      "Process SpawnPoolWorker-11:\n",
      "Traceback (most recent call last):\n",
      "  File \"/Users/maxime/.pyenv/versions/3.9.13/lib/python3.9/multiprocessing/process.py\", line 315, in _bootstrap\n",
      "    self.run()\n",
      "  File \"/Users/maxime/.pyenv/versions/3.9.13/lib/python3.9/multiprocessing/process.py\", line 108, in run\n",
      "    self._target(*self._args, **self._kwargs)\n",
      "  File \"/Users/maxime/.pyenv/versions/3.9.13/lib/python3.9/multiprocessing/pool.py\", line 114, in worker\n",
      "    task = get()\n",
      "  File \"/Users/maxime/.pyenv/versions/3.9.13/lib/python3.9/multiprocessing/queues.py\", line 364, in get\n",
      "    with self._rlock:\n",
      "  File \"/Users/maxime/.pyenv/versions/3.9.13/lib/python3.9/multiprocessing/synchronize.py\", line 95, in __enter__\n",
      "    return self._semlock.__enter__()\n",
      "KeyboardInterrupt\n",
      "Process SpawnPoolWorker-10:\n",
      "Traceback (most recent call last):\n",
      "  File \"/Users/maxime/.pyenv/versions/3.9.13/lib/python3.9/multiprocessing/process.py\", line 315, in _bootstrap\n",
      "    self.run()\n",
      "  File \"/Users/maxime/.pyenv/versions/3.9.13/lib/python3.9/multiprocessing/process.py\", line 108, in run\n",
      "    self._target(*self._args, **self._kwargs)\n",
      "  File \"/Users/maxime/.pyenv/versions/3.9.13/lib/python3.9/multiprocessing/pool.py\", line 114, in worker\n",
      "    task = get()\n",
      "  File \"/Users/maxime/.pyenv/versions/3.9.13/lib/python3.9/multiprocessing/queues.py\", line 364, in get\n",
      "    with self._rlock:\n",
      "  File \"/Users/maxime/.pyenv/versions/3.9.13/lib/python3.9/multiprocessing/synchronize.py\", line 95, in __enter__\n",
      "    return self._semlock.__enter__()\n",
      "KeyboardInterrupt\n",
      "Traceback (most recent call last):\n",
      "Traceback (most recent call last):\n",
      "  File \"/Users/maxime/.pyenv/versions/3.9.13/lib/python3.9/multiprocessing/process.py\", line 315, in _bootstrap\n",
      "    self.run()\n",
      "  File \"/Users/maxime/.pyenv/versions/3.9.13/lib/python3.9/multiprocessing/process.py\", line 108, in run\n",
      "    self._target(*self._args, **self._kwargs)\n",
      "  File \"/Users/maxime/.pyenv/versions/3.9.13/lib/python3.9/multiprocessing/pool.py\", line 114, in worker\n",
      "    task = get()\n",
      "  File \"/Users/maxime/.pyenv/versions/3.9.13/lib/python3.9/multiprocessing/queues.py\", line 365, in get\n",
      "    res = self._reader.recv_bytes()\n",
      "  File \"/Users/maxime/.pyenv/versions/3.9.13/lib/python3.9/multiprocessing/connection.py\", line 221, in recv_bytes\n",
      "    buf = self._recv_bytes(maxlength)\n",
      "  File \"/Users/maxime/.pyenv/versions/3.9.13/lib/python3.9/multiprocessing/connection.py\", line 419, in _recv_bytes\n",
      "    buf = self._recv(4)\n",
      "  File \"/Users/maxime/.pyenv/versions/3.9.13/lib/python3.9/multiprocessing/connection.py\", line 384, in _recv\n",
      "    chunk = read(handle, remaining)\n",
      "  File \"/Users/maxime/.pyenv/versions/3.9.13/lib/python3.9/multiprocessing/process.py\", line 315, in _bootstrap\n",
      "    self.run()\n",
      "  File \"/Users/maxime/.pyenv/versions/3.9.13/lib/python3.9/multiprocessing/process.py\", line 108, in run\n",
      "    self._target(*self._args, **self._kwargs)\n",
      "  File \"/Users/maxime/.pyenv/versions/3.9.13/lib/python3.9/multiprocessing/pool.py\", line 114, in worker\n",
      "    task = get()\n",
      "  File \"/Users/maxime/.pyenv/versions/3.9.13/lib/python3.9/multiprocessing/queues.py\", line 365, in get\n",
      "    res = self._reader.recv_bytes()\n",
      "  File \"/Users/maxime/.pyenv/versions/3.9.13/lib/python3.9/multiprocessing/connection.py\", line 221, in recv_bytes\n",
      "    buf = self._recv_bytes(maxlength)\n",
      "  File \"/Users/maxime/.pyenv/versions/3.9.13/lib/python3.9/multiprocessing/connection.py\", line 419, in _recv_bytes\n",
      "    buf = self._recv(4)\n",
      "  File \"/Users/maxime/.pyenv/versions/3.9.13/lib/python3.9/multiprocessing/connection.py\", line 384, in _recv\n",
      "    chunk = read(handle, remaining)\n",
      "KeyboardInterrupt\n",
      "KeyboardInterrupt\n",
      "Traceback (most recent call last):\n",
      "  File \"/Users/maxime/.pyenv/versions/3.9.13/lib/python3.9/multiprocessing/process.py\", line 315, in _bootstrap\n",
      "    self.run()\n",
      "  File \"/Users/maxime/.pyenv/versions/3.9.13/lib/python3.9/multiprocessing/process.py\", line 108, in run\n",
      "    self._target(*self._args, **self._kwargs)\n",
      "  File \"/Users/maxime/.pyenv/versions/3.9.13/lib/python3.9/multiprocessing/pool.py\", line 114, in worker\n",
      "    task = get()\n",
      "  File \"/Users/maxime/.pyenv/versions/3.9.13/lib/python3.9/multiprocessing/queues.py\", line 364, in get\n",
      "    with self._rlock:\n",
      "  File \"/Users/maxime/.pyenv/versions/3.9.13/lib/python3.9/multiprocessing/synchronize.py\", line 95, in __enter__\n",
      "    return self._semlock.__enter__()\n",
      "Traceback (most recent call last):\n",
      "KeyboardInterrupt\n",
      "  File \"/Users/maxime/.pyenv/versions/3.9.13/lib/python3.9/multiprocessing/process.py\", line 315, in _bootstrap\n",
      "    self.run()\n",
      "  File \"/Users/maxime/.pyenv/versions/3.9.13/lib/python3.9/multiprocessing/process.py\", line 108, in run\n",
      "    self._target(*self._args, **self._kwargs)\n",
      "  File \"/Users/maxime/.pyenv/versions/3.9.13/lib/python3.9/multiprocessing/pool.py\", line 114, in worker\n",
      "    task = get()\n",
      "  File \"/Users/maxime/.pyenv/versions/3.9.13/lib/python3.9/multiprocessing/queues.py\", line 364, in get\n",
      "    with self._rlock:\n",
      "  File \"/Users/maxime/.pyenv/versions/3.9.13/lib/python3.9/multiprocessing/synchronize.py\", line 95, in __enter__\n",
      "    return self._semlock.__enter__()\n",
      "KeyboardInterrupt\n",
      "Traceback (most recent call last):\n",
      "  File \"/Users/maxime/.pyenv/versions/3.9.13/lib/python3.9/multiprocessing/process.py\", line 315, in _bootstrap\n",
      "    self.run()\n",
      "  File \"/Users/maxime/.pyenv/versions/3.9.13/lib/python3.9/multiprocessing/process.py\", line 108, in run\n",
      "    self._target(*self._args, **self._kwargs)\n",
      "  File \"/Users/maxime/.pyenv/versions/3.9.13/lib/python3.9/multiprocessing/pool.py\", line 114, in worker\n",
      "    task = get()\n",
      "  File \"/Users/maxime/.pyenv/versions/3.9.13/lib/python3.9/multiprocessing/queues.py\", line 364, in get\n",
      "    with self._rlock:\n",
      "  File \"/Users/maxime/.pyenv/versions/3.9.13/lib/python3.9/multiprocessing/synchronize.py\", line 95, in __enter__\n",
      "    return self._semlock.__enter__()\n",
      "KeyboardInterrupt\n",
      "Traceback (most recent call last):\n"
     ]
    },
    {
     "name": "stderr",
     "output_type": "stream",
     "text": [
      "  File \"/Users/maxime/.pyenv/versions/3.9.13/lib/python3.9/multiprocessing/process.py\", line 315, in _bootstrap\n",
      "    self.run()\n",
      "  File \"/Users/maxime/.pyenv/versions/3.9.13/lib/python3.9/multiprocessing/process.py\", line 108, in run\n",
      "    self._target(*self._args, **self._kwargs)\n",
      "  File \"/Users/maxime/.pyenv/versions/3.9.13/lib/python3.9/multiprocessing/pool.py\", line 114, in worker\n",
      "    task = get()\n",
      "  File \"/Users/maxime/.pyenv/versions/3.9.13/lib/python3.9/multiprocessing/queues.py\", line 364, in get\n",
      "    with self._rlock:\n",
      "  File \"/Users/maxime/.pyenv/versions/3.9.13/lib/python3.9/multiprocessing/synchronize.py\", line 95, in __enter__\n",
      "    return self._semlock.__enter__()\n",
      "KeyboardInterrupt\n"
     ]
    },
    {
     "ename": "KeyboardInterrupt",
     "evalue": "",
     "output_type": "error",
     "traceback": [
      "\u001b[0;31m---------------------------------------------------------------------------\u001b[0m",
      "\u001b[0;31mKeyboardInterrupt\u001b[0m                         Traceback (most recent call last)",
      "Cell \u001b[0;32mIn [16], line 16\u001b[0m\n\u001b[1;32m     13\u001b[0m pool \u001b[38;5;241m=\u001b[39m mp\u001b[38;5;241m.\u001b[39mPool(processes\u001b[38;5;241m=\u001b[39mnum_procs)\n\u001b[1;32m     15\u001b[0m \u001b[38;5;66;03m# compute the matrix logarithm in parallel\u001b[39;00m\n\u001b[0;32m---> 16\u001b[0m logA_sub \u001b[38;5;241m=\u001b[39m pool\u001b[38;5;241m.\u001b[39mmap(logm_submatrix, submatrices)\n\u001b[1;32m     18\u001b[0m \u001b[38;5;66;03m# combine the results from the submatrices\u001b[39;00m\n\u001b[1;32m     19\u001b[0m logA \u001b[38;5;241m=\u001b[39m np\u001b[38;5;241m.\u001b[39mblock(logA_sub)\n",
      "File \u001b[0;32m~/.pyenv/versions/3.9.13/lib/python3.9/multiprocessing/pool.py:364\u001b[0m, in \u001b[0;36mPool.map\u001b[0;34m(self, func, iterable, chunksize)\u001b[0m\n\u001b[1;32m    359\u001b[0m \u001b[38;5;28;01mdef\u001b[39;00m \u001b[38;5;21mmap\u001b[39m(\u001b[38;5;28mself\u001b[39m, func, iterable, chunksize\u001b[38;5;241m=\u001b[39m\u001b[38;5;28;01mNone\u001b[39;00m):\n\u001b[1;32m    360\u001b[0m     \u001b[38;5;124;03m'''\u001b[39;00m\n\u001b[1;32m    361\u001b[0m \u001b[38;5;124;03m    Apply `func` to each element in `iterable`, collecting the results\u001b[39;00m\n\u001b[1;32m    362\u001b[0m \u001b[38;5;124;03m    in a list that is returned.\u001b[39;00m\n\u001b[1;32m    363\u001b[0m \u001b[38;5;124;03m    '''\u001b[39;00m\n\u001b[0;32m--> 364\u001b[0m     \u001b[38;5;28;01mreturn\u001b[39;00m \u001b[38;5;28;43mself\u001b[39;49m\u001b[38;5;241;43m.\u001b[39;49m\u001b[43m_map_async\u001b[49m\u001b[43m(\u001b[49m\u001b[43mfunc\u001b[49m\u001b[43m,\u001b[49m\u001b[43m \u001b[49m\u001b[43miterable\u001b[49m\u001b[43m,\u001b[49m\u001b[43m \u001b[49m\u001b[43mmapstar\u001b[49m\u001b[43m,\u001b[49m\u001b[43m \u001b[49m\u001b[43mchunksize\u001b[49m\u001b[43m)\u001b[49m\u001b[38;5;241;43m.\u001b[39;49m\u001b[43mget\u001b[49m\u001b[43m(\u001b[49m\u001b[43m)\u001b[49m\n",
      "File \u001b[0;32m~/.pyenv/versions/3.9.13/lib/python3.9/multiprocessing/pool.py:765\u001b[0m, in \u001b[0;36mApplyResult.get\u001b[0;34m(self, timeout)\u001b[0m\n\u001b[1;32m    764\u001b[0m \u001b[38;5;28;01mdef\u001b[39;00m \u001b[38;5;21mget\u001b[39m(\u001b[38;5;28mself\u001b[39m, timeout\u001b[38;5;241m=\u001b[39m\u001b[38;5;28;01mNone\u001b[39;00m):\n\u001b[0;32m--> 765\u001b[0m     \u001b[38;5;28;43mself\u001b[39;49m\u001b[38;5;241;43m.\u001b[39;49m\u001b[43mwait\u001b[49m\u001b[43m(\u001b[49m\u001b[43mtimeout\u001b[49m\u001b[43m)\u001b[49m\n\u001b[1;32m    766\u001b[0m     \u001b[38;5;28;01mif\u001b[39;00m \u001b[38;5;129;01mnot\u001b[39;00m \u001b[38;5;28mself\u001b[39m\u001b[38;5;241m.\u001b[39mready():\n\u001b[1;32m    767\u001b[0m         \u001b[38;5;28;01mraise\u001b[39;00m \u001b[38;5;167;01mTimeoutError\u001b[39;00m\n",
      "File \u001b[0;32m~/.pyenv/versions/3.9.13/lib/python3.9/multiprocessing/pool.py:762\u001b[0m, in \u001b[0;36mApplyResult.wait\u001b[0;34m(self, timeout)\u001b[0m\n\u001b[1;32m    761\u001b[0m \u001b[38;5;28;01mdef\u001b[39;00m \u001b[38;5;21mwait\u001b[39m(\u001b[38;5;28mself\u001b[39m, timeout\u001b[38;5;241m=\u001b[39m\u001b[38;5;28;01mNone\u001b[39;00m):\n\u001b[0;32m--> 762\u001b[0m     \u001b[38;5;28;43mself\u001b[39;49m\u001b[38;5;241;43m.\u001b[39;49m\u001b[43m_event\u001b[49m\u001b[38;5;241;43m.\u001b[39;49m\u001b[43mwait\u001b[49m\u001b[43m(\u001b[49m\u001b[43mtimeout\u001b[49m\u001b[43m)\u001b[49m\n",
      "File \u001b[0;32m~/.pyenv/versions/3.9.13/lib/python3.9/threading.py:581\u001b[0m, in \u001b[0;36mEvent.wait\u001b[0;34m(self, timeout)\u001b[0m\n\u001b[1;32m    579\u001b[0m signaled \u001b[38;5;241m=\u001b[39m \u001b[38;5;28mself\u001b[39m\u001b[38;5;241m.\u001b[39m_flag\n\u001b[1;32m    580\u001b[0m \u001b[38;5;28;01mif\u001b[39;00m \u001b[38;5;129;01mnot\u001b[39;00m signaled:\n\u001b[0;32m--> 581\u001b[0m     signaled \u001b[38;5;241m=\u001b[39m \u001b[38;5;28;43mself\u001b[39;49m\u001b[38;5;241;43m.\u001b[39;49m\u001b[43m_cond\u001b[49m\u001b[38;5;241;43m.\u001b[39;49m\u001b[43mwait\u001b[49m\u001b[43m(\u001b[49m\u001b[43mtimeout\u001b[49m\u001b[43m)\u001b[49m\n\u001b[1;32m    582\u001b[0m \u001b[38;5;28;01mreturn\u001b[39;00m signaled\n",
      "File \u001b[0;32m~/.pyenv/versions/3.9.13/lib/python3.9/threading.py:312\u001b[0m, in \u001b[0;36mCondition.wait\u001b[0;34m(self, timeout)\u001b[0m\n\u001b[1;32m    310\u001b[0m \u001b[38;5;28;01mtry\u001b[39;00m:    \u001b[38;5;66;03m# restore state no matter what (e.g., KeyboardInterrupt)\u001b[39;00m\n\u001b[1;32m    311\u001b[0m     \u001b[38;5;28;01mif\u001b[39;00m timeout \u001b[38;5;129;01mis\u001b[39;00m \u001b[38;5;28;01mNone\u001b[39;00m:\n\u001b[0;32m--> 312\u001b[0m         \u001b[43mwaiter\u001b[49m\u001b[38;5;241;43m.\u001b[39;49m\u001b[43macquire\u001b[49m\u001b[43m(\u001b[49m\u001b[43m)\u001b[49m\n\u001b[1;32m    313\u001b[0m         gotit \u001b[38;5;241m=\u001b[39m \u001b[38;5;28;01mTrue\u001b[39;00m\n\u001b[1;32m    314\u001b[0m     \u001b[38;5;28;01melse\u001b[39;00m:\n",
      "\u001b[0;31mKeyboardInterrupt\u001b[0m: "
     ]
    }
   ],
   "source": [
    "# convert the CSR matrix to a LIL matrix\n",
    "A_lil = lil_array(L_multi)\n",
    "\n",
    "# define a function to compute the matrix logarithm on a submatrix\n",
    "def logm_submatrix(A_sub_lil):\n",
    "    A_sub = A_sub_lil.tocsr()  # convert the LIL matrix back to CSR format\n",
    "    return logm(A_sub)\n",
    "\n",
    "\n",
    "# split the matrix into submatrices\n",
    "submatrices = [A_lil[i::num_procs] for i in range(num_procs)]\n",
    "\n",
    "# create a pool of processes\n",
    "pool = mp.Pool(processes=num_procs)\n",
    "\n",
    "# compute the matrix logarithm in parallel\n",
    "logA_sub = pool.map(logm_submatrix, submatrices)\n",
    "\n",
    "# combine the results from the submatrices\n",
    "logA = np.block(logA_sub)"
   ]
  },
  {
   "cell_type": "code",
   "execution_count": 15,
   "metadata": {},
   "outputs": [
    {
     "name": "stderr",
     "output_type": "stream",
     "text": [
      "Process SpawnPoolWorker-1:\n",
      "Traceback (most recent call last):\n",
      "  File \"/Users/maxime/.pyenv/versions/3.9.13/lib/python3.9/multiprocessing/process.py\", line 315, in _bootstrap\n",
      "    self.run()\n",
      "  File \"/Users/maxime/.pyenv/versions/3.9.13/lib/python3.9/multiprocessing/process.py\", line 108, in run\n",
      "    self._target(*self._args, **self._kwargs)\n",
      "  File \"/Users/maxime/.pyenv/versions/3.9.13/lib/python3.9/multiprocessing/pool.py\", line 114, in worker\n",
      "    task = get()\n",
      "  File \"/Users/maxime/.pyenv/versions/3.9.13/lib/python3.9/multiprocessing/queues.py\", line 367, in get\n",
      "    return _ForkingPickler.loads(res)\n",
      "AttributeError: Can't get attribute 'logm_submatrix' on <module '__main__' (built-in)>\n",
      "Process SpawnPoolWorker-2:\n",
      "Traceback (most recent call last):\n",
      "  File \"/Users/maxime/.pyenv/versions/3.9.13/lib/python3.9/multiprocessing/process.py\", line 315, in _bootstrap\n",
      "    self.run()\n",
      "  File \"/Users/maxime/.pyenv/versions/3.9.13/lib/python3.9/multiprocessing/process.py\", line 108, in run\n",
      "    self._target(*self._args, **self._kwargs)\n",
      "  File \"/Users/maxime/.pyenv/versions/3.9.13/lib/python3.9/multiprocessing/pool.py\", line 114, in worker\n",
      "    task = get()\n",
      "  File \"/Users/maxime/.pyenv/versions/3.9.13/lib/python3.9/multiprocessing/queues.py\", line 367, in get\n",
      "    return _ForkingPickler.loads(res)\n",
      "AttributeError: Can't get attribute 'logm_submatrix' on <module '__main__' (built-in)>\n",
      "Process SpawnPoolWorker-3:\n",
      "Traceback (most recent call last):\n",
      "  File \"/Users/maxime/.pyenv/versions/3.9.13/lib/python3.9/multiprocessing/process.py\", line 315, in _bootstrap\n",
      "    self.run()\n",
      "  File \"/Users/maxime/.pyenv/versions/3.9.13/lib/python3.9/multiprocessing/process.py\", line 108, in run\n",
      "    self._target(*self._args, **self._kwargs)\n",
      "  File \"/Users/maxime/.pyenv/versions/3.9.13/lib/python3.9/multiprocessing/pool.py\", line 114, in worker\n",
      "    task = get()\n",
      "  File \"/Users/maxime/.pyenv/versions/3.9.13/lib/python3.9/multiprocessing/queues.py\", line 367, in get\n",
      "    return _ForkingPickler.loads(res)\n",
      "AttributeError: Can't get attribute 'logm_submatrix' on <module '__main__' (built-in)>\n",
      "Process SpawnPoolWorker-4:\n",
      "Traceback (most recent call last):\n",
      "  File \"/Users/maxime/.pyenv/versions/3.9.13/lib/python3.9/multiprocessing/process.py\", line 315, in _bootstrap\n",
      "    self.run()\n",
      "  File \"/Users/maxime/.pyenv/versions/3.9.13/lib/python3.9/multiprocessing/process.py\", line 108, in run\n",
      "    self._target(*self._args, **self._kwargs)\n",
      "  File \"/Users/maxime/.pyenv/versions/3.9.13/lib/python3.9/multiprocessing/pool.py\", line 114, in worker\n",
      "    task = get()\n",
      "  File \"/Users/maxime/.pyenv/versions/3.9.13/lib/python3.9/multiprocessing/queues.py\", line 367, in get\n",
      "    return _ForkingPickler.loads(res)\n",
      "AttributeError: Can't get attribute 'logm_submatrix' on <module '__main__' (built-in)>\n",
      "Process SpawnPoolWorker-8:\n",
      "Process SpawnPoolWorker-7:\n",
      "Process SpawnPoolWorker-6:\n",
      "Process SpawnPoolWorker-5:\n",
      "Traceback (most recent call last):\n",
      "Traceback (most recent call last):\n",
      "Traceback (most recent call last):\n",
      "  File \"/Users/maxime/.pyenv/versions/3.9.13/lib/python3.9/multiprocessing/process.py\", line 315, in _bootstrap\n",
      "    self.run()\n",
      "  File \"/Users/maxime/.pyenv/versions/3.9.13/lib/python3.9/multiprocessing/process.py\", line 315, in _bootstrap\n",
      "    self.run()\n",
      "  File \"/Users/maxime/.pyenv/versions/3.9.13/lib/python3.9/multiprocessing/process.py\", line 108, in run\n",
      "    self._target(*self._args, **self._kwargs)\n",
      "  File \"/Users/maxime/.pyenv/versions/3.9.13/lib/python3.9/multiprocessing/process.py\", line 108, in run\n",
      "    self._target(*self._args, **self._kwargs)\n",
      "  File \"/Users/maxime/.pyenv/versions/3.9.13/lib/python3.9/multiprocessing/process.py\", line 315, in _bootstrap\n",
      "    self.run()\n",
      "  File \"/Users/maxime/.pyenv/versions/3.9.13/lib/python3.9/multiprocessing/pool.py\", line 114, in worker\n",
      "    task = get()\n",
      "  File \"/Users/maxime/.pyenv/versions/3.9.13/lib/python3.9/multiprocessing/process.py\", line 108, in run\n",
      "    self._target(*self._args, **self._kwargs)\n",
      "  File \"/Users/maxime/.pyenv/versions/3.9.13/lib/python3.9/multiprocessing/queues.py\", line 364, in get\n",
      "    with self._rlock:\n",
      "  File \"/Users/maxime/.pyenv/versions/3.9.13/lib/python3.9/multiprocessing/pool.py\", line 114, in worker\n",
      "    task = get()\n",
      "  File \"/Users/maxime/.pyenv/versions/3.9.13/lib/python3.9/multiprocessing/synchronize.py\", line 95, in __enter__\n",
      "    return self._semlock.__enter__()\n",
      "  File \"/Users/maxime/.pyenv/versions/3.9.13/lib/python3.9/multiprocessing/pool.py\", line 114, in worker\n",
      "    task = get()\n",
      "  File \"/Users/maxime/.pyenv/versions/3.9.13/lib/python3.9/multiprocessing/queues.py\", line 364, in get\n",
      "    with self._rlock:\n",
      "  File \"/Users/maxime/.pyenv/versions/3.9.13/lib/python3.9/multiprocessing/synchronize.py\", line 95, in __enter__\n",
      "    return self._semlock.__enter__()\n",
      "KeyboardInterrupt\n",
      "  File \"/Users/maxime/.pyenv/versions/3.9.13/lib/python3.9/multiprocessing/queues.py\", line 364, in get\n",
      "    with self._rlock:\n",
      "  File \"/Users/maxime/.pyenv/versions/3.9.13/lib/python3.9/multiprocessing/synchronize.py\", line 95, in __enter__\n",
      "    return self._semlock.__enter__()\n",
      "KeyboardInterrupt\n",
      "KeyboardInterrupt\n",
      "Traceback (most recent call last):\n",
      "  File \"/Users/maxime/.pyenv/versions/3.9.13/lib/python3.9/multiprocessing/process.py\", line 315, in _bootstrap\n",
      "    self.run()\n",
      "  File \"/Users/maxime/.pyenv/versions/3.9.13/lib/python3.9/multiprocessing/process.py\", line 108, in run\n",
      "    self._target(*self._args, **self._kwargs)\n",
      "  File \"/Users/maxime/.pyenv/versions/3.9.13/lib/python3.9/multiprocessing/pool.py\", line 114, in worker\n",
      "    task = get()\n",
      "  File \"/Users/maxime/.pyenv/versions/3.9.13/lib/python3.9/multiprocessing/queues.py\", line 365, in get\n",
      "    res = self._reader.recv_bytes()\n",
      "  File \"/Users/maxime/.pyenv/versions/3.9.13/lib/python3.9/multiprocessing/connection.py\", line 221, in recv_bytes\n",
      "    buf = self._recv_bytes(maxlength)\n",
      "  File \"/Users/maxime/.pyenv/versions/3.9.13/lib/python3.9/multiprocessing/connection.py\", line 419, in _recv_bytes\n",
      "    buf = self._recv(4)\n",
      "  File \"/Users/maxime/.pyenv/versions/3.9.13/lib/python3.9/multiprocessing/connection.py\", line 384, in _recv\n",
      "    chunk = read(handle, remaining)\n",
      "KeyboardInterrupt\n"
     ]
    },
    {
     "ename": "KeyboardInterrupt",
     "evalue": "",
     "output_type": "error",
     "traceback": [
      "\u001b[0;31m---------------------------------------------------------------------------\u001b[0m",
      "\u001b[0;31mKeyboardInterrupt\u001b[0m                         Traceback (most recent call last)",
      "Cell \u001b[0;32mIn [15], line 5\u001b[0m\n\u001b[1;32m      2\u001b[0m pool \u001b[38;5;241m=\u001b[39m mp\u001b[38;5;241m.\u001b[39mPool(processes\u001b[38;5;241m=\u001b[39mnum_procs)\n\u001b[1;32m      4\u001b[0m \u001b[38;5;66;03m# compute the matrix logarithm in parallel\u001b[39;00m\n\u001b[0;32m----> 5\u001b[0m logA_sub \u001b[38;5;241m=\u001b[39m pool\u001b[38;5;241m.\u001b[39mmap(logm_submatrix, submatrices)\n\u001b[1;32m      7\u001b[0m \u001b[38;5;66;03m# combine the results from the submatrices\u001b[39;00m\n\u001b[1;32m      8\u001b[0m logA \u001b[38;5;241m=\u001b[39m np\u001b[38;5;241m.\u001b[39mblock(logA_sub)\n",
      "File \u001b[0;32m~/.pyenv/versions/3.9.13/lib/python3.9/multiprocessing/pool.py:364\u001b[0m, in \u001b[0;36mPool.map\u001b[0;34m(self, func, iterable, chunksize)\u001b[0m\n\u001b[1;32m    359\u001b[0m \u001b[38;5;28;01mdef\u001b[39;00m \u001b[38;5;21mmap\u001b[39m(\u001b[38;5;28mself\u001b[39m, func, iterable, chunksize\u001b[38;5;241m=\u001b[39m\u001b[38;5;28;01mNone\u001b[39;00m):\n\u001b[1;32m    360\u001b[0m     \u001b[38;5;124;03m'''\u001b[39;00m\n\u001b[1;32m    361\u001b[0m \u001b[38;5;124;03m    Apply `func` to each element in `iterable`, collecting the results\u001b[39;00m\n\u001b[1;32m    362\u001b[0m \u001b[38;5;124;03m    in a list that is returned.\u001b[39;00m\n\u001b[1;32m    363\u001b[0m \u001b[38;5;124;03m    '''\u001b[39;00m\n\u001b[0;32m--> 364\u001b[0m     \u001b[38;5;28;01mreturn\u001b[39;00m \u001b[38;5;28;43mself\u001b[39;49m\u001b[38;5;241;43m.\u001b[39;49m\u001b[43m_map_async\u001b[49m\u001b[43m(\u001b[49m\u001b[43mfunc\u001b[49m\u001b[43m,\u001b[49m\u001b[43m \u001b[49m\u001b[43miterable\u001b[49m\u001b[43m,\u001b[49m\u001b[43m \u001b[49m\u001b[43mmapstar\u001b[49m\u001b[43m,\u001b[49m\u001b[43m \u001b[49m\u001b[43mchunksize\u001b[49m\u001b[43m)\u001b[49m\u001b[38;5;241;43m.\u001b[39;49m\u001b[43mget\u001b[49m\u001b[43m(\u001b[49m\u001b[43m)\u001b[49m\n",
      "File \u001b[0;32m~/.pyenv/versions/3.9.13/lib/python3.9/multiprocessing/pool.py:765\u001b[0m, in \u001b[0;36mApplyResult.get\u001b[0;34m(self, timeout)\u001b[0m\n\u001b[1;32m    764\u001b[0m \u001b[38;5;28;01mdef\u001b[39;00m \u001b[38;5;21mget\u001b[39m(\u001b[38;5;28mself\u001b[39m, timeout\u001b[38;5;241m=\u001b[39m\u001b[38;5;28;01mNone\u001b[39;00m):\n\u001b[0;32m--> 765\u001b[0m     \u001b[38;5;28;43mself\u001b[39;49m\u001b[38;5;241;43m.\u001b[39;49m\u001b[43mwait\u001b[49m\u001b[43m(\u001b[49m\u001b[43mtimeout\u001b[49m\u001b[43m)\u001b[49m\n\u001b[1;32m    766\u001b[0m     \u001b[38;5;28;01mif\u001b[39;00m \u001b[38;5;129;01mnot\u001b[39;00m \u001b[38;5;28mself\u001b[39m\u001b[38;5;241m.\u001b[39mready():\n\u001b[1;32m    767\u001b[0m         \u001b[38;5;28;01mraise\u001b[39;00m \u001b[38;5;167;01mTimeoutError\u001b[39;00m\n",
      "File \u001b[0;32m~/.pyenv/versions/3.9.13/lib/python3.9/multiprocessing/pool.py:762\u001b[0m, in \u001b[0;36mApplyResult.wait\u001b[0;34m(self, timeout)\u001b[0m\n\u001b[1;32m    761\u001b[0m \u001b[38;5;28;01mdef\u001b[39;00m \u001b[38;5;21mwait\u001b[39m(\u001b[38;5;28mself\u001b[39m, timeout\u001b[38;5;241m=\u001b[39m\u001b[38;5;28;01mNone\u001b[39;00m):\n\u001b[0;32m--> 762\u001b[0m     \u001b[38;5;28;43mself\u001b[39;49m\u001b[38;5;241;43m.\u001b[39;49m\u001b[43m_event\u001b[49m\u001b[38;5;241;43m.\u001b[39;49m\u001b[43mwait\u001b[49m\u001b[43m(\u001b[49m\u001b[43mtimeout\u001b[49m\u001b[43m)\u001b[49m\n",
      "File \u001b[0;32m~/.pyenv/versions/3.9.13/lib/python3.9/threading.py:581\u001b[0m, in \u001b[0;36mEvent.wait\u001b[0;34m(self, timeout)\u001b[0m\n\u001b[1;32m    579\u001b[0m signaled \u001b[38;5;241m=\u001b[39m \u001b[38;5;28mself\u001b[39m\u001b[38;5;241m.\u001b[39m_flag\n\u001b[1;32m    580\u001b[0m \u001b[38;5;28;01mif\u001b[39;00m \u001b[38;5;129;01mnot\u001b[39;00m signaled:\n\u001b[0;32m--> 581\u001b[0m     signaled \u001b[38;5;241m=\u001b[39m \u001b[38;5;28;43mself\u001b[39;49m\u001b[38;5;241;43m.\u001b[39;49m\u001b[43m_cond\u001b[49m\u001b[38;5;241;43m.\u001b[39;49m\u001b[43mwait\u001b[49m\u001b[43m(\u001b[49m\u001b[43mtimeout\u001b[49m\u001b[43m)\u001b[49m\n\u001b[1;32m    582\u001b[0m \u001b[38;5;28;01mreturn\u001b[39;00m signaled\n",
      "File \u001b[0;32m~/.pyenv/versions/3.9.13/lib/python3.9/threading.py:312\u001b[0m, in \u001b[0;36mCondition.wait\u001b[0;34m(self, timeout)\u001b[0m\n\u001b[1;32m    310\u001b[0m \u001b[38;5;28;01mtry\u001b[39;00m:    \u001b[38;5;66;03m# restore state no matter what (e.g., KeyboardInterrupt)\u001b[39;00m\n\u001b[1;32m    311\u001b[0m     \u001b[38;5;28;01mif\u001b[39;00m timeout \u001b[38;5;129;01mis\u001b[39;00m \u001b[38;5;28;01mNone\u001b[39;00m:\n\u001b[0;32m--> 312\u001b[0m         \u001b[43mwaiter\u001b[49m\u001b[38;5;241;43m.\u001b[39;49m\u001b[43macquire\u001b[49m\u001b[43m(\u001b[49m\u001b[43m)\u001b[49m\n\u001b[1;32m    313\u001b[0m         gotit \u001b[38;5;241m=\u001b[39m \u001b[38;5;28;01mTrue\u001b[39;00m\n\u001b[1;32m    314\u001b[0m     \u001b[38;5;28;01melse\u001b[39;00m:\n",
      "\u001b[0;31mKeyboardInterrupt\u001b[0m: "
     ]
    }
   ],
   "source": []
  },
  {
   "cell_type": "code",
   "execution_count": 10,
   "metadata": {},
   "outputs": [
    {
     "data": {
      "text/plain": [
       "<75x75 sparse array of type '<class 'numpy.float64'>'\n",
       "\twith 2641 stored elements in Compressed Sparse Row format>"
      ]
     },
     "execution_count": 10,
     "metadata": {},
     "output_type": "execute_result"
    }
   ],
   "source": [
    "L_multi"
   ]
  },
  {
   "cell_type": "code",
   "execution_count": null,
   "metadata": {},
   "outputs": [],
   "source": []
  },
  {
   "cell_type": "code",
   "execution_count": 6,
   "metadata": {},
   "outputs": [],
   "source": [
    "from scipy.linalg import expm, logm\n",
    "import scipy.sparse as sp"
   ]
  },
  {
   "cell_type": "code",
   "execution_count": null,
   "metadata": {},
   "outputs": [
    {
     "name": "stderr",
     "output_type": "stream",
     "text": [
      "/Users/maxime/.pyenv/versions/venv_xgi/lib/python3.9/site-packages/scipy/sparse/linalg/_dsolve/linsolve.py:347: SparseEfficiencyWarning: splu converted its input to CSC format\n",
      "  warn('splu converted its input to CSC format', SparseEfficiencyWarning)\n",
      "/Users/maxime/.pyenv/versions/venv_xgi/lib/python3.9/site-packages/scipy/sparse/linalg/_dsolve/linsolve.py:239: SparseEfficiencyWarning: spsolve is more efficient when sparse b is in the CSC matrix format\n",
      "  warn('spsolve is more efficient when sparse b '\n"
     ]
    }
   ],
   "source": [
    "tau = 0.1\n",
    "rho = sp.linalg.expm(-tau * L_multi)"
   ]
  },
  {
   "cell_type": "code",
   "execution_count": null,
   "metadata": {},
   "outputs": [],
   "source": [
    "rho = rho / rho.trace()\n",
    "rho = rho + sp.eye(rho.shape[0]) * 10**-10"
   ]
  },
  {
   "cell_type": "code",
   "execution_count": 14,
   "metadata": {},
   "outputs": [
    {
     "data": {
      "text/plain": [
       "array([[-1.53210194e+01,  1.50767289e-01,  2.79357302e-01, ...,\n",
       "         6.13330308e-03,  1.37906863e-01,  5.59151121e-02],\n",
       "       [ 1.50767289e-01, -5.75133805e+00,  2.47396902e-01, ...,\n",
       "         1.15351007e-06, -1.24154794e-04, -4.31915328e-05],\n",
       "       [ 2.79357302e-01,  2.47396902e-01, -7.23645387e+00, ...,\n",
       "         2.47590616e-06,  2.22930294e-04, -3.57510294e-05],\n",
       "       ...,\n",
       "       [ 6.13330308e-03,  1.15351008e-06,  2.47590616e-06, ...,\n",
       "        -3.49466017e+00,  8.24218259e-06, -1.22913676e-06],\n",
       "       [ 1.37906863e-01, -1.24154796e-04,  2.22930293e-04, ...,\n",
       "         8.24218254e-06, -8.95849265e+00,  1.36699281e-01],\n",
       "       [ 5.59151121e-02, -4.31915334e-05, -3.57510297e-05, ...,\n",
       "        -1.22913677e-06,  1.36699281e-01, -4.69609564e+00]])"
      ]
     },
     "execution_count": 14,
     "metadata": {},
     "output_type": "execute_result"
    }
   ],
   "source": [
    "logm(rho.toarray())"
   ]
  },
  {
   "cell_type": "code",
   "execution_count": null,
   "metadata": {},
   "outputs": [],
   "source": []
  },
  {
   "cell_type": "code",
   "execution_count": 27,
   "metadata": {},
   "outputs": [
    {
     "data": {
      "text/plain": [
       "28860.0"
      ]
     },
     "execution_count": 27,
     "metadata": {},
     "output_type": "execute_result"
    }
   ],
   "source": [
    "np.trace(L_multi.toarray())"
   ]
  },
  {
   "cell_type": "code",
   "execution_count": 52,
   "metadata": {},
   "outputs": [
    {
     "data": {
      "text/plain": [
       "<148x148 sparse array of type '<class 'numpy.float64'>'\n",
       "\twith 5309 stored elements in Compressed Sparse Row format>"
      ]
     },
     "execution_count": 52,
     "metadata": {},
     "output_type": "execute_result"
    }
   ],
   "source": [
    "L_multi"
   ]
  },
  {
   "cell_type": "code",
   "execution_count": 61,
   "metadata": {},
   "outputs": [],
   "source": [
    "from scipy.sparse.linalg import expm"
   ]
  },
  {
   "cell_type": "code",
   "execution_count": 62,
   "metadata": {},
   "outputs": [
    {
     "data": {
      "text/plain": [
       "<148x148 sparse array of type '<class 'numpy.float64'>'\n",
       "\twith 20454 stored elements in Compressed Sparse Row format>"
      ]
     },
     "execution_count": 62,
     "metadata": {},
     "output_type": "execute_result"
    }
   ],
   "source": [
    "expm(-0.1 * L_multi)"
   ]
  },
  {
   "cell_type": "code",
   "execution_count": 10,
   "metadata": {},
   "outputs": [
    {
     "ename": "NameError",
     "evalue": "name 'sp' is not defined",
     "output_type": "error",
     "traceback": [
      "\u001b[0;31m---------------------------------------------------------------------------\u001b[0m",
      "\u001b[0;31mNameError\u001b[0m                                 Traceback (most recent call last)",
      "Cell \u001b[0;32mIn [10], line 1\u001b[0m\n\u001b[0;32m----> 1\u001b[0m sp\u001b[38;5;241m.\u001b[39mlinalg\u001b[38;5;241m.\u001b[39mlogm(L_multi)\n",
      "\u001b[0;31mNameError\u001b[0m: name 'sp' is not defined"
     ]
    }
   ],
   "source": [
    "sp.linalg.logm(L_multi)"
   ]
  },
  {
   "cell_type": "code",
   "execution_count": 73,
   "metadata": {},
   "outputs": [
    {
     "data": {
      "text/plain": [
       "21904"
      ]
     },
     "execution_count": 73,
     "metadata": {},
     "output_type": "execute_result"
    }
   ],
   "source": [
    "148**2"
   ]
  },
  {
   "cell_type": "code",
   "execution_count": 28,
   "metadata": {},
   "outputs": [],
   "source": [
    "from scipy.linalg import eigvals, eigvalsh\n",
    "from scipy.sparse.linalg import eigsh"
   ]
  },
  {
   "cell_type": "code",
   "execution_count": null,
   "metadata": {},
   "outputs": [],
   "source": [
    "eigvalsh(L_multi.toarray())"
   ]
  },
  {
   "cell_type": "code",
   "execution_count": null,
   "metadata": {},
   "outputs": [],
   "source": []
  },
  {
   "cell_type": "code",
   "execution_count": 37,
   "metadata": {},
   "outputs": [
    {
     "data": {
      "text/plain": [
       "array([-1.33337785e-13,  0.00000000e+00,  0.00000000e+00,  0.00000000e+00,\n",
       "        0.00000000e+00,  0.00000000e+00,  2.76008597e-01,  5.52115511e-01,\n",
       "        1.43426264e+00,  1.46532757e+00,  2.34491796e+00,  2.39823876e+00,\n",
       "        4.18387924e+00,  4.86142542e+00,  5.15834799e+00,  5.49223890e+00,\n",
       "        1.00817510e+01,  1.05510175e+01,  1.29302543e+01,  1.34776693e+01,\n",
       "        1.62711629e+01,  1.66328003e+01,  1.69337703e+01,  1.76241019e+01,\n",
       "        1.87706116e+01,  1.89309315e+01,  2.09662401e+01,  2.24596529e+01,\n",
       "        2.29243312e+01,  2.50224564e+01,  2.56240456e+01,  2.92050077e+01,\n",
       "        3.06490916e+01,  3.16666193e+01,  3.19653070e+01,  3.47948780e+01,\n",
       "        3.51697134e+01,  3.52735013e+01,  3.55417371e+01,  3.63909810e+01,\n",
       "        4.00905569e+01,  4.08253436e+01,  4.37098337e+01,  4.57512855e+01,\n",
       "        5.07242580e+01,  5.09889577e+01,  5.35744241e+01,  5.52279542e+01,\n",
       "        5.74426630e+01,  6.16481782e+01,  7.27728925e+01,  7.51102278e+01,\n",
       "        7.83157988e+01,  8.04692810e+01,  8.35114175e+01,  8.76825195e+01,\n",
       "        9.07373729e+01,  9.97215061e+01,  9.98340288e+01,  1.07874414e+02,\n",
       "        1.08662824e+02,  1.09830313e+02,  1.11952227e+02,  1.15044486e+02,\n",
       "        1.19808607e+02,  1.22536246e+02,  1.29573156e+02,  1.32681561e+02,\n",
       "        1.33224349e+02,  1.34149887e+02,  1.37493196e+02,  1.41234673e+02,\n",
       "        1.43388103e+02,  1.44511538e+02,  1.45203119e+02,  1.48241937e+02,\n",
       "        1.48481024e+02,  1.48965254e+02,  1.49327071e+02,  1.49646890e+02,\n",
       "        1.49831561e+02,  1.50399018e+02,  1.52555468e+02,  1.53090957e+02,\n",
       "        1.56844236e+02,  1.60124336e+02,  1.61061668e+02,  1.62664122e+02,\n",
       "        1.71165793e+02,  1.75613041e+02,  1.81270327e+02,  1.90594958e+02,\n",
       "        1.92527892e+02,  2.01839827e+02,  2.08622717e+02,  2.21415806e+02,\n",
       "        2.28054052e+02,  2.28534011e+02,  2.32794792e+02,  2.36318015e+02,\n",
       "        2.40752681e+02,  2.42629319e+02,  2.46243062e+02,  2.52702797e+02,\n",
       "        2.63549877e+02,  2.74656958e+02,  2.77514800e+02,  2.83274841e+02,\n",
       "        2.84595790e+02,  2.91493644e+02,  2.98214889e+02,  2.98393994e+02,\n",
       "        3.09535242e+02,  3.16469000e+02,  3.17842575e+02,  3.24133310e+02,\n",
       "        3.27080871e+02,  3.31264127e+02,  3.35394452e+02,  3.35911709e+02,\n",
       "        3.36806382e+02,  3.43907403e+02,  3.63867027e+02,  3.68899148e+02,\n",
       "        3.73457897e+02,  3.84874427e+02,  3.87403025e+02,  3.99569291e+02,\n",
       "        4.00573308e+02,  4.13849817e+02,  4.17708047e+02,  4.38001177e+02,\n",
       "        4.62923370e+02,  4.73176514e+02,  4.89652504e+02,  5.03623641e+02,\n",
       "        5.15263220e+02,  5.28837655e+02,  5.36773204e+02,  5.55725553e+02,\n",
       "        5.84341373e+02,  6.25298303e+02,  6.56672973e+02,  6.91857205e+02,\n",
       "        7.85288574e+02,  8.32831491e+02,  8.51553147e+02,  9.22294015e+02])"
      ]
     },
     "execution_count": 37,
     "metadata": {},
     "output_type": "execute_result"
    }
   ],
   "source": [
    "eigvalsh(L_multi.toarray())"
   ]
  },
  {
   "cell_type": "code",
   "execution_count": 47,
   "metadata": {},
   "outputs": [
    {
     "data": {
      "text/plain": [
       "[<matplotlib.lines.Line2D at 0x169f5c310>]"
      ]
     },
     "execution_count": 47,
     "metadata": {},
     "output_type": "execute_result"
    },
    {
     "data": {
      "image/png": "[encoded data removed]",
      "text/plain": [
       "<Figure size 640x480 with 1 Axes>"
      ]
     },
     "metadata": {},
     "output_type": "display_data"
    }
   ],
   "source": [
    "plt.plot(range(148), eigvalsh(L_multi.toarray()))\n",
    "\n",
    "vals, eigs = eigsh(L_multi, k=147)\n",
    "vals\n",
    "\n",
    "plt.plot(range(148 - 147, 148), vals)"
   ]
  },
  {
   "cell_type": "code",
   "execution_count": 48,
   "metadata": {},
   "outputs": [
    {
     "data": {
      "text/plain": [
       "[<matplotlib.lines.Line2D at 0x169ffd1f0>]"
      ]
     },
     "execution_count": 48,
     "metadata": {},
     "output_type": "execute_result"
    },
    {
     "data": {
      "image/png": "[encoded data removed]",
      "text/plain": [
       "<Figure size 640x480 with 1 Axes>"
      ]
     },
     "metadata": {},
     "output_type": "display_data"
    }
   ],
   "source": [
    "plt.plot(eigvalsh(L_multi.toarray())[1:] - vals[:])"
   ]
  },
  {
   "cell_type": "code",
   "execution_count": 51,
   "metadata": {},
   "outputs": [
    {
     "data": {
      "text/plain": [
       "array([922.29401487])"
      ]
     },
     "execution_count": 51,
     "metadata": {},
     "output_type": "execute_result"
    }
   ],
   "source": [
    "vals, eigs = eigsh(L_multi, k=1)\n",
    "vals"
   ]
  },
  {
   "cell_type": "code",
   "execution_count": 9,
   "metadata": {},
   "outputs": [
    {
     "data": {
      "text/plain": [
       "array([  1,   2,   3,   4,   5,   6,   7,   8,   9,  10,  11,  12,  13,\n",
       "        14,  15,  16,  17,  18,  19,  20,  21,  22,  23,  24,  25,  26,\n",
       "        27,  28,  29,  30,  31,  32,  33,  34,  35,  36,  37,  38,  39,\n",
       "        41,  42,  46,  48,  52,  57,  58,  61,  62,  67,  68,  69,  70,\n",
       "        71,  73,  74,  84, 176, 408, 411])"
      ]
     },
     "execution_count": 9,
     "metadata": {},
     "output_type": "execute_result"
    }
   ],
   "source": []
  },
  {
   "cell_type": "code",
   "execution_count": 17,
   "metadata": {},
   "outputs": [
    {
     "data": {
      "text/plain": [
       "array([ 6.32279796e-18,  8.39469061e-20, -2.69153033e-18, ...,\n",
       "       -7.58111250e-18, -2.24167559e-06, -4.57971360e-18])"
      ]
     },
     "execution_count": 17,
     "metadata": {},
     "output_type": "execute_result"
    }
   ],
   "source": [
    "eigs[:, 0]"
   ]
  },
  {
   "cell_type": "markdown",
   "metadata": {},
   "source": [
    "### Compute info"
   ]
  },
  {
   "cell_type": "code",
   "execution_count": 4,
   "metadata": {},
   "outputs": [
    {
     "name": "stdout",
     "output_type": "stream",
     "text": [
      "hospital-lyon\n",
      "Hypergraph named hospital-Lyon with 75 nodes and 21398 hyperedges\n",
      "max order: 9\n",
      "Hypergraph named hospital-Lyon with 75 nodes and 2945 hyperedges\n"
     ]
    }
   ],
   "source": [
    "i = 2  # choose dataset here\n",
    "name = data_names[i]\n",
    "print(name)\n",
    "H0 = HGs[name]\n",
    "print(H0)\n",
    "print(\"max order:\", xgi.max_edge_order(H0))\n",
    "H0.cleanup(isolates=True)\n",
    "print(H0)\n",
    "\n",
    "orders = np.array(xgi.unique_edge_sizes(H0)) - 1\n",
    "weights = np.ones(len(orders))"
   ]
  },
  {
   "cell_type": "code",
   "execution_count": 5,
   "metadata": {},
   "outputs": [
    {
     "ename": "ImportError",
     "evalue": "cannot import name 'logm' from 'scipy.sparse.linalg' (/Users/maxime/.pyenv/versions/venv_xgi/lib/python3.9/site-packages/scipy/sparse/linalg/__init__.py)",
     "output_type": "error",
     "traceback": [
      "\u001b[0;31m---------------------------------------------------------------------------\u001b[0m",
      "\u001b[0;31mImportError\u001b[0m                               Traceback (most recent call last)",
      "Cell \u001b[0;32mIn [5], line 1\u001b[0m\n\u001b[0;32m----> 1\u001b[0m \u001b[38;5;28;01mfrom\u001b[39;00m \u001b[38;5;21;01mscipy\u001b[39;00m\u001b[38;5;21;01m.\u001b[39;00m\u001b[38;5;21;01msparse\u001b[39;00m\u001b[38;5;21;01m.\u001b[39;00m\u001b[38;5;21;01mlinalg\u001b[39;00m \u001b[38;5;28;01mimport\u001b[39;00m expm, logm\n",
      "\u001b[0;31mImportError\u001b[0m: cannot import name 'logm' from 'scipy.sparse.linalg' (/Users/maxime/.pyenv/versions/venv_xgi/lib/python3.9/site-packages/scipy/sparse/linalg/__init__.py)"
     ]
    }
   ],
   "source": [
    "from scipy.sparse.linalg import expm, logm"
   ]
  },
  {
   "cell_type": "code",
   "execution_count": 6,
   "metadata": {},
   "outputs": [],
   "source": [
    "import multiprocessing as mp"
   ]
  },
  {
   "cell_type": "code",
   "execution_count": null,
   "metadata": {},
   "outputs": [],
   "source": []
  },
  {
   "cell_type": "code",
   "execution_count": null,
   "metadata": {},
   "outputs": [],
   "source": []
  },
  {
   "cell_type": "code",
   "execution_count": 42,
   "metadata": {},
   "outputs": [],
   "source": [
    "from scipy import linalg\n",
    "\n",
    "\n",
    "def KL(rho_emp, rho_model):\n",
    "    \"\"\"\n",
    "    Computes the Kullback-Leibler (KL) divergence between an empirical observation `rho_emp` and a model `rho_model`.\n",
    "\n",
    "    Parameters\n",
    "    ----------\n",
    "    rho_emp : (np.ndarray)\n",
    "        The empirical observation\n",
    "    rho_model : np.ndarray\n",
    "        The model\n",
    "\n",
    "    Returns\n",
    "    -------\n",
    "    float: the KL divergence between `rho_emp` and `rho_model`\n",
    "    \"\"\"\n",
    "    return np.trace(\n",
    "        np.matmul(rho_emp, linalg.logm(rho_emp))\n",
    "        - np.matmul(rho_emp, linalg.logm(rho_model))\n",
    "    )\n",
    "\n",
    "\n",
    "def optimization(H, tau, rescale_per_node=False):\n",
    "    \"\"\"\n",
    "    Computes the gain and loss for modeling a hypergraph (up to order `d_max`),\n",
    "    using a part of it, up to order `d < d_max`.\n",
    "\n",
    "    Parameters\n",
    "    ----------\n",
    "    H: xgi Hypergraph\n",
    "        The input hypergraph\n",
    "    tau: float\n",
    "        The scale of signal propagation\n",
    "\n",
    "    Returns\n",
    "    -------\n",
    "    D: numpy.ndarray\n",
    "        The learning error\n",
    "    lZ: numpy.ndarray\n",
    "        The penalization term for model complexity\n",
    "    \"\"\"\n",
    "    orders = np.array(xgi.unique_edge_sizes(H)) - 1\n",
    "    weights = np.ones(len(orders))\n",
    "    L_multi = xgi.multiorder_laplacian(\n",
    "        H, orders, weights, rescale_per_node=rescale_per_node\n",
    "    )\n",
    "\n",
    "    rho_all = density(L_multi, tau)\n",
    "\n",
    "    D = []  # Learning error\n",
    "    lZ = []  # Penalization term for model complexity\n",
    "    N = H.num_nodes\n",
    "\n",
    "    for l in range(len(orders)):\n",
    "        L_l = xgi.multiorder_laplacian(\n",
    "            H, orders[0 : l + 1], weights[0 : l + 1], rescale_per_node=rescale_per_node\n",
    "        )\n",
    "        rho_l = density(L_l, tau)\n",
    "        d = KL(rho_all, rho_l)\n",
    "        z = penalization(L_l, tau)\n",
    "\n",
    "        D.append(d)\n",
    "        lZ.append(z)\n",
    "\n",
    "    lZ = np.array(lZ)\n",
    "    D = np.array(D)\n",
    "\n",
    "    return D, lZ"
   ]
  },
  {
   "cell_type": "code",
   "execution_count": 44,
   "metadata": {},
   "outputs": [
    {
     "name": "stdout",
     "output_type": "stream",
     "text": [
      "6.39 s ± 402 ms per loop (mean ± std. dev. of 7 runs, 1 loop each)\n"
     ]
    }
   ],
   "source": [
    "%timeit optimization(H0, 0.1)"
   ]
  },
  {
   "cell_type": "code",
   "execution_count": 58,
   "metadata": {},
   "outputs": [],
   "source": [
    "from numba import jit, njit"
   ]
  },
  {
   "cell_type": "code",
   "execution_count": 69,
   "metadata": {},
   "outputs": [],
   "source": [
    "@jit\n",
    "def KL_nb(rho_emp, rho_model):\n",
    "    return np.trace(\n",
    "        np.dot(rho_emp, linalg.logm(rho_emp)) - np.dot(rho_emp, linalg.logm(rho_model))\n",
    "    )\n",
    "\n",
    "\n",
    "def optimization_nb(H, tau, rescale_per_node=False):\n",
    "    orders = np.array(xgi.unique_edge_sizes(H)) - 1\n",
    "    weights = np.ones(len(orders))\n",
    "    L_multi = xgi.multiorder_laplacian(\n",
    "        H, orders, weights, rescale_per_node=rescale_per_node\n",
    "    )\n",
    "\n",
    "    rho_all = density(L_multi, tau)\n",
    "\n",
    "    D = []  # Learning error\n",
    "    lZ = []  # Penalization term for model complexity\n",
    "    N = H.num_nodes\n",
    "\n",
    "    for l in range(len(orders)):\n",
    "        L_l = xgi.multiorder_laplacian(\n",
    "            H, orders[0 : l + 1], weights[0 : l + 1], rescale_per_node=rescale_per_node\n",
    "        )\n",
    "        rho_l = density(L_l, tau)\n",
    "        d = KL_nb(rho_all, rho_l)\n",
    "        z = penalization(L_l, tau)\n",
    "\n",
    "        D.append(d)\n",
    "        lZ.append(z)\n",
    "\n",
    "    lZ = np.array(lZ)\n",
    "    D = np.array(D)\n",
    "\n",
    "    return D, lZ"
   ]
  },
  {
   "cell_type": "code",
   "execution_count": 72,
   "metadata": {},
   "outputs": [
    {
     "name": "stdout",
     "output_type": "stream",
     "text": [
      "5.39 s ± 1.44 s per loop (mean ± std. dev. of 7 runs, 1 loop each)\n"
     ]
    }
   ],
   "source": [
    "%timeit optimization_nb(H0, 0.1)"
   ]
  },
  {
   "cell_type": "code",
   "execution_count": 38,
   "metadata": {},
   "outputs": [
    {
     "data": {
      "text/plain": [
       "array([1, 2, 3, 4, 5, 6, 7, 8, 9])"
      ]
     },
     "execution_count": 38,
     "metadata": {},
     "output_type": "execute_result"
    }
   ],
   "source": [
    "orders"
   ]
  },
  {
   "cell_type": "code",
   "execution_count": null,
   "metadata": {},
   "outputs": [],
   "source": []
  },
  {
   "cell_type": "code",
   "execution_count": null,
   "metadata": {},
   "outputs": [],
   "source": []
  },
  {
   "cell_type": "code",
   "execution_count": null,
   "metadata": {},
   "outputs": [],
   "source": []
  },
  {
   "cell_type": "code",
   "execution_count": 31,
   "metadata": {},
   "outputs": [],
   "source": [
    "tau_c = find_charact_tau(H0, orders, weights)"
   ]
  },
  {
   "cell_type": "code",
   "execution_count": 32,
   "metadata": {},
   "outputs": [
    {
     "name": "stdout",
     "output_type": "stream",
     "text": [
      "logm result may be inaccurate, approximate err = 4.1847167069269826e-12\n"
     ]
    },
    {
     "name": "stderr",
     "output_type": "stream",
     "text": [
      "\n",
      "KeyboardInterrupt\n",
      "\n"
     ]
    }
   ],
   "source": [
    "Ds_H, lZs_H, orders = compute_information(H0, tau_c)\n",
    "Q = Ds_H + lZs_H"
   ]
  },
  {
   "cell_type": "code",
   "execution_count": null,
   "metadata": {},
   "outputs": [],
   "source": []
  },
  {
   "cell_type": "code",
   "execution_count": null,
   "metadata": {},
   "outputs": [],
   "source": []
  },
  {
   "cell_type": "markdown",
   "metadata": {},
   "source": [
    "### Plot"
   ]
  },
  {
   "cell_type": "code",
   "execution_count": null,
   "metadata": {},
   "outputs": [],
   "source": [
    "fig, (ax1, ax2, ax3) = plt.subplots(1, 3, figsize=(7, 2.1), constrained_layout=True)\n",
    "\n",
    "\n",
    "ax1.plot(orders, Ds_H, \"o-\", ms=7, mfc=\"w\", lw=2)\n",
    "\n",
    "ax1.set_title(\"Information Loss (KL)\")\n",
    "ax1.set_xlabel(\"Max Order\")\n",
    "ax1.set_ylabel(\"Bits\")\n",
    "\n",
    "ax2.plot(orders, lZs_H, \"o-\", ms=7, mfc=\"w\", lw=2)\n",
    "ax2.set_title(\"Model Complexity ($\\delta S$)\")\n",
    "ax2.set_xlabel(\"Max Order\")\n",
    "\n",
    "ax3.plot(orders, Q, \"o-\", ms=7, mfc=\"w\", lw=2)\n",
    "y = np.where(Q == min(Q)) * np.ones(len(Q)) + 1\n",
    "x = np.linspace(np.min(Q), np.max(Q), len(Q))\n",
    "ax3.plot(y[0], x, c=\"r\", lw=4, alpha=0.7, ls=\"--\", zorder=-2)\n",
    "\n",
    "ax3.set_title(\"Message Length\")\n",
    "ax3.set_xlabel(\"Max Order\")\n",
    "\n",
    "fig.suptitle(f\"{name}\")\n",
    "\n",
    "fig_name = f\"message_length_{name}\"  # lambda2_HG_SC_N_{N}_ps_{ps}_nrep_{n_repetitions}\"\n",
    "\n",
    "plt.savefig(f\"{out_dir}{fig_name}.png\", dpi=250, bbox_inches=\"tight\")"
   ]
  },
  {
   "cell_type": "code",
   "execution_count": null,
   "metadata": {},
   "outputs": [],
   "source": [
    "np.savez(f\"{out_dir}{fig_name}.npz\", Q=Q, Ds_H=Ds_H, lZs_H=lZs_H, orders=orders)"
   ]
  },
  {
   "cell_type": "code",
   "execution_count": null,
   "metadata": {},
   "outputs": [],
   "source": []
  },
  {
   "cell_type": "markdown",
   "metadata": {},
   "source": [
    "### Multiple taus"
   ]
  },
  {
   "cell_type": "code",
   "execution_count": 4,
   "metadata": {},
   "outputs": [
    {
     "name": "stderr",
     "output_type": "stream",
     "text": [
      "\r",
      "  0%|                                                           | 0/3 [00:00<?, ?it/s]"
     ]
    },
    {
     "name": "stdout",
     "output_type": "stream",
     "text": [
      "logm result may be inaccurate, approximate err = 8.016742853678119e-13\n",
      "logm result may be inaccurate, approximate err = 8.016742853678119e-13\n",
      "logm result may be inaccurate, approximate err = 4.350871144409221e-13\n",
      "logm result may be inaccurate, approximate err = 8.016742853678119e-13\n",
      "logm result may be inaccurate, approximate err = 5.737900525699966e-13\n",
      "logm result may be inaccurate, approximate err = 8.016742853678119e-13\n",
      "logm result may be inaccurate, approximate err = 6.203558125681481e-13\n",
      "logm result may be inaccurate, approximate err = 8.016742853678119e-13\n",
      "logm result may be inaccurate, approximate err = 6.773212233745527e-13\n",
      "logm result may be inaccurate, approximate err = 8.016742853678119e-13\n",
      "logm result may be inaccurate, approximate err = 6.777192526438904e-13\n",
      "logm result may be inaccurate, approximate err = 8.016742853678119e-13\n",
      "logm result may be inaccurate, approximate err = 6.646021326160591e-13\n",
      "logm result may be inaccurate, approximate err = 8.016742853678119e-13\n",
      "logm result may be inaccurate, approximate err = 7.57728420508628e-13\n",
      "logm result may be inaccurate, approximate err = 7.981023876102742e-13\n",
      "logm result may be inaccurate, approximate err = 7.563810895432133e-13\n",
      "logm result may be inaccurate, approximate err = 8.016742853678119e-13\n"
     ]
    },
    {
     "name": "stderr",
     "output_type": "stream",
     "text": [
      "\r",
      " 33%|█████████████████                                  | 1/3 [00:32<01:04, 32.14s/it]"
     ]
    },
    {
     "name": "stdout",
     "output_type": "stream",
     "text": [
      "logm result may be inaccurate, approximate err = 8.016742853678119e-13\n",
      "logm result may be inaccurate, approximate err = 5.545146344167048e-13\n",
      "logm result may be inaccurate, approximate err = 5.545146344167048e-13\n",
      "logm result may be inaccurate, approximate err = 3.3062057911895115e-13\n",
      "logm result may be inaccurate, approximate err = 5.545146344167048e-13\n",
      "logm result may be inaccurate, approximate err = 4.1746236265241017e-13\n",
      "logm result may be inaccurate, approximate err = 5.545146344167048e-13\n",
      "logm result may be inaccurate, approximate err = 4.810776025461899e-13\n",
      "logm result may be inaccurate, approximate err = 5.545146344167048e-13\n",
      "logm result may be inaccurate, approximate err = 4.616164791306845e-13\n",
      "logm result may be inaccurate, approximate err = 5.545146344167048e-13\n",
      "logm result may be inaccurate, approximate err = 5.193045376130101e-13\n",
      "logm result may be inaccurate, approximate err = 5.545146344167048e-13\n",
      "logm result may be inaccurate, approximate err = 5.485694258565133e-13\n",
      "logm result may be inaccurate, approximate err = 5.545146344167048e-13\n",
      "logm result may be inaccurate, approximate err = 6.721076896259546e-13\n",
      "logm result may be inaccurate, approximate err = 5.545146344167048e-13\n",
      "logm result may be inaccurate, approximate err = 5.912603894692818e-13\n",
      "logm result may be inaccurate, approximate err = 5.545146344167048e-13\n"
     ]
    },
    {
     "name": "stderr",
     "output_type": "stream",
     "text": [
      "\r",
      " 67%|██████████████████████████████████                 | 2/3 [01:13<00:37, 37.57s/it]"
     ]
    },
    {
     "name": "stdout",
     "output_type": "stream",
     "text": [
      "logm result may be inaccurate, approximate err = 5.545146344167048e-13\n"
     ]
    },
    {
     "name": "stderr",
     "output_type": "stream",
     "text": [
      "100%|███████████████████████████████████████████████████| 3/3 [01:56<00:00, 38.68s/it]\n",
      "  0%|                                                           | 0/3 [00:00<?, ?it/s]"
     ]
    },
    {
     "name": "stdout",
     "output_type": "stream",
     "text": [
      "logm result may be inaccurate, approximate err = 6.755343319530016e-13\n",
      "logm result may be inaccurate, approximate err = 6.755343319530016e-13\n",
      "logm result may be inaccurate, approximate err = 4.350871144409221e-13\n",
      "logm result may be inaccurate, approximate err = 6.755343319530016e-13\n",
      "logm result may be inaccurate, approximate err = 5.564852645269207e-13\n",
      "logm result may be inaccurate, approximate err = 6.755343319530016e-13\n",
      "logm result may be inaccurate, approximate err = 6.081482829268497e-13\n",
      "logm result may be inaccurate, approximate err = 6.755343319530016e-13\n",
      "logm result may be inaccurate, approximate err = 7.494668897480793e-13\n",
      "logm result may be inaccurate, approximate err = 6.755343319530016e-13\n",
      "logm result may be inaccurate, approximate err = 6.80331195162655e-13\n",
      "logm result may be inaccurate, approximate err = 6.755343319530016e-13\n",
      "logm result may be inaccurate, approximate err = 6.12934194294414e-13\n",
      "logm result may be inaccurate, approximate err = 6.733813046114849e-13\n",
      "logm result may be inaccurate, approximate err = 6.837620893496961e-13\n",
      "logm result may be inaccurate, approximate err = 6.755343319530016e-13\n",
      "logm result may be inaccurate, approximate err = 7.023420779693413e-13\n",
      "logm result may be inaccurate, approximate err = 6.755343319530016e-13\n"
     ]
    },
    {
     "name": "stderr",
     "output_type": "stream",
     "text": [
      "\r",
      " 33%|█████████████████                                  | 1/3 [00:32<01:04, 32.02s/it]"
     ]
    },
    {
     "name": "stdout",
     "output_type": "stream",
     "text": [
      "logm result may be inaccurate, approximate err = 6.755343319530016e-13\n",
      "logm result may be inaccurate, approximate err = 5.2440390326132e-13\n",
      "logm result may be inaccurate, approximate err = 5.2440390326132e-13\n",
      "logm result may be inaccurate, approximate err = 3.3062057911895115e-13\n",
      "logm result may be inaccurate, approximate err = 5.2440390326132e-13\n",
      "logm result may be inaccurate, approximate err = 4.39765895469052e-13\n",
      "logm result may be inaccurate, approximate err = 5.2440390326132e-13\n",
      "logm result may be inaccurate, approximate err = 5.498993759400098e-13\n",
      "logm result may be inaccurate, approximate err = 5.2440390326132e-13\n",
      "logm result may be inaccurate, approximate err = 5.173522064043902e-13\n",
      "logm result may be inaccurate, approximate err = 5.2440390326132e-13\n",
      "logm result may be inaccurate, approximate err = 5.139959220314275e-13\n",
      "logm result may be inaccurate, approximate err = 5.2440390326132e-13\n",
      "logm result may be inaccurate, approximate err = 5.056209685820947e-13\n",
      "logm result may be inaccurate, approximate err = 5.2440390326132e-13\n",
      "logm result may be inaccurate, approximate err = 5.110584113897904e-13\n",
      "logm result may be inaccurate, approximate err = 5.2440390326132e-13\n",
      "logm result may be inaccurate, approximate err = 4.841594052281423e-13\n",
      "logm result may be inaccurate, approximate err = 5.2440390326132e-13\n"
     ]
    },
    {
     "name": "stderr",
     "output_type": "stream",
     "text": [
      "\r",
      " 67%|██████████████████████████████████                 | 2/3 [01:12<00:37, 37.17s/it]"
     ]
    },
    {
     "name": "stdout",
     "output_type": "stream",
     "text": [
      "logm result may be inaccurate, approximate err = 5.2440390326132e-13\n"
     ]
    },
    {
     "name": "stderr",
     "output_type": "stream",
     "text": [
      "100%|███████████████████████████████████████████████████| 3/3 [01:54<00:00, 38.28s/it]\n",
      "  0%|                                                           | 0/3 [00:00<?, ?it/s]"
     ]
    },
    {
     "name": "stdout",
     "output_type": "stream",
     "text": [
      "logm result may be inaccurate, approximate err = 5.959372360557085e-13\n",
      "logm result may be inaccurate, approximate err = 5.959372360557085e-13\n",
      "logm result may be inaccurate, approximate err = 4.350871144409221e-13\n",
      "logm result may be inaccurate, approximate err = 5.959372360557085e-13\n",
      "logm result may be inaccurate, approximate err = 5.737900525699966e-13\n",
      "logm result may be inaccurate, approximate err = 5.959372360557085e-13\n",
      "logm result may be inaccurate, approximate err = 6.203558125681481e-13\n",
      "logm result may be inaccurate, approximate err = 6.06707253999062e-13\n",
      "logm result may be inaccurate, approximate err = 7.285039839544788e-13\n",
      "logm result may be inaccurate, approximate err = 6.06707253999062e-13\n",
      "logm result may be inaccurate, approximate err = 6.654771462082654e-13\n",
      "logm result may be inaccurate, approximate err = 5.959372360557085e-13\n",
      "logm result may be inaccurate, approximate err = 5.93464251332303e-13\n",
      "logm result may be inaccurate, approximate err = 5.959372360557085e-13\n",
      "logm result may be inaccurate, approximate err = 6.466714542918543e-13\n",
      "logm result may be inaccurate, approximate err = 5.959372360557085e-13\n",
      "logm result may be inaccurate, approximate err = 6.655833045311603e-13\n",
      "logm result may be inaccurate, approximate err = 5.959372360557085e-13\n"
     ]
    },
    {
     "name": "stderr",
     "output_type": "stream",
     "text": [
      "\r",
      " 33%|█████████████████                                  | 1/3 [00:31<01:03, 31.80s/it]"
     ]
    },
    {
     "name": "stdout",
     "output_type": "stream",
     "text": [
      "logm result may be inaccurate, approximate err = 5.959372360557085e-13\n",
      "logm result may be inaccurate, approximate err = 4.526050651602394e-13\n",
      "logm result may be inaccurate, approximate err = 4.523732150897055e-13\n",
      "logm result may be inaccurate, approximate err = 3.3062057911895115e-13\n",
      "logm result may be inaccurate, approximate err = 4.523732150897055e-13\n",
      "logm result may be inaccurate, approximate err = 4.1746236265241017e-13\n",
      "logm result may be inaccurate, approximate err = 4.523732150897055e-13\n",
      "logm result may be inaccurate, approximate err = 4.810776025461899e-13\n",
      "logm result may be inaccurate, approximate err = 4.523732150897055e-13\n",
      "logm result may be inaccurate, approximate err = 5.598011680242306e-13\n",
      "logm result may be inaccurate, approximate err = 4.523732150897055e-13\n",
      "logm result may be inaccurate, approximate err = 5.290408948119364e-13\n",
      "logm result may be inaccurate, approximate err = 4.523732150897055e-13\n",
      "logm result may be inaccurate, approximate err = 5.467058460914497e-13\n",
      "logm result may be inaccurate, approximate err = 4.523732150897055e-13\n",
      "logm result may be inaccurate, approximate err = 4.738653331515742e-13\n",
      "logm result may be inaccurate, approximate err = 4.523732150897055e-13\n",
      "logm result may be inaccurate, approximate err = 4.607639883373206e-13\n",
      "logm result may be inaccurate, approximate err = 4.523732150897055e-13\n"
     ]
    },
    {
     "name": "stderr",
     "output_type": "stream",
     "text": [
      "\r",
      " 67%|██████████████████████████████████                 | 2/3 [01:12<00:36, 36.97s/it]"
     ]
    },
    {
     "name": "stdout",
     "output_type": "stream",
     "text": [
      "logm result may be inaccurate, approximate err = 4.523732150897055e-13\n"
     ]
    },
    {
     "name": "stderr",
     "output_type": "stream",
     "text": [
      "100%|███████████████████████████████████████████████████| 3/3 [01:54<00:00, 38.28s/it]\n",
      "  0%|                                                           | 0/3 [00:00<?, ?it/s]"
     ]
    },
    {
     "name": "stdout",
     "output_type": "stream",
     "text": [
      "logm result may be inaccurate, approximate err = 8.111860267793886e-13\n",
      "logm result may be inaccurate, approximate err = 8.111860267793886e-13\n",
      "logm result may be inaccurate, approximate err = 4.350871144409221e-13\n",
      "logm result may be inaccurate, approximate err = 8.111860267793886e-13\n",
      "logm result may be inaccurate, approximate err = 5.737900525699966e-13\n",
      "logm result may be inaccurate, approximate err = 8.111860267793886e-13\n",
      "logm result may be inaccurate, approximate err = 6.203558125681481e-13\n",
      "logm result may be inaccurate, approximate err = 8.111860267793886e-13\n",
      "logm result may be inaccurate, approximate err = 6.773212233745527e-13\n",
      "logm result may be inaccurate, approximate err = 8.111860267793886e-13\n",
      "logm result may be inaccurate, approximate err = 6.777192526438904e-13\n",
      "logm result may be inaccurate, approximate err = 8.111860267793886e-13\n",
      "logm result may be inaccurate, approximate err = 6.465965546932534e-13\n",
      "logm result may be inaccurate, approximate err = 8.111860267793886e-13\n",
      "logm result may be inaccurate, approximate err = 6.529730462611637e-13\n",
      "logm result may be inaccurate, approximate err = 8.111860267793886e-13\n",
      "logm result may be inaccurate, approximate err = 7.775001784876043e-13\n",
      "logm result may be inaccurate, approximate err = 8.072132206851038e-13\n"
     ]
    },
    {
     "name": "stderr",
     "output_type": "stream",
     "text": [
      "\r",
      " 33%|█████████████████                                  | 1/3 [00:34<01:09, 34.55s/it]"
     ]
    },
    {
     "name": "stdout",
     "output_type": "stream",
     "text": [
      "logm result may be inaccurate, approximate err = 8.072132206851038e-13\n",
      "logm result may be inaccurate, approximate err = 6.497154082081749e-13\n",
      "logm result may be inaccurate, approximate err = 6.497154082081749e-13\n",
      "logm result may be inaccurate, approximate err = 3.3062057911895115e-13\n",
      "logm result may be inaccurate, approximate err = 6.497154082081749e-13\n",
      "logm result may be inaccurate, approximate err = 4.1746236265241017e-13\n",
      "logm result may be inaccurate, approximate err = 6.497154082081749e-13\n",
      "logm result may be inaccurate, approximate err = 4.810776025461899e-13\n",
      "logm result may be inaccurate, approximate err = 6.497154082081749e-13\n",
      "logm result may be inaccurate, approximate err = 4.951315226212706e-13\n",
      "logm result may be inaccurate, approximate err = 6.497154082081749e-13\n",
      "logm result may be inaccurate, approximate err = 5.193045376130101e-13\n",
      "logm result may be inaccurate, approximate err = 6.497154082081749e-13\n",
      "logm result may be inaccurate, approximate err = 4.818043931424125e-13\n",
      "logm result may be inaccurate, approximate err = 6.497154082081749e-13\n",
      "logm result may be inaccurate, approximate err = 4.5256835182461035e-13\n",
      "logm result may be inaccurate, approximate err = 6.497154082081749e-13\n",
      "logm result may be inaccurate, approximate err = 7.444635966398768e-13\n",
      "logm result may be inaccurate, approximate err = 6.497154082081749e-13\n"
     ]
    },
    {
     "name": "stderr",
     "output_type": "stream",
     "text": [
      "\r",
      " 67%|██████████████████████████████████                 | 2/3 [01:15<00:38, 38.46s/it]"
     ]
    },
    {
     "name": "stdout",
     "output_type": "stream",
     "text": [
      "logm result may be inaccurate, approximate err = 6.497154082081749e-13\n"
     ]
    },
    {
     "name": "stderr",
     "output_type": "stream",
     "text": [
      "100%|███████████████████████████████████████████████████| 3/3 [01:58<00:00, 39.58s/it]\n"
     ]
    }
   ],
   "source": [
    "taus = [0.01, 0.1, 1]\n",
    "\n",
    "Ds_H0, lZs_H0, orders = compute_information(H0, taus)\n",
    "\n",
    "Ds_H = []\n",
    "lZs_H = []\n",
    "\n",
    "for i, H in enumerate(Hs):\n",
    "    Ds_Hi, lZs_Hi, _ = compute_information(H, taus)\n",
    "    Ds_H.append(Ds_Hi)\n",
    "    lZs_H.append(lZs_Hi)"
   ]
  },
  {
   "cell_type": "code",
   "execution_count": 5,
   "metadata": {},
   "outputs": [
    {
     "data": {
      "image/png": "[encoded data removed]",
      "text/plain": [
       "<Figure size 600x210 with 3 Axes>"
      ]
     },
     "metadata": {},
     "output_type": "display_data"
    }
   ],
   "source": [
    "fig, axs = plt.subplots(\n",
    "    1, len(taus), figsize=(2 * len(taus), 2.1), constrained_layout=True\n",
    ")\n",
    "\n",
    "for i, tau in enumerate(taus):\n",
    "\n",
    "    axs[i].plot(orders, lZs_H0[i] - Ds_H0[i], \"o-\", label=\"not shuffled\", ms=9, mfc=\"w\")\n",
    "\n",
    "    for j, H in enumerate(Hs):\n",
    "        axs[i].plot(\n",
    "            orders, lZs_H[j][i] - Ds_H[j][i], \"o-\", label=f\"d={d_shuffles[j]} shuffled\"\n",
    "        )\n",
    "\n",
    "        axs[i].axvline(d_shuffles[j], ls=\"--\", c=f\"C{j+1}\", zorder=-2, alpha=0.8)\n",
    "\n",
    "    axs[i].set_title(rf\"$\\tau = {tau}$\", weight=\"bold\")\n",
    "    axs[i].set_xlabel(\"Max order\")\n",
    "    axs[i].set_xticks(orders)\n",
    "\n",
    "axs[0].set_ylabel(\"Quality function\")\n",
    "axs[-1].legend(loc=\"center left\", bbox_to_anchor=(1, 0.5))\n",
    "\n",
    "sb.despine()\n",
    "\n",
    "fig.suptitle(f\"{name} $p_s={p_shuffle}$\")\n",
    "\n",
    "fig_name = (\n",
    "    f\"info_{name}_p_s_{p_shuffle}\"  # lambda2_HG_SC_N_{N}_ps_{ps}_nrep_{n_repetitions}\"\n",
    ")\n",
    "\n",
    "# plt.savefig(f\"{out_dir}{fig_name}.png\", dpi=250, bbox_inches=\"tight\")"
   ]
  },
  {
   "cell_type": "code",
   "execution_count": null,
   "metadata": {},
   "outputs": [],
   "source": []
  },
  {
   "cell_type": "code",
   "execution_count": 6,
   "metadata": {},
   "outputs": [
    {
     "name": "stderr",
     "output_type": "stream",
     "text": [
      "/Users/maxime/Dropbox (ISI Foundation)/WORK/SCIENCE/xgi/xgi/linalg/matrix.py:310: UserWarning: No edges of order 2. Contribution of that order is zero. Its weight is effectively zero.\n",
      "  warn(\n"
     ]
    },
    {
     "data": {
      "text/plain": [
       "array([[ 5., -3., -1., -1.],\n",
       "       [-3.,  5., -1., -1.],\n",
       "       [-1., -1.,  3., -1.],\n",
       "       [-1., -1., -1.,  3.]])"
      ]
     },
     "execution_count": 6,
     "metadata": {},
     "output_type": "execute_result"
    }
   ],
   "source": [
    "H = xgi.Hypergraph([[1, 2], [1, 2, 3, 4]])\n",
    "\n",
    "xgi.multiorder_laplacian(H, orders=[1, 2, 3], weights=[1, 1, 1])"
   ]
  },
  {
   "cell_type": "code",
   "execution_count": 7,
   "metadata": {},
   "outputs": [
    {
     "data": {
      "text/plain": [
       "array([[ 5., -3., -1., -1.],\n",
       "       [-3.,  5., -1., -1.],\n",
       "       [-1., -1.,  3., -1.],\n",
       "       [-1., -1., -1.,  3.]])"
      ]
     },
     "execution_count": 7,
     "metadata": {},
     "output_type": "execute_result"
    }
   ],
   "source": [
    "xgi.multiorder_laplacian(H, orders=[1, 3], weights=[1, 1])"
   ]
  },
  {
   "cell_type": "code",
   "execution_count": null,
   "metadata": {},
   "outputs": [],
   "source": []
  },
  {
   "cell_type": "code",
   "execution_count": null,
   "metadata": {},
   "outputs": [],
   "source": []
  },
  {
   "cell_type": "code",
   "execution_count": null,
   "metadata": {},
   "outputs": [],
   "source": []
  },
  {
   "cell_type": "markdown",
   "metadata": {},
   "source": [
    "### Compute entropy"
   ]
  },
  {
   "cell_type": "code",
   "execution_count": 8,
   "metadata": {},
   "outputs": [
    {
     "data": {
      "text/html": [
       "<div>\n",
       "<style scoped>\n",
       "    .dataframe tbody tr th:only-of-type {\n",
       "        vertical-align: middle;\n",
       "    }\n",
       "\n",
       "    .dataframe tbody tr th {\n",
       "        vertical-align: top;\n",
       "    }\n",
       "\n",
       "    .dataframe thead th {\n",
       "        text-align: right;\n",
       "    }\n",
       "</style>\n",
       "<table border=\"1\" class=\"dataframe\">\n",
       "  <thead>\n",
       "    <tr style=\"text-align: right;\">\n",
       "      <th></th>\n",
       "      <th>0.01</th>\n",
       "      <th>0.10</th>\n",
       "      <th>1.00</th>\n",
       "    </tr>\n",
       "  </thead>\n",
       "  <tbody>\n",
       "    <tr>\n",
       "      <th>0</th>\n",
       "      <td>6.244639+0.000000j</td>\n",
       "      <td>6.175864+0.000000j</td>\n",
       "      <td>5.349064+0.000000j</td>\n",
       "    </tr>\n",
       "    <tr>\n",
       "      <th>3</th>\n",
       "      <td>6.244702+0.000000j</td>\n",
       "      <td>6.170229+0.000000j</td>\n",
       "      <td>5.332210+0.000000j</td>\n",
       "    </tr>\n",
       "    <tr>\n",
       "      <th>5</th>\n",
       "      <td>6.244534+0.000000j</td>\n",
       "      <td>6.167961+0.000000j</td>\n",
       "      <td>5.365889+0.000000j</td>\n",
       "    </tr>\n",
       "    <tr>\n",
       "      <th>7</th>\n",
       "      <td>6.244618+0.000000j</td>\n",
       "      <td>6.172695+0.000000j</td>\n",
       "      <td>5.355570+0.000000j</td>\n",
       "    </tr>\n",
       "  </tbody>\n",
       "</table>\n",
       "</div>"
      ],
      "text/plain": [
       "                 0.01                0.10                1.00\n",
       "0  6.244639+0.000000j  6.175864+0.000000j  5.349064+0.000000j\n",
       "3  6.244702+0.000000j  6.170229+0.000000j  5.332210+0.000000j\n",
       "5  6.244534+0.000000j  6.167961+0.000000j  5.365889+0.000000j\n",
       "7  6.244618+0.000000j  6.172695+0.000000j  5.355570+0.000000j"
      ]
     },
     "execution_count": 8,
     "metadata": {},
     "output_type": "execute_result"
    }
   ],
   "source": [
    "ents = {}\n",
    "\n",
    "for i, tau in enumerate(taus):\n",
    "\n",
    "    ents[tau] = {}\n",
    "\n",
    "    for j, HG in enumerate([H0] + Hs):\n",
    "        d_max = xgi.max_edge_order(HG)\n",
    "        L_multi = np.zeros((HG.num_nodes, HG.num_nodes))\n",
    "        for d in range(1, d_max + 1):\n",
    "            # K, Adj, L = su.compute_laplacians(G, d+1)\n",
    "            L = xgi.laplacian(HG, d, rescale_per_node=False)\n",
    "            L_multi += L\n",
    "\n",
    "        ent = entropy(L_multi, tau)\n",
    "\n",
    "        dd = 0 if j == 0 else d_shuffles[j - 1]\n",
    "        ents[tau][dd] = ent\n",
    "\n",
    "ents_df = pd.DataFrame.from_dict(ents)\n",
    "\n",
    "ents_df_long = (\n",
    "    ents_df.stack().rename(\"entropy\").to_frame().reset_index(names=[\"shuffle\", \"tau\"])\n",
    ")\n",
    "ents_df"
   ]
  },
  {
   "cell_type": "code",
   "execution_count": 9,
   "metadata": {},
   "outputs": [
    {
     "name": "stderr",
     "output_type": "stream",
     "text": [
      "/Users/maxime/.pyenv/versions/venv_xgi/lib/python3.9/site-packages/matplotlib/cbook/__init__.py:1369: ComplexWarning: Casting complex values to real discards the imaginary part\n",
      "  return np.asarray(x, float)\n"
     ]
    },
    {
     "data": {
      "image/png": "[encoded data removed]",
      "text/plain": [
       "<Figure size 340x240 with 1 Axes>"
      ]
     },
     "metadata": {},
     "output_type": "display_data"
    }
   ],
   "source": [
    "fig, ax = plt.subplots(figsize=(3.4, 2.4))\n",
    "\n",
    "for i, series in enumerate(ents_df.values):\n",
    "    mfc = \"w\" if i == 0 else None\n",
    "    ax.plot(ents_df.columns, series, \"o-\", label=ents_df.index[i], mfc=mfc)\n",
    "\n",
    "ax.set_ylabel(\"entropy\")\n",
    "ax.set_xlabel(\"tau\")\n",
    "ax.legend(title=\"d shuffled\")\n",
    "ax.set_xscale(\"log\", base=10)\n",
    "\n",
    "sb.despine()\n",
    "\n",
    "fig.suptitle(f\"{name} $p_s={p_shuffle}$\")\n",
    "\n",
    "fig_name = f\"info_{name}_p_s_{p_shuffle}_entropy\"  # lambda2_HG_SC_N_{N}_ps_{ps}_nrep_{n_repetitions}\"\n",
    "# plt.savefig(f\"{fig_name}.png\", dpi=250, bbox_inches=\"tight\")"
   ]
  },
  {
   "cell_type": "code",
   "execution_count": null,
   "metadata": {},
   "outputs": [],
   "source": []
  }
 ],
 "metadata": {
  "kernelspec": {
   "display_name": "venv_xgi",
   "language": "python",
   "name": "venv_xgi"
  },
  "language_info": {
   "codemirror_mode": {
    "name": "ipython",
    "version": 3
   },
   "file_extension": ".py",
   "mimetype": "text/x-python",
   "name": "python",
   "nbconvert_exporter": "python",
   "pygments_lexer": "ipython3",
   "version": "3.9.13"
  },
  "toc": {
   "base_numbering": 1,
   "nav_menu": {},
   "number_sections": true,
   "sideBar": true,
   "skip_h1_title": false,
   "title_cell": "Table of Contents",
   "title_sidebar": "Contents",
   "toc_cell": false,
   "toc_position": {
    "height": "calc(100% - 180px)",
    "left": "10px",
    "top": "150px",
    "width": "288.594px"
   },
   "toc_section_display": true,
   "toc_window_display": true
  }
 },
 "nbformat": 4,
 "nbformat_minor": 2
}
