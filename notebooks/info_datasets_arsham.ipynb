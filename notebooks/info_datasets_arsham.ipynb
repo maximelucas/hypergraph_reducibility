{
 "cells": [
  {
   "cell_type": "markdown",
   "metadata": {},
   "source": [
    "# Hypergraph information"
   ]
  },
  {
   "cell_type": "markdown",
   "metadata": {},
   "source": [
    "## hypergraph datasets"
   ]
  },
  {
   "cell_type": "code",
   "execution_count": 2,
   "metadata": {},
   "outputs": [
    {
     "name": "stderr",
     "output_type": "stream",
     "text": [
      "100%|███████████████████████████████████████████████████| 3/3 [00:02<00:00,  1.09it/s]\n"
     ]
    }
   ],
   "source": [
    "data_names = [\n",
    "    \"email-enron\",\n",
    "    \"hospital-lyon\",\n",
    "    \"diseasome\",\n",
    "]\n",
    "\n",
    "HGs = {}\n",
    "for name in tqdm(data_names):\n",
    "    HGs[name] = xgi.load_xgi_data(name, max_order=None, cache=True)"
   ]
  },
  {
   "cell_type": "markdown",
   "metadata": {},
   "source": [
    "### Shuffle"
   ]
  },
  {
   "cell_type": "code",
   "execution_count": 3,
   "metadata": {},
   "outputs": [
    {
     "name": "stdout",
     "output_type": "stream",
     "text": [
      "diseasome\n",
      "Hypergraph named Diseasome with 516 nodes and 903 hyperedges\n",
      "max order: 10\n",
      "Hypergraph named Diseasome with 516 nodes and 314 hyperedges\n",
      "3\n",
      "5\n",
      "7\n"
     ]
    }
   ],
   "source": [
    "i = 2  # choose dataset here\n",
    "name = data_names[i]\n",
    "print(name)\n",
    "H0 = HGs[name]\n",
    "print(H0)\n",
    "print(\"max order:\", xgi.max_edge_order(H0))\n",
    "H0.cleanup(isolates=True)\n",
    "print(H0)\n",
    "\n",
    "d_shuffles = [3, 5, 7]  # orders to shuffle\n",
    "p_shuffle = 0.9  # probability of shuffling\n",
    "\n",
    "Hs = []\n",
    "\n",
    "# create copies of the hypergraph with edges shuffled\n",
    "for d_shuffle in d_shuffles:\n",
    "    if d_shuffle <= xgi.max_edge_order(H0):\n",
    "        print(d_shuffle)\n",
    "        Hs.append(shuffle_hyperedges(S=H0, order=d_shuffle, p=p_shuffle))"
   ]
  },
  {
   "cell_type": "markdown",
   "metadata": {},
   "source": [
    "### Multiple taus"
   ]
  },
  {
   "cell_type": "code",
   "execution_count": 4,
   "metadata": {},
   "outputs": [
    {
     "name": "stderr",
     "output_type": "stream",
     "text": [
      "\r",
      "  0%|                                                           | 0/3 [00:00<?, ?it/s]"
     ]
    },
    {
     "name": "stdout",
     "output_type": "stream",
     "text": [
      "logm result may be inaccurate, approximate err = 8.016742853678119e-13\n",
      "logm result may be inaccurate, approximate err = 8.016742853678119e-13\n",
      "logm result may be inaccurate, approximate err = 4.350871144409221e-13\n",
      "logm result may be inaccurate, approximate err = 8.016742853678119e-13\n",
      "logm result may be inaccurate, approximate err = 5.737900525699966e-13\n",
      "logm result may be inaccurate, approximate err = 8.016742853678119e-13\n",
      "logm result may be inaccurate, approximate err = 6.203558125681481e-13\n",
      "logm result may be inaccurate, approximate err = 8.016742853678119e-13\n",
      "logm result may be inaccurate, approximate err = 6.773212233745527e-13\n",
      "logm result may be inaccurate, approximate err = 8.016742853678119e-13\n",
      "logm result may be inaccurate, approximate err = 6.777192526438904e-13\n",
      "logm result may be inaccurate, approximate err = 8.016742853678119e-13\n",
      "logm result may be inaccurate, approximate err = 6.646021326160591e-13\n",
      "logm result may be inaccurate, approximate err = 8.016742853678119e-13\n",
      "logm result may be inaccurate, approximate err = 7.57728420508628e-13\n",
      "logm result may be inaccurate, approximate err = 7.981023876102742e-13\n",
      "logm result may be inaccurate, approximate err = 7.563810895432133e-13\n",
      "logm result may be inaccurate, approximate err = 8.016742853678119e-13\n"
     ]
    },
    {
     "name": "stderr",
     "output_type": "stream",
     "text": [
      "\r",
      " 33%|█████████████████                                  | 1/3 [00:32<01:04, 32.14s/it]"
     ]
    },
    {
     "name": "stdout",
     "output_type": "stream",
     "text": [
      "logm result may be inaccurate, approximate err = 8.016742853678119e-13\n",
      "logm result may be inaccurate, approximate err = 5.545146344167048e-13\n",
      "logm result may be inaccurate, approximate err = 5.545146344167048e-13\n",
      "logm result may be inaccurate, approximate err = 3.3062057911895115e-13\n",
      "logm result may be inaccurate, approximate err = 5.545146344167048e-13\n",
      "logm result may be inaccurate, approximate err = 4.1746236265241017e-13\n",
      "logm result may be inaccurate, approximate err = 5.545146344167048e-13\n",
      "logm result may be inaccurate, approximate err = 4.810776025461899e-13\n",
      "logm result may be inaccurate, approximate err = 5.545146344167048e-13\n",
      "logm result may be inaccurate, approximate err = 4.616164791306845e-13\n",
      "logm result may be inaccurate, approximate err = 5.545146344167048e-13\n",
      "logm result may be inaccurate, approximate err = 5.193045376130101e-13\n",
      "logm result may be inaccurate, approximate err = 5.545146344167048e-13\n",
      "logm result may be inaccurate, approximate err = 5.485694258565133e-13\n",
      "logm result may be inaccurate, approximate err = 5.545146344167048e-13\n",
      "logm result may be inaccurate, approximate err = 6.721076896259546e-13\n",
      "logm result may be inaccurate, approximate err = 5.545146344167048e-13\n",
      "logm result may be inaccurate, approximate err = 5.912603894692818e-13\n",
      "logm result may be inaccurate, approximate err = 5.545146344167048e-13\n"
     ]
    },
    {
     "name": "stderr",
     "output_type": "stream",
     "text": [
      "\r",
      " 67%|██████████████████████████████████                 | 2/3 [01:13<00:37, 37.57s/it]"
     ]
    },
    {
     "name": "stdout",
     "output_type": "stream",
     "text": [
      "logm result may be inaccurate, approximate err = 5.545146344167048e-13\n"
     ]
    },
    {
     "name": "stderr",
     "output_type": "stream",
     "text": [
      "100%|███████████████████████████████████████████████████| 3/3 [01:56<00:00, 38.68s/it]\n",
      "  0%|                                                           | 0/3 [00:00<?, ?it/s]"
     ]
    },
    {
     "name": "stdout",
     "output_type": "stream",
     "text": [
      "logm result may be inaccurate, approximate err = 6.755343319530016e-13\n",
      "logm result may be inaccurate, approximate err = 6.755343319530016e-13\n",
      "logm result may be inaccurate, approximate err = 4.350871144409221e-13\n",
      "logm result may be inaccurate, approximate err = 6.755343319530016e-13\n",
      "logm result may be inaccurate, approximate err = 5.564852645269207e-13\n",
      "logm result may be inaccurate, approximate err = 6.755343319530016e-13\n",
      "logm result may be inaccurate, approximate err = 6.081482829268497e-13\n",
      "logm result may be inaccurate, approximate err = 6.755343319530016e-13\n",
      "logm result may be inaccurate, approximate err = 7.494668897480793e-13\n",
      "logm result may be inaccurate, approximate err = 6.755343319530016e-13\n",
      "logm result may be inaccurate, approximate err = 6.80331195162655e-13\n",
      "logm result may be inaccurate, approximate err = 6.755343319530016e-13\n",
      "logm result may be inaccurate, approximate err = 6.12934194294414e-13\n",
      "logm result may be inaccurate, approximate err = 6.733813046114849e-13\n",
      "logm result may be inaccurate, approximate err = 6.837620893496961e-13\n",
      "logm result may be inaccurate, approximate err = 6.755343319530016e-13\n",
      "logm result may be inaccurate, approximate err = 7.023420779693413e-13\n",
      "logm result may be inaccurate, approximate err = 6.755343319530016e-13\n"
     ]
    },
    {
     "name": "stderr",
     "output_type": "stream",
     "text": [
      "\r",
      " 33%|█████████████████                                  | 1/3 [00:32<01:04, 32.02s/it]"
     ]
    },
    {
     "name": "stdout",
     "output_type": "stream",
     "text": [
      "logm result may be inaccurate, approximate err = 6.755343319530016e-13\n",
      "logm result may be inaccurate, approximate err = 5.2440390326132e-13\n",
      "logm result may be inaccurate, approximate err = 5.2440390326132e-13\n",
      "logm result may be inaccurate, approximate err = 3.3062057911895115e-13\n",
      "logm result may be inaccurate, approximate err = 5.2440390326132e-13\n",
      "logm result may be inaccurate, approximate err = 4.39765895469052e-13\n",
      "logm result may be inaccurate, approximate err = 5.2440390326132e-13\n",
      "logm result may be inaccurate, approximate err = 5.498993759400098e-13\n",
      "logm result may be inaccurate, approximate err = 5.2440390326132e-13\n",
      "logm result may be inaccurate, approximate err = 5.173522064043902e-13\n",
      "logm result may be inaccurate, approximate err = 5.2440390326132e-13\n",
      "logm result may be inaccurate, approximate err = 5.139959220314275e-13\n",
      "logm result may be inaccurate, approximate err = 5.2440390326132e-13\n",
      "logm result may be inaccurate, approximate err = 5.056209685820947e-13\n",
      "logm result may be inaccurate, approximate err = 5.2440390326132e-13\n",
      "logm result may be inaccurate, approximate err = 5.110584113897904e-13\n",
      "logm result may be inaccurate, approximate err = 5.2440390326132e-13\n",
      "logm result may be inaccurate, approximate err = 4.841594052281423e-13\n",
      "logm result may be inaccurate, approximate err = 5.2440390326132e-13\n"
     ]
    },
    {
     "name": "stderr",
     "output_type": "stream",
     "text": [
      "\r",
      " 67%|██████████████████████████████████                 | 2/3 [01:12<00:37, 37.17s/it]"
     ]
    },
    {
     "name": "stdout",
     "output_type": "stream",
     "text": [
      "logm result may be inaccurate, approximate err = 5.2440390326132e-13\n"
     ]
    },
    {
     "name": "stderr",
     "output_type": "stream",
     "text": [
      "100%|███████████████████████████████████████████████████| 3/3 [01:54<00:00, 38.28s/it]\n",
      "  0%|                                                           | 0/3 [00:00<?, ?it/s]"
     ]
    },
    {
     "name": "stdout",
     "output_type": "stream",
     "text": [
      "logm result may be inaccurate, approximate err = 5.959372360557085e-13\n",
      "logm result may be inaccurate, approximate err = 5.959372360557085e-13\n",
      "logm result may be inaccurate, approximate err = 4.350871144409221e-13\n",
      "logm result may be inaccurate, approximate err = 5.959372360557085e-13\n",
      "logm result may be inaccurate, approximate err = 5.737900525699966e-13\n",
      "logm result may be inaccurate, approximate err = 5.959372360557085e-13\n",
      "logm result may be inaccurate, approximate err = 6.203558125681481e-13\n",
      "logm result may be inaccurate, approximate err = 6.06707253999062e-13\n",
      "logm result may be inaccurate, approximate err = 7.285039839544788e-13\n",
      "logm result may be inaccurate, approximate err = 6.06707253999062e-13\n",
      "logm result may be inaccurate, approximate err = 6.654771462082654e-13\n",
      "logm result may be inaccurate, approximate err = 5.959372360557085e-13\n",
      "logm result may be inaccurate, approximate err = 5.93464251332303e-13\n",
      "logm result may be inaccurate, approximate err = 5.959372360557085e-13\n",
      "logm result may be inaccurate, approximate err = 6.466714542918543e-13\n",
      "logm result may be inaccurate, approximate err = 5.959372360557085e-13\n",
      "logm result may be inaccurate, approximate err = 6.655833045311603e-13\n",
      "logm result may be inaccurate, approximate err = 5.959372360557085e-13\n"
     ]
    },
    {
     "name": "stderr",
     "output_type": "stream",
     "text": [
      "\r",
      " 33%|█████████████████                                  | 1/3 [00:31<01:03, 31.80s/it]"
     ]
    },
    {
     "name": "stdout",
     "output_type": "stream",
     "text": [
      "logm result may be inaccurate, approximate err = 5.959372360557085e-13\n",
      "logm result may be inaccurate, approximate err = 4.526050651602394e-13\n",
      "logm result may be inaccurate, approximate err = 4.523732150897055e-13\n",
      "logm result may be inaccurate, approximate err = 3.3062057911895115e-13\n",
      "logm result may be inaccurate, approximate err = 4.523732150897055e-13\n",
      "logm result may be inaccurate, approximate err = 4.1746236265241017e-13\n",
      "logm result may be inaccurate, approximate err = 4.523732150897055e-13\n",
      "logm result may be inaccurate, approximate err = 4.810776025461899e-13\n",
      "logm result may be inaccurate, approximate err = 4.523732150897055e-13\n",
      "logm result may be inaccurate, approximate err = 5.598011680242306e-13\n",
      "logm result may be inaccurate, approximate err = 4.523732150897055e-13\n",
      "logm result may be inaccurate, approximate err = 5.290408948119364e-13\n",
      "logm result may be inaccurate, approximate err = 4.523732150897055e-13\n",
      "logm result may be inaccurate, approximate err = 5.467058460914497e-13\n",
      "logm result may be inaccurate, approximate err = 4.523732150897055e-13\n",
      "logm result may be inaccurate, approximate err = 4.738653331515742e-13\n",
      "logm result may be inaccurate, approximate err = 4.523732150897055e-13\n",
      "logm result may be inaccurate, approximate err = 4.607639883373206e-13\n",
      "logm result may be inaccurate, approximate err = 4.523732150897055e-13\n"
     ]
    },
    {
     "name": "stderr",
     "output_type": "stream",
     "text": [
      "\r",
      " 67%|██████████████████████████████████                 | 2/3 [01:12<00:36, 36.97s/it]"
     ]
    },
    {
     "name": "stdout",
     "output_type": "stream",
     "text": [
      "logm result may be inaccurate, approximate err = 4.523732150897055e-13\n"
     ]
    },
    {
     "name": "stderr",
     "output_type": "stream",
     "text": [
      "100%|███████████████████████████████████████████████████| 3/3 [01:54<00:00, 38.28s/it]\n",
      "  0%|                                                           | 0/3 [00:00<?, ?it/s]"
     ]
    },
    {
     "name": "stdout",
     "output_type": "stream",
     "text": [
      "logm result may be inaccurate, approximate err = 8.111860267793886e-13\n",
      "logm result may be inaccurate, approximate err = 8.111860267793886e-13\n",
      "logm result may be inaccurate, approximate err = 4.350871144409221e-13\n",
      "logm result may be inaccurate, approximate err = 8.111860267793886e-13\n",
      "logm result may be inaccurate, approximate err = 5.737900525699966e-13\n",
      "logm result may be inaccurate, approximate err = 8.111860267793886e-13\n",
      "logm result may be inaccurate, approximate err = 6.203558125681481e-13\n",
      "logm result may be inaccurate, approximate err = 8.111860267793886e-13\n",
      "logm result may be inaccurate, approximate err = 6.773212233745527e-13\n",
      "logm result may be inaccurate, approximate err = 8.111860267793886e-13\n",
      "logm result may be inaccurate, approximate err = 6.777192526438904e-13\n",
      "logm result may be inaccurate, approximate err = 8.111860267793886e-13\n",
      "logm result may be inaccurate, approximate err = 6.465965546932534e-13\n",
      "logm result may be inaccurate, approximate err = 8.111860267793886e-13\n",
      "logm result may be inaccurate, approximate err = 6.529730462611637e-13\n",
      "logm result may be inaccurate, approximate err = 8.111860267793886e-13\n",
      "logm result may be inaccurate, approximate err = 7.775001784876043e-13\n",
      "logm result may be inaccurate, approximate err = 8.072132206851038e-13\n"
     ]
    },
    {
     "name": "stderr",
     "output_type": "stream",
     "text": [
      "\r",
      " 33%|█████████████████                                  | 1/3 [00:34<01:09, 34.55s/it]"
     ]
    },
    {
     "name": "stdout",
     "output_type": "stream",
     "text": [
      "logm result may be inaccurate, approximate err = 8.072132206851038e-13\n",
      "logm result may be inaccurate, approximate err = 6.497154082081749e-13\n",
      "logm result may be inaccurate, approximate err = 6.497154082081749e-13\n",
      "logm result may be inaccurate, approximate err = 3.3062057911895115e-13\n",
      "logm result may be inaccurate, approximate err = 6.497154082081749e-13\n",
      "logm result may be inaccurate, approximate err = 4.1746236265241017e-13\n",
      "logm result may be inaccurate, approximate err = 6.497154082081749e-13\n",
      "logm result may be inaccurate, approximate err = 4.810776025461899e-13\n",
      "logm result may be inaccurate, approximate err = 6.497154082081749e-13\n",
      "logm result may be inaccurate, approximate err = 4.951315226212706e-13\n",
      "logm result may be inaccurate, approximate err = 6.497154082081749e-13\n",
      "logm result may be inaccurate, approximate err = 5.193045376130101e-13\n",
      "logm result may be inaccurate, approximate err = 6.497154082081749e-13\n",
      "logm result may be inaccurate, approximate err = 4.818043931424125e-13\n",
      "logm result may be inaccurate, approximate err = 6.497154082081749e-13\n",
      "logm result may be inaccurate, approximate err = 4.5256835182461035e-13\n",
      "logm result may be inaccurate, approximate err = 6.497154082081749e-13\n",
      "logm result may be inaccurate, approximate err = 7.444635966398768e-13\n",
      "logm result may be inaccurate, approximate err = 6.497154082081749e-13\n"
     ]
    },
    {
     "name": "stderr",
     "output_type": "stream",
     "text": [
      "\r",
      " 67%|██████████████████████████████████                 | 2/3 [01:15<00:38, 38.46s/it]"
     ]
    },
    {
     "name": "stdout",
     "output_type": "stream",
     "text": [
      "logm result may be inaccurate, approximate err = 6.497154082081749e-13\n"
     ]
    },
    {
     "name": "stderr",
     "output_type": "stream",
     "text": [
      "100%|███████████████████████████████████████████████████| 3/3 [01:58<00:00, 39.58s/it]\n"
     ]
    }
   ],
   "source": [
    "taus = [0.01, 0.1, 1]\n",
    "\n",
    "Ds_H0, lZs_H0, orders = compute_information(H0, taus)\n",
    "\n",
    "Ds_H = []\n",
    "lZs_H = []\n",
    "\n",
    "for i, H in enumerate(Hs):\n",
    "    Ds_Hi, lZs_Hi, _ = compute_information(H, taus)\n",
    "    Ds_H.append(Ds_Hi)\n",
    "    lZs_H.append(lZs_Hi)"
   ]
  },
  {
   "cell_type": "code",
   "execution_count": 5,
   "metadata": {},
   "outputs": [
    {
     "data": {
      "image/png": "[encoded data removed]",
      "text/plain": [
       "<Figure size 600x210 with 3 Axes>"
      ]
     },
     "metadata": {},
     "output_type": "display_data"
    }
   ],
   "source": [
    "fig, axs = plt.subplots(\n",
    "    1, len(taus), figsize=(2 * len(taus), 2.1), constrained_layout=True\n",
    ")\n",
    "\n",
    "for i, tau in enumerate(taus):\n",
    "\n",
    "    axs[i].plot(orders, lZs_H0[i] - Ds_H0[i], \"o-\", label=\"not shuffled\", ms=9, mfc=\"w\")\n",
    "\n",
    "    for j, H in enumerate(Hs):\n",
    "        axs[i].plot(\n",
    "            orders, lZs_H[j][i] - Ds_H[j][i], \"o-\", label=f\"d={d_shuffles[j]} shuffled\"\n",
    "        )\n",
    "\n",
    "        axs[i].axvline(d_shuffles[j], ls=\"--\", c=f\"C{j+1}\", zorder=-2, alpha=0.8)\n",
    "\n",
    "    axs[i].set_title(rf\"$\\tau = {tau}$\", weight=\"bold\")\n",
    "    axs[i].set_xlabel(\"Max order\")\n",
    "    axs[i].set_xticks(orders)\n",
    "\n",
    "axs[0].set_ylabel(\"Quality function\")\n",
    "axs[-1].legend(loc=\"center left\", bbox_to_anchor=(1, 0.5))\n",
    "\n",
    "sb.despine()\n",
    "\n",
    "fig.suptitle(f\"{name} $p_s={p_shuffle}$\")\n",
    "\n",
    "fig_name = (\n",
    "    f\"info_{name}_p_s_{p_shuffle}\"  # lambda2_HG_SC_N_{N}_ps_{ps}_nrep_{n_repetitions}\"\n",
    ")\n",
    "\n",
    "# plt.savefig(f\"{out_dir}{fig_name}.png\", dpi=250, bbox_inches=\"tight\")"
   ]
  },
  {
   "cell_type": "code",
   "execution_count": null,
   "metadata": {},
   "outputs": [],
   "source": []
  },
  {
   "cell_type": "code",
   "execution_count": 6,
   "metadata": {},
   "outputs": [
    {
     "name": "stderr",
     "output_type": "stream",
     "text": [
      "/Users/maxime/Dropbox (ISI Foundation)/WORK/SCIENCE/xgi/xgi/linalg/matrix.py:310: UserWarning: No edges of order 2. Contribution of that order is zero. Its weight is effectively zero.\n",
      "  warn(\n"
     ]
    },
    {
     "data": {
      "text/plain": [
       "array([[ 5., -3., -1., -1.],\n",
       "       [-3.,  5., -1., -1.],\n",
       "       [-1., -1.,  3., -1.],\n",
       "       [-1., -1., -1.,  3.]])"
      ]
     },
     "execution_count": 6,
     "metadata": {},
     "output_type": "execute_result"
    }
   ],
   "source": [
    "H = xgi.Hypergraph([[1, 2], [1, 2, 3, 4]])\n",
    "\n",
    "xgi.multiorder_laplacian(H, orders=[1, 2, 3], weights=[1, 1, 1])"
   ]
  },
  {
   "cell_type": "code",
   "execution_count": 7,
   "metadata": {},
   "outputs": [
    {
     "data": {
      "text/plain": [
       "array([[ 5., -3., -1., -1.],\n",
       "       [-3.,  5., -1., -1.],\n",
       "       [-1., -1.,  3., -1.],\n",
       "       [-1., -1., -1.,  3.]])"
      ]
     },
     "execution_count": 7,
     "metadata": {},
     "output_type": "execute_result"
    }
   ],
   "source": [
    "xgi.multiorder_laplacian(H, orders=[1, 3], weights=[1, 1])"
   ]
  },
  {
   "cell_type": "code",
   "execution_count": null,
   "metadata": {},
   "outputs": [],
   "source": []
  },
  {
   "cell_type": "code",
   "execution_count": null,
   "metadata": {},
   "outputs": [],
   "source": []
  },
  {
   "cell_type": "code",
   "execution_count": null,
   "metadata": {},
   "outputs": [],
   "source": []
  },
  {
   "cell_type": "markdown",
   "metadata": {},
   "source": [
    "### Compute entropy"
   ]
  },
  {
   "cell_type": "code",
   "execution_count": 8,
   "metadata": {},
   "outputs": [
    {
     "data": {
      "text/html": [
       "<div>\n",
       "<style scoped>\n",
       "    .dataframe tbody tr th:only-of-type {\n",
       "        vertical-align: middle;\n",
       "    }\n",
       "\n",
       "    .dataframe tbody tr th {\n",
       "        vertical-align: top;\n",
       "    }\n",
       "\n",
       "    .dataframe thead th {\n",
       "        text-align: right;\n",
       "    }\n",
       "</style>\n",
       "<table border=\"1\" class=\"dataframe\">\n",
       "  <thead>\n",
       "    <tr style=\"text-align: right;\">\n",
       "      <th></th>\n",
       "      <th>0.01</th>\n",
       "      <th>0.10</th>\n",
       "      <th>1.00</th>\n",
       "    </tr>\n",
       "  </thead>\n",
       "  <tbody>\n",
       "    <tr>\n",
       "      <th>0</th>\n",
       "      <td>6.244639+0.000000j</td>\n",
       "      <td>6.175864+0.000000j</td>\n",
       "      <td>5.349064+0.000000j</td>\n",
       "    </tr>\n",
       "    <tr>\n",
       "      <th>3</th>\n",
       "      <td>6.244702+0.000000j</td>\n",
       "      <td>6.170229+0.000000j</td>\n",
       "      <td>5.332210+0.000000j</td>\n",
       "    </tr>\n",
       "    <tr>\n",
       "      <th>5</th>\n",
       "      <td>6.244534+0.000000j</td>\n",
       "      <td>6.167961+0.000000j</td>\n",
       "      <td>5.365889+0.000000j</td>\n",
       "    </tr>\n",
       "    <tr>\n",
       "      <th>7</th>\n",
       "      <td>6.244618+0.000000j</td>\n",
       "      <td>6.172695+0.000000j</td>\n",
       "      <td>5.355570+0.000000j</td>\n",
       "    </tr>\n",
       "  </tbody>\n",
       "</table>\n",
       "</div>"
      ],
      "text/plain": [
       "                 0.01                0.10                1.00\n",
       "0  6.244639+0.000000j  6.175864+0.000000j  5.349064+0.000000j\n",
       "3  6.244702+0.000000j  6.170229+0.000000j  5.332210+0.000000j\n",
       "5  6.244534+0.000000j  6.167961+0.000000j  5.365889+0.000000j\n",
       "7  6.244618+0.000000j  6.172695+0.000000j  5.355570+0.000000j"
      ]
     },
     "execution_count": 8,
     "metadata": {},
     "output_type": "execute_result"
    }
   ],
   "source": [
    "ents = {}\n",
    "\n",
    "for i, tau in enumerate(taus):\n",
    "\n",
    "    ents[tau] = {}\n",
    "\n",
    "    for j, HG in enumerate([H0] + Hs):\n",
    "        d_max = xgi.max_edge_order(HG)\n",
    "        L_multi = np.zeros((HG.num_nodes, HG.num_nodes))\n",
    "        for d in range(1, d_max + 1):\n",
    "            # K, Adj, L = su.compute_laplacians(G, d+1)\n",
    "            L = xgi.laplacian(HG, d, rescale_per_node=False)\n",
    "            L_multi += L\n",
    "\n",
    "        ent = entropy(L_multi, tau)\n",
    "\n",
    "        dd = 0 if j == 0 else d_shuffles[j - 1]\n",
    "        ents[tau][dd] = ent\n",
    "\n",
    "ents_df = pd.DataFrame.from_dict(ents)\n",
    "\n",
    "ents_df_long = (\n",
    "    ents_df.stack().rename(\"entropy\").to_frame().reset_index(names=[\"shuffle\", \"tau\"])\n",
    ")\n",
    "ents_df"
   ]
  },
  {
   "cell_type": "code",
   "execution_count": 9,
   "metadata": {},
   "outputs": [
    {
     "name": "stderr",
     "output_type": "stream",
     "text": [
      "/Users/maxime/.pyenv/versions/venv_xgi/lib/python3.9/site-packages/matplotlib/cbook/__init__.py:1369: ComplexWarning: Casting complex values to real discards the imaginary part\n",
      "  return np.asarray(x, float)\n"
     ]
    },
    {
     "data": {
      "image/png": "[encoded data removed]",
      "text/plain": [
       "<Figure size 340x240 with 1 Axes>"
      ]
     },
     "metadata": {},
     "output_type": "display_data"
    }
   ],
   "source": [
    "fig, ax = plt.subplots(figsize=(3.4, 2.4))\n",
    "\n",
    "for i, series in enumerate(ents_df.values):\n",
    "    mfc = \"w\" if i == 0 else None\n",
    "    ax.plot(ents_df.columns, series, \"o-\", label=ents_df.index[i], mfc=mfc)\n",
    "\n",
    "ax.set_ylabel(\"entropy\")\n",
    "ax.set_xlabel(\"tau\")\n",
    "ax.legend(title=\"d shuffled\")\n",
    "ax.set_xscale(\"log\", base=10)\n",
    "\n",
    "sb.despine()\n",
    "\n",
    "fig.suptitle(f\"{name} $p_s={p_shuffle}$\")\n",
    "\n",
    "fig_name = f\"info_{name}_p_s_{p_shuffle}_entropy\"  # lambda2_HG_SC_N_{N}_ps_{ps}_nrep_{n_repetitions}\"\n",
    "# plt.savefig(f\"{fig_name}.png\", dpi=250, bbox_inches=\"tight\")"
   ]
  },
  {
   "cell_type": "code",
   "execution_count": null,
   "metadata": {},
   "outputs": [],
   "source": []
  }
 ],
 "metadata": {
  "kernelspec": {
   "display_name": "venv_xgi",
   "language": "python",
   "name": "venv_xgi"
  },
  "language_info": {
   "codemirror_mode": {
    "name": "ipython",
    "version": 3
   },
   "file_extension": ".py",
   "mimetype": "text/x-python",
   "name": "python",
   "nbconvert_exporter": "python",
   "pygments_lexer": "ipython3",
   "version": "3.9.13"
  },
  "toc": {
   "base_numbering": 1,
   "nav_menu": {},
   "number_sections": true,
   "sideBar": true,
   "skip_h1_title": false,
   "title_cell": "Table of Contents",
   "title_sidebar": "Contents",
   "toc_cell": false,
   "toc_position": {},
   "toc_section_display": true,
   "toc_window_display": true
  }
 },
 "nbformat": 4,
 "nbformat_minor": 2
}
