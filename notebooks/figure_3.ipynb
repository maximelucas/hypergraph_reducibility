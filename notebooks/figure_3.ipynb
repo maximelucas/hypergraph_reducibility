{
 "cells": [
  {
   "cell_type": "markdown",
   "metadata": {},
   "source": [
    "# Hypergraph information"
   ]
  },
  {
   "cell_type": "code",
   "execution_count": 5,
   "metadata": {},
   "outputs": [],
   "source": [
    "import sys\n",
    "\n",
    "import numpy as np\n",
    "import matplotlib.pyplot as plt\n",
    "import pandas as pd\n",
    "import seaborn as sb\n",
    "from tqdm import tqdm\n",
    "\n",
    "sys.path.append(\"../src/\")\n",
    "\n",
    "import xgi\n",
    "from reducibility_hg import *\n",
    "\n",
    "sb.set_theme(style=\"ticks\", context=\"paper\")\n"
   ]
  },
  {
   "cell_type": "code",
   "execution_count": 6,
   "metadata": {},
   "outputs": [],
   "source": [
    "results_dir = \"../results/\"\n",
    "out_dir  = f\"{results_dir}datasets/\""
   ]
  },
  {
   "cell_type": "markdown",
   "metadata": {},
   "source": [
    "## hypergraph datasets"
   ]
  },
  {
   "cell_type": "code",
   "execution_count": 7,
   "metadata": {},
   "outputs": [
    {
     "name": "stderr",
     "output_type": "stream",
     "text": [
      "100%|█████████████████████████████████████████████| 7/7 [00:07<00:00,  1.07s/it]\n"
     ]
    }
   ],
   "source": [
    "data_names = [\n",
    "    \"email-enron\",\n",
    "    \"email-eu\",\n",
    "    \"hospital-lyon\",\n",
    "    \"contact-high-school\",\n",
    "    \"contact-primary-school\",\n",
    "    \"tags-ask-ubuntu\",\n",
    "    \"congress-bills\",\n",
    "    #\"disgenenet\",\n",
    "    #\"diseasome\",\n",
    "    #\"ndc-substances\",\n",
    "    #\"coauth-mag-geology\",\n",
    "    #\"coauth-mag-history\",\n",
    "]\n",
    "\n",
    "HGs = {}\n",
    "for name in tqdm(data_names): \n",
    "    HGs[name] = xgi.load_xgi_data(name, max_order=None, cache=True)\n"
   ]
  },
  {
   "cell_type": "code",
   "execution_count": 8,
   "metadata": {},
   "outputs": [
    {
     "name": "stdout",
     "output_type": "stream",
     "text": [
      "Unnamed Hypergraph with 55549 nodes and 33959 hyperedges\n"
     ]
    }
   ],
   "source": [
    "pacs = 2\n",
    "name = f\"PACS{pacs}\"\n",
    "H0 = xgi.read_json(f\"../data/{name}.json\")\n",
    "print(H0)\n",
    "orders = np.array(xgi.unique_edge_sizes(H0)) - 1\n",
    "weights = np.ones(len(orders))"
   ]
  },
  {
   "cell_type": "markdown",
   "metadata": {},
   "source": [
    "### Compute info"
   ]
  },
  {
   "cell_type": "code",
   "execution_count": 39,
   "metadata": {},
   "outputs": [
    {
     "name": "stdout",
     "output_type": "stream",
     "text": [
      "email-enron\n",
      "Hypergraph named email-Enron with 148 nodes and 10885 hyperedges\n",
      "max order: 36\n",
      "Hypergraph named email-Enron with 148 nodes and 1459 hyperedges\n"
     ]
    }
   ],
   "source": [
    "i = 0 # choose dataset here\n",
    "name = data_names[i]\n",
    "print(name)\n",
    "H0 = HGs[name]\n",
    "print(H0)\n",
    "print(\"max order:\", xgi.max_edge_order(H0))\n",
    "H0.cleanup(isolates=True)\n",
    "print(H0)\n",
    "\n",
    "orders = np.array(xgi.unique_edge_sizes(H0)) - 1\n",
    "weights = np.ones(len(orders))"
   ]
  },
  {
   "cell_type": "code",
   "execution_count": 40,
   "metadata": {},
   "outputs": [
    {
     "data": {
      "text/plain": [
       "0.0010842529430735446"
      ]
     },
     "execution_count": 40,
     "metadata": {},
     "output_type": "execute_result"
    }
   ],
   "source": [
    "tau_c = find_charact_tau(H0, orders, weights)\n",
    "tau_c "
   ]
  },
  {
   "cell_type": "markdown",
   "metadata": {},
   "source": [
    "### Multiple taus"
   ]
  },
  {
   "cell_type": "code",
   "execution_count": 41,
   "metadata": {},
   "outputs": [
    {
     "name": "stderr",
     "output_type": "stream",
     "text": [
      "\r",
      "  0%|                                                     | 0/3 [00:00<?, ?it/s]"
     ]
    },
    {
     "name": "stdout",
     "output_type": "stream",
     "text": [
      "1.0842529430735445e-05\n"
     ]
    },
    {
     "name": "stderr",
     "output_type": "stream",
     "text": [
      "\r",
      " 33%|███████████████                              | 1/3 [00:25<00:50, 25.07s/it]"
     ]
    },
    {
     "name": "stdout",
     "output_type": "stream",
     "text": [
      "0.0010842529430735446\n",
      "logm result may be inaccurate, approximate err = 2.8644206850208994e-13\n"
     ]
    },
    {
     "name": "stderr",
     "output_type": "stream",
     "text": [
      "\r",
      " 67%|██████████████████████████████               | 2/3 [00:49<00:24, 24.88s/it]"
     ]
    },
    {
     "name": "stdout",
     "output_type": "stream",
     "text": [
      "0.10842529430735445\n"
     ]
    },
    {
     "name": "stderr",
     "output_type": "stream",
     "text": [
      "100%|█████████████████████████████████████████████| 3/3 [01:19<00:00, 26.47s/it]\n"
     ]
    }
   ],
   "source": [
    "taus = [0.01*tau_c, tau_c, 100*tau_c] #[0.0001, 0.001, 1]\n",
    "\n",
    "Ds_H = []\n",
    "lZs_H = []\n",
    "Qs_H = []\n",
    "\n",
    "for tau in tqdm(taus):\n",
    "    print(tau)\n",
    "    Ds_Hi, lZs_Hi, orders = compute_information(H0, tau)\n",
    "    Ds_H.append(Ds_Hi)\n",
    "    lZs_H.append(lZs_Hi)\n",
    "    Qs_H.append(lZs_Hi + Ds_Hi)"
   ]
  },
  {
   "cell_type": "code",
   "execution_count": 42,
   "metadata": {},
   "outputs": [],
   "source": [
    "np.savez(\n",
    "    f\"{out_dir}taus_{data_names}_taus_{taus}.npz\",\n",
    "    Ds_H=Ds_H,\n",
    "    lZs_H=lZs_H,\n",
    "    Qs_H=Qs_H,\n",
    "    taus=taus,\n",
    "    orders=orders,\n",
    "    tau_c=tau_c\n",
    ")"
   ]
  },
  {
   "cell_type": "code",
   "execution_count": 43,
   "metadata": {},
   "outputs": [
    {
     "data": {
      "image/png": "[encoded data removed]",
      "text/plain": [
       "<Figure size 600x210 with 3 Axes>"
      ]
     },
     "metadata": {},
     "output_type": "display_data"
    }
   ],
   "source": [
    "fig, axs = plt.subplots(\n",
    "    1, len(taus), figsize=(2 * len(taus), 2.1), constrained_layout=True\n",
    ")\n",
    "\n",
    "for i, tau in enumerate(taus):\n",
    "\n",
    "    \n",
    "    axs[i].plot(orders, lZs_H[i] + Ds_H[i], \"o-\", label=f\"tau={tau}\")\n",
    "    \n",
    "        #axs[i].axvline(d_shuffles[j], ls=\"--\", c=f\"C{j+1}\", zorder=-2, alpha=0.8)\n",
    "\n",
    "    axs[i].set_title(rf\"$\\tau = {tau:.2e}$\", weight=\"bold\")\n",
    "    axs[i].set_xlabel(\"Max order\")\n",
    "    axs[i].set_xticks(orders)\n",
    "\n",
    "axs[0].set_ylabel(\"Quality function\")\n",
    "#axs[-1].legend(loc=\"center left\", bbox_to_anchor=(1, 0.5))\n",
    "\n",
    "sb.despine()\n",
    "\n",
    "fig.suptitle(rf\"{name} $\\tau_c={tau_c:.4f}$\")\n",
    "\n",
    "fig_name = f\"info_{name}_tau_c_{tau_c}\" #lambda2_HG_SC_N_{N}_ps_{ps}_nrep_{n_repetitions}\"\n",
    "\n",
    "#plt.savefig(f\"{out_dir}{fig_name}.png\", dpi=250, bbox_inches=\"tight\")"
   ]
  },
  {
   "cell_type": "code",
   "execution_count": null,
   "metadata": {},
   "outputs": [],
   "source": []
  },
  {
   "cell_type": "code",
   "execution_count": null,
   "metadata": {},
   "outputs": [],
   "source": []
  },
  {
   "cell_type": "code",
   "execution_count": null,
   "metadata": {},
   "outputs": [],
   "source": []
  }
 ],
 "metadata": {
  "kernelspec": {
   "display_name": "venv_xgi",
   "language": "python",
   "name": "venv_xgi"
  },
  "language_info": {
   "codemirror_mode": {
    "name": "ipython",
    "version": 3
   },
   "file_extension": ".py",
   "mimetype": "text/x-python",
   "name": "python",
   "nbconvert_exporter": "python",
   "pygments_lexer": "ipython3",
   "version": "3.9.13"
  },
  "toc": {
   "base_numbering": 1,
   "nav_menu": {},
   "number_sections": true,
   "sideBar": true,
   "skip_h1_title": false,
   "title_cell": "Table of Contents",
   "title_sidebar": "Contents",
   "toc_cell": false,
   "toc_position": {},
   "toc_section_display": true,
   "toc_window_display": true
  }
 },
 "nbformat": 4,
 "nbformat_minor": 2
}
