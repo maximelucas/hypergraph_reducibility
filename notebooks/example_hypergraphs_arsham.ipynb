{
 "cells": [
  {
   "cell_type": "markdown",
   "metadata": {},
   "source": [
    "# Examples of hypergraph and simplicial complexes"
   ]
  },
  {
   "cell_type": "code",
   "execution_count": 1,
   "metadata": {},
   "outputs": [],
   "source": [
    "import numpy as np\n",
    "import matplotlib.pyplot as plt\n",
    "import seaborn as sb\n",
    "\n",
    "from hypergraphs_arsham import *"
   ]
  },
  {
   "cell_type": "code",
   "execution_count": 2,
   "metadata": {},
   "outputs": [],
   "source": [
    "def compute_laplacians(hyperedges) : \n",
    "    \"\"\"Compute the Laplacian up to order 2 and the multiorder Laplacian. \n",
    "    \n",
    "    If the highest order is larger than 2 (triangles), modify the function accordingly.\n",
    "    \n",
    "    \"\"\"\n",
    "    L1, K1 = laplacian_of_order(d=1, N=N, hyperedges=hyperedges, return_k=True)\n",
    "    L2, K2 = laplacian_of_order(d=2, N=N, hyperedges=hyperedges, return_k=True)\n",
    "\n",
    "    gamma_1 = 1\n",
    "    gamma_2 = 1\n",
    "\n",
    "    # multiorder Laplacian\n",
    "    L12 = (gamma_1 / np.mean(K1)) * L1 + (gamma_2 / np.mean(K2)) * L2 #+ (gamma_3 / np.mean(K3)) * L3\n",
    "    \n",
    "    return L1, L2, L12\n",
    "\n",
    "def compute_eigenvalues(hyperedges) :\n",
    "    \"\"\"Compute corresponding Lyapunov exponents.\n",
    "    \n",
    "    If the highest order is larger than 2 (triangles), modify the function accordingly.\n",
    "    \n",
    "    \"\"\"\n",
    "\n",
    "    L1, K1 = laplacian_of_order(d=1, N=N, hyperedges=hyperedges, return_k=True)\n",
    "    L2, K2 = laplacian_of_order(d=2, N=N, hyperedges=hyperedges, return_k=True)\n",
    "\n",
    "    gamma_1 = 1\n",
    "    gamma_2 = 1\n",
    "\n",
    "    # multiorder Laplacian\n",
    "    L12 = (gamma_1 / np.mean(K1)) * L1 + (gamma_2 / np.mean(K2)) * L2 #+ (gamma_3 / np.mean(K3)) * L3\n",
    "\n",
    "    eival_1, _ = np.linalg.eig(L1)\n",
    "    eival_2, _ = np.linalg.eig(L2)\n",
    "\n",
    "    eival_12, _ = np.linalg.eig(L12)\n",
    "\n",
    "    lyap_1 = - (gamma_1 / np.mean(K1)) * eival_1\n",
    "    lyap_2 = - (gamma_2 / np.mean(K2)) * eival_2\n",
    "\n",
    "    # Multiorder Lyapunov exponents\n",
    "    lyap_12 = - eival_12\n",
    "\n",
    "    return lyap_1, lyap_2, lyap_12"
   ]
  },
  {
   "cell_type": "markdown",
   "metadata": {},
   "source": [
    "## 1. Fully connected"
   ]
  },
  {
   "cell_type": "code",
   "execution_count": 3,
   "metadata": {},
   "outputs": [],
   "source": [
    "N = 5\n",
    "d_max = 2\n",
    "\n",
    "# generate hyperedges \n",
    "hyperedges_fully = fully_connected_hypergraph(N, d_max)\n",
    "\n",
    "# compute eigenvalues \n",
    "L1, L2, L12 = compute_laplacians(hyperedges_fully) # L12 is the multiorder one\n",
    "lyap_1, lyap_2, lyap_12 = compute_eigenvalues(hyperedges_fully)"
   ]
  },
  {
   "cell_type": "code",
   "execution_count": 5,
   "metadata": {},
   "outputs": [
    {
     "data": {
      "text/plain": [
       "array([[ 4., -1., -1., -1., -1.],\n",
       "       [-1.,  4., -1., -1., -1.],\n",
       "       [-1., -1.,  4., -1., -1.],\n",
       "       [-1., -1., -1.,  4., -1.],\n",
       "       [-1., -1., -1., -1.,  4.]])"
      ]
     },
     "execution_count": 5,
     "metadata": {},
     "output_type": "execute_result"
    }
   ],
   "source": [
    "laplacian_of_order(d=1, N=N, hyperedges=hyperedges_fully, return_k=False)"
   ]
  },
  {
   "cell_type": "code",
   "execution_count": 4,
   "metadata": {},
   "outputs": [
    {
     "data": {
      "image/png": "[encoded data removed]",
      "text/plain": [
       "<Figure size 216x144 with 1 Axes>"
      ]
     },
     "metadata": {
      "needs_background": "light"
     },
     "output_type": "display_data"
    }
   ],
   "source": [
    "fig, ax = plt.subplots(figsize=(3, 2))\n",
    "\n",
    "ax.plot(np.sort(lyap_1)[::-1], 'o-', ms=2, label=r'$\\lambda^{(1)}$')\n",
    "ax.plot(np.sort(lyap_2)[::-1], 'o-', ms=2,  label=r'$\\lambda^{(2)}$')\n",
    "\n",
    "lyap_s = np.sort(lyap_12)[::-1]\n",
    "ax.plot(lyap_s, 'o-', c=\"black\", ms=2, label=r'$\\lambda^{(mul)}$')\n",
    "\n",
    "\n",
    "ax.legend()\n",
    "# ax.set_title(fr\"N={N}, k1={k1}, k2={k2}\") #s, $\\lambda^{{tot}}_2$={lyap_s[1]:.2f}, $\\lambda^{{tot}}_N$={lyap_s[-1]:.2f}\")\n",
    "ax.set_ylabel(r\"$\\lambda^{(d)}_i$\") #Lyapunov exponents \n",
    "ax.set_xlabel(r\"index $i$\")\n",
    "\n",
    "# plt.savefig(f\"random_iac__N_{N}_p1_{p1}_p2_{p2}_spectrum_g1_{gamma_1:+}_g2_{gamma_2:+}_normed.png\", dpi=300, bbox_inches=\"tight\")\n",
    "# plt.savefig(f\"random_iac__N_{N}_k1_{k1}_k2_{k2}_spectrum_g1_{gamma_1:+}_g2_{gamma_2:+}_normed.png\", dpi=300, bbox_inches=\"tight\")\n",
    "\n",
    "plt.show()"
   ]
  },
  {
   "cell_type": "markdown",
   "metadata": {},
   "source": [
    "## 2. Random hypergraph "
   ]
  },
  {
   "cell_type": "code",
   "execution_count": 10,
   "metadata": {},
   "outputs": [],
   "source": [
    "N = 10\n",
    "ps = [0.5, 0.1]\n",
    "\n",
    "# generate hyperedges \n",
    "hyperedges_random = random_hypergraph(N, ps)\n",
    "# print(hyperedges)\n",
    "\n",
    "# compute eigenvalues \n",
    "L1, L2, L12 = compute_laplacians(hyperedges_random) # L12 is the multiorder one\n",
    "lyap_1, lyap_2, lyap_12 = compute_eigenvalues(hyperedges_random)"
   ]
  },
  {
   "cell_type": "code",
   "execution_count": 14,
   "metadata": {},
   "outputs": [
    {
     "data": {
      "text/plain": [
       "array([[18., -2., -3., -3.,  0., -2., -3., -2., -2., -1.],\n",
       "       [-2., 12.,  0., -3.,  0., -1., -3.,  0., -2., -1.],\n",
       "       [-3.,  0.,  6.,  0.,  0.,  0., -1.,  0., -1., -1.],\n",
       "       [-3., -3.,  0., 12.,  0., -2., -1.,  0., -3.,  0.],\n",
       "       [ 0.,  0.,  0.,  0.,  0.,  0.,  0.,  0.,  0.,  0.],\n",
       "       [-2., -1.,  0., -2.,  0., 10., -1., -1., -2., -1.],\n",
       "       [-3., -3., -1., -1.,  0., -1., 12., -1., -2.,  0.],\n",
       "       [-2.,  0.,  0.,  0.,  0., -1., -1.,  4.,  0.,  0.],\n",
       "       [-2., -2., -1., -3.,  0., -2., -2.,  0., 12.,  0.],\n",
       "       [-1., -1., -1.,  0.,  0., -1.,  0.,  0.,  0.,  4.]])"
      ]
     },
     "execution_count": 14,
     "metadata": {},
     "output_type": "execute_result"
    }
   ],
   "source": [
    "laplacian_of_order(d=2, N=N, hyperedges=hyperedges_random, return_k=False)"
   ]
  },
  {
   "cell_type": "code",
   "execution_count": 6,
   "metadata": {},
   "outputs": [
    {
     "data": {
      "image/png": "[encoded data removed]",
      "text/plain": [
       "<Figure size 216x144 with 1 Axes>"
      ]
     },
     "metadata": {
      "needs_background": "light"
     },
     "output_type": "display_data"
    }
   ],
   "source": [
    "fig, ax = plt.subplots(figsize=(3, 2))\n",
    "\n",
    "ax.plot(np.sort(lyap_1)[::-1], 'o-', ms=2, label=r'$\\lambda^{(1)}$')\n",
    "ax.plot(np.sort(lyap_2)[::-1], 'o-', ms=2,  label=r'$\\lambda^{(2)}$')\n",
    "\n",
    "lyap_s = np.sort(lyap_12)[::-1]\n",
    "ax.plot(lyap_s, 'o-', c=\"black\", ms=2, label=r'$\\lambda^{(mul)}$')\n",
    "\n",
    "\n",
    "ax.legend()\n",
    "# ax.set_title(fr\"N={N}, k1={k1}, k2={k2}\") #s, $\\lambda^{{tot}}_2$={lyap_s[1]:.2f}, $\\lambda^{{tot}}_N$={lyap_s[-1]:.2f}\")\n",
    "ax.set_ylabel(r\"$\\lambda^{(d)}_i$\") #Lyapunov exponents \n",
    "ax.set_xlabel(r\"index $i$\")\n",
    "\n",
    "# plt.savefig(f\"random_iac__N_{N}_p1_{p1}_p2_{p2}_spectrum_g1_{gamma_1:+}_g2_{gamma_2:+}_normed.png\", dpi=300, bbox_inches=\"tight\")\n",
    "# plt.savefig(f\"random_iac__N_{N}_k1_{k1}_k2_{k2}_spectrum_g1_{gamma_1:+}_g2_{gamma_2:+}_normed.png\", dpi=300, bbox_inches=\"tight\")\n",
    "\n",
    "plt.show()"
   ]
  },
  {
   "cell_type": "markdown",
   "metadata": {},
   "source": [
    "## 3. Random hypergraph completed (simplicial complex)"
   ]
  },
  {
   "cell_type": "code",
   "execution_count": 7,
   "metadata": {},
   "outputs": [],
   "source": [
    "# generate simplicial complex by completing hypergraph\n",
    "# might be slow for large networks\n",
    "hyperedges_random_completed = to_simplicial_complex_from_hypergraph(hyperedges_random, verbose=False)"
   ]
  },
  {
   "cell_type": "code",
   "execution_count": 8,
   "metadata": {},
   "outputs": [],
   "source": [
    "# compute eigenvalues \n",
    "L1, L2, L12 = compute_laplacians(hyperedges_random_completed) # L12 is the multiorder one\n",
    "lyap_1, lyap_2, lyap_12 = compute_eigenvalues(hyperedges_random_completed)"
   ]
  },
  {
   "cell_type": "code",
   "execution_count": 9,
   "metadata": {},
   "outputs": [
    {
     "name": "stderr",
     "output_type": "stream",
     "text": [
      "/home/maxime/.local/lib/python3.6/site-packages/numpy/core/_asarray.py:85: ComplexWarning: Casting complex values to real discards the imaginary part\n",
      "  return array(a, dtype, copy=False, order=order)\n"
     ]
    },
    {
     "data": {
      "image/png": "[encoded data removed]",
      "text/plain": [
       "<Figure size 216x144 with 1 Axes>"
      ]
     },
     "metadata": {
      "needs_background": "light"
     },
     "output_type": "display_data"
    }
   ],
   "source": [
    "fig, ax = plt.subplots(figsize=(3, 2))\n",
    "\n",
    "ax.plot(np.sort(lyap_1)[::-1], 'o-', ms=2, label=r'$\\lambda^{(1)}$')\n",
    "ax.plot(np.sort(lyap_2)[::-1], 'o-', ms=2,  label=r'$\\lambda^{(2)}$')\n",
    "\n",
    "lyap_s = np.sort(lyap_12)[::-1]\n",
    "ax.plot(lyap_s, 'o-', c=\"black\", ms=2, label=r'$\\lambda^{(mul)}$')\n",
    "\n",
    "\n",
    "ax.legend()\n",
    "# ax.set_title(fr\"N={N}, k1={k1}, k2={k2}\") #s, $\\lambda^{{tot}}_2$={lyap_s[1]:.2f}, $\\lambda^{{tot}}_N$={lyap_s[-1]:.2f}\")\n",
    "ax.set_ylabel(r\"$\\lambda^{(d)}_i$\") #Lyapunov exponents \n",
    "ax.set_xlabel(r\"index $i$\")\n",
    "\n",
    "# plt.savefig(f\"random_iac__N_{N}_p1_{p1}_p2_{p2}_spectrum_g1_{gamma_1:+}_g2_{gamma_2:+}_normed.png\", dpi=300, bbox_inches=\"tight\")\n",
    "# plt.savefig(f\"random_iac__N_{N}_k1_{k1}_k2_{k2}_spectrum_g1_{gamma_1:+}_g2_{gamma_2:+}_normed.png\", dpi=300, bbox_inches=\"tight\")\n",
    "\n",
    "plt.show()"
   ]
  },
  {
   "cell_type": "code",
   "execution_count": 10,
   "metadata": {},
   "outputs": [
    {
     "data": {
      "text/plain": [
       "array([[[0., 0., 0., ..., 0., 0., 0.],\n",
       "        [0., 0., 0., ..., 0., 0., 1.],\n",
       "        [0., 0., 0., ..., 0., 0., 1.],\n",
       "        ...,\n",
       "        [0., 0., 0., ..., 0., 0., 0.],\n",
       "        [0., 0., 0., ..., 0., 0., 0.],\n",
       "        [0., 1., 1., ..., 0., 0., 0.]],\n",
       "\n",
       "       [[0., 0., 0., ..., 0., 0., 1.],\n",
       "        [0., 0., 0., ..., 0., 0., 0.],\n",
       "        [0., 0., 0., ..., 0., 0., 0.],\n",
       "        ...,\n",
       "        [0., 0., 0., ..., 0., 0., 0.],\n",
       "        [0., 0., 0., ..., 0., 0., 0.],\n",
       "        [1., 0., 0., ..., 0., 0., 0.]],\n",
       "\n",
       "       [[0., 0., 0., ..., 0., 0., 1.],\n",
       "        [0., 0., 0., ..., 0., 0., 0.],\n",
       "        [0., 0., 0., ..., 0., 0., 0.],\n",
       "        ...,\n",
       "        [0., 0., 0., ..., 0., 0., 0.],\n",
       "        [0., 0., 0., ..., 0., 0., 0.],\n",
       "        [1., 0., 0., ..., 0., 0., 0.]],\n",
       "\n",
       "       ...,\n",
       "\n",
       "       [[0., 0., 0., ..., 0., 0., 0.],\n",
       "        [0., 0., 0., ..., 0., 0., 0.],\n",
       "        [0., 0., 0., ..., 0., 0., 0.],\n",
       "        ...,\n",
       "        [0., 0., 0., ..., 0., 0., 0.],\n",
       "        [0., 0., 0., ..., 0., 0., 0.],\n",
       "        [0., 0., 0., ..., 0., 0., 0.]],\n",
       "\n",
       "       [[0., 0., 0., ..., 0., 0., 0.],\n",
       "        [0., 0., 0., ..., 0., 0., 0.],\n",
       "        [0., 0., 0., ..., 0., 0., 0.],\n",
       "        ...,\n",
       "        [0., 0., 0., ..., 0., 0., 0.],\n",
       "        [0., 0., 0., ..., 0., 0., 0.],\n",
       "        [0., 0., 0., ..., 0., 0., 0.]],\n",
       "\n",
       "       [[0., 1., 1., ..., 0., 0., 0.],\n",
       "        [1., 0., 0., ..., 0., 0., 0.],\n",
       "        [1., 0., 0., ..., 0., 0., 0.],\n",
       "        ...,\n",
       "        [0., 0., 0., ..., 0., 0., 0.],\n",
       "        [0., 0., 0., ..., 0., 0., 0.],\n",
       "        [0., 0., 0., ..., 0., 0., 0.]]])"
      ]
     },
     "execution_count": 10,
     "metadata": {},
     "output_type": "execute_result"
    }
   ],
   "source": [
    "M_2 = adj_tensor_of_order(d=2, N=N, hyperedges=hyperedges_random_completed)\n",
    "M_2"
   ]
  },
  {
   "cell_type": "code",
   "execution_count": 16,
   "metadata": {},
   "outputs": [
    {
     "data": {
      "text/plain": [
       "array([[ 0.,  9., 10., ...,  6.,  7., 12.],\n",
       "       [ 9.,  0.,  9., ..., 10.,  6.,  9.],\n",
       "       [10.,  9.,  0., ..., 10.,  9., 11.],\n",
       "       ...,\n",
       "       [ 6., 10., 10., ...,  0.,  7.,  6.],\n",
       "       [ 7.,  6.,  9., ...,  7.,  0., 10.],\n",
       "       [12.,  9., 11., ...,  6., 10.,  0.]])"
      ]
     },
     "execution_count": 16,
     "metadata": {},
     "output_type": "execute_result"
    }
   ],
   "source": [
    "adj_2 = adj_matrix_of_order(d=2, M=M_2)\n",
    "adj_2"
   ]
  },
  {
   "cell_type": "markdown",
   "metadata": {},
   "source": [
    "## test review manuscript "
   ]
  },
  {
   "cell_type": "code",
   "execution_count": 22,
   "metadata": {},
   "outputs": [
    {
     "data": {
      "text/plain": [
       "array([[ 0.,  0.,  0.,  0.,  0.,  0.,  0.],\n",
       "       [ 0.,  8., -2., -1., -1., -2., -2.],\n",
       "       [ 0., -2.,  6., -2., -1.,  0., -1.],\n",
       "       [ 0., -1., -2.,  8., -3., -1., -1.],\n",
       "       [ 0., -1., -1., -3., 10., -3., -2.],\n",
       "       [ 0., -2.,  0., -1., -3.,  8., -2.],\n",
       "       [ 0., -2., -1., -1., -2., -2.,  8.]])"
      ]
     },
     "execution_count": 22,
     "metadata": {},
     "output_type": "execute_result"
    }
   ],
   "source": [
    "hyperedges = [(1, 2, 3),\n",
    "            (1, 2, 6),\n",
    "            (1, 4, 5),\n",
    "            (1, 5, 6),\n",
    "            (2, 3, 4),\n",
    "            (3, 4, 5),\n",
    "            (3, 4, 6),\n",
    "            (4, 5, 6)]\n",
    "\n",
    "L2, K2 = laplacian_of_order(d=2, N=7, hyperedges=hyperedges, return_k=True)\n",
    "L2"
   ]
  },
  {
   "cell_type": "code",
   "execution_count": 26,
   "metadata": {},
   "outputs": [],
   "source": [
    "# compute eigenvalues \n",
    "gamma_2 = 1\n",
    "eival_2, _ = np.linalg.eig(L2)\n",
    "lyap_2 = - (gamma_2 / np.mean(K2)) * eival_2"
   ]
  },
  {
   "cell_type": "code",
   "execution_count": 29,
   "metadata": {},
   "outputs": [
    {
     "data": {
      "text/plain": [
       "array([ 0.        , 13.11131232,  6.17108754,  8.16781512, 10.        ,\n",
       "       10.54978502,  0.        ])"
      ]
     },
     "execution_count": 29,
     "metadata": {},
     "output_type": "execute_result"
    }
   ],
   "source": [
    "eival_2"
   ]
  }
 ],
 "metadata": {
  "kernelspec": {
   "display_name": "Python 3 (ipykernel)",
   "language": "python",
   "name": "python3"
  },
  "language_info": {
   "codemirror_mode": {
    "name": "ipython",
    "version": 3
   },
   "file_extension": ".py",
   "mimetype": "text/x-python",
   "name": "python",
   "nbconvert_exporter": "python",
   "pygments_lexer": "ipython3",
   "version": "3.8.0"
  }
 },
 "nbformat": 4,
 "nbformat_minor": 2
}
