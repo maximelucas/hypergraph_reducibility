{
 "cells": [
  {
   "cell_type": "markdown",
   "id": "591a1ba5",
   "metadata": {},
   "source": [
    "## Figures"
   ]
  },
  {
   "cell_type": "code",
   "execution_count": 35,
   "id": "daa915a3",
   "metadata": {},
   "outputs": [],
   "source": [
    "import sys\n",
    "import warnings\n",
    "\n",
    "import networkx as nx\n",
    "import numpy as np\n",
    "import matplotlib.pyplot as plt\n",
    "import pandas as pd\n",
    "import seaborn as sb\n",
    "from tqdm import tqdm\n",
    "from itertools import combinations\n",
    "from tqdm import tqdm\n",
    "\n",
    "sys.path.append(\"../src/\")\n",
    "\n",
    "import xgi\n",
    "from reducibility_hg import *\n",
    "\n",
    "from statannotations.Annotator import Annotator\n",
    "\n",
    "sb.set_theme(style=\"ticks\", context=\"paper\")"
   ]
  },
  {
   "cell_type": "code",
   "execution_count": 36,
   "id": "b8413cfa",
   "metadata": {},
   "outputs": [],
   "source": [
    "results_dir = \"../results/\"\n",
    "out_dir = f\"{results_dir}datasets/\""
   ]
  },
  {
   "cell_type": "code",
   "execution_count": 37,
   "id": "8e3b7267",
   "metadata": {},
   "outputs": [],
   "source": [
    "# def sigma(d):\n",
    "#    \"\"\"\n",
    "#    Return d*(d+1)/2, the sum of the first d integers\"\"\"\n",
    "#    return d * (d + 1) / 2"
   ]
  },
  {
   "cell_type": "markdown",
   "id": "73c7d302",
   "metadata": {},
   "source": [
    "## try dataset"
   ]
  },
  {
   "cell_type": "code",
   "execution_count": 38,
   "id": "489b5f7f",
   "metadata": {},
   "outputs": [
    {
     "name": "stdout",
     "output_type": "stream",
     "text": [
      "Available datasets are the following:\n",
      "coauth-dblp\n",
      "coauth-mag-geology\n",
      "coauth-mag-history\n",
      "congress-bills\n",
      "contact-high-school\n",
      "contact-primary-school\n",
      "dawn\n",
      "diseasome\n",
      "disgenenet\n",
      "email-enron\n",
      "email-eu\n",
      "hospital-lyon\n",
      "hypertext-conference\n",
      "invs13\n",
      "invs15\n",
      "kaggle-whats-cooking\n",
      "malawi-village\n",
      "ndc-classes\n",
      "ndc-substances\n",
      "science-gallery\n",
      "sfhh-conference\n",
      "tags-ask-ubuntu\n",
      "tags-math-sx\n",
      "tags-stack-overflow\n",
      "threads-ask-ubuntu\n",
      "threads-math-sx\n",
      "threads-stack-overflow\n"
     ]
    }
   ],
   "source": [
    "xgi.load_xgi_data()"
   ]
  },
  {
   "cell_type": "code",
   "execution_count": 270,
   "id": "96a8c49b",
   "metadata": {},
   "outputs": [
    {
     "name": "stderr",
     "output_type": "stream",
     "text": [
      "100%|█████████████████████████████████████████████| 1/1 [00:01<00:00,  1.23s/it]\n"
     ]
    }
   ],
   "source": [
    "data_names = [\n",
    "    #\"email-enron\",\n",
    "    #\"email-eu\",\n",
    "    \"kaggle-whats-cooking\",\n",
    "    #\"hospital-lyon\",\n",
    "    #\"contact-high-school\",\n",
    "    #\"contact-primary-school\",\n",
    "    #\"sfhh-conference\",\n",
    "    #\"hypertext-conference\",\n",
    "    #\"science-gallery\",\n",
    "    #\"invs13\",\n",
    "    #\"invs15\",\n",
    "    #\"tags-ask-ubuntu\",\n",
    "    #\"tags-math-sx\",\n",
    "    #\"tags-stack-overflow\",\n",
    "    #\"congress-bills\",\n",
    "    #\"disgenenet\",\n",
    "    #\"diseasome\",\n",
    "    #\"malawi-village\",\n",
    "    #\"ndc-classes\",\n",
    "    #\"ndc-substances\",\n",
    "    #\"coauth-mag-geology\",\n",
    "    # \"coauth-mag-history\",\n",
    "    # \"coauth-dblp\",\n",
    "    #\"dawn\"\n",
    "]\n",
    "\n",
    "HGs = {}\n",
    "for name in tqdm(data_names):\n",
    "    HGs[name] = xgi.load_xgi_data(name, max_order=None, cache=True)"
   ]
  },
  {
   "cell_type": "code",
   "execution_count": 271,
   "id": "5802bb60",
   "metadata": {},
   "outputs": [
    {
     "name": "stdout",
     "output_type": "stream",
     "text": [
      "kaggle-whats-cooking\n",
      "Hypergraph named kaggle-whats-cooking with 6714 nodes and 39774 hyperedges\n",
      "max order: 64\n",
      "Hypergraph named kaggle-whats-cooking with 6714 nodes and 39224 hyperedges\n"
     ]
    }
   ],
   "source": [
    "i = 0  # choose dataset here\n",
    "name = data_names[i]\n",
    "print(name)\n",
    "H0 = HGs[name]\n",
    "print(H0)\n",
    "print(\"max order:\", xgi.max_edge_order(H0))\n",
    "H0.cleanup(isolates=True)\n",
    "print(H0)\n",
    "\n",
    "orders = np.array(xgi.unique_edge_sizes(H0)) - 1\n",
    "weights = np.ones(len(orders))\n",
    "N = H0.num_nodes\n",
    "\n",
    "rescale = True # per node\n",
    "\n",
    "H = H0.copy()"
   ]
  },
  {
   "cell_type": "code",
   "execution_count": 272,
   "id": "39c0d5a4",
   "metadata": {},
   "outputs": [
    {
     "data": {
      "text/plain": [
       "array([ 1,  2,  3,  4,  5,  6,  7,  8,  9, 10, 11, 12, 13, 14, 15, 16, 17,\n",
       "       18, 19, 20, 21, 22, 23, 24, 25, 26, 27, 28, 29, 30, 31, 32, 33, 34,\n",
       "       35, 37, 39, 42, 48, 51, 58, 64])"
      ]
     },
     "execution_count": 272,
     "metadata": {},
     "output_type": "execute_result"
    }
   ],
   "source": [
    "orders"
   ]
  },
  {
   "cell_type": "code",
   "execution_count": 273,
   "id": "84bfe049",
   "metadata": {},
   "outputs": [],
   "source": [
    "# slice by years for coauthorship\n",
    "\n",
    "#years = [H.edges[i][\"timestamp\"] for i in H.edges]\n",
    "#year = 1983\n",
    "#name = data_names[i]\n",
    "#name += f\"_{year}\"\n",
    "#idx_keep = np.where(np.array(years)==year)[0]\n",
    "\n",
    "#H0 = xgi.subhypergraph(H, edges=idx_keep).copy()\n",
    "\n",
    "#print(H0)\n",
    "#H0.cleanup(isolates=False, singletons=True, connected=True)\n",
    "#print(H0)\n",
    "\n",
    "#orders = np.array(xgi.unique_edge_sizes(H0)) - 1\n",
    "#weights = np.ones(len(orders))\n",
    "#N = H0.num_nodes\n"
   ]
  },
  {
   "cell_type": "code",
   "execution_count": 274,
   "id": "bce2000d",
   "metadata": {},
   "outputs": [
    {
     "data": {
      "text/plain": [
       "'kaggle-whats-cooking'"
      ]
     },
     "execution_count": 274,
     "metadata": {},
     "output_type": "execute_result"
    }
   ],
   "source": [
    "name"
   ]
  },
  {
   "cell_type": "code",
   "execution_count": 275,
   "id": "87151d2a",
   "metadata": {},
   "outputs": [],
   "source": [
    "sparse = False\n",
    "rescale_per_order = False"
   ]
  },
  {
   "cell_type": "code",
   "execution_count": 276,
   "id": "7f3c35b8",
   "metadata": {},
   "outputs": [
    {
     "data": {
      "text/plain": [
       "5.5743304671773445e-05"
      ]
     },
     "execution_count": 276,
     "metadata": {},
     "output_type": "execute_result"
    }
   ],
   "source": [
    "with warnings.catch_warnings():\n",
    "    warnings.simplefilter(\"ignore\", category=UserWarning)\n",
    "\n",
    "    tau_c = find_charact_tau(\n",
    "        H0,\n",
    "        orders,\n",
    "        weights,\n",
    "        rescale_per_node=rescale,\n",
    "        rescale_per_order=rescale_per_order,\n",
    "        sparse_Lap=True,\n",
    "        idx=-1,\n",
    "    )\n",
    "tau_c"
   ]
  },
  {
   "cell_type": "code",
   "execution_count": 277,
   "id": "02266c04",
   "metadata": {},
   "outputs": [],
   "source": [
    "from math import comb\n",
    "\n",
    "#def gamma(N, orders):\n",
    "    \n",
    "#    return sum([comb(N-1, i) for i in orders])\n",
    "\n",
    "\n",
    "def gamma(H, orders):\n",
    "    \n",
    "    return sum([H.nodes.degree(order=i).mean() for i in orders])"
   ]
  },
  {
   "cell_type": "code",
   "execution_count": 278,
   "id": "9a4487a3",
   "metadata": {},
   "outputs": [
    {
     "data": {
      "text/plain": [
       "[<matplotlib.lines.Line2D at 0x2cbe78a00>]"
      ]
     },
     "execution_count": 278,
     "metadata": {},
     "output_type": "execute_result"
    },
    {
     "data": {
      "image/png": "[encoded data removed]",
      "text/plain": [
       "<Figure size 640x480 with 1 Axes>"
      ]
     },
     "metadata": {},
     "output_type": "display_data"
    }
   ],
   "source": [
    "plt.plot([max(orders) / d for d in orders], \"o-\", alpha=0.5)\n",
    "plt.plot([len(orders) / i for i in range(1, len(orders) + 1)], \"o-\", alpha=0.5)\n",
    "\n",
    "plt.plot(list(range(1, len(orders) + 1))[::-1], \"o-\", alpha=0.5)\n",
    "\n",
    "#plt.plot([gamma(N, orders) / gamma(N, orders[: i + 1]) for i in range(len(orders))], \"o-\", alpha=0.5)\n",
    "# plt.plot([max(orders) / d for d in orders])"
   ]
  },
  {
   "cell_type": "code",
   "execution_count": 279,
   "id": "3224743d",
   "metadata": {},
   "outputs": [],
   "source": [
    "#inverse_rescaling_factors = [\n",
    "#    gamma(H, orders) / gamma(H, orders[: i + 1]) for i in range(len(orders))\n",
    "#]"
   ]
  },
  {
   "cell_type": "code",
   "execution_count": 280,
   "id": "ac8d43f6",
   "metadata": {
    "scrolled": false
   },
   "outputs": [
    {
     "name": "stderr",
     "output_type": "stream",
     "text": [
      "100%|████████████████████████████████████████| 42/42 [1:48:17<00:00, 154.71s/it]\n"
     ]
    }
   ],
   "source": [
    "# inverse_rescaling_factors = [max(orders) / d for d in orders]\n",
    "\n",
    "# inverse_rescaling_factors = [len(orders) / i for i in range(1, len(orders)+1)]\n",
    "# suffix = \"rescaling_present_orders\"\n",
    "\n",
    "#inverse_rescaling_factors = [\n",
    "#    gamma(N, orders) / gamma(N, orders[: i + 1]) for i in range(len(orders))\n",
    "#]\n",
    "\n",
    "\n",
    "inverse_rescaling_factors = [\n",
    "    gamma(H, orders) / gamma(H, orders[: i + 1]) for i in range(len(orders))\n",
    "]\n",
    "\n",
    "suffix = \"norenorm_lap\"\n",
    "\n",
    "\n",
    "# inverse_rescaling_factors = list(range(1, len(orders)+1))[::-1]\n",
    "\n",
    "# inverse_rescaling_factors = [1 for d in orders]\n",
    "# suffix = \"no_rescaling\"\n",
    "\n",
    "tau_per_order = False\n",
    "\n",
    "# tau_c = 1\n",
    "# suffix = \"tau_per_order\"\n",
    "\n",
    "if tau_per_order and suffix != \"tau_per_order\":\n",
    "    raise ValueError(\"check input params\")\n",
    "\n",
    "with warnings.catch_warnings():\n",
    "    warnings.simplefilter(\"ignore\", category=UserWarning)\n",
    "\n",
    "    Ds_H, lZs_H = optimization(\n",
    "        H0,\n",
    "        tau_c,\n",
    "        rescaling_factors=inverse_rescaling_factors,\n",
    "        rescale_per_order=rescale_per_order,\n",
    "        tau_per_order=tau_per_order,\n",
    "        rescale_per_node=rescale,\n",
    "        sparse=sparse,\n",
    "        sparse_Lap=True,\n",
    "    )"
   ]
  },
  {
   "cell_type": "code",
   "execution_count": 281,
   "id": "49004d45",
   "metadata": {},
   "outputs": [],
   "source": [
    "#name = \"hypertext-conference\"\n",
    "#data = np.load(f\"{out_dir}/message_length_{name}.npz\")\n",
    "\n",
    "#message_length = data[\"message_length\"]\n",
    "#Ds_H = data[\"KL\"]\n",
    "#lZs_H = data[\"complexity\"]\n",
    "#orders = data[\"orders\"]\n",
    "#N = int(data[\"N\"])"
   ]
  },
  {
   "cell_type": "code",
   "execution_count": null,
   "id": "954b4488",
   "metadata": {},
   "outputs": [],
   "source": []
  },
  {
   "cell_type": "code",
   "execution_count": 282,
   "id": "a3ae3a7e",
   "metadata": {},
   "outputs": [
    {
     "data": {
      "image/png": "[encoded data removed]",
      "text/plain": [
       "<Figure size 270x200 with 1 Axes>"
      ]
     },
     "metadata": {},
     "output_type": "display_data"
    }
   ],
   "source": [
    "fig, ax = plt.subplots(1, 1, figsize=(2.7, 2))\n",
    "\n",
    "message_length = Ds_H + lZs_H\n",
    "ax.plot(orders, message_length, \"o-\", ms=2, alpha=0.5)\n",
    "\n",
    "\n",
    "ax.set_ylabel(\"Message Length\")\n",
    "ax.set_xlabel(\"Max Order\")\n",
    "ax.set_title(\"functional complex.\")\n",
    "\n",
    "# ax.set_title(f\"{name} {year}, N={N}\")\n",
    "ax.set_title(f\"{name}, N={N}\")\n",
    "\n",
    "sb.despine()\n",
    "\n",
    "# fig_name = f\"message_length_{name}_{year}_rescaled_tauc\"\n",
    "#fig_name = f\"message_length_{name}_rescaled_tauc\"\n",
    "fig_name = f\"message_length_{name}_{suffix}_tauc\"\n",
    "\n",
    "#plt.savefig(f\"{out_dir}{fig_name}.png\", dpi=250, bbox_inches=\"tight\")"
   ]
  },
  {
   "cell_type": "code",
   "execution_count": 283,
   "id": "55034a3c",
   "metadata": {},
   "outputs": [
    {
     "data": {
      "text/plain": [
       "array([ 1,  2,  3,  4,  5,  6,  7,  8,  9, 10, 11, 12, 13, 14, 15, 16, 17,\n",
       "       18, 19, 20, 21, 22, 23, 24, 25, 26, 27, 28, 29, 30, 31, 32, 33, 34,\n",
       "       35, 37, 39, 42, 48, 51, 58, 64])"
      ]
     },
     "execution_count": 283,
     "metadata": {},
     "output_type": "execute_result"
    }
   ],
   "source": [
    "orders"
   ]
  },
  {
   "cell_type": "code",
   "execution_count": 284,
   "id": "4feaf72d",
   "metadata": {},
   "outputs": [
    {
     "data": {
      "text/plain": [
       "[1195.5056497175144,\n",
       " 218.71266149870806,\n",
       " 67.01646872525734,\n",
       " 27.120089714834993,\n",
       " 13.570045211145674,\n",
       " 7.805835807956916,\n",
       " 5.139462019551886,\n",
       " 3.6572759404409036,\n",
       " 2.782128230243826,\n",
       " 2.2223861786483226,\n",
       " 1.8583152570058579,\n",
       " 1.612544199231848,\n",
       " 1.4411824800615693,\n",
       " 1.3201394975965366,\n",
       " 1.2328283078393047,\n",
       " 1.166456275357206,\n",
       " 1.1183519985624517,\n",
       " 1.0853822736633696,\n",
       " 1.0583479419921629,\n",
       " 1.0413402295230412,\n",
       " 1.0293048934721278,\n",
       " 1.0215333294712858,\n",
       " 1.0162349200860614,\n",
       " 1.0118613836766706,\n",
       " 1.0090387155534575,\n",
       " 1.0077412503155079,\n",
       " 1.0059303945197926,\n",
       " 1.0045455192810722,\n",
       " 1.0034736712318375,\n",
       " 1.002662970728645,\n",
       " 1.0023589988939232,\n",
       " 1.0020457209153655,\n",
       " 1.0018037765684216,\n",
       " 1.0015548382210946,\n",
       " 1.0012136381702215,\n",
       " 1.0010336540735905,\n",
       " 1.0007496003707803,\n",
       " 1.0006478536891013,\n",
       " 1.0004160431928477,\n",
       " 1.0002930853138259,\n",
       " 1.0001536120091505,\n",
       " 1.0]"
      ]
     },
     "execution_count": 284,
     "metadata": {},
     "output_type": "execute_result"
    }
   ],
   "source": [
    "inverse_rescaling_factors"
   ]
  },
  {
   "cell_type": "code",
   "execution_count": 285,
   "id": "29b63d75",
   "metadata": {},
   "outputs": [
    {
     "name": "stdout",
     "output_type": "stream",
     "text": [
      "64\n"
     ]
    },
    {
     "data": {
      "image/png": "[encoded data removed]",
      "text/plain": [
       "<Figure size 450x150 with 3 Axes>"
      ]
     },
     "metadata": {},
     "output_type": "display_data"
    }
   ],
   "source": [
    "fig, axs = plt.subplots(1, 3, figsize=(4.5, 1.5), sharey=True)\n",
    "\n",
    "message_length = Ds_H + lZs_H\n",
    "#message_length2 = Ds_H2 + lZs_H2\n",
    "\n",
    "\n",
    "axs[0].plot(orders, Ds_H, \"o-\", ms=2, alpha=0.5, label=\"no rescaling\")\n",
    "#axs[0].plot(orders, Ds_H2, \"o-\", ms=2, alpha=0.5, label=\"rescaling\")\n",
    "axs[0].set_title(\"information\")\n",
    "\n",
    "axs[1].plot(orders, lZs_H, \"o-\", ms=2, alpha=0.5)\n",
    "#axs[1].plot(orders, lZs_H2, \"o-\", ms=2, alpha=0.5)\n",
    "axs[1].set_title(\"complexity\")\n",
    "\n",
    "axs[2].plot(orders, message_length, \"o-\", ms=2, alpha=0.5)\n",
    "#axs[2].plot(orders, message_length2, \"o-\", ms=2, alpha=0.5)\n",
    "axs[2].set_title(\"mess. length\")\n",
    "\n",
    "\n",
    "axs[0].set_ylabel(\"Message Length\")\n",
    "axs[0].set_xlabel(\"Max Order\")\n",
    "axs[1].set_xlabel(\"Max Order\")\n",
    "axs[2].set_xlabel(\"Max Order\")\n",
    "\n",
    "order_argmin = np.nanargmin(message_length)\n",
    "order_min = orders[order_argmin]\n",
    "print(order_min)\n",
    "\n",
    "axs[2].axvline(order_min, ls=\"--\", c=\"grey\", zorder=-2, alpha=0.4)\n",
    "\n",
    "\n",
    "# ax.set_title(\"functional complex.\")\n",
    "\n",
    "# ax.set_title(f\"{name} {year}, N={N}\")\n",
    "# fig.suptitle(f\"{name}_{year}\")\n",
    "fig.suptitle(f\"{name}\")\n",
    "\n",
    "sb.despine()\n",
    "plt.subplots_adjust(top=0.65)\n",
    "\n",
    "# fig_name = f\"message_length_{name}_{year}_rescaled_tauc_full\"\n",
    "#fig_name = f\"message_length_{name}_rescaled_tauc_full\"\n",
    "fig_name = f\"message_length_{name}_{suffix}_tauc_full\"\n",
    "\n",
    "#axs[0].set_ylim(-0.0002, 0.015)\n",
    "#axs[0].legend(frameon=False, fontsize=\"x-small\")\n",
    "\n",
    "plt.savefig(f\"{out_dir}{fig_name}.png\", dpi=250, bbox_inches=\"tight\")"
   ]
  },
  {
   "cell_type": "code",
   "execution_count": 286,
   "id": "a8d8f4bb",
   "metadata": {},
   "outputs": [],
   "source": [
    "np.savez(\n",
    "    f\"{out_dir}/message_length_{name}_{suffix}.npz\",\n",
    "    # f\"{out_dir}/message_length_{name}_{year}.npz\",\n",
    "    message_length=Ds_H + lZs_H,\n",
    "    KL=Ds_H,\n",
    "    complexity=lZs_H,\n",
    "    orders=orders,\n",
    "    dataset=name,\n",
    "    # year=year,\n",
    "    N=N,\n",
    "    num_edges=H0.num_edges,\n",
    "    tau_c=tau_c,\n",
    "    order_min=order_min\n",
    ")"
   ]
  },
  {
   "cell_type": "code",
   "execution_count": 287,
   "id": "1ef9ec15",
   "metadata": {},
   "outputs": [
    {
     "data": {
      "image/png": "[encoded data removed]",
      "text/plain": [
       "<Figure size 300x200 with 1 Axes>"
      ]
     },
     "metadata": {},
     "output_type": "display_data"
    }
   ],
   "source": [
    "bins = np.arange(1.5, max(orders)+1 + 1.5, 1) \n",
    "\n",
    "fig, ax = plt.subplots(figsize=(3, 2))\n",
    "\n",
    "sb.histplot(H0.edges.size.asnumpy(), bins=bins)\n",
    "\n",
    "ax.set_xlabel(\"Hyperedge size\")\n",
    "ax.set_title(name)\n",
    "\n",
    "sb.despine(bottom=True)\n",
    "\n",
    "fig_name = f\"dataset_{name}_edge_size_hist\"\n",
    "\n",
    "#plt.savefig(f\"{out_dir}{fig_name}.png\", dpi=250, bbox_inches=\"tight\")"
   ]
  },
  {
   "cell_type": "code",
   "execution_count": 94,
   "id": "f15cb4e1",
   "metadata": {},
   "outputs": [
    {
     "data": {
      "text/plain": [
       "'contact-primary-school'"
      ]
     },
     "execution_count": 94,
     "metadata": {},
     "output_type": "execute_result"
    }
   ],
   "source": [
    "name"
   ]
  },
  {
   "cell_type": "code",
   "execution_count": 163,
   "id": "a2554f54",
   "metadata": {},
   "outputs": [
    {
     "data": {
      "text/plain": [
       "array([1, 2, 3])"
      ]
     },
     "execution_count": 163,
     "metadata": {},
     "output_type": "execute_result"
    }
   ],
   "source": [
    "orders"
   ]
  },
  {
   "cell_type": "markdown",
   "id": "59e87e72",
   "metadata": {},
   "source": [
    "### "
   ]
  },
  {
   "cell_type": "code",
   "execution_count": null,
   "id": "5f871f65",
   "metadata": {},
   "outputs": [],
   "source": []
  },
  {
   "cell_type": "code",
   "execution_count": null,
   "id": "24661e58",
   "metadata": {},
   "outputs": [],
   "source": []
  },
  {
   "cell_type": "code",
   "execution_count": 606,
   "id": "cd1a9441",
   "metadata": {},
   "outputs": [
    {
     "data": {
      "text/plain": [
       "[2,\n",
       " 3,\n",
       " 4,\n",
       " 5,\n",
       " 6,\n",
       " 7,\n",
       " 8,\n",
       " 9,\n",
       " 10,\n",
       " 11,\n",
       " 12,\n",
       " 13,\n",
       " 14,\n",
       " 15,\n",
       " 16,\n",
       " 17,\n",
       " 18,\n",
       " 19,\n",
       " 20,\n",
       " 21,\n",
       " 22,\n",
       " 23,\n",
       " 24,\n",
       " 25,\n",
       " 26,\n",
       " 27,\n",
       " 28,\n",
       " 29,\n",
       " 30,\n",
       " 31,\n",
       " 32,\n",
       " 33,\n",
       " 34,\n",
       " 35,\n",
       " 37,\n",
       " 38,\n",
       " 39,\n",
       " 40]"
      ]
     },
     "execution_count": 606,
     "metadata": {},
     "output_type": "execute_result"
    }
   ],
   "source": [
    "xgi.unique_edge_sizes(H0)"
   ]
  },
  {
   "cell_type": "code",
   "execution_count": 365,
   "id": "736ce92d",
   "metadata": {},
   "outputs": [
    {
     "data": {
      "text/plain": [
       "(array([2, 3, 4, 5, 6, 7, 8, 9]),\n",
       " array([8268, 1861,  258,   63,   41,   32,   16,    2]))"
      ]
     },
     "execution_count": 365,
     "metadata": {},
     "output_type": "execute_result"
    }
   ],
   "source": [
    "np.unique(H0.edges.size.asnumpy(), return_counts=True)"
   ]
  },
  {
   "cell_type": "code",
   "execution_count": null,
   "id": "42af984a",
   "metadata": {},
   "outputs": [],
   "source": []
  },
  {
   "cell_type": "code",
   "execution_count": null,
   "id": "515502ed",
   "metadata": {},
   "outputs": [],
   "source": []
  },
  {
   "cell_type": "code",
   "execution_count": null,
   "id": "f270ef1f",
   "metadata": {},
   "outputs": [],
   "source": []
  },
  {
   "cell_type": "markdown",
   "id": "be3a9e81",
   "metadata": {},
   "source": [
    "## all together"
   ]
  },
  {
   "cell_type": "code",
   "execution_count": 18,
   "id": "6437390c",
   "metadata": {},
   "outputs": [
    {
     "name": "stderr",
     "output_type": "stream",
     "text": [
      "100%|█████████████████████████████████████████████| 3/3 [00:02<00:00,  1.21it/s]\n"
     ]
    }
   ],
   "source": [
    "data_names = [\n",
    "    \"email-enron\",\n",
    "    # \"email-eu\",\n",
    "    \"hospital-lyon\",\n",
    "    \"contact-high-school\",\n",
    "    # \"contact-primary-school\",\n",
    "    # \"tags-ask-ubuntu\",\n",
    "    # \"congress-bills\",\n",
    "    # \"disgenenet\",\n",
    "    # \"diseasome\",\n",
    "    # \"ndc-substances\",\n",
    "    # \"coauth-mag-geology\",\n",
    "    # \"coauth-mag-history\",\n",
    "]\n",
    "\n",
    "HGs = {}\n",
    "for name in tqdm(data_names):\n",
    "    HGs[name] = xgi.load_xgi_data(name, max_order=None, cache=True)"
   ]
  },
  {
   "cell_type": "code",
   "execution_count": 19,
   "id": "f09b6d34",
   "metadata": {},
   "outputs": [
    {
     "name": "stderr",
     "output_type": "stream",
     "text": [
      "\r",
      "  0%|                                                     | 0/3 [00:00<?, ?it/s]"
     ]
    },
    {
     "name": "stdout",
     "output_type": "stream",
     "text": [
      "Hypergraph named email-Enron with 148 nodes and 10885 hyperedges\n",
      "max order: 36\n",
      "Hypergraph named email-Enron with 143 nodes and 1459 hyperedges\n"
     ]
    },
    {
     "name": "stderr",
     "output_type": "stream",
     "text": [
      "\r",
      " 33%|███████████████                              | 1/3 [00:18<00:36, 18.28s/it]"
     ]
    },
    {
     "name": "stdout",
     "output_type": "stream",
     "text": [
      "Hypergraph named hospital-lyon with 75 nodes and 27834 hyperedges\n",
      "max order: 4\n",
      "Hypergraph named hospital-lyon with 75 nodes and 1824 hyperedges\n"
     ]
    },
    {
     "name": "stderr",
     "output_type": "stream",
     "text": [
      "\r",
      " 67%|██████████████████████████████               | 2/3 [00:19<00:08,  8.45s/it]"
     ]
    },
    {
     "name": "stdout",
     "output_type": "stream",
     "text": [
      "Hypergraph named contact-high-school with 327 nodes and 172035 hyperedges\n",
      "max order: 4\n",
      "Hypergraph named contact-high-school with 327 nodes and 7818 hyperedges\n",
      "logm result may be inaccurate, approximate err = 5.128841825295042e-13\n",
      "logm result may be inaccurate, approximate err = 4.641378397856407e-13\n",
      "logm result may be inaccurate, approximate err = 5.128841825295042e-13\n",
      "logm result may be inaccurate, approximate err = 4.887420895249281e-13\n",
      "logm result may be inaccurate, approximate err = 5.128841825295042e-13\n",
      "logm result may be inaccurate, approximate err = 4.570432369407865e-13\n",
      "logm result may be inaccurate, approximate err = 5.128841825295042e-13\n"
     ]
    },
    {
     "name": "stderr",
     "output_type": "stream",
     "text": [
      "100%|█████████████████████████████████████████████| 3/3 [00:29<00:00,  9.88s/it]"
     ]
    },
    {
     "name": "stdout",
     "output_type": "stream",
     "text": [
      "logm result may be inaccurate, approximate err = 5.128841825295042e-13\n"
     ]
    },
    {
     "name": "stderr",
     "output_type": "stream",
     "text": [
      "\n"
     ]
    }
   ],
   "source": [
    "rescale = True\n",
    "\n",
    "message_length_arr = []\n",
    "orders_arr = []\n",
    "\n",
    "for i, H0 in enumerate(tqdm(HGs)):\n",
    "\n",
    "    # load and clean\n",
    "    name = data_names[i]\n",
    "    H0 = HGs[name]\n",
    "    print(H0)\n",
    "    print(\"max order:\", xgi.max_edge_order(H0))\n",
    "    H0.cleanup(isolates=True)\n",
    "    print(H0)\n",
    "\n",
    "    orders = np.array(xgi.unique_edge_sizes(H0)) - 1\n",
    "    weights = np.ones(len(orders))\n",
    "    N = H0.num_nodes\n",
    "\n",
    "    # compute\n",
    "    tau_c = find_charact_tau(H0, orders, weights, rescale_per_node=rescale, idx=-1)\n",
    "\n",
    "    inverse_rescaling_factors = [max(orders) / d for d in orders]\n",
    "    Ds_H, lZs_H = optimization(\n",
    "        H0, tau_c, rescaling_factors=inverse_rescaling_factors, rescale_per_node=rescale\n",
    "    )\n",
    "\n",
    "    message_length = Ds_H + lZs_H\n",
    "\n",
    "    message_length_arr.append(message_length)\n",
    "    orders_arr.append(orders)"
   ]
  },
  {
   "cell_type": "code",
   "execution_count": 20,
   "id": "de7c9287",
   "metadata": {},
   "outputs": [
    {
     "data": {
      "image/png": "[encoded data removed]",
      "text/plain": [
       "<Figure size 380x80 with 3 Axes>"
      ]
     },
     "metadata": {},
     "output_type": "display_data"
    }
   ],
   "source": [
    "fig, axs = plt.subplots(\n",
    "    1, len(data_names), figsize=(3.8, 0.8), sharey=False\n",
    ")  # , layout=\"constrained\")\n",
    "\n",
    "for i, name in enumerate(data_names):\n",
    "\n",
    "    ax = axs[i]\n",
    "    ax.plot(orders_arr[i], message_length_arr[i], \"o-\", ms=4)\n",
    "\n",
    "    order_argmin = np.argmin(message_length_arr[i])\n",
    "    order_min = orders_arr[i][order_argmin]\n",
    "\n",
    "    ax.axvline(order_min, ls=\"--\", c=\"grey\", zorder=-2)\n",
    "    ax.set_xlabel(\"Max Order\")\n",
    "    ax.ticklabel_format(\n",
    "        axis=\"y\", style=\"scientific\", scilimits=(0, 0), useMathText=True, useOffset=True\n",
    "    )\n",
    "\n",
    "    ax.set_title(name, fontsize=\"small\", style=\"italic\")\n",
    "\n",
    "axs[0].set_ylabel(\"Message length\")\n",
    "axs[0].set_xticks([1, 15, 30])\n",
    "axs[1].set_xticks([1, 2, 3, 4])\n",
    "axs[2].set_xticks([1, 2, 3, 4])\n",
    "\n",
    "plt.subplots_adjust(wspace=0.5)\n",
    "\n",
    "sb.despine()\n",
    "\n",
    "fig_name = f\"figure_3\"\n",
    "plt.savefig(f\"{out_dir}{fig_name}.png\", dpi=250, bbox_inches=\"tight\")\n",
    "plt.savefig(f\"{out_dir}{fig_name}.pdf\", dpi=250, bbox_inches=\"tight\")"
   ]
  },
  {
   "cell_type": "code",
   "execution_count": 120,
   "id": "3d4e8586",
   "metadata": {},
   "outputs": [
    {
     "data": {
      "text/plain": [
       "[14.0,\n",
       " 7.0,\n",
       " 4.666666666666667,\n",
       " 3.5,\n",
       " 2.8,\n",
       " 2.3333333333333335,\n",
       " 2.0,\n",
       " 1.5555555555555556,\n",
       " 1.4,\n",
       " 1.0]"
      ]
     },
     "execution_count": 120,
     "metadata": {},
     "output_type": "execute_result"
    }
   ],
   "source": [
    "inverse_rescaling_factors"
   ]
  },
  {
   "cell_type": "code",
   "execution_count": null,
   "id": "461c5460",
   "metadata": {},
   "outputs": [],
   "source": [
    "    "
   ]
  }
 ],
 "metadata": {
  "kernelspec": {
   "display_name": "venv_xgi",
   "language": "python",
   "name": "venv_xgi"
  },
  "language_info": {
   "codemirror_mode": {
    "name": "ipython",
    "version": 3
   },
   "file_extension": ".py",
   "mimetype": "text/x-python",
   "name": "python",
   "nbconvert_exporter": "python",
   "pygments_lexer": "ipython3",
   "version": "3.9.13"
  },
  "toc": {
   "base_numbering": 1,
   "nav_menu": {},
   "number_sections": true,
   "sideBar": true,
   "skip_h1_title": false,
   "title_cell": "Table of Contents",
   "title_sidebar": "Contents",
   "toc_cell": false,
   "toc_position": {
    "height": "calc(100% - 180px)",
    "left": "10px",
    "top": "150px",
    "width": "288.188px"
   },
   "toc_section_display": true,
   "toc_window_display": true
  }
 },
 "nbformat": 4,
 "nbformat_minor": 5
}
