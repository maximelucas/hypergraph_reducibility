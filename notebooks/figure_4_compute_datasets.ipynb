{
 "cells": [
  {
   "cell_type": "markdown",
   "id": "591a1ba5",
   "metadata": {},
   "source": [
    "## Figure 4: compute datasets"
   ]
  },
  {
   "cell_type": "code",
   "execution_count": 1,
   "id": "daa915a3",
   "metadata": {},
   "outputs": [],
   "source": [
    "import sys\n",
    "import warnings\n",
    "\n",
    "import matplotlib.pyplot as plt\n",
    "import numpy as np\n",
    "import seaborn as sb\n",
    "from tqdm import tqdm\n",
    "\n",
    "sys.path.append(\"../src/\")\n",
    "\n",
    "import xgi\n",
    "from statannotations.Annotator import Annotator\n",
    "\n",
    "from hypergraph_reducibility import find_charact_tau, optimization\n",
    "\n",
    "sb.set_theme(style=\"ticks\", context=\"paper\")"
   ]
  },
  {
   "cell_type": "code",
   "execution_count": 2,
   "id": "b8413cfa",
   "metadata": {},
   "outputs": [],
   "source": [
    "results_dir = \"../results/\"\n",
    "out_dir = f\"{results_dir}datasets/\""
   ]
  },
  {
   "cell_type": "markdown",
   "id": "73c7d302",
   "metadata": {},
   "source": [
    "## try dataset"
   ]
  },
  {
   "cell_type": "code",
   "execution_count": 4,
   "id": "489b5f7f",
   "metadata": {},
   "outputs": [
    {
     "name": "stdout",
     "output_type": "stream",
     "text": [
      "Available datasets are the following:\n",
      "coauth-dblp\n",
      "coauth-mag-geology\n",
      "coauth-mag-history\n",
      "congress-bills\n",
      "contact-high-school\n",
      "contact-primary-school\n",
      "dawn\n",
      "diseasome\n",
      "disgenenet\n",
      "email-enron\n",
      "email-eu\n",
      "hospital-lyon\n",
      "hypertext-conference\n",
      "invs13\n",
      "invs15\n",
      "kaggle-whats-cooking\n",
      "malawi-village\n",
      "ndc-classes\n",
      "ndc-substances\n",
      "science-gallery\n",
      "sfhh-conference\n",
      "tags-ask-ubuntu\n",
      "tags-math-sx\n",
      "tags-stack-overflow\n",
      "threads-ask-ubuntu\n",
      "threads-math-sx\n",
      "threads-stack-overflow\n"
     ]
    }
   ],
   "source": [
    "xgi.load_xgi_data()"
   ]
  },
  {
   "cell_type": "code",
   "execution_count": 19,
   "id": "96a8c49b",
   "metadata": {},
   "outputs": [
    {
     "name": "stderr",
     "output_type": "stream",
     "text": [
      "100%|█████████████████████████████████████████████| 1/1 [00:08<00:00,  8.69s/it]\n"
     ]
    }
   ],
   "source": [
    "data_names = [\n",
    "    # \"email-enron\",\n",
    "    # \"email-eu\",\n",
    "    # \"kaggle-whats-cooking\",\n",
    "    # \"hospital-lyon\",\n",
    "    # \"contact-high-school\",\n",
    "    # \"contact-primary-school\",\n",
    "    # \"sfhh-conference\",\n",
    "    # \"hypertext-conference\",\n",
    "    # \"science-gallery\",\n",
    "    # \"invs13\",\n",
    "    # \"invs15\",\n",
    "    \"tags-ask-ubuntu\",\n",
    "    # \"tags-math-sx\",\n",
    "    # \"tags-stack-overflow\",\n",
    "    # \"congress-bills\",\n",
    "    # \"disgenenet\",\n",
    "    # \"diseasome\",\n",
    "    # \"malawi-village\",\n",
    "    # \"ndc-classes\",\n",
    "    # \"ndc-substances\",\n",
    "    # \"coauth-mag-geology\",\n",
    "    # \"coauth-mag-history\",\n",
    "    # \"coauth-dblp\",\n",
    "    # \"dawn\"\n",
    "]\n",
    "\n",
    "HGs = {}\n",
    "for name in tqdm(data_names):\n",
    "    HGs[name] = xgi.load_xgi_data(name, max_order=None, cache=True)"
   ]
  },
  {
   "cell_type": "code",
   "execution_count": 20,
   "id": "5802bb60",
   "metadata": {},
   "outputs": [
    {
     "name": "stdout",
     "output_type": "stream",
     "text": [
      "tags-ask-ubuntu\n",
      "Hypergraph named tags-ask-ubuntu with 3029 nodes and 271233 hyperedges\n",
      "max order: 4\n",
      "Hypergraph named tags-ask-ubuntu with 3021 nodes and 145053 hyperedges\n"
     ]
    }
   ],
   "source": [
    "i = 0  # choose dataset here\n",
    "name = data_names[i]\n",
    "print(name)\n",
    "H0 = HGs[name]\n",
    "print(H0)\n",
    "print(\"max order:\", xgi.max_edge_order(H0))\n",
    "H0.cleanup(isolates=True)\n",
    "print(H0)\n",
    "\n",
    "orders = np.array(xgi.unique_edge_sizes(H0)) - 1\n",
    "weights = np.ones(len(orders))\n",
    "N = H0.num_nodes\n",
    "\n",
    "rescale = True\n",
    "\n",
    "H = H0.copy()"
   ]
  },
  {
   "cell_type": "code",
   "execution_count": 21,
   "id": "84bfe049",
   "metadata": {},
   "outputs": [],
   "source": [
    "# slice by years for coauthorship\n",
    "\n",
    "# years = [H.edges[i][\"timestamp\"] for i in H.edges]\n",
    "# year = 1983\n",
    "# name = data_names[i]\n",
    "# name += f\"_{year}\"\n",
    "# idx_keep = np.where(np.array(years)==year)[0]\n",
    "\n",
    "# H0 = xgi.subhypergraph(H, edges=idx_keep).copy()\n",
    "\n",
    "# print(H0)\n",
    "# H0.cleanup(isolates=False, singletons=True, connected=True)\n",
    "# print(H0)\n",
    "\n",
    "# orders = np.array(xgi.unique_edge_sizes(H0)) - 1\n",
    "# weights = np.ones(len(orders))\n",
    "# N = H0.num_nodes"
   ]
  },
  {
   "cell_type": "code",
   "execution_count": 22,
   "id": "bce2000d",
   "metadata": {},
   "outputs": [
    {
     "data": {
      "text/plain": [
       "'tags-ask-ubuntu'"
      ]
     },
     "execution_count": 22,
     "metadata": {},
     "output_type": "execute_result"
    }
   ],
   "source": [
    "name"
   ]
  },
  {
   "cell_type": "code",
   "execution_count": 23,
   "id": "87151d2a",
   "metadata": {},
   "outputs": [],
   "source": [
    "sparse = False"
   ]
  },
  {
   "cell_type": "code",
   "execution_count": 24,
   "id": "7f3c35b8",
   "metadata": {},
   "outputs": [
    {
     "data": {
      "text/plain": [
       "0.0033688303050038735"
      ]
     },
     "execution_count": 24,
     "metadata": {},
     "output_type": "execute_result"
    }
   ],
   "source": [
    "with warnings.catch_warnings():\n",
    "    warnings.simplefilter(\"ignore\", category=UserWarning)\n",
    "\n",
    "    tau_c = find_charact_tau(\n",
    "        H0, orders, weights, rescale_per_node=rescale, sparse_Lap=True, idx=-1\n",
    "    )\n",
    "tau_c"
   ]
  },
  {
   "cell_type": "code",
   "execution_count": 26,
   "id": "ac8d43f6",
   "metadata": {
    "scrolled": false
   },
   "outputs": [
    {
     "name": "stderr",
     "output_type": "stream",
     "text": [
      "100%|█████████████████████████████████████████████| 4/4 [01:21<00:00, 20.34s/it]\n"
     ]
    }
   ],
   "source": [
    "# inverse_rescaling_factors = [max(orders) / d for d in orders]\n",
    "\n",
    "inverse_rescaling_factors = [len(orders) / i for i in range(1, len(orders) + 1)]\n",
    "suffix = \"rescaling_present_orders\"\n",
    "\n",
    "# inverse_rescaling_factors = list(range(1, len(orders)+1))[::-1]\n",
    "\n",
    "# inverse_rescaling_factors = [1 for d in orders]\n",
    "# suffix = \"no_rescaling\"\n",
    "\n",
    "tau_per_order = False\n",
    "\n",
    "# tau_c = 1\n",
    "# suffix = \"tau_per_order\"\n",
    "\n",
    "if tau_per_order and suffix != \"tau_per_order\":\n",
    "    raise ValueError(\"check input params\")\n",
    "\n",
    "with warnings.catch_warnings():\n",
    "    warnings.simplefilter(\"ignore\", category=UserWarning)\n",
    "\n",
    "    Ds_H, lZs_H = optimization(\n",
    "        H0,\n",
    "        tau_c,\n",
    "        rescaling_factors=inverse_rescaling_factors,\n",
    "        tau_per_order=tau_per_order,\n",
    "        rescale_per_node=rescale,\n",
    "        sparse=sparse,\n",
    "        sparse_Lap=True,\n",
    "    )"
   ]
  },
  {
   "cell_type": "code",
   "execution_count": 27,
   "id": "8fd3f8f3",
   "metadata": {},
   "outputs": [],
   "source": [
    "# xgi.load_xgi_data()"
   ]
  },
  {
   "cell_type": "code",
   "execution_count": 28,
   "id": "49004d45",
   "metadata": {},
   "outputs": [],
   "source": [
    "# name = \"hypertext-conference\"\n",
    "# data = np.load(f\"{out_dir}/message_length_{name}.npz\")\n",
    "\n",
    "# message_length = data[\"message_length\"]\n",
    "# Ds_H = data[\"KL\"]\n",
    "# lZs_H = data[\"complexity\"]\n",
    "# orders = data[\"orders\"]\n",
    "# N = int(data[\"N\"])"
   ]
  },
  {
   "cell_type": "code",
   "execution_count": 29,
   "id": "a3ae3a7e",
   "metadata": {},
   "outputs": [
    {
     "data": {
      "image/png": "[encoded data removed]",
      "text/plain": [
       "<Figure size 270x200 with 1 Axes>"
      ]
     },
     "metadata": {},
     "output_type": "display_data"
    }
   ],
   "source": [
    "fig, ax = plt.subplots(1, 1, figsize=(2.7, 2))\n",
    "\n",
    "message_length = Ds_H + lZs_H\n",
    "ax.plot(orders, message_length, \"o-\", ms=2, alpha=0.5)\n",
    "\n",
    "\n",
    "ax.set_ylabel(\"Message Length\")\n",
    "ax.set_xlabel(\"Max Order\")\n",
    "ax.set_title(\"functional complex.\")\n",
    "\n",
    "# ax.set_title(f\"{name} {year}, N={N}\")\n",
    "ax.set_title(f\"{name}, N={N}\")\n",
    "\n",
    "sb.despine()\n",
    "\n",
    "# fig_name = f\"message_length_{name}_{year}_rescaled_tauc\"\n",
    "# fig_name = f\"message_length_{name}_rescaled_tauc\"\n",
    "fig_name = f\"message_length_{name}_{suffix}_tauc\"\n",
    "\n",
    "plt.savefig(f\"{out_dir}{fig_name}.png\", dpi=250, bbox_inches=\"tight\")"
   ]
  },
  {
   "cell_type": "code",
   "execution_count": 30,
   "id": "29b63d75",
   "metadata": {},
   "outputs": [
    {
     "name": "stdout",
     "output_type": "stream",
     "text": [
      "1\n"
     ]
    },
    {
     "data": {
      "image/png": "[encoded data removed]",
      "text/plain": [
       "<Figure size 450x150 with 3 Axes>"
      ]
     },
     "metadata": {},
     "output_type": "display_data"
    }
   ],
   "source": [
    "fig, axs = plt.subplots(1, 3, figsize=(4.5, 1.5), sharey=True)\n",
    "\n",
    "message_length = Ds_H + lZs_H\n",
    "# message_length2 = Ds_H2 + lZs_H2\n",
    "\n",
    "\n",
    "axs[0].plot(orders, Ds_H, \"o-\", ms=2, alpha=0.5, label=\"no rescaling\")\n",
    "# axs[0].plot(orders, Ds_H2, \"o-\", ms=2, alpha=0.5, label=\"rescaling\")\n",
    "axs[0].set_title(\"information\")\n",
    "\n",
    "axs[1].plot(orders, lZs_H, \"o-\", ms=2, alpha=0.5)\n",
    "# axs[1].plot(orders, lZs_H2, \"o-\", ms=2, alpha=0.5)\n",
    "axs[1].set_title(\"complexity\")\n",
    "\n",
    "axs[2].plot(orders, message_length, \"o-\", ms=2, alpha=0.5)\n",
    "# axs[2].plot(orders, message_length2, \"o-\", ms=2, alpha=0.5)\n",
    "axs[2].set_title(\"mess. length\")\n",
    "\n",
    "\n",
    "axs[0].set_ylabel(\"Message Length\")\n",
    "axs[0].set_xlabel(\"Max Order\")\n",
    "axs[1].set_xlabel(\"Max Order\")\n",
    "axs[2].set_xlabel(\"Max Order\")\n",
    "\n",
    "order_argmin = np.argmin(message_length)\n",
    "order_min = orders[order_argmin]\n",
    "print(order_min)\n",
    "\n",
    "axs[2].axvline(order_min, ls=\"--\", c=\"grey\", zorder=-2, alpha=0.4)\n",
    "\n",
    "\n",
    "# ax.set_title(\"functional complex.\")\n",
    "\n",
    "# ax.set_title(f\"{name} {year}, N={N}\")\n",
    "# fig.suptitle(f\"{name}_{year}\")\n",
    "fig.suptitle(f\"{name}\")\n",
    "\n",
    "sb.despine()\n",
    "plt.subplots_adjust(top=0.65)\n",
    "\n",
    "# fig_name = f\"message_length_{name}_{year}_rescaled_tauc_full\"\n",
    "# fig_name = f\"message_length_{name}_rescaled_tauc_full\"\n",
    "fig_name = f\"message_length_{name}_{suffix}_tauc_full\"\n",
    "\n",
    "# axs[0].set_ylim(-0.0002, 0.015)\n",
    "# axs[0].legend(frameon=False, fontsize=\"x-small\")\n",
    "\n",
    "plt.savefig(f\"{out_dir}{fig_name}.png\", dpi=250, bbox_inches=\"tight\")"
   ]
  },
  {
   "cell_type": "code",
   "execution_count": 31,
   "id": "a8d8f4bb",
   "metadata": {},
   "outputs": [],
   "source": [
    "np.savez(\n",
    "    f\"{out_dir}/message_length_{name}_{suffix}.npz\",\n",
    "    # f\"{out_dir}/message_length_{name}_{year}.npz\",\n",
    "    message_length=Ds_H + lZs_H,\n",
    "    KL=Ds_H,\n",
    "    complexity=lZs_H,\n",
    "    orders=orders,\n",
    "    dataset=name,\n",
    "    # year=year,\n",
    "    N=N,\n",
    "    num_edges=H0.num_edges,\n",
    "    tau_c=tau_c,\n",
    "    order_min=order_min,\n",
    ")"
   ]
  },
  {
   "cell_type": "code",
   "execution_count": 32,
   "id": "1ef9ec15",
   "metadata": {},
   "outputs": [
    {
     "data": {
      "image/png": "[encoded data removed]",
      "text/plain": [
       "<Figure size 300x200 with 1 Axes>"
      ]
     },
     "metadata": {},
     "output_type": "display_data"
    }
   ],
   "source": [
    "bins = np.arange(1.5, max(orders) + 1 + 1.5, 1)\n",
    "\n",
    "fig, ax = plt.subplots(figsize=(3, 2))\n",
    "\n",
    "sb.histplot(H0.edges.size.asnumpy(), bins=bins)\n",
    "\n",
    "ax.set_xlabel(\"Hyperedge size\")\n",
    "ax.set_title(name)\n",
    "\n",
    "sb.despine(bottom=True)\n",
    "\n",
    "fig_name = f\"dataset_{name}_edge_size_hist\"\n",
    "\n",
    "# plt.savefig(f\"{out_dir}{fig_name}.png\", dpi=250, bbox_inches=\"tight\")"
   ]
  },
  {
   "cell_type": "code",
   "execution_count": 34,
   "id": "f15cb4e1",
   "metadata": {},
   "outputs": [
    {
     "data": {
      "text/plain": [
       "'kaggle-whats-cooking'"
      ]
     },
     "execution_count": 34,
     "metadata": {},
     "output_type": "execute_result"
    }
   ],
   "source": [
    "name"
   ]
  }
 ],
 "metadata": {
  "kernelspec": {
   "display_name": "venv_xgi",
   "language": "python",
   "name": "venv_xgi"
  },
  "language_info": {
   "codemirror_mode": {
    "name": "ipython",
    "version": 3
   },
   "file_extension": ".py",
   "mimetype": "text/x-python",
   "name": "python",
   "nbconvert_exporter": "python",
   "pygments_lexer": "ipython3",
   "version": "3.9.13"
  },
  "toc": {
   "base_numbering": 1,
   "nav_menu": {},
   "number_sections": true,
   "sideBar": true,
   "skip_h1_title": false,
   "title_cell": "Table of Contents",
   "title_sidebar": "Contents",
   "toc_cell": false,
   "toc_position": {
    "height": "calc(100% - 180px)",
    "left": "10px",
    "top": "150px",
    "width": "288.188px"
   },
   "toc_section_display": true,
   "toc_window_display": true
  }
 },
 "nbformat": 4,
 "nbformat_minor": 5
}
