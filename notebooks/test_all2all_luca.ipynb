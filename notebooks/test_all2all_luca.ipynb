{
 "cells": [
  {
   "cell_type": "markdown",
   "metadata": {},
   "source": [
    "# Hypergraph information"
   ]
  },
  {
   "cell_type": "code",
   "execution_count": 1,
   "metadata": {},
   "outputs": [],
   "source": [
    "import sys\n",
    "\n",
    "import numpy as np\n",
    "import matplotlib.pyplot as plt\n",
    "import pandas as pd\n",
    "import seaborn as sb\n",
    "from tqdm import tqdm\n",
    "from itertools import combinations\n",
    "\n",
    "sys.path.append(\"../src/\")\n",
    "\n",
    "import xgi\n",
    "from reducibility_hg import *\n",
    "\n",
    "sb.set_theme(style=\"ticks\", context=\"paper\")"
   ]
  },
  {
   "cell_type": "code",
   "execution_count": 2,
   "metadata": {},
   "outputs": [],
   "source": [
    "results_dir = \"../results/\"\n",
    "out_dir  = f\"{results_dir}synthetic/\""
   ]
  },
  {
   "cell_type": "code",
   "execution_count": 3,
   "metadata": {},
   "outputs": [],
   "source": [
    "def plot_3panels(info_losses, complexities, orders, labels, legend_title=None):\n",
    "    \n",
    "    \n",
    "    fig, (ax1, ax2, ax3) = plt.subplots(1, 3, figsize=(7, 2.1), constrained_layout=True, sharey=True)\n",
    "\n",
    "    n = len(info_losses)\n",
    "    \n",
    "    for i in range(n):\n",
    "        ax1.plot(orders[i], info_losses[i], \"o-\", label=labels[i], ms=7, mfc=\"w\", lw=2)      \n",
    "\n",
    "    ax1.set_title(\"Information Loss (KL)\")\n",
    "    ax1.set_xlabel(\"Max Order\")\n",
    "    ax1.set_ylabel(\"Bits\")\n",
    "    \n",
    "    for i in range(n):\n",
    "        ax2.plot(orders[i], complexities[i], \"o-\", label=labels[i], ms=7, mfc=\"w\", lw=2)      \n",
    "\n",
    "    ax2.set_title(\"Model Complexity ($\\delta S$)\")\n",
    "    ax2.set_xlabel(\"Max Order\")\n",
    "    \n",
    "    for i in range(n):\n",
    "        message_length = complexities[i] + info_losses[i]\n",
    "        ax3.plot(orders[i], message_length, \"o-\", label=labels[i], ms=7, mfc=\"w\", lw=2)\n",
    "\n",
    "    ax3.legend(title=legend_title, bbox_to_anchor=(1, 0.5), frameon=False, loc=\"center left\")\n",
    "\n",
    "    ax3.set_title(\"Message Length\")\n",
    "    ax3.set_xlabel(\"Max Order\")\n",
    "\n",
    "    sb.despine()\n",
    "\n",
    "    #fig.suptitle(f\"Complete hypergraph N={N}\")\n",
    "\n",
    "    #fig_name = f\"message_length_complete_hypergraph_N{N}\" #lambda2_HG_SC_N_{N}_ps_{ps}_nrep_{n_repetitions}\"\n",
    "\n",
    "    #plt.savefig(f\"{out_dir}{fig_name}.png\", dpi=250, bbox_inches=\"tight\")\n",
    "    \n",
    "    return fig, (ax1, ax2, ax3)"
   ]
  },
  {
   "cell_type": "markdown",
   "metadata": {},
   "source": [
    "# Complete Hypergraph up to order 4"
   ]
  },
  {
   "cell_type": "code",
   "execution_count": 4,
   "metadata": {},
   "outputs": [],
   "source": [
    "N = 30\n",
    "rescale = False\n",
    "\n",
    "H0 = xgi.complete_hypergraph(N=N, max_order=4)\n",
    "\n",
    "orders = np.array(xgi.unique_edge_sizes(H0)) - 1\n",
    "weights = np.ones(len(orders))"
   ]
  },
  {
   "cell_type": "code",
   "execution_count": 5,
   "metadata": {},
   "outputs": [
    {
     "data": {
      "text/plain": [
       "0.09666666666666658"
      ]
     },
     "execution_count": 5,
     "metadata": {},
     "output_type": "execute_result"
    }
   ],
   "source": [
    "tau_D = find_charact_tau(H0, orders, weights, rescale_per_node=False)\n",
    "tau_D"
   ]
  },
  {
   "cell_type": "code",
   "execution_count": 6,
   "metadata": {},
   "outputs": [],
   "source": [
    "def optimization_rescaled(H, tau, rescaling_factors, rescale_per_node=False, sparse=False):\n",
    "\n",
    "    orders = np.array(xgi.unique_edge_sizes(H)) - 1\n",
    "    weights = np.ones(len(orders))\n",
    "    L_multi = xgi.multiorder_laplacian(\n",
    "        H, orders, weights, rescale_per_node=rescale_per_node, sparse=sparse\n",
    "    )\n",
    "\n",
    "    rho_all = density(L_multi, tau, sparse=sparse)\n",
    "\n",
    "    D = []  # Learning error\n",
    "    lZ = []  # Penalization term for model complexity\n",
    "\n",
    "    for l in range(len(orders)):\n",
    "        L_l = xgi.multiorder_laplacian(\n",
    "            H, orders[0 : l + 1], weights[0 : l + 1], rescale_per_node=rescale_per_node, sparse=sparse\n",
    "        )\n",
    "        rho_l = density(L_l, tau*rescaling_factors[l], sparse=sparse)\n",
    "        d = KL(rho_all, rho_l, sparse=sparse)\n",
    "        z = penalization(L_l, tau*rescaling_factors[l], sparse=sparse)\n",
    "\n",
    "        D.append(d)\n",
    "        lZ.append(z)\n",
    "\n",
    "    lZ = np.array(lZ)\n",
    "    D = np.array(D)\n",
    "\n",
    "    return D, lZ"
   ]
  },
  {
   "cell_type": "code",
   "execution_count": 14,
   "metadata": {},
   "outputs": [
    {
     "data": {
      "text/plain": [
       "0.0"
      ]
     },
     "execution_count": 14,
     "metadata": {},
     "output_type": "execute_result"
    }
   ],
   "source": [
    "rho_D = density(xgi.multiorder_laplacian(H0, orders, weights), tau_D)\n",
    "rho_1 = density(xgi.multiorder_laplacian(H0, orders[:1], weights[:1]), tau_D*10)\n",
    "\n",
    "sum(sum(rho_D-rho_1))"
   ]
  },
  {
   "cell_type": "code",
   "execution_count": 12,
   "metadata": {},
   "outputs": [
    {
     "data": {
      "text/plain": [
       "(array([0.00000000e+00, 7.07767178e-16, 7.07767178e-16, 0.00000000e+00]),\n",
       " array([0.03000494, 0.03000494, 0.03000494, 0.03000494]))"
      ]
     },
     "execution_count": 12,
     "metadata": {},
     "output_type": "execute_result"
    }
   ],
   "source": [
    "rf_1 = 1\n",
    "rf_2 = rf_1 + 2\n",
    "rf_3 = rf_2 + 3\n",
    "rf_4 = rf_3 + 4\n",
    "inverse_rescaling_factors = np.array([1/rf_1, 1/rf_2, 1/rf_3, 1/rf_4]) * rf_4\n",
    "Ds_H, lZs_H = optimization_rescaled(H0, tau_D, inverse_rescaling_factors, rescale_per_node=rescale)\n",
    "Ds_H, lZs_H"
   ]
  },
  {
   "cell_type": "code",
   "execution_count": 21,
   "metadata": {},
   "outputs": [
    {
     "data": {
      "text/plain": [
       "(<Figure size 700x210 with 3 Axes>,\n",
       " (<AxesSubplot:title={'center':'Information Loss (KL)'}, xlabel='Max Order', ylabel='Bits'>,\n",
       "  <AxesSubplot:title={'center':'Model Complexity ($\\\\delta S$)'}, xlabel='Max Order'>,\n",
       "  <AxesSubplot:title={'center':'Message Length'}, xlabel='Max Order'>))"
      ]
     },
     "execution_count": 21,
     "metadata": {},
     "output_type": "execute_result"
    },
    {
     "data": {
      "image/png": "[encoded data removed]",
      "text/plain": [
       "<Figure size 700x210 with 3 Axes>"
      ]
     },
     "metadata": {},
     "output_type": "display_data"
    }
   ],
   "source": [
    "plot_3panels([Ds_H], [lZs_H], [orders], [\"all-to-all (rescaled tau)\"], legend_title=None)"
   ]
  },
  {
   "cell_type": "code",
   "execution_count": 26,
   "metadata": {},
   "outputs": [],
   "source": [
    "rescale = False\n",
    "max_order = 4\n",
    "\n",
    "rf_1 = 1\n",
    "rf_2 = rf_1 + 2\n",
    "rf_3 = rf_2 + 3\n",
    "rf_4 = rf_3 + 4\n",
    "inverse_rescaling_factors = np.array([1/rf_1, 1/rf_2, 1/rf_3, 1/rf_4]) * rf_4\n",
    "\n",
    "Ds_H = np.zeros((3,4))\n",
    "lZs_H = np.zeros((3,4))\n",
    "\n",
    "for i, N in enumerate(range(10,31,10)):\n",
    "\n",
    "    H0 = xgi.complete_hypergraph(N=N, max_order=max_order)\n",
    "\n",
    "    orders = np.array(xgi.unique_edge_sizes(H0)) - 1\n",
    "    weights = np.ones(len(orders))\n",
    "\n",
    "    tau_D = find_charact_tau(H0, orders, weights, rescale_per_node=rescale)\n",
    " \n",
    "    Ds_H[i], lZs_H[i] = optimization_rescaled(H0, tau_D, inverse_rescaling_factors, rescale_per_node=rescale)"
   ]
  },
  {
   "cell_type": "code",
   "execution_count": null,
   "metadata": {},
   "outputs": [],
   "source": []
  }
 ],
 "metadata": {
  "kernelspec": {
   "display_name": "Python 3 (ipykernel)",
   "language": "python",
   "name": "python3"
  },
  "language_info": {
   "codemirror_mode": {
    "name": "ipython",
    "version": 3
   },
   "file_extension": ".py",
   "mimetype": "text/x-python",
   "name": "python",
   "nbconvert_exporter": "python",
   "pygments_lexer": "ipython3",
   "version": "3.9.16"
  },
  "toc": {
   "base_numbering": 1,
   "nav_menu": {},
   "number_sections": true,
   "sideBar": true,
   "skip_h1_title": false,
   "title_cell": "Table of Contents",
   "title_sidebar": "Contents",
   "toc_cell": false,
   "toc_position": {
    "height": "calc(100% - 180px)",
    "left": "10px",
    "top": "150px",
    "width": "201.776px"
   },
   "toc_section_display": true,
   "toc_window_display": true
  },
  "vscode": {
   "interpreter": {
    "hash": "32aaecebd078ebf0fad58c11ce872e322c9fff2b8f0b0f5a9c84d62363eabb98"
   }
  }
 },
 "nbformat": 4,
 "nbformat_minor": 2
}
