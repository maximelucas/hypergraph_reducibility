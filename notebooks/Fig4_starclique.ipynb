{
 "cells": [
  {
   "cell_type": "markdown",
   "metadata": {},
   "source": [
    "# Hypergraph information"
   ]
  },
  {
   "cell_type": "code",
   "execution_count": 1,
   "metadata": {},
   "outputs": [],
   "source": [
    "import numpy as np\n",
    "import matplotlib.pyplot as plt\n",
    "import networkx as nx\n",
    "import seaborn as sb\n",
    "from scipy import linalg\n",
    "\n",
    "from numpy.linalg import matrix_power, multi_dot\n",
    "sb.set_theme(style=\"ticks\", context=\"paper\")\n",
    "\n",
    "import string\n",
    "from math import factorial"
   ]
  },
  {
   "cell_type": "code",
   "execution_count": 2,
   "metadata": {},
   "outputs": [],
   "source": [
    "#import simplicial_utils as su\n",
    "import xgi\n",
    "#import pygraphviz as pgv"
   ]
  },
  {
   "cell_type": "markdown",
   "metadata": {},
   "source": [
    "## Information functions"
   ]
  },
  {
   "cell_type": "code",
   "execution_count": 3,
   "metadata": {},
   "outputs": [],
   "source": [
    "def construct_hg_multilayer(G):\n",
    "    \"\"\"\n",
    "    returns:\n",
    "    1) a list of Laplacians, ordered by their order!\n",
    "    2) the total Laplacian matrix\n",
    "    \"\"\"\n",
    "    max_d = xgi.max_edge_order(G)\n",
    "    hg_m = []\n",
    "    for d in range(1, max_d+1):\n",
    "        #K, Adj, L = su.compute_laplacians(G, d+1)\n",
    "        L = xgi.laplacian(G, d, rescale_per_node=False)\n",
    "        K = xgi.degree_matrix(G, d)\n",
    "        Adj = xgi.adjacency_matrix(G, d)\n",
    "        hg_m.append(L)\n",
    "    N = G.num_nodes\n",
    "    hg_all = np.zeros((N,N))\n",
    "    for l in range(len(hg_m)):\n",
    "        hg_all = hg_all + hg_m[l]\n",
    "    return hg_m, hg_all\n",
    "\n",
    "def density(Lap,tau):  \n",
    "    \"\"\"\n",
    "    Returns the density matrix for Laplacian\n",
    "    \"\"\"\n",
    "    rho = linalg.expm(-2 * tau * Lap)\n",
    "    rho = rho/np.trace(rho) + np.eye(len(rho))*10**-15\n",
    "    return rho\n",
    "\n",
    "def partition(Lap,tau):   \n",
    "    \"\"\"\n",
    "    Returns the partition function\n",
    "    \"\"\"\n",
    "    return np.trace(linalg.expm(-2 * tau * Lap))\n",
    "\n",
    "def KL(rho_emp,rho_model):    \n",
    "    \"\"\"\n",
    "    Returns the KL divergence between empirical observation and model\n",
    "    \"\"\"\n",
    "    return np.trace(  np.matmul(rho_emp, linalg.logm(rho_emp)) - np.matmul(rho_emp, linalg.logm(rho_model)))   \n",
    "\n",
    "def optimization(G,tau):  \n",
    "    \"\"\"\n",
    "    returns the gain and loss for modeling the whole hypergraph (up to order d_max),\n",
    "    using a part of it, up to order d < d_max.\n",
    "    \"\"\"\n",
    "    hg_m, hg_all = construct_hg_multilayer(G)\n",
    "    rho_all = density(hg_all,tau)\n",
    "    print(len(rho_all))\n",
    "    \n",
    "    D = []\n",
    "    lZ = []\n",
    "    N = G.num_nodes\n",
    "    L_l = np.zeros((N,N))\n",
    "    for l in range(len(hg_m)):\n",
    "        L_l = L_l + hg_m[l]\n",
    "        rho_l = density(L_l,tau)\n",
    "        Z_l   = partition(L_l,tau)\n",
    "\n",
    "        D.append(KL(rho_all,rho_l)) \n",
    "        lZ.append(np.log(Z_l))\n",
    "\n",
    "    lZ = np.array(lZ)   ### Penalization term for model complexity\n",
    "    D = np.array(D)     ### Learning error\n",
    "    \n",
    "    return D, lZ"
   ]
  },
  {
   "cell_type": "code",
   "execution_count": 4,
   "metadata": {},
   "outputs": [
    {
     "data": {
      "image/png": "[encoded data removed]",
      "text/plain": [
       "<Figure size 640x480 with 1 Axes>"
      ]
     },
     "metadata": {},
     "output_type": "display_data"
    }
   ],
   "source": [
    "m = 7\n",
    "k = 10\n",
    "d_max = 9\n",
    "G = xgi.star_clique(m, k, d_max=d_max)\n",
    "\n",
    "# Uncomment to generate other types of hypergraphs\n",
    "# Other options can be found here https://xgi.readthedocs.io/en/latest/api/generators.html\n",
    "# And datasets with e.g. H_enron = xgi.load_xgi_data(\"email-enron\")\n",
    "\n",
    "N = 50 # number of nodes\n",
    "ps=[0.05, 0.001, 0.0001, 0.00001] # wiring probabilities at each order\n",
    "\n",
    "#G = xgi.random_hypergraph(50, ps=[0.05, 0.001, 0.0001, 0.00001])\n",
    "#G = xgi.random_simplicial_complex(N=N, ps=ps)\n",
    "\n",
    "xgi.draw(G)"
   ]
  },
  {
   "cell_type": "code",
   "execution_count": 5,
   "metadata": {},
   "outputs": [
    {
     "name": "stdout",
     "output_type": "stream",
     "text": [
      "17\n"
     ]
    }
   ],
   "source": [
    "tau = 1                                    ### Tune the propagation scale in the system\n",
    "hg_m, hg_all = construct_hg_multilayer(G)  ### Makes a list of Laplacians of orders\n",
    "D, lZ = optimization(G,tau)                ### Returns gain and loss "
   ]
  },
  {
   "cell_type": "code",
   "execution_count": 19,
   "metadata": {},
   "outputs": [],
   "source": [
    "def plot_information(H, taus):\n",
    "\n",
    "    fig, axs = plt.subplots(\n",
    "        1, len(taus), figsize=(2 * len(taus), 2.1), constrained_layout=True\n",
    "    )\n",
    "\n",
    "    d_max = xgi.max_edge_order(H)\n",
    "    orders = range(1, d_max + 1)\n",
    "\n",
    "    for i, tau in enumerate(taus):\n",
    "\n",
    "        D, lZ = optimization(H, tau)\n",
    "\n",
    "        axs[i].plot(orders, lZ - D, \"o-\")\n",
    "\n",
    "        axs[i].set_title(rf\"$\\tau = {tau}$\", weight=\"bold\")\n",
    "        axs[i].set_xlabel(\"Max order\")\n",
    "        axs[i].set_xticks(orders)\n",
    "\n",
    "    axs[0].set_ylabel(\"Quality function\")\n",
    "\n",
    "    sb.despine()\n",
    "    \n",
    "    return fig"
   ]
  },
  {
   "cell_type": "markdown",
   "metadata": {},
   "source": [
    "## Quality function at three different propagation scales"
   ]
  },
  {
   "cell_type": "markdown",
   "metadata": {},
   "source": [
    "### starclique"
   ]
  },
  {
   "cell_type": "code",
   "execution_count": 56,
   "metadata": {},
   "outputs": [],
   "source": [
    "m = 7\n",
    "k = 20\n",
    "d_max = 9\n",
    "G = xgi.star_clique(m, k, d_max=d_max)"
   ]
  },
  {
   "cell_type": "code",
   "execution_count": 57,
   "metadata": {},
   "outputs": [
    {
     "name": "stdout",
     "output_type": "stream",
     "text": [
      "27\n",
      "27\n",
      "27\n"
     ]
    },
    {
     "data": {
      "image/png": "[encoded data removed]",
      "text/plain": [
       "<Figure size 600x210 with 3 Axes>"
      ]
     },
     "metadata": {},
     "output_type": "display_data"
    }
   ],
   "source": [
    "taus = [0.1, 1, 10]\n",
    "\n",
    "fig = plot_information(G, taus)\n",
    "plt.suptitle(f\"Starclique $m={m}$ $k={k}$\")\n",
    "\n",
    "fig_name = f\"starclique_m_{m}_k_{k}\"\n",
    "plt.savefig(f\"{fig_name}.png\", dpi=250, bbox_inches=\"tight\")\n",
    "\n",
    "plt.show()"
   ]
  },
  {
   "cell_type": "markdown",
   "metadata": {},
   "source": [
    "### random simplicial complex"
   ]
  },
  {
   "cell_type": "code",
   "execution_count": 51,
   "metadata": {},
   "outputs": [],
   "source": [
    "N = 50 # number of nodes\n",
    "ps=[0.05, 0.001, 0.0001, 0.00001] # wiring probabilities at each order\n",
    "\n",
    "#H = xgi.random_hypergraph(50, ps=ps)\n",
    "S = xgi.random_simplicial_complex(N=N, ps=ps)"
   ]
  },
  {
   "cell_type": "code",
   "execution_count": 52,
   "metadata": {},
   "outputs": [
    {
     "name": "stdout",
     "output_type": "stream",
     "text": [
      "50\n",
      "50\n",
      "50\n"
     ]
    },
    {
     "data": {
      "image/png": "[encoded data removed]",
      "text/plain": [
       "<Figure size 600x210 with 3 Axes>"
      ]
     },
     "metadata": {},
     "output_type": "display_data"
    }
   ],
   "source": [
    "taus = [0.1, 1, 10]\n",
    "\n",
    "fig = plot_information(S, taus)\n",
    "plt.suptitle(f\"Random SC $N={N}$ $ps={ps}$\")\n",
    "\n",
    "fig_name = f\"random_SC_N_{N}_ps_{ps}\"\n",
    "plt.savefig(f\"{fig_name}.png\", dpi=250, bbox_inches=\"tight\")\n",
    "\n",
    "plt.show()"
   ]
  },
  {
   "cell_type": "markdown",
   "metadata": {},
   "source": [
    "### random hypergraph"
   ]
  },
  {
   "cell_type": "code",
   "execution_count": 58,
   "metadata": {},
   "outputs": [],
   "source": [
    "N = 50  # number of nodes\n",
    "ps = [0.05, 0.001, 0.0001, 0.00001]  # wiring probabilities at each order\n",
    "\n",
    "H = xgi.random_hypergraph(N, ps=ps)"
   ]
  },
  {
   "cell_type": "code",
   "execution_count": 59,
   "metadata": {},
   "outputs": [
    {
     "name": "stdout",
     "output_type": "stream",
     "text": [
      "50\n",
      "50\n",
      "50\n"
     ]
    },
    {
     "data": {
      "image/png": "[encoded data removed]",
      "text/plain": [
       "<Figure size 600x210 with 3 Axes>"
      ]
     },
     "metadata": {},
     "output_type": "display_data"
    }
   ],
   "source": [
    "taus = [0.1, 1, 10]\n",
    "\n",
    "fig = plot_information(H, taus)\n",
    "plt.suptitle(f\"Random HG $N={N}$ $ps={ps}$\")\n",
    "\n",
    "fig_name = f\"random_HG_N_{N}_ps_{ps}\"\n",
    "plt.savefig(f\"{fig_name}.png\", dpi=250, bbox_inches=\"tight\")\n",
    "\n",
    "plt.show()"
   ]
  },
  {
   "cell_type": "markdown",
   "metadata": {},
   "source": [
    "### multiple realisations"
   ]
  },
  {
   "cell_type": "code",
   "execution_count": null,
   "metadata": {},
   "outputs": [],
   "source": [
    "n_rep = 5\n",
    "\n",
    "N = 50  # number of nodes\n",
    "ps = [0.05, 0.001, 0.0001, 0.00001]  # wiring probabilities at each order\n",
    "\n",
    "SCs = []\n",
    "\n",
    "fig, axs = plt.subplots(\n",
    "    1, len(taus), figsize=(2 * len(taus), 2.1), constrained_layout=True\n",
    ")\n",
    "\n",
    "for j in range(n_rep):\n",
    "    \n",
    "    S = xgi.random_simplicial_complex(N=N, ps=ps)\n",
    "\n",
    "    d_max = xgi.max_edge_order()\n",
    "    orders = range(1, d_max + 1)\n",
    "\n",
    "    for i, tau in enumerate(taus):\n",
    "\n",
    "        D, lZ = optimization(H, tau)"
   ]
  },
  {
   "cell_type": "code",
   "execution_count": null,
   "metadata": {},
   "outputs": [],
   "source": []
  },
  {
   "cell_type": "code",
   "execution_count": 108,
   "metadata": {},
   "outputs": [],
   "source": [
    "S = xgi.SimplicialComplex([[\"x\"], [2,3], [2,3,4]])"
   ]
  },
  {
   "cell_type": "code",
   "execution_count": 109,
   "metadata": {},
   "outputs": [
    {
     "data": {
      "text/plain": [
       "NodeView(('x', 2, 3, 4))"
      ]
     },
     "execution_count": 109,
     "metadata": {},
     "output_type": "execute_result"
    }
   ],
   "source": [
    "S.nodes"
   ]
  },
  {
   "cell_type": "code",
   "execution_count": 110,
   "metadata": {},
   "outputs": [
    {
     "data": {
      "text/plain": [
       "EdgeView((0, 1, 2, 3, 4))"
      ]
     },
     "execution_count": 110,
     "metadata": {},
     "output_type": "execute_result"
    }
   ],
   "source": [
    "S.edges"
   ]
  },
  {
   "cell_type": "code",
   "execution_count": 67,
   "metadata": {},
   "outputs": [
    {
     "data": {
      "text/plain": [
       "[frozenset({'x'}),\n",
       " frozenset({2, 3}),\n",
       " frozenset({2, 3, 4}),\n",
       " frozenset({2, 4}),\n",
       " frozenset({3, 4})]"
      ]
     },
     "execution_count": 67,
     "metadata": {},
     "output_type": "execute_result"
    }
   ],
   "source": [
    "S.edges.members()"
   ]
  },
  {
   "cell_type": "code",
   "execution_count": null,
   "metadata": {},
   "outputs": [],
   "source": []
  },
  {
   "cell_type": "code",
   "execution_count": 88,
   "metadata": {},
   "outputs": [
    {
     "data": {
      "text/plain": [
       "EdgeView((1, 2, 3, 4))"
      ]
     },
     "execution_count": 88,
     "metadata": {},
     "output_type": "execute_result"
    }
   ],
   "source": [
    "S.edges.filterby(\"size\", 2, mode=\"geq\")"
   ]
  },
  {
   "cell_type": "code",
   "execution_count": 89,
   "metadata": {},
   "outputs": [
    {
     "data": {
      "text/plain": [
       "[frozenset({2, 3}), frozenset({2, 3, 4}), frozenset({2, 4}), frozenset({3, 4})]"
      ]
     },
     "execution_count": 89,
     "metadata": {},
     "output_type": "execute_result"
    }
   ],
   "source": [
    "S.edges.filterby(\"size\", 2, mode=\"geq\").members()"
   ]
  },
  {
   "cell_type": "code",
   "execution_count": 90,
   "metadata": {},
   "outputs": [],
   "source": [
    "orientations = [0, 1, 0, 1]"
   ]
  },
  {
   "cell_type": "code",
   "execution_count": null,
   "metadata": {},
   "outputs": [],
   "source": []
  },
  {
   "cell_type": "code",
   "execution_count": 93,
   "metadata": {},
   "outputs": [
    {
     "data": {
      "text/plain": [
       "EdgeView((0,))"
      ]
     },
     "execution_count": 93,
     "metadata": {},
     "output_type": "execute_result"
    }
   ],
   "source": [
    "S1 = xgi.SimplicialComplex()\n",
    "S1.add_simplex([1,2])\n",
    "S1.edges"
   ]
  },
  {
   "cell_type": "code",
   "execution_count": 94,
   "metadata": {},
   "outputs": [
    {
     "data": {
      "text/plain": [
       "[frozenset({1, 2})]"
      ]
     },
     "execution_count": 94,
     "metadata": {},
     "output_type": "execute_result"
    }
   ],
   "source": [
    "S1.edges.members()"
   ]
  },
  {
   "cell_type": "code",
   "execution_count": 97,
   "metadata": {},
   "outputs": [],
   "source": [
    "S1.remove_simplex_id(0)"
   ]
  },
  {
   "cell_type": "code",
   "execution_count": 100,
   "metadata": {},
   "outputs": [
    {
     "data": {
      "text/plain": [
       "[]"
      ]
     },
     "execution_count": 100,
     "metadata": {},
     "output_type": "execute_result"
    }
   ],
   "source": [
    "S1.edges.members()"
   ]
  },
  {
   "cell_type": "code",
   "execution_count": 101,
   "metadata": {},
   "outputs": [
    {
     "data": {
      "text/plain": [
       "EdgeView((1,))"
      ]
     },
     "execution_count": 101,
     "metadata": {},
     "output_type": "execute_result"
    }
   ],
   "source": [
    "S1.add_simplex([2,3])\n",
    "S1.edges"
   ]
  },
  {
   "cell_type": "code",
   "execution_count": 102,
   "metadata": {},
   "outputs": [
    {
     "data": {
      "text/plain": [
       "[0, 1, 0, 1]"
      ]
     },
     "execution_count": 102,
     "metadata": {},
     "output_type": "execute_result"
    }
   ],
   "source": [
    "orientations"
   ]
  },
  {
   "cell_type": "code",
   "execution_count": 105,
   "metadata": {},
   "outputs": [],
   "source": [
    "di = {idd: orientations[i] for i, idd in enumerate(list(S.edges.filterby(\"order\", 1, mode=\"geq\"))) }"
   ]
  },
  {
   "cell_type": "code",
   "execution_count": 106,
   "metadata": {},
   "outputs": [
    {
     "data": {
      "text/plain": [
       "{1: 0, 2: 1, 3: 0, 4: 1}"
      ]
     },
     "execution_count": 106,
     "metadata": {},
     "output_type": "execute_result"
    }
   ],
   "source": [
    "di"
   ]
  },
  {
   "cell_type": "code",
   "execution_count": 118,
   "metadata": {},
   "outputs": [
    {
     "data": {
      "text/plain": [
       "EdgeView((2,))"
      ]
     },
     "execution_count": 118,
     "metadata": {},
     "output_type": "execute_result"
    }
   ],
   "source": [
    "S.edges.filterby(\"order\", )"
   ]
  },
  {
   "cell_type": "code",
   "execution_count": null,
   "metadata": {},
   "outputs": [],
   "source": [
    "xgi.convert_labels_to_integers()"
   ]
  },
  {
   "cell_type": "code",
   "execution_count": null,
   "metadata": {},
   "outputs": [],
   "source": []
  },
  {
   "cell_type": "code",
   "execution_count": 61,
   "metadata": {},
   "outputs": [
    {
     "data": {
      "text/plain": [
       "False"
      ]
     },
     "execution_count": 61,
     "metadata": {},
     "output_type": "execute_result"
    }
   ],
   "source": [
    "isinstance(3, list)"
   ]
  },
  {
   "cell_type": "code",
   "execution_count": null,
   "metadata": {},
   "outputs": [],
   "source": [
    "if not isinstance(S, xgi.SimplicialComplex): \n",
    "    raise XGIerror(\"\")"
   ]
  }
 ],
 "metadata": {
  "kernelspec": {
   "display_name": "venv_xgi",
   "language": "python",
   "name": "venv_xgi"
  },
  "language_info": {
   "codemirror_mode": {
    "name": "ipython",
    "version": 3
   },
   "file_extension": ".py",
   "mimetype": "text/x-python",
   "name": "python",
   "nbconvert_exporter": "python",
   "pygments_lexer": "ipython3",
   "version": "3.9.13"
  },
  "toc": {
   "base_numbering": 1,
   "nav_menu": {},
   "number_sections": true,
   "sideBar": true,
   "skip_h1_title": false,
   "title_cell": "Table of Contents",
   "title_sidebar": "Contents",
   "toc_cell": false,
   "toc_position": {},
   "toc_section_display": true,
   "toc_window_display": false
  }
 },
 "nbformat": 4,
 "nbformat_minor": 2
}
