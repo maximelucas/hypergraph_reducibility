{
 "cells": [
  {
   "cell_type": "code",
   "execution_count": 1,
   "id": "d38791ff",
   "metadata": {},
   "outputs": [],
   "source": [
    "import sys\n",
    "\n",
    "import networkx as nx\n",
    "import numpy as np\n",
    "import matplotlib.pyplot as plt\n",
    "import pandas as pd\n",
    "import seaborn as sb\n",
    "from tqdm import tqdm\n",
    "from itertools import combinations\n",
    "\n",
    "sys.path.append(\"../src/\")\n",
    "\n",
    "import xgi\n",
    "from reducibility_hg import *\n",
    "\n",
    "from statannotations.Annotator import Annotator\n",
    "\n",
    "sb.set_theme(style=\"ticks\", context=\"paper\")"
   ]
  },
  {
   "cell_type": "code",
   "execution_count": 2,
   "id": "8e18c9e5",
   "metadata": {},
   "outputs": [],
   "source": [
    "results_dir = \"../results/\"\n",
    "out_dir  = f\"{results_dir}synthetic/\""
   ]
  },
  {
   "cell_type": "code",
   "execution_count": 3,
   "id": "3bd20476",
   "metadata": {},
   "outputs": [],
   "source": [
    "def sigma(d):\n",
    "    \"\"\"\n",
    "    Return d*(d+1)/2, the sum of the first d integers\"\"\"\n",
    "    return d * (d + 1) / 2"
   ]
  },
  {
   "cell_type": "markdown",
   "id": "48a8d3cb",
   "metadata": {},
   "source": [
    "## generate complete hypergraph"
   ]
  },
  {
   "cell_type": "code",
   "execution_count": 70,
   "id": "64095c3c",
   "metadata": {},
   "outputs": [],
   "source": [
    "N = 30\n",
    "rescale = False\n",
    "d_max = 4\n",
    "\n",
    "H0 = xgi.complete_hypergraph(N=N, max_order=d_max)\n",
    "\n",
    "orders = np.array(xgi.unique_edge_sizes(H0)) - 1\n",
    "weights = np.ones(len(orders))\n"
   ]
  },
  {
   "cell_type": "code",
   "execution_count": 71,
   "id": "b6914f84",
   "metadata": {},
   "outputs": [],
   "source": [
    "tau_c = find_charact_tau(H0, orders, weights, rescale_per_node=rescale)\n",
    "\n",
    "inverse_rescaling_factors = [1 / sigma(d) for d in orders]\n",
    "Ds_H, lZs_H = optimization(H0, tau_c, rescaling_factors=inverse_rescaling_factors, rescale_per_node=rescale)"
   ]
  },
  {
   "cell_type": "code",
   "execution_count": 72,
   "id": "f40e7538",
   "metadata": {},
   "outputs": [
    {
     "data": {
      "image/png": "[encoded data removed]",
      "text/plain": [
       "<Figure size 400x200 with 2 Axes>"
      ]
     },
     "metadata": {},
     "output_type": "display_data"
    }
   ],
   "source": [
    "fig, (ax, ax2) = plt.subplots(1, 2, figsize=(4, 2))\n",
    "\n",
    "message_length = Ds_H + lZs_H\n",
    "\n",
    "ax.plot(orders, message_length, \"o-\")\n",
    "\n",
    "ax2.plot(orders, message_length + np.log(orders), \"o-\")\n",
    "\n",
    "ax.set_ylabel(\"Message Length\")\n",
    "ax.set_xlabel(\"Max Order\")\n",
    "\n",
    "fig.suptitle(f\"Complete HG, N={N}\")\n",
    "ax.set_title(\"base complexity\")\n",
    "ax2.set_title(\"+ log(d)\")\n",
    "\n",
    "ax2.set_xlabel(\"Max Order\")\n",
    "\n",
    "plt.subplots_adjust(top=0.7, wspace=0.3)\n",
    "\n",
    "sb.despine()\n",
    "\n",
    "fig_name = f\"message_length_all_to_all_rescaled_tauc_N_{N}\"\n",
    "\n",
    "plt.savefig(f\"{out_dir}{fig_name}.png\", dpi=250, bbox_inches=\"tight\")"
   ]
  },
  {
   "cell_type": "markdown",
   "id": "bea13aba",
   "metadata": {},
   "source": [
    "## generate full triangular lattice"
   ]
  },
  {
   "cell_type": "code",
   "execution_count": 73,
   "id": "14db1faf",
   "metadata": {},
   "outputs": [],
   "source": [
    "def triangular_lattice_flag(n_rows, p2, periodic=False):\n",
    "    \"\"\"\n",
    "    Generates a flag complex from a triangular lattice graph.\n",
    "\n",
    "    Parameters\n",
    "    ----------\n",
    "    n_rows : int\n",
    "        Number of rows in the lattice.\n",
    "    p2 : float\n",
    "        Probability of adding a 2-simplex to the clique complex.\n",
    "    periodic : bool, optional\n",
    "        Whether the lattice should have periodic boundary conditions. Default is False.\n",
    "\n",
    "    Returns\n",
    "    -------\n",
    "    S_lattice : xgi Simplicial Complex\n",
    "        \n",
    "    pos : dict\n",
    "        Node positions keyed by node ID.        \n",
    "    \"\"\"\n",
    "    \n",
    "    # number of rows\n",
    "    m = n_rows - 1\n",
    "    # number of columns\n",
    "    columns = n_rows + 1\n",
    "    n = 2 * columns - 1\n",
    "\n",
    "    if not periodic:\n",
    "        n = n - 1\n",
    "        m = m - 1\n",
    "\n",
    "    # generate lattice\n",
    "    G_lattice = nx.triangular_lattice_graph(m, n, periodic=periodic, with_positions=True)\n",
    "    G_lattice = nx.convert_node_labels_to_integers(G_lattice)\n",
    "    pos = nx.get_node_attributes(G_lattice, \"pos\")\n",
    "\n",
    "    # generate random clique complex (fill in triangles)\n",
    "    S_lattice = xgi.flag_complex_d2(G_lattice, p2=p2)\n",
    "    return S_lattice, pos"
   ]
  },
  {
   "cell_type": "code",
   "execution_count": 74,
   "id": "e92c8725",
   "metadata": {},
   "outputs": [],
   "source": [
    "n_rows = 16\n",
    "rescale = False\n",
    "d_max = 2\n",
    "p_2 = 1\n",
    "\n",
    "H0, _ = triangular_lattice_flag(n_rows, p2=p_2, periodic=True)\n",
    "\n",
    "orders = np.array(xgi.unique_edge_sizes(H0)) - 1\n",
    "weights = np.ones(len(orders))\n",
    "\n",
    "N = H0.num_nodes"
   ]
  },
  {
   "cell_type": "code",
   "execution_count": 75,
   "id": "4c54269b",
   "metadata": {},
   "outputs": [
    {
     "name": "stdout",
     "output_type": "stream",
     "text": [
      "logm result may be inaccurate, approximate err = 3.02111782585945e-13\n",
      "logm result may be inaccurate, approximate err = 3.02111782585945e-13\n"
     ]
    }
   ],
   "source": [
    "tau_c = find_charact_tau(H0, orders, weights, rescale_per_node=rescale)\n",
    "\n",
    "inverse_rescaling_factors = [1 / sigma(d) for d in orders]\n",
    "Ds_H, lZs_H = optimization(H0, tau_c, rescaling_factors=inverse_rescaling_factors, rescale_per_node=rescale)"
   ]
  },
  {
   "cell_type": "code",
   "execution_count": 76,
   "id": "2c62856b",
   "metadata": {},
   "outputs": [
    {
     "data": {
      "image/png": "[encoded data removed]",
      "text/plain": [
       "<Figure size 400x200 with 2 Axes>"
      ]
     },
     "metadata": {},
     "output_type": "display_data"
    }
   ],
   "source": [
    "fig, (ax, ax2) = plt.subplots(1, 2, figsize=(4, 2))\n",
    "\n",
    "message_length = Ds_H + lZs_H\n",
    "\n",
    "ax.plot(orders, message_length, \"o-\")\n",
    "\n",
    "ax2.plot(orders, message_length + np.log(orders), \"o-\")\n",
    "\n",
    "ax.set_ylabel(\"Message Length\")\n",
    "ax.set_xlabel(\"Max Order\")\n",
    "\n",
    "fig.suptitle(f\"Full triangular lattice, N={N}\")\n",
    "ax.set_title(\"base complexity\")\n",
    "ax2.set_title(\"+ log(d)\")\n",
    "\n",
    "ax2.set_xlabel(\"Max Order\")\n",
    "ax.set_xticks([1, 2])\n",
    "ax2.set_xticks([1, 2])\n",
    "\n",
    "plt.subplots_adjust(top=0.7, wspace=0.3)\n",
    "\n",
    "sb.despine()\n",
    "\n",
    "fig_name = f\"message_length_full_triangular_lattice_rescaled_tauc_N_{N}\"\n",
    "\n",
    "plt.savefig(f\"{out_dir}{fig_name}.png\", dpi=250, bbox_inches=\"tight\")"
   ]
  },
  {
   "cell_type": "code",
   "execution_count": 39,
   "id": "f959acbc",
   "metadata": {},
   "outputs": [
    {
     "data": {
      "text/plain": [
       "array([8.8817842e-16])"
      ]
     },
     "execution_count": 39,
     "metadata": {},
     "output_type": "execute_result"
    }
   ],
   "source": [
    "np.diff(message_length)"
   ]
  },
  {
   "cell_type": "markdown",
   "id": "424a878d",
   "metadata": {},
   "source": [
    "## try dataset"
   ]
  },
  {
   "cell_type": "code",
   "execution_count": 77,
   "id": "4a38cc34",
   "metadata": {},
   "outputs": [
    {
     "name": "stderr",
     "output_type": "stream",
     "text": [
      "100%|█████████████████████████████████████████████| 7/7 [00:07<00:00,  1.14s/it]\n"
     ]
    }
   ],
   "source": [
    "data_names = [\n",
    "    \"email-enron\",\n",
    "    \"email-eu\",\n",
    "    \"hospital-lyon\",\n",
    "    \"contact-high-school\",\n",
    "    \"contact-primary-school\",\n",
    "    \"tags-ask-ubuntu\",\n",
    "    \"congress-bills\",\n",
    "    #\"disgenenet\",\n",
    "    #\"diseasome\",\n",
    "    #\"ndc-substances\",\n",
    "    #\"coauth-mag-geology\",\n",
    "    #\"coauth-mag-history\",\n",
    "]\n",
    "\n",
    "HGs = {}\n",
    "for name in tqdm(data_names): \n",
    "    HGs[name] = xgi.load_xgi_data(name, max_order=None, cache=True)"
   ]
  },
  {
   "cell_type": "code",
   "execution_count": 88,
   "id": "a3f1dfbf",
   "metadata": {},
   "outputs": [
    {
     "name": "stdout",
     "output_type": "stream",
     "text": [
      "email-enron\n",
      "Hypergraph named email-Enron with 148 nodes and 10885 hyperedges\n",
      "max order: 36\n",
      "Hypergraph named email-Enron with 148 nodes and 1459 hyperedges\n"
     ]
    }
   ],
   "source": [
    "i = 0 # choose dataset here\n",
    "name = data_names[i]\n",
    "print(name)\n",
    "H0 = HGs[name]\n",
    "print(H0)\n",
    "print(\"max order:\", xgi.max_edge_order(H0))\n",
    "H0.cleanup(isolates=True)\n",
    "print(H0)\n",
    "\n",
    "orders = np.array(xgi.unique_edge_sizes(H0)) - 1\n",
    "weights = np.ones(len(orders))"
   ]
  },
  {
   "cell_type": "code",
   "execution_count": null,
   "id": "ecf347e3",
   "metadata": {},
   "outputs": [],
   "source": [
    "tau_c = find_charact_tau(H0, orders, weights, rescale_per_node=rescale)\n",
    "\n",
    "inverse_rescaling_factors = [1 / sigma(d) for d in orders]\n",
    "Ds_H, lZs_H = optimization(H0, tau_c, rescaling_factors=inverse_rescaling_factors, rescale_per_node=rescale)"
   ]
  },
  {
   "cell_type": "code",
   "execution_count": null,
   "id": "583ea8ba",
   "metadata": {},
   "outputs": [],
   "source": [
    "fig, (ax, ax2) = plt.subplots(1, 2, figsize=(4, 2))\n",
    "\n",
    "message_length = Ds_H + lZs_H\n",
    "\n",
    "ax.plot(orders, message_length, \"o-\")\n",
    "\n",
    "ax2.plot(orders, message_length + np.log(orders), \"o-\")\n",
    "\n",
    "ax.set_ylabel(\"Message Length\")\n",
    "ax.set_xlabel(\"Max Order\")\n",
    "\n",
    "fig.suptitle(f\"{name}\")\n",
    "ax.set_title(\"base complexity\")\n",
    "ax2.set_title(\"+ log(d)\")\n",
    "\n",
    "ax2.set_xlabel(\"Max Order\")\n",
    "#ax.set_xticks(orders)\n",
    "#ax2.set_xticks(orders)\n",
    "\n",
    "plt.subplots_adjust(top=0.7, wspace=0.3)\n",
    "\n",
    "sb.despine()\n",
    "\n",
    "fig_name = f\"message_length_{name}_rescaled_tauc\"\n",
    "\n",
    "plt.savefig(f\"{out_dir}{fig_name}.png\", dpi=250, bbox_inches=\"tight\")"
   ]
  },
  {
   "cell_type": "code",
   "execution_count": null,
   "id": "63158d44",
   "metadata": {},
   "outputs": [],
   "source": []
  }
 ],
 "metadata": {
  "kernelspec": {
   "display_name": "venv_xgi",
   "language": "python",
   "name": "venv_xgi"
  },
  "language_info": {
   "codemirror_mode": {
    "name": "ipython",
    "version": 3
   },
   "file_extension": ".py",
   "mimetype": "text/x-python",
   "name": "python",
   "nbconvert_exporter": "python",
   "pygments_lexer": "ipython3",
   "version": "3.9.13"
  },
  "toc": {
   "base_numbering": 1,
   "nav_menu": {},
   "number_sections": true,
   "sideBar": true,
   "skip_h1_title": false,
   "title_cell": "Table of Contents",
   "title_sidebar": "Contents",
   "toc_cell": false,
   "toc_position": {},
   "toc_section_display": true,
   "toc_window_display": false
  }
 },
 "nbformat": 4,
 "nbformat_minor": 5
}
