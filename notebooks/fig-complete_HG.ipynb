{
 "cells": [
  {
   "cell_type": "code",
   "execution_count": 237,
   "id": "daa915a3",
   "metadata": {},
   "outputs": [],
   "source": [
    "import sys\n",
    "\n",
    "import networkx as nx\n",
    "import numpy as np\n",
    "import matplotlib.pyplot as plt\n",
    "import pandas as pd\n",
    "import seaborn as sb\n",
    "from tqdm import tqdm\n",
    "from itertools import combinations\n",
    "from tqdm import tqdm\n",
    "\n",
    "sys.path.append(\"../src/\")\n",
    "\n",
    "import xgi\n",
    "from reducibility_hg import *\n",
    "\n",
    "from statannotations.Annotator import Annotator\n",
    "\n",
    "sb.set_theme(style=\"ticks\", context=\"paper\")"
   ]
  },
  {
   "cell_type": "code",
   "execution_count": 238,
   "id": "b8413cfa",
   "metadata": {},
   "outputs": [],
   "source": [
    "results_dir = \"../results/\"\n",
    "out_dir  = f\"{results_dir}synthetic/\""
   ]
  },
  {
   "cell_type": "code",
   "execution_count": 239,
   "id": "8e3b7267",
   "metadata": {},
   "outputs": [],
   "source": [
    "def sigma(d):\n",
    "    \"\"\"\n",
    "    Return d*(d+1)/2, the sum of the first d integers\"\"\"\n",
    "    return d * (d + 1) / 2"
   ]
  },
  {
   "cell_type": "markdown",
   "id": "5db05137",
   "metadata": {},
   "source": [
    "## generate complete hypergraph"
   ]
  },
  {
   "cell_type": "code",
   "execution_count": 252,
   "id": "33927229",
   "metadata": {},
   "outputs": [],
   "source": [
    "N = 30\n",
    "rescale = False\n",
    "d_max = 4\n",
    "\n",
    "H0 = xgi.complete_hypergraph(N=N, max_order=d_max)\n",
    "\n",
    "orders = np.array(xgi.unique_edge_sizes(H0)) - 1\n",
    "weights = np.ones(len(orders))\n"
   ]
  },
  {
   "cell_type": "code",
   "execution_count": 253,
   "id": "7daf7673",
   "metadata": {},
   "outputs": [],
   "source": [
    "tau_c = find_charact_tau(H0, orders, weights, rescale_per_node=rescale)\n",
    "\n",
    "inverse_rescaling_factors = [1 / sigma(d) for d in orders]\n",
    "Ds_H, lZs_H = optimization(H0, tau_c, rescaling_factors=inverse_rescaling_factors, rescale_per_node=rescale)"
   ]
  },
  {
   "cell_type": "code",
   "execution_count": 254,
   "id": "c335467f",
   "metadata": {},
   "outputs": [
    {
     "data": {
      "image/png": "[encoded data removed]",
      "text/plain": [
       "<Figure size 600x200 with 3 Axes>"
      ]
     },
     "metadata": {},
     "output_type": "display_data"
    }
   ],
   "source": [
    "fig, (ax, ax2, ax3) = plt.subplots(1, 3, figsize=(6, 2))\n",
    "\n",
    "message_length = Ds_H + lZs_H\n",
    "ax.plot(orders, message_length, \"o-\")\n",
    "\n",
    "penal_structure = np.log(orders) / np.log(d_max)\n",
    "ax2.plot(orders, Ds_H + penal_structure, \"o-\")\n",
    "\n",
    "ax3.plot(orders, message_length + penal_structure, \"o-\")\n",
    "\n",
    "ax.set_ylabel(\"Message Length\")\n",
    "ax.set_xlabel(\"Max Order\")\n",
    "ax.set_title(\"functional complex.\")\n",
    "\n",
    "fig.suptitle(f\"Complete HG, N={N}\")\n",
    "ax2.set_title(\"structural complex.\")\n",
    "ax2.set_xlabel(\"Max Order\")\n",
    "\n",
    "ax3.set_title(\"both complex.\")\n",
    "ax3.set_xlabel(\"Max Order\")\n",
    "\n",
    "plt.subplots_adjust(top=0.7, wspace=0.3)\n",
    "\n",
    "sb.despine()\n",
    "\n",
    "fig_name = f\"message_length_all_to_all_rescaled_tauc_N_{N}\"\n",
    "\n",
    "plt.savefig(f\"{out_dir}{fig_name}.png\", dpi=250, bbox_inches=\"tight\")"
   ]
  },
  {
   "cell_type": "code",
   "execution_count": 255,
   "id": "ec3e0935",
   "metadata": {},
   "outputs": [
    {
     "data": {
      "text/plain": [
       "array([ 4.4408921e-16,  0.0000000e+00, -4.4408921e-16])"
      ]
     },
     "execution_count": 255,
     "metadata": {},
     "output_type": "execute_result"
    }
   ],
   "source": [
    "np.diff(message_length)"
   ]
  },
  {
   "cell_type": "markdown",
   "id": "7013116c",
   "metadata": {},
   "source": [
    "## generate full triangular lattice"
   ]
  },
  {
   "cell_type": "code",
   "execution_count": 247,
   "id": "3478027f",
   "metadata": {},
   "outputs": [],
   "source": [
    "def triangular_lattice_flag(n_rows, p2, periodic=False):\n",
    "    \"\"\"\n",
    "    Generates a flag complex from a triangular lattice graph.\n",
    "\n",
    "    Parameters\n",
    "    ----------\n",
    "    n_rows : int\n",
    "        Number of rows in the lattice.\n",
    "    p2 : float\n",
    "        Probability of adding a 2-simplex to the clique complex.\n",
    "    periodic : bool, optional\n",
    "        Whether the lattice should have periodic boundary conditions. Default is False.\n",
    "\n",
    "    Returns\n",
    "    -------\n",
    "    S_lattice : xgi Simplicial Complex\n",
    "        \n",
    "    pos : dict\n",
    "        Node positions keyed by node ID.        \n",
    "    \"\"\"\n",
    "    \n",
    "    # number of rows\n",
    "    m = n_rows - 1\n",
    "    # number of columns\n",
    "    columns = n_rows + 1\n",
    "    n = 2 * columns - 1\n",
    "\n",
    "    if not periodic:\n",
    "        n = n - 1\n",
    "        m = m - 1\n",
    "\n",
    "    # generate lattice\n",
    "    G_lattice = nx.triangular_lattice_graph(m, n, periodic=periodic, with_positions=True)\n",
    "    G_lattice = nx.convert_node_labels_to_integers(G_lattice)\n",
    "    pos = nx.get_node_attributes(G_lattice, \"pos\")\n",
    "\n",
    "    # generate random clique complex (fill in triangles)\n",
    "    S_lattice = xgi.flag_complex_d2(G_lattice, p2=p2)\n",
    "    return S_lattice, pos"
   ]
  },
  {
   "cell_type": "code",
   "execution_count": 248,
   "id": "a75b6c19",
   "metadata": {},
   "outputs": [],
   "source": [
    "n_rows = 16\n",
    "rescale = False\n",
    "d_max = 2\n",
    "p_2 = 1\n",
    "\n",
    "H0, _ = triangular_lattice_flag(n_rows, p2=p_2, periodic=True)\n",
    "\n",
    "orders = np.array(xgi.unique_edge_sizes(H0)) - 1\n",
    "weights = np.ones(len(orders))\n",
    "\n",
    "N = H0.num_nodes"
   ]
  },
  {
   "cell_type": "code",
   "execution_count": 249,
   "id": "0d528499",
   "metadata": {},
   "outputs": [
    {
     "name": "stdout",
     "output_type": "stream",
     "text": [
      "logm result may be inaccurate, approximate err = 3.02111782585945e-13\n",
      "logm result may be inaccurate, approximate err = 3.02111782585945e-13\n"
     ]
    }
   ],
   "source": [
    "tau_c = find_charact_tau(H0, orders, weights, rescale_per_node=rescale)\n",
    "\n",
    "inverse_rescaling_factors = [1 / sigma(d) for d in orders]\n",
    "Ds_H, lZs_H = optimization(H0, tau_c, rescaling_factors=inverse_rescaling_factors, rescale_per_node=rescale)"
   ]
  },
  {
   "cell_type": "code",
   "execution_count": 250,
   "id": "cfd2056d",
   "metadata": {},
   "outputs": [
    {
     "data": {
      "image/png": "[encoded data removed]",
      "text/plain": [
       "<Figure size 600x200 with 3 Axes>"
      ]
     },
     "metadata": {},
     "output_type": "display_data"
    }
   ],
   "source": [
    "fig, (ax, ax2, ax3) = plt.subplots(1, 3, figsize=(6, 2))\n",
    "\n",
    "message_length = Ds_H + lZs_H\n",
    "ax.plot(orders, message_length, \"o-\")\n",
    "\n",
    "penal_structure = np.log(orders) / np.log(d_max)\n",
    "ax2.plot(orders, Ds_H + penal_structure, \"o-\")\n",
    "\n",
    "ax3.plot(orders, message_length + penal_structure, \"o-\")\n",
    "\n",
    "ax.set_ylabel(\"Message Length\")\n",
    "ax.set_xlabel(\"Max Order\")\n",
    "ax.set_title(\"functional complex.\")\n",
    "\n",
    "fig.suptitle(f\"Full triangular lattice, N={N}\")\n",
    "ax2.set_title(\"structural complex.\")\n",
    "ax2.set_xlabel(\"Max Order\")\n",
    "\n",
    "ax3.set_title(\"both complex.\")\n",
    "ax3.set_xlabel(\"Max Order\")\n",
    "\n",
    "plt.subplots_adjust(top=0.7, wspace=0.3)\n",
    "\n",
    "sb.despine()\n",
    "\n",
    "fig_name = f\"message_length_full_triangular_lattice_rescaled_tauc_N_{N}\"\n",
    "\n",
    "plt.savefig(f\"{out_dir}{fig_name}.png\", dpi=250, bbox_inches=\"tight\")"
   ]
  },
  {
   "cell_type": "code",
   "execution_count": 251,
   "id": "b286817b",
   "metadata": {},
   "outputs": [
    {
     "data": {
      "text/plain": [
       "array([8.8817842e-16])"
      ]
     },
     "execution_count": 251,
     "metadata": {},
     "output_type": "execute_result"
    }
   ],
   "source": [
    "np.diff(message_length)"
   ]
  },
  {
   "cell_type": "markdown",
   "id": "73c7d302",
   "metadata": {},
   "source": [
    "## try dataset"
   ]
  },
  {
   "cell_type": "code",
   "execution_count": 121,
   "id": "96a8c49b",
   "metadata": {},
   "outputs": [
    {
     "name": "stderr",
     "output_type": "stream",
     "text": [
      "100%|█████████████████████████████████████████████| 7/7 [00:09<00:00,  1.36s/it]\n"
     ]
    }
   ],
   "source": [
    "data_names = [\n",
    "    \"email-enron\",\n",
    "    \"email-eu\",\n",
    "    \"hospital-lyon\",\n",
    "    \"contact-high-school\",\n",
    "    \"contact-primary-school\",\n",
    "    \"tags-ask-ubuntu\",\n",
    "    \"congress-bills\",\n",
    "    #\"disgenenet\",\n",
    "    #\"diseasome\",\n",
    "    #\"ndc-substances\",\n",
    "    #\"coauth-mag-geology\",\n",
    "    #\"coauth-mag-history\",\n",
    "]\n",
    "\n",
    "HGs = {}\n",
    "for name in tqdm(data_names): \n",
    "    HGs[name] = xgi.load_xgi_data(name, max_order=None, cache=True)"
   ]
  },
  {
   "cell_type": "code",
   "execution_count": 269,
   "id": "5802bb60",
   "metadata": {},
   "outputs": [
    {
     "name": "stdout",
     "output_type": "stream",
     "text": [
      "tags-ask-ubuntu\n",
      "Hypergraph named tags-ask-ubuntu with 3029 nodes and 271233 hyperedges\n",
      "max order: 4\n",
      "Hypergraph named tags-ask-ubuntu with 3029 nodes and 145053 hyperedges\n"
     ]
    }
   ],
   "source": [
    "i = 5 # choose dataset here\n",
    "name = data_names[i]\n",
    "print(name)\n",
    "H0 = HGs[name]\n",
    "print(H0)\n",
    "print(\"max order:\", xgi.max_edge_order(H0))\n",
    "H0.cleanup(isolates=True)\n",
    "print(H0)\n",
    "\n",
    "orders = np.array(xgi.unique_edge_sizes(H0)) - 1\n",
    "weights = np.ones(len(orders))"
   ]
  },
  {
   "cell_type": "code",
   "execution_count": 270,
   "id": "ac8d43f6",
   "metadata": {
    "scrolled": false
   },
   "outputs": [
    {
     "ename": "KeyboardInterrupt",
     "evalue": "",
     "output_type": "error",
     "traceback": [
      "\u001b[0;31m---------------------------------------------------------------------------\u001b[0m",
      "\u001b[0;31mKeyboardInterrupt\u001b[0m                         Traceback (most recent call last)",
      "Cell \u001b[0;32mIn [270], line 4\u001b[0m\n\u001b[1;32m      1\u001b[0m tau_c \u001b[38;5;241m=\u001b[39m find_charact_tau(H0, orders, weights, rescale_per_node\u001b[38;5;241m=\u001b[39mrescale)\n\u001b[1;32m      3\u001b[0m inverse_rescaling_factors \u001b[38;5;241m=\u001b[39m [\u001b[38;5;241m1\u001b[39m \u001b[38;5;241m/\u001b[39m sigma(d) \u001b[38;5;28;01mfor\u001b[39;00m d \u001b[38;5;129;01min\u001b[39;00m orders]\n\u001b[0;32m----> 4\u001b[0m Ds_H, lZs_H \u001b[38;5;241m=\u001b[39m optimization(H0, tau_c, rescaling_factors\u001b[38;5;241m=\u001b[39minverse_rescaling_factors, rescale_per_node\u001b[38;5;241m=\u001b[39mrescale)\n",
      "File \u001b[0;32m~/Dropbox (ISI Foundation)/WORK/SCIENCE/hypergraph_reducibility_arsham/notebooks/../src/reducibility_hg.py:203\u001b[0m, in \u001b[0;36moptimization\u001b[0;34m(H, tau, rescaling_factors, rescale_per_node, sparse)\u001b[0m\n\u001b[1;32m    200\u001b[0m \u001b[38;5;28;01mif\u001b[39;00m rescaling_factors \u001b[38;5;129;01mis\u001b[39;00m \u001b[38;5;28;01mNone\u001b[39;00m:\n\u001b[1;32m    201\u001b[0m     rescale_factors \u001b[38;5;241m=\u001b[39m np\u001b[38;5;241m.\u001b[39mzeros_like(orders)\n\u001b[0;32m--> 203\u001b[0m L_multi \u001b[38;5;241m=\u001b[39m \u001b[43mxgi\u001b[49m\u001b[38;5;241;43m.\u001b[39;49m\u001b[43mmultiorder_laplacian\u001b[49m\u001b[43m(\u001b[49m\n\u001b[1;32m    204\u001b[0m \u001b[43m    \u001b[49m\u001b[43mH\u001b[49m\u001b[43m,\u001b[49m\u001b[43m \u001b[49m\u001b[43morders\u001b[49m\u001b[43m,\u001b[49m\u001b[43m \u001b[49m\u001b[43mweights\u001b[49m\u001b[43m,\u001b[49m\u001b[43m \u001b[49m\u001b[43mrescale_per_node\u001b[49m\u001b[38;5;241;43m=\u001b[39;49m\u001b[43mrescale_per_node\u001b[49m\u001b[43m,\u001b[49m\u001b[43m \u001b[49m\u001b[43msparse\u001b[49m\u001b[38;5;241;43m=\u001b[39;49m\u001b[43msparse\u001b[49m\n\u001b[1;32m    205\u001b[0m \u001b[43m\u001b[49m\u001b[43m)\u001b[49m\n\u001b[1;32m    207\u001b[0m rho_all \u001b[38;5;241m=\u001b[39m density(L_multi, tau, sparse\u001b[38;5;241m=\u001b[39msparse)\n\u001b[1;32m    209\u001b[0m D \u001b[38;5;241m=\u001b[39m []  \u001b[38;5;66;03m# Learning error\u001b[39;00m\n",
      "File \u001b[0;32m~/Dropbox (ISI Foundation)/WORK/SCIENCE/xgi/xgi/linalg/laplacian_matrix.py:158\u001b[0m, in \u001b[0;36mmultiorder_laplacian\u001b[0;34m(H, orders, weights, sparse, rescale_per_node, index)\u001b[0m\n\u001b[1;32m    155\u001b[0m \u001b[38;5;28;01mif\u001b[39;00m \u001b[38;5;28mlen\u001b[39m(orders) \u001b[38;5;241m!=\u001b[39m \u001b[38;5;28mlen\u001b[39m(weights):\n\u001b[1;32m    156\u001b[0m     \u001b[38;5;28;01mraise\u001b[39;00m \u001b[38;5;167;01mValueError\u001b[39;00m(\u001b[38;5;124m\"\u001b[39m\u001b[38;5;124morders and weights must have the same length.\u001b[39m\u001b[38;5;124m\"\u001b[39m)\n\u001b[0;32m--> 158\u001b[0m Ls \u001b[38;5;241m=\u001b[39m [\n\u001b[1;32m    159\u001b[0m     laplacian(H, order\u001b[38;5;241m=\u001b[39md, sparse\u001b[38;5;241m=\u001b[39msparse, rescale_per_node\u001b[38;5;241m=\u001b[39mrescale_per_node)\n\u001b[1;32m    160\u001b[0m     \u001b[38;5;28;01mfor\u001b[39;00m d \u001b[38;5;129;01min\u001b[39;00m orders\n\u001b[1;32m    161\u001b[0m ]\n\u001b[1;32m    162\u001b[0m Ks \u001b[38;5;241m=\u001b[39m [degree_matrix(H, order\u001b[38;5;241m=\u001b[39md) \u001b[38;5;28;01mfor\u001b[39;00m d \u001b[38;5;129;01min\u001b[39;00m orders]\n\u001b[1;32m    164\u001b[0m \u001b[38;5;28;01mif\u001b[39;00m sparse:\n",
      "File \u001b[0;32m~/Dropbox (ISI Foundation)/WORK/SCIENCE/xgi/xgi/linalg/laplacian_matrix.py:159\u001b[0m, in \u001b[0;36m<listcomp>\u001b[0;34m(.0)\u001b[0m\n\u001b[1;32m    155\u001b[0m \u001b[38;5;28;01mif\u001b[39;00m \u001b[38;5;28mlen\u001b[39m(orders) \u001b[38;5;241m!=\u001b[39m \u001b[38;5;28mlen\u001b[39m(weights):\n\u001b[1;32m    156\u001b[0m     \u001b[38;5;28;01mraise\u001b[39;00m \u001b[38;5;167;01mValueError\u001b[39;00m(\u001b[38;5;124m\"\u001b[39m\u001b[38;5;124morders and weights must have the same length.\u001b[39m\u001b[38;5;124m\"\u001b[39m)\n\u001b[1;32m    158\u001b[0m Ls \u001b[38;5;241m=\u001b[39m [\n\u001b[0;32m--> 159\u001b[0m     \u001b[43mlaplacian\u001b[49m\u001b[43m(\u001b[49m\u001b[43mH\u001b[49m\u001b[43m,\u001b[49m\u001b[43m \u001b[49m\u001b[43morder\u001b[49m\u001b[38;5;241;43m=\u001b[39;49m\u001b[43md\u001b[49m\u001b[43m,\u001b[49m\u001b[43m \u001b[49m\u001b[43msparse\u001b[49m\u001b[38;5;241;43m=\u001b[39;49m\u001b[43msparse\u001b[49m\u001b[43m,\u001b[49m\u001b[43m \u001b[49m\u001b[43mrescale_per_node\u001b[49m\u001b[38;5;241;43m=\u001b[39;49m\u001b[43mrescale_per_node\u001b[49m\u001b[43m)\u001b[49m\n\u001b[1;32m    160\u001b[0m     \u001b[38;5;28;01mfor\u001b[39;00m d \u001b[38;5;129;01min\u001b[39;00m orders\n\u001b[1;32m    161\u001b[0m ]\n\u001b[1;32m    162\u001b[0m Ks \u001b[38;5;241m=\u001b[39m [degree_matrix(H, order\u001b[38;5;241m=\u001b[39md) \u001b[38;5;28;01mfor\u001b[39;00m d \u001b[38;5;129;01min\u001b[39;00m orders]\n\u001b[1;32m    164\u001b[0m \u001b[38;5;28;01mif\u001b[39;00m sparse:\n",
      "File \u001b[0;32m~/Dropbox (ISI Foundation)/WORK/SCIENCE/xgi/xgi/linalg/laplacian_matrix.py:95\u001b[0m, in \u001b[0;36mlaplacian\u001b[0;34m(H, order, sparse, rescale_per_node, index)\u001b[0m\n\u001b[1;32m     61\u001b[0m \u001b[38;5;28;01mdef\u001b[39;00m \u001b[38;5;21mlaplacian\u001b[39m(H, order\u001b[38;5;241m=\u001b[39m\u001b[38;5;241m1\u001b[39m, sparse\u001b[38;5;241m=\u001b[39m\u001b[38;5;28;01mFalse\u001b[39;00m, rescale_per_node\u001b[38;5;241m=\u001b[39m\u001b[38;5;28;01mFalse\u001b[39;00m, index\u001b[38;5;241m=\u001b[39m\u001b[38;5;28;01mFalse\u001b[39;00m):\n\u001b[1;32m     62\u001b[0m     \u001b[38;5;124;03m\"\"\"Laplacian matrix of order d, see [1].\u001b[39;00m\n\u001b[1;32m     63\u001b[0m \n\u001b[1;32m     64\u001b[0m \u001b[38;5;124;03m    Parameters\u001b[39;00m\n\u001b[0;32m   (...)\u001b[0m\n\u001b[1;32m     93\u001b[0m \n\u001b[1;32m     94\u001b[0m \u001b[38;5;124;03m    \"\"\"\u001b[39;00m\n\u001b[0;32m---> 95\u001b[0m     A, row_dict \u001b[38;5;241m=\u001b[39m \u001b[43madjacency_matrix\u001b[49m\u001b[43m(\u001b[49m\n\u001b[1;32m     96\u001b[0m \u001b[43m        \u001b[49m\u001b[43mH\u001b[49m\u001b[43m,\u001b[49m\u001b[43m \u001b[49m\u001b[43morder\u001b[49m\u001b[38;5;241;43m=\u001b[39;49m\u001b[43morder\u001b[49m\u001b[43m,\u001b[49m\u001b[43m \u001b[49m\u001b[43msparse\u001b[49m\u001b[38;5;241;43m=\u001b[39;49m\u001b[43msparse\u001b[49m\u001b[43m,\u001b[49m\u001b[43m \u001b[49m\u001b[43mweighted\u001b[49m\u001b[38;5;241;43m=\u001b[39;49m\u001b[38;5;28;43;01mTrue\u001b[39;49;00m\u001b[43m,\u001b[49m\u001b[43m \u001b[49m\u001b[43mindex\u001b[49m\u001b[38;5;241;43m=\u001b[39;49m\u001b[38;5;28;43;01mTrue\u001b[39;49;00m\n\u001b[1;32m     97\u001b[0m \u001b[43m    \u001b[49m\u001b[43m)\u001b[49m\n\u001b[1;32m     99\u001b[0m     \u001b[38;5;28;01mif\u001b[39;00m A\u001b[38;5;241m.\u001b[39mshape \u001b[38;5;241m==\u001b[39m (\u001b[38;5;241m0\u001b[39m, \u001b[38;5;241m0\u001b[39m):\n\u001b[1;32m    100\u001b[0m         L \u001b[38;5;241m=\u001b[39m csr_array((\u001b[38;5;241m0\u001b[39m, \u001b[38;5;241m0\u001b[39m)) \u001b[38;5;28;01mif\u001b[39;00m sparse \u001b[38;5;28;01melse\u001b[39;00m np\u001b[38;5;241m.\u001b[39mempty((\u001b[38;5;241m0\u001b[39m, \u001b[38;5;241m0\u001b[39m))\n",
      "File \u001b[0;32m~/Dropbox (ISI Foundation)/WORK/SCIENCE/xgi/xgi/linalg/hypergraph_matrix.py:175\u001b[0m, in \u001b[0;36madjacency_matrix\u001b[0;34m(H, order, sparse, s, weighted, index)\u001b[0m\n\u001b[1;32m    172\u001b[0m         A \u001b[38;5;241m=\u001b[39m csr_array(shape, dtype\u001b[38;5;241m=\u001b[39m\u001b[38;5;28mint\u001b[39m) \u001b[38;5;28;01mif\u001b[39;00m sparse \u001b[38;5;28;01melse\u001b[39;00m np\u001b[38;5;241m.\u001b[39mzeros(shape, dtype\u001b[38;5;241m=\u001b[39m\u001b[38;5;28mint\u001b[39m)\n\u001b[1;32m    173\u001b[0m     \u001b[38;5;28;01mreturn\u001b[39;00m (A, {}) \u001b[38;5;28;01mif\u001b[39;00m index \u001b[38;5;28;01melse\u001b[39;00m A\n\u001b[0;32m--> 175\u001b[0m A \u001b[38;5;241m=\u001b[39m \u001b[43mI\u001b[49m\u001b[38;5;241;43m.\u001b[39;49m\u001b[43mdot\u001b[49m\u001b[43m(\u001b[49m\u001b[43mI\u001b[49m\u001b[38;5;241;43m.\u001b[39;49m\u001b[43mT\u001b[49m\u001b[43m)\u001b[49m\n\u001b[1;32m    177\u001b[0m \u001b[38;5;28;01mif\u001b[39;00m sparse:\n\u001b[1;32m    178\u001b[0m     \u001b[38;5;28;01mwith\u001b[39;00m catch_warnings(record\u001b[38;5;241m=\u001b[39m\u001b[38;5;28;01mTrue\u001b[39;00m) \u001b[38;5;28;01mas\u001b[39;00m w:\n",
      "\u001b[0;31mKeyboardInterrupt\u001b[0m: "
     ]
    }
   ],
   "source": [
    "tau_c = find_charact_tau(H0, orders, weights, rescale_per_node=rescale)\n",
    "\n",
    "inverse_rescaling_factors = [1 / sigma(d) for d in orders]\n",
    "Ds_H, lZs_H = optimization(H0, tau_c, rescaling_factors=inverse_rescaling_factors, rescale_per_node=rescale)"
   ]
  },
  {
   "cell_type": "code",
   "execution_count": null,
   "id": "a3ae3a7e",
   "metadata": {},
   "outputs": [],
   "source": [
    "fig, (ax, ax2, ax3) = plt.subplots(1, 3, figsize=(6, 2))\n",
    "\n",
    "message_length = Ds_H + lZs_H\n",
    "ax.plot(orders, message_length, \"o-\")\n",
    "\n",
    "penal_structure = np.log(orders) / np.log(d_max)\n",
    "ax2.plot(orders, Ds_H + penal_structure, \"o-\")\n",
    "\n",
    "ax3.plot(orders, message_length + penal_structure, \"o-\")\n",
    "\n",
    "ax.set_ylabel(\"Message Length\")\n",
    "ax.set_xlabel(\"Max Order\")\n",
    "ax.set_title(\"functional complex.\")\n",
    "\n",
    "fig.suptitle(f\"{name}, N={N}\")\n",
    "ax2.set_title(\"structural complex.\")\n",
    "ax2.set_xlabel(\"Max Order\")\n",
    "\n",
    "ax3.set_title(\"both complex.\")\n",
    "ax3.set_xlabel(\"Max Order\")\n",
    "\n",
    "plt.subplots_adjust(top=0.7, wspace=0.3)\n",
    "\n",
    "sb.despine()\n",
    "\n",
    "fig_name = f\"message_length_{name}_rescaled_tauc\"\n",
    "\n",
    "plt.savefig(f\"{out_dir}{fig_name}.png\", dpi=250, bbox_inches=\"tight\")"
   ]
  },
  {
   "cell_type": "code",
   "execution_count": 262,
   "id": "6fffcc92",
   "metadata": {},
   "outputs": [
    {
     "data": {
      "text/plain": [
       "0.6931471805599453"
      ]
     },
     "execution_count": 262,
     "metadata": {},
     "output_type": "execute_result"
    }
   ],
   "source": [
    "np.log(2)"
   ]
  },
  {
   "cell_type": "code",
   "execution_count": 96,
   "id": "219bf107",
   "metadata": {},
   "outputs": [
    {
     "data": {
      "text/plain": [
       "1.3862943611198906"
      ]
     },
     "execution_count": 96,
     "metadata": {},
     "output_type": "execute_result"
    }
   ],
   "source": [
    "np.log(4)"
   ]
  },
  {
   "cell_type": "markdown",
   "id": "bb6e980e",
   "metadata": {},
   "source": [
    "## single orde present"
   ]
  },
  {
   "cell_type": "code",
   "execution_count": 137,
   "id": "d805a7e6",
   "metadata": {},
   "outputs": [],
   "source": [
    "N = 100\n",
    "d = 2\n",
    "\n",
    "H0 = xgi.random_hypergraph(N, ps=[1/N**d], order=d)"
   ]
  },
  {
   "cell_type": "code",
   "execution_count": 144,
   "id": "69beea2e",
   "metadata": {},
   "outputs": [
    {
     "name": "stdout",
     "output_type": "stream",
     "text": [
      "Unnamed Hypergraph with 100 nodes and 19 hyperedges\n"
     ]
    }
   ],
   "source": [
    "orders = [1, 2, 3, 4] #np.array(xgi.unique_edge_sizes(H0)) - 1\n",
    "weights = np.ones(len(orders))\n",
    "\n",
    "N = H0.num_nodes\n",
    "print(H0)"
   ]
  },
  {
   "cell_type": "code",
   "execution_count": 145,
   "id": "ae7023ec",
   "metadata": {},
   "outputs": [
    {
     "data": {
      "text/plain": [
       "[1, 2, 3, 4]"
      ]
     },
     "execution_count": 145,
     "metadata": {},
     "output_type": "execute_result"
    }
   ],
   "source": [
    "orders"
   ]
  },
  {
   "cell_type": "code",
   "execution_count": 146,
   "id": "4d4bf686",
   "metadata": {},
   "outputs": [
    {
     "name": "stderr",
     "output_type": "stream",
     "text": [
      "/Users/maxime/Dropbox (ISI Foundation)/WORK/SCIENCE/xgi/xgi/linalg/laplacian_matrix.py:173: UserWarning: No edges of order 1. Contribution of that order is zero. Its weight is effectively zero.\n",
      "  warn(\n",
      "/Users/maxime/Dropbox (ISI Foundation)/WORK/SCIENCE/xgi/xgi/linalg/laplacian_matrix.py:173: UserWarning: No edges of order 3. Contribution of that order is zero. Its weight is effectively zero.\n",
      "  warn(\n",
      "/Users/maxime/Dropbox (ISI Foundation)/WORK/SCIENCE/xgi/xgi/linalg/laplacian_matrix.py:173: UserWarning: No edges of order 4. Contribution of that order is zero. Its weight is effectively zero.\n",
      "  warn(\n"
     ]
    }
   ],
   "source": [
    "tau_c = find_charact_tau(H0, orders, weights, rescale_per_node=rescale)\n",
    "\n",
    "inverse_rescaling_factors = [1 / sigma(d) for d in orders]\n",
    "Ds_H, lZs_H = optimization(H0, tau_c, rescaling_factors=inverse_rescaling_factors, rescale_per_node=rescale)"
   ]
  },
  {
   "cell_type": "code",
   "execution_count": 147,
   "id": "1f873ff4",
   "metadata": {},
   "outputs": [
    {
     "ename": "ValueError",
     "evalue": "x and y must have same first dimension, but have shapes (4,) and (1,)",
     "output_type": "error",
     "traceback": [
      "\u001b[0;31m---------------------------------------------------------------------------\u001b[0m",
      "\u001b[0;31mValueError\u001b[0m                                Traceback (most recent call last)",
      "Cell \u001b[0;32mIn [147], line 4\u001b[0m\n\u001b[1;32m      1\u001b[0m fig, (ax, ax2, ax3) \u001b[38;5;241m=\u001b[39m plt\u001b[38;5;241m.\u001b[39msubplots(\u001b[38;5;241m1\u001b[39m, \u001b[38;5;241m3\u001b[39m, figsize\u001b[38;5;241m=\u001b[39m(\u001b[38;5;241m6\u001b[39m, \u001b[38;5;241m2\u001b[39m))\n\u001b[1;32m      3\u001b[0m message_length \u001b[38;5;241m=\u001b[39m Ds_H \u001b[38;5;241m+\u001b[39m lZs_H\n\u001b[0;32m----> 4\u001b[0m ax\u001b[38;5;241m.\u001b[39mplot(orders, message_length, \u001b[38;5;124m\"\u001b[39m\u001b[38;5;124mo-\u001b[39m\u001b[38;5;124m\"\u001b[39m)\n\u001b[1;32m      6\u001b[0m penal_structure \u001b[38;5;241m=\u001b[39m np\u001b[38;5;241m.\u001b[39mlog(orders) \u001b[38;5;241m/\u001b[39m np\u001b[38;5;241m.\u001b[39mlog(d_max)\n\u001b[1;32m      7\u001b[0m ax2\u001b[38;5;241m.\u001b[39mplot(orders, Ds_H \u001b[38;5;241m+\u001b[39m penal_structure, \u001b[38;5;124m\"\u001b[39m\u001b[38;5;124mo-\u001b[39m\u001b[38;5;124m\"\u001b[39m)\n",
      "File \u001b[0;32m~/.pyenv/versions/venv_xgi/lib/python3.9/site-packages/matplotlib/axes/_axes.py:1688\u001b[0m, in \u001b[0;36mAxes.plot\u001b[0;34m(self, scalex, scaley, data, *args, **kwargs)\u001b[0m\n\u001b[1;32m   1445\u001b[0m \u001b[38;5;124;03m\"\"\"\u001b[39;00m\n\u001b[1;32m   1446\u001b[0m \u001b[38;5;124;03mPlot y versus x as lines and/or markers.\u001b[39;00m\n\u001b[1;32m   1447\u001b[0m \n\u001b[0;32m   (...)\u001b[0m\n\u001b[1;32m   1685\u001b[0m \u001b[38;5;124;03m(``'green'``) or hex strings (``'#008000'``).\u001b[39;00m\n\u001b[1;32m   1686\u001b[0m \u001b[38;5;124;03m\"\"\"\u001b[39;00m\n\u001b[1;32m   1687\u001b[0m kwargs \u001b[38;5;241m=\u001b[39m cbook\u001b[38;5;241m.\u001b[39mnormalize_kwargs(kwargs, mlines\u001b[38;5;241m.\u001b[39mLine2D)\n\u001b[0;32m-> 1688\u001b[0m lines \u001b[38;5;241m=\u001b[39m [\u001b[38;5;241m*\u001b[39m\u001b[38;5;28mself\u001b[39m\u001b[38;5;241m.\u001b[39m_get_lines(\u001b[38;5;241m*\u001b[39margs, data\u001b[38;5;241m=\u001b[39mdata, \u001b[38;5;241m*\u001b[39m\u001b[38;5;241m*\u001b[39mkwargs)]\n\u001b[1;32m   1689\u001b[0m \u001b[38;5;28;01mfor\u001b[39;00m line \u001b[38;5;129;01min\u001b[39;00m lines:\n\u001b[1;32m   1690\u001b[0m     \u001b[38;5;28mself\u001b[39m\u001b[38;5;241m.\u001b[39madd_line(line)\n",
      "File \u001b[0;32m~/.pyenv/versions/venv_xgi/lib/python3.9/site-packages/matplotlib/axes/_base.py:311\u001b[0m, in \u001b[0;36m_process_plot_var_args.__call__\u001b[0;34m(self, data, *args, **kwargs)\u001b[0m\n\u001b[1;32m    309\u001b[0m     this \u001b[38;5;241m+\u001b[39m\u001b[38;5;241m=\u001b[39m args[\u001b[38;5;241m0\u001b[39m],\n\u001b[1;32m    310\u001b[0m     args \u001b[38;5;241m=\u001b[39m args[\u001b[38;5;241m1\u001b[39m:]\n\u001b[0;32m--> 311\u001b[0m \u001b[38;5;28;01myield from\u001b[39;00m \u001b[38;5;28;43mself\u001b[39;49m\u001b[38;5;241;43m.\u001b[39;49m\u001b[43m_plot_args\u001b[49m\u001b[43m(\u001b[49m\n\u001b[1;32m    312\u001b[0m \u001b[43m    \u001b[49m\u001b[43mthis\u001b[49m\u001b[43m,\u001b[49m\u001b[43m \u001b[49m\u001b[43mkwargs\u001b[49m\u001b[43m,\u001b[49m\u001b[43m \u001b[49m\u001b[43mambiguous_fmt_datakey\u001b[49m\u001b[38;5;241;43m=\u001b[39;49m\u001b[43mambiguous_fmt_datakey\u001b[49m\u001b[43m)\u001b[49m\n",
      "File \u001b[0;32m~/.pyenv/versions/venv_xgi/lib/python3.9/site-packages/matplotlib/axes/_base.py:504\u001b[0m, in \u001b[0;36m_process_plot_var_args._plot_args\u001b[0;34m(self, tup, kwargs, return_kwargs, ambiguous_fmt_datakey)\u001b[0m\n\u001b[1;32m    501\u001b[0m     \u001b[38;5;28mself\u001b[39m\u001b[38;5;241m.\u001b[39maxes\u001b[38;5;241m.\u001b[39myaxis\u001b[38;5;241m.\u001b[39mupdate_units(y)\n\u001b[1;32m    503\u001b[0m \u001b[38;5;28;01mif\u001b[39;00m x\u001b[38;5;241m.\u001b[39mshape[\u001b[38;5;241m0\u001b[39m] \u001b[38;5;241m!=\u001b[39m y\u001b[38;5;241m.\u001b[39mshape[\u001b[38;5;241m0\u001b[39m]:\n\u001b[0;32m--> 504\u001b[0m     \u001b[38;5;28;01mraise\u001b[39;00m \u001b[38;5;167;01mValueError\u001b[39;00m(\u001b[38;5;124mf\u001b[39m\u001b[38;5;124m\"\u001b[39m\u001b[38;5;124mx and y must have same first dimension, but \u001b[39m\u001b[38;5;124m\"\u001b[39m\n\u001b[1;32m    505\u001b[0m                      \u001b[38;5;124mf\u001b[39m\u001b[38;5;124m\"\u001b[39m\u001b[38;5;124mhave shapes \u001b[39m\u001b[38;5;132;01m{\u001b[39;00mx\u001b[38;5;241m.\u001b[39mshape\u001b[38;5;132;01m}\u001b[39;00m\u001b[38;5;124m and \u001b[39m\u001b[38;5;132;01m{\u001b[39;00my\u001b[38;5;241m.\u001b[39mshape\u001b[38;5;132;01m}\u001b[39;00m\u001b[38;5;124m\"\u001b[39m)\n\u001b[1;32m    506\u001b[0m \u001b[38;5;28;01mif\u001b[39;00m x\u001b[38;5;241m.\u001b[39mndim \u001b[38;5;241m>\u001b[39m \u001b[38;5;241m2\u001b[39m \u001b[38;5;129;01mor\u001b[39;00m y\u001b[38;5;241m.\u001b[39mndim \u001b[38;5;241m>\u001b[39m \u001b[38;5;241m2\u001b[39m:\n\u001b[1;32m    507\u001b[0m     \u001b[38;5;28;01mraise\u001b[39;00m \u001b[38;5;167;01mValueError\u001b[39;00m(\u001b[38;5;124mf\u001b[39m\u001b[38;5;124m\"\u001b[39m\u001b[38;5;124mx and y can be no greater than 2D, but have \u001b[39m\u001b[38;5;124m\"\u001b[39m\n\u001b[1;32m    508\u001b[0m                      \u001b[38;5;124mf\u001b[39m\u001b[38;5;124m\"\u001b[39m\u001b[38;5;124mshapes \u001b[39m\u001b[38;5;132;01m{\u001b[39;00mx\u001b[38;5;241m.\u001b[39mshape\u001b[38;5;132;01m}\u001b[39;00m\u001b[38;5;124m and \u001b[39m\u001b[38;5;132;01m{\u001b[39;00my\u001b[38;5;241m.\u001b[39mshape\u001b[38;5;132;01m}\u001b[39;00m\u001b[38;5;124m\"\u001b[39m)\n",
      "\u001b[0;31mValueError\u001b[0m: x and y must have same first dimension, but have shapes (4,) and (1,)"
     ]
    },
    {
     "data": {
      "image/png": "[encoded data removed]",
      "text/plain": [
       "<Figure size 600x200 with 3 Axes>"
      ]
     },
     "metadata": {},
     "output_type": "display_data"
    }
   ],
   "source": [
    "fig, (ax, ax2, ax3) = plt.subplots(1, 3, figsize=(6, 2))\n",
    "\n",
    "message_length = Ds_H + lZs_H\n",
    "ax.plot(orders, message_length, \"o-\")\n",
    "\n",
    "penal_structure = np.log(orders) / np.log(d_max)\n",
    "ax2.plot(orders, Ds_H + penal_structure, \"o-\")\n",
    "\n",
    "ax3.plot(orders, message_length + penal_structure, \"o-\")\n",
    "\n",
    "ax.set_ylabel(\"Message Length\")\n",
    "ax.set_xlabel(\"Max Order\")\n",
    "ax.set_title(\"functional complex.\")\n",
    "\n",
    "fig.suptitle(f\"Complete HG, N={N}\")\n",
    "ax2.set_title(\"structural complex.\")\n",
    "ax2.set_xlabel(\"Max Order\")\n",
    "\n",
    "ax3.set_title(\"both complex.\")\n",
    "ax3.set_xlabel(\"Max Order\")\n",
    "\n",
    "plt.subplots_adjust(top=0.7, wspace=0.3)\n",
    "\n",
    "sb.despine()\n",
    "\n",
    "fig_name = f\"message_length_full_triangular_lattice_rescaled_tauc_N_{N}\"\n",
    "\n",
    "#plt.savefig(f\"{out_dir}{fig_name}.png\", dpi=250, bbox_inches=\"tight\")"
   ]
  },
  {
   "cell_type": "markdown",
   "id": "0ec8becd",
   "metadata": {},
   "source": [
    "## random hypergraph"
   ]
  },
  {
   "cell_type": "code",
   "execution_count": 271,
   "id": "358b3669",
   "metadata": {},
   "outputs": [
    {
     "name": "stderr",
     "output_type": "stream",
     "text": [
      "\r",
      "  0%|                                                   | 0/100 [00:00<?, ?it/s]"
     ]
    },
    {
     "name": "stdout",
     "output_type": "stream",
     "text": [
      "[5.e-02 5.e-04 5.e-06 5.e-08]\n"
     ]
    },
    {
     "name": "stderr",
     "output_type": "stream",
     "text": [
      "\r",
      "  1%|▍                                          | 1/100 [00:03<05:11,  3.14s/it]"
     ]
    },
    {
     "name": "stdout",
     "output_type": "stream",
     "text": [
      "Unnamed Hypergraph with 100 nodes and 357 hyperedges\n",
      "[5.e-02 5.e-04 5.e-06 5.e-08]\n"
     ]
    },
    {
     "name": "stderr",
     "output_type": "stream",
     "text": [
      "\r",
      "  2%|▊                                          | 2/100 [00:06<05:03,  3.10s/it]"
     ]
    },
    {
     "name": "stdout",
     "output_type": "stream",
     "text": [
      "Unnamed Hypergraph with 100 nodes and 358 hyperedges\n",
      "[5.e-02 5.e-04 5.e-06 5.e-08]\n"
     ]
    },
    {
     "name": "stderr",
     "output_type": "stream",
     "text": [
      "\r",
      "  3%|█▎                                         | 3/100 [00:09<04:58,  3.08s/it]"
     ]
    },
    {
     "name": "stdout",
     "output_type": "stream",
     "text": [
      "Unnamed Hypergraph with 100 nodes and 351 hyperedges\n",
      "[5.e-02 5.e-04 5.e-06 5.e-08]\n"
     ]
    },
    {
     "name": "stderr",
     "output_type": "stream",
     "text": [
      "\r",
      "  4%|█▋                                         | 4/100 [00:12<04:53,  3.06s/it]"
     ]
    },
    {
     "name": "stdout",
     "output_type": "stream",
     "text": [
      "Unnamed Hypergraph with 100 nodes and 347 hyperedges\n",
      "[5.e-02 5.e-04 5.e-06 5.e-08]\n"
     ]
    },
    {
     "name": "stderr",
     "output_type": "stream",
     "text": [
      "\r",
      "  5%|██▏                                        | 5/100 [00:15<04:50,  3.06s/it]"
     ]
    },
    {
     "name": "stdout",
     "output_type": "stream",
     "text": [
      "Unnamed Hypergraph with 100 nodes and 367 hyperedges\n",
      "[5.e-02 5.e-04 5.e-06 5.e-08]\n"
     ]
    },
    {
     "name": "stderr",
     "output_type": "stream",
     "text": [
      "\r",
      "  6%|██▌                                        | 6/100 [00:18<04:48,  3.07s/it]"
     ]
    },
    {
     "name": "stdout",
     "output_type": "stream",
     "text": [
      "Unnamed Hypergraph with 100 nodes and 335 hyperedges\n",
      "[5.e-02 5.e-04 5.e-06 5.e-08]\n"
     ]
    },
    {
     "name": "stderr",
     "output_type": "stream",
     "text": [
      "\r",
      "  7%|███                                        | 7/100 [00:21<04:44,  3.06s/it]"
     ]
    },
    {
     "name": "stdout",
     "output_type": "stream",
     "text": [
      "Unnamed Hypergraph with 100 nodes and 345 hyperedges\n",
      "[5.e-02 5.e-04 5.e-06 5.e-08]\n"
     ]
    },
    {
     "name": "stderr",
     "output_type": "stream",
     "text": [
      "\r",
      "  8%|███▍                                       | 8/100 [00:24<04:41,  3.06s/it]"
     ]
    },
    {
     "name": "stdout",
     "output_type": "stream",
     "text": [
      "Unnamed Hypergraph with 100 nodes and 336 hyperedges\n",
      "[5.e-02 5.e-04 5.e-06 5.e-08]\n"
     ]
    },
    {
     "name": "stderr",
     "output_type": "stream",
     "text": [
      "\r",
      "  9%|███▊                                       | 9/100 [00:27<04:37,  3.05s/it]"
     ]
    },
    {
     "name": "stdout",
     "output_type": "stream",
     "text": [
      "Unnamed Hypergraph with 100 nodes and 361 hyperedges\n",
      "[5.e-02 5.e-04 5.e-06 5.e-08]\n"
     ]
    },
    {
     "name": "stderr",
     "output_type": "stream",
     "text": [
      "\r",
      " 10%|████▏                                     | 10/100 [00:30<04:34,  3.05s/it]"
     ]
    },
    {
     "name": "stdout",
     "output_type": "stream",
     "text": [
      "Unnamed Hypergraph with 100 nodes and 385 hyperedges\n",
      "[5.e-02 5.e-04 5.e-06 5.e-08]\n"
     ]
    },
    {
     "name": "stderr",
     "output_type": "stream",
     "text": [
      "\r",
      " 11%|████▌                                     | 11/100 [00:33<04:30,  3.04s/it]"
     ]
    },
    {
     "name": "stdout",
     "output_type": "stream",
     "text": [
      "Unnamed Hypergraph with 100 nodes and 350 hyperedges\n",
      "[5.e-02 5.e-04 5.e-06 5.e-08]\n"
     ]
    },
    {
     "name": "stderr",
     "output_type": "stream",
     "text": [
      "\r",
      " 12%|█████                                     | 12/100 [00:36<04:28,  3.06s/it]"
     ]
    },
    {
     "name": "stdout",
     "output_type": "stream",
     "text": [
      "Unnamed Hypergraph with 100 nodes and 351 hyperedges\n",
      "[5.e-02 5.e-04 5.e-06 5.e-08]\n"
     ]
    },
    {
     "name": "stderr",
     "output_type": "stream",
     "text": [
      "\r",
      " 13%|█████▍                                    | 13/100 [00:39<04:25,  3.06s/it]"
     ]
    },
    {
     "name": "stdout",
     "output_type": "stream",
     "text": [
      "Unnamed Hypergraph with 100 nodes and 333 hyperedges\n",
      "[5.e-02 5.e-04 5.e-06 5.e-08]\n"
     ]
    },
    {
     "name": "stderr",
     "output_type": "stream",
     "text": [
      "\r",
      " 14%|█████▉                                    | 14/100 [00:42<04:22,  3.06s/it]"
     ]
    },
    {
     "name": "stdout",
     "output_type": "stream",
     "text": [
      "Unnamed Hypergraph with 100 nodes and 351 hyperedges\n",
      "[5.e-02 5.e-04 5.e-06 5.e-08]\n"
     ]
    },
    {
     "name": "stderr",
     "output_type": "stream",
     "text": [
      "\r",
      " 15%|██████▎                                   | 15/100 [00:45<04:19,  3.05s/it]"
     ]
    },
    {
     "name": "stdout",
     "output_type": "stream",
     "text": [
      "Unnamed Hypergraph with 100 nodes and 349 hyperedges\n",
      "[5.e-02 5.e-04 5.e-06 5.e-08]\n"
     ]
    },
    {
     "name": "stderr",
     "output_type": "stream",
     "text": [
      "\r",
      " 16%|██████▋                                   | 16/100 [00:48<04:15,  3.04s/it]"
     ]
    },
    {
     "name": "stdout",
     "output_type": "stream",
     "text": [
      "Unnamed Hypergraph with 100 nodes and 371 hyperedges\n",
      "[5.e-02 5.e-04 5.e-06 5.e-08]\n"
     ]
    },
    {
     "name": "stderr",
     "output_type": "stream",
     "text": [
      "\r",
      " 17%|███████▏                                  | 17/100 [00:51<04:12,  3.04s/it]"
     ]
    },
    {
     "name": "stdout",
     "output_type": "stream",
     "text": [
      "Unnamed Hypergraph with 100 nodes and 369 hyperedges\n",
      "[5.e-02 5.e-04 5.e-06 5.e-08]\n"
     ]
    },
    {
     "name": "stderr",
     "output_type": "stream",
     "text": [
      "\r",
      " 18%|███████▌                                  | 18/100 [00:54<04:08,  3.03s/it]"
     ]
    },
    {
     "name": "stdout",
     "output_type": "stream",
     "text": [
      "Unnamed Hypergraph with 100 nodes and 346 hyperedges\n",
      "[5.e-02 5.e-04 5.e-06 5.e-08]\n"
     ]
    },
    {
     "name": "stderr",
     "output_type": "stream",
     "text": [
      "\r",
      " 19%|███████▉                                  | 19/100 [00:57<04:05,  3.03s/it]"
     ]
    },
    {
     "name": "stdout",
     "output_type": "stream",
     "text": [
      "Unnamed Hypergraph with 100 nodes and 357 hyperedges\n",
      "[5.e-02 5.e-04 5.e-06 5.e-08]\n"
     ]
    },
    {
     "name": "stderr",
     "output_type": "stream",
     "text": [
      "\r",
      " 20%|████████▍                                 | 20/100 [01:01<04:02,  3.03s/it]"
     ]
    },
    {
     "name": "stdout",
     "output_type": "stream",
     "text": [
      "Unnamed Hypergraph with 100 nodes and 379 hyperedges\n",
      "[5.e-02 5.e-04 5.e-06 5.e-08]\n"
     ]
    },
    {
     "name": "stderr",
     "output_type": "stream",
     "text": [
      "\r",
      " 21%|████████▊                                 | 21/100 [01:04<03:58,  3.03s/it]"
     ]
    },
    {
     "name": "stdout",
     "output_type": "stream",
     "text": [
      "Unnamed Hypergraph with 100 nodes and 368 hyperedges\n",
      "[5.e-02 5.e-04 5.e-06 5.e-08]\n"
     ]
    },
    {
     "name": "stderr",
     "output_type": "stream",
     "text": [
      "\r",
      " 22%|█████████▏                                | 22/100 [01:07<03:55,  3.02s/it]"
     ]
    },
    {
     "name": "stdout",
     "output_type": "stream",
     "text": [
      "Unnamed Hypergraph with 100 nodes and 327 hyperedges\n",
      "[5.e-02 5.e-04 5.e-06 5.e-08]\n"
     ]
    },
    {
     "name": "stderr",
     "output_type": "stream",
     "text": [
      "\r",
      " 23%|█████████▋                                | 23/100 [01:10<03:52,  3.02s/it]"
     ]
    },
    {
     "name": "stdout",
     "output_type": "stream",
     "text": [
      "Unnamed Hypergraph with 100 nodes and 362 hyperedges\n",
      "[5.e-02 5.e-04 5.e-06 5.e-08]\n"
     ]
    },
    {
     "name": "stderr",
     "output_type": "stream",
     "text": [
      "\r",
      " 24%|██████████                                | 24/100 [01:13<03:49,  3.02s/it]"
     ]
    },
    {
     "name": "stdout",
     "output_type": "stream",
     "text": [
      "Unnamed Hypergraph with 100 nodes and 352 hyperedges\n",
      "[5.e-02 5.e-04 5.e-06 5.e-08]\n"
     ]
    },
    {
     "name": "stderr",
     "output_type": "stream",
     "text": [
      "\r",
      " 25%|██████████▌                               | 25/100 [01:16<03:47,  3.03s/it]"
     ]
    },
    {
     "name": "stdout",
     "output_type": "stream",
     "text": [
      "Unnamed Hypergraph with 100 nodes and 346 hyperedges\n",
      "[5.e-02 5.e-04 5.e-06 5.e-08]\n"
     ]
    },
    {
     "name": "stderr",
     "output_type": "stream",
     "text": [
      "\r",
      " 26%|██████████▉                               | 26/100 [01:19<03:43,  3.02s/it]"
     ]
    },
    {
     "name": "stdout",
     "output_type": "stream",
     "text": [
      "Unnamed Hypergraph with 100 nodes and 341 hyperedges\n",
      "[5.e-02 5.e-04 5.e-06 5.e-08]\n"
     ]
    },
    {
     "name": "stderr",
     "output_type": "stream",
     "text": [
      "\r",
      " 27%|███████████▎                              | 27/100 [01:22<03:40,  3.02s/it]"
     ]
    },
    {
     "name": "stdout",
     "output_type": "stream",
     "text": [
      "Unnamed Hypergraph with 100 nodes and 347 hyperedges\n",
      "[5.e-02 5.e-04 5.e-06 5.e-08]\n"
     ]
    },
    {
     "name": "stderr",
     "output_type": "stream",
     "text": [
      "\r",
      " 28%|███████████▊                              | 28/100 [01:25<03:37,  3.02s/it]"
     ]
    },
    {
     "name": "stdout",
     "output_type": "stream",
     "text": [
      "Unnamed Hypergraph with 100 nodes and 355 hyperedges\n",
      "[5.e-02 5.e-04 5.e-06 5.e-08]\n"
     ]
    },
    {
     "name": "stderr",
     "output_type": "stream",
     "text": [
      "\r",
      " 29%|████████████▏                             | 29/100 [01:28<03:34,  3.02s/it]"
     ]
    },
    {
     "name": "stdout",
     "output_type": "stream",
     "text": [
      "Unnamed Hypergraph with 100 nodes and 341 hyperedges\n",
      "[5.e-02 5.e-04 5.e-06 5.e-08]\n"
     ]
    },
    {
     "name": "stderr",
     "output_type": "stream",
     "text": [
      "\r",
      " 30%|████████████▌                             | 30/100 [01:31<03:31,  3.02s/it]"
     ]
    },
    {
     "name": "stdout",
     "output_type": "stream",
     "text": [
      "Unnamed Hypergraph with 100 nodes and 318 hyperedges\n",
      "[5.e-02 5.e-04 5.e-06 5.e-08]\n"
     ]
    },
    {
     "name": "stderr",
     "output_type": "stream",
     "text": [
      "\r",
      " 31%|█████████████                             | 31/100 [01:34<03:28,  3.02s/it]"
     ]
    },
    {
     "name": "stdout",
     "output_type": "stream",
     "text": [
      "Unnamed Hypergraph with 100 nodes and 327 hyperedges\n",
      "[5.e-02 5.e-04 5.e-06 5.e-08]\n"
     ]
    },
    {
     "name": "stderr",
     "output_type": "stream",
     "text": [
      "\r",
      " 32%|█████████████▍                            | 32/100 [01:37<03:24,  3.01s/it]"
     ]
    },
    {
     "name": "stdout",
     "output_type": "stream",
     "text": [
      "Unnamed Hypergraph with 100 nodes and 344 hyperedges\n",
      "[5.e-02 5.e-04 5.e-06 5.e-08]\n"
     ]
    },
    {
     "name": "stderr",
     "output_type": "stream",
     "text": [
      "\r",
      " 33%|█████████████▊                            | 33/100 [01:40<03:21,  3.01s/it]"
     ]
    },
    {
     "name": "stdout",
     "output_type": "stream",
     "text": [
      "Unnamed Hypergraph with 100 nodes and 392 hyperedges\n",
      "[5.e-02 5.e-04 5.e-06 5.e-08]\n"
     ]
    },
    {
     "name": "stderr",
     "output_type": "stream",
     "text": [
      "\r",
      " 34%|██████████████▎                           | 34/100 [01:43<03:19,  3.02s/it]"
     ]
    },
    {
     "name": "stdout",
     "output_type": "stream",
     "text": [
      "Unnamed Hypergraph with 100 nodes and 379 hyperedges\n",
      "[5.e-02 5.e-04 5.e-06 5.e-08]\n"
     ]
    },
    {
     "name": "stderr",
     "output_type": "stream",
     "text": [
      "\r",
      " 35%|██████████████▋                           | 35/100 [01:46<03:16,  3.02s/it]"
     ]
    },
    {
     "name": "stdout",
     "output_type": "stream",
     "text": [
      "Unnamed Hypergraph with 100 nodes and 330 hyperedges\n",
      "[5.e-02 5.e-04 5.e-06 5.e-08]\n"
     ]
    },
    {
     "name": "stderr",
     "output_type": "stream",
     "text": [
      "\r",
      " 36%|███████████████                           | 36/100 [01:49<03:14,  3.03s/it]"
     ]
    },
    {
     "name": "stdout",
     "output_type": "stream",
     "text": [
      "Unnamed Hypergraph with 100 nodes and 349 hyperedges\n",
      "[5.e-02 5.e-04 5.e-06 5.e-08]\n"
     ]
    },
    {
     "name": "stderr",
     "output_type": "stream",
     "text": [
      "\r",
      " 37%|███████████████▌                          | 37/100 [01:52<03:15,  3.10s/it]"
     ]
    },
    {
     "name": "stdout",
     "output_type": "stream",
     "text": [
      "Unnamed Hypergraph with 100 nodes and 328 hyperedges\n",
      "[5.e-02 5.e-04 5.e-06 5.e-08]\n"
     ]
    },
    {
     "name": "stderr",
     "output_type": "stream",
     "text": [
      "\r",
      " 38%|███████████████▉                          | 38/100 [01:55<03:12,  3.11s/it]"
     ]
    },
    {
     "name": "stdout",
     "output_type": "stream",
     "text": [
      "Unnamed Hypergraph with 100 nodes and 349 hyperedges\n",
      "[5.e-02 5.e-04 5.e-06 5.e-08]\n"
     ]
    },
    {
     "name": "stderr",
     "output_type": "stream",
     "text": [
      "\r",
      " 39%|████████████████▍                         | 39/100 [01:58<03:09,  3.10s/it]"
     ]
    },
    {
     "name": "stdout",
     "output_type": "stream",
     "text": [
      "Unnamed Hypergraph with 100 nodes and 353 hyperedges\n",
      "[5.e-02 5.e-04 5.e-06 5.e-08]\n"
     ]
    },
    {
     "name": "stderr",
     "output_type": "stream",
     "text": [
      "\r",
      " 40%|████████████████▊                         | 40/100 [02:01<03:04,  3.08s/it]"
     ]
    },
    {
     "name": "stdout",
     "output_type": "stream",
     "text": [
      "Unnamed Hypergraph with 100 nodes and 357 hyperedges\n",
      "[5.e-02 5.e-04 5.e-06 5.e-08]\n"
     ]
    },
    {
     "name": "stderr",
     "output_type": "stream",
     "text": [
      "\r",
      " 41%|█████████████████▏                        | 41/100 [02:04<03:01,  3.08s/it]"
     ]
    },
    {
     "name": "stdout",
     "output_type": "stream",
     "text": [
      "Unnamed Hypergraph with 100 nodes and 315 hyperedges\n",
      "[5.e-02 5.e-04 5.e-06 5.e-08]\n"
     ]
    },
    {
     "name": "stderr",
     "output_type": "stream",
     "text": [
      "\r",
      " 42%|█████████████████▋                        | 42/100 [02:08<02:59,  3.09s/it]"
     ]
    },
    {
     "name": "stdout",
     "output_type": "stream",
     "text": [
      "Unnamed Hypergraph with 100 nodes and 384 hyperedges\n",
      "[5.e-02 5.e-04 5.e-06 5.e-08]\n"
     ]
    },
    {
     "name": "stderr",
     "output_type": "stream",
     "text": [
      "\r",
      " 43%|██████████████████                        | 43/100 [02:11<02:55,  3.08s/it]"
     ]
    },
    {
     "name": "stdout",
     "output_type": "stream",
     "text": [
      "Unnamed Hypergraph with 100 nodes and 333 hyperedges\n",
      "[5.e-02 5.e-04 5.e-06 5.e-08]\n"
     ]
    },
    {
     "name": "stderr",
     "output_type": "stream",
     "text": [
      "\r",
      " 44%|██████████████████▍                       | 44/100 [02:14<02:52,  3.09s/it]"
     ]
    },
    {
     "name": "stdout",
     "output_type": "stream",
     "text": [
      "Unnamed Hypergraph with 100 nodes and 336 hyperedges\n",
      "[5.e-02 5.e-04 5.e-06 5.e-08]\n"
     ]
    },
    {
     "name": "stderr",
     "output_type": "stream",
     "text": [
      "\r",
      " 45%|██████████████████▉                       | 45/100 [02:17<02:49,  3.08s/it]"
     ]
    },
    {
     "name": "stdout",
     "output_type": "stream",
     "text": [
      "Unnamed Hypergraph with 100 nodes and 337 hyperedges\n",
      "[5.e-02 5.e-04 5.e-06 5.e-08]\n"
     ]
    },
    {
     "name": "stderr",
     "output_type": "stream",
     "text": [
      "\r",
      " 46%|███████████████████▎                      | 46/100 [02:20<02:47,  3.10s/it]"
     ]
    },
    {
     "name": "stdout",
     "output_type": "stream",
     "text": [
      "Unnamed Hypergraph with 100 nodes and 333 hyperedges\n",
      "[5.e-02 5.e-04 5.e-06 5.e-08]\n"
     ]
    },
    {
     "name": "stderr",
     "output_type": "stream",
     "text": [
      "\r",
      " 47%|███████████████████▋                      | 47/100 [02:23<02:44,  3.11s/it]"
     ]
    },
    {
     "name": "stdout",
     "output_type": "stream",
     "text": [
      "Unnamed Hypergraph with 100 nodes and 363 hyperedges\n",
      "[5.e-02 5.e-04 5.e-06 5.e-08]\n"
     ]
    },
    {
     "name": "stderr",
     "output_type": "stream",
     "text": [
      "\r",
      " 48%|████████████████████▏                     | 48/100 [02:26<02:41,  3.11s/it]"
     ]
    },
    {
     "name": "stdout",
     "output_type": "stream",
     "text": [
      "Unnamed Hypergraph with 100 nodes and 329 hyperedges\n",
      "[5.e-02 5.e-04 5.e-06 5.e-08]\n"
     ]
    },
    {
     "name": "stderr",
     "output_type": "stream",
     "text": [
      "\r",
      " 49%|████████████████████▌                     | 49/100 [02:29<02:37,  3.10s/it]"
     ]
    },
    {
     "name": "stdout",
     "output_type": "stream",
     "text": [
      "Unnamed Hypergraph with 100 nodes and 339 hyperedges\n",
      "[5.e-02 5.e-04 5.e-06 5.e-08]\n"
     ]
    },
    {
     "name": "stderr",
     "output_type": "stream",
     "text": [
      "\r",
      " 50%|█████████████████████                     | 50/100 [02:32<02:35,  3.12s/it]"
     ]
    },
    {
     "name": "stdout",
     "output_type": "stream",
     "text": [
      "Unnamed Hypergraph with 100 nodes and 319 hyperedges\n",
      "[5.e-02 5.e-04 5.e-06 5.e-08]\n"
     ]
    },
    {
     "name": "stderr",
     "output_type": "stream",
     "text": [
      "\r",
      " 51%|█████████████████████▍                    | 51/100 [02:36<02:32,  3.11s/it]"
     ]
    },
    {
     "name": "stdout",
     "output_type": "stream",
     "text": [
      "Unnamed Hypergraph with 100 nodes and 336 hyperedges\n",
      "[5.e-02 5.e-04 5.e-06 5.e-08]\n"
     ]
    },
    {
     "name": "stderr",
     "output_type": "stream",
     "text": [
      "\r",
      " 52%|█████████████████████▊                    | 52/100 [02:39<02:29,  3.11s/it]"
     ]
    },
    {
     "name": "stdout",
     "output_type": "stream",
     "text": [
      "Unnamed Hypergraph with 100 nodes and 341 hyperedges\n",
      "[5.e-02 5.e-04 5.e-06 5.e-08]\n"
     ]
    },
    {
     "name": "stderr",
     "output_type": "stream",
     "text": [
      "\r",
      " 53%|██████████████████████▎                   | 53/100 [02:42<02:25,  3.10s/it]"
     ]
    },
    {
     "name": "stdout",
     "output_type": "stream",
     "text": [
      "Unnamed Hypergraph with 100 nodes and 355 hyperedges\n",
      "[5.e-02 5.e-04 5.e-06 5.e-08]\n"
     ]
    },
    {
     "name": "stderr",
     "output_type": "stream",
     "text": [
      "\r",
      " 54%|██████████████████████▋                   | 54/100 [02:45<02:23,  3.12s/it]"
     ]
    },
    {
     "name": "stdout",
     "output_type": "stream",
     "text": [
      "Unnamed Hypergraph with 100 nodes and 358 hyperedges\n",
      "[5.e-02 5.e-04 5.e-06 5.e-08]\n"
     ]
    },
    {
     "name": "stderr",
     "output_type": "stream",
     "text": [
      "\r",
      " 55%|███████████████████████                   | 55/100 [02:48<02:20,  3.11s/it]"
     ]
    },
    {
     "name": "stdout",
     "output_type": "stream",
     "text": [
      "Unnamed Hypergraph with 100 nodes and 334 hyperedges\n",
      "[5.e-02 5.e-04 5.e-06 5.e-08]\n"
     ]
    },
    {
     "name": "stderr",
     "output_type": "stream",
     "text": [
      "\r",
      " 56%|███████████████████████▌                  | 56/100 [02:51<02:16,  3.11s/it]"
     ]
    },
    {
     "name": "stdout",
     "output_type": "stream",
     "text": [
      "Unnamed Hypergraph with 100 nodes and 337 hyperedges\n",
      "[5.e-02 5.e-04 5.e-06 5.e-08]\n"
     ]
    },
    {
     "name": "stderr",
     "output_type": "stream",
     "text": [
      "\r",
      " 57%|███████████████████████▉                  | 57/100 [02:54<02:13,  3.10s/it]"
     ]
    },
    {
     "name": "stdout",
     "output_type": "stream",
     "text": [
      "Unnamed Hypergraph with 100 nodes and 329 hyperedges\n",
      "[5.e-02 5.e-04 5.e-06 5.e-08]\n"
     ]
    },
    {
     "name": "stderr",
     "output_type": "stream",
     "text": [
      "\r",
      " 58%|████████████████████████▎                 | 58/100 [02:57<02:10,  3.10s/it]"
     ]
    },
    {
     "name": "stdout",
     "output_type": "stream",
     "text": [
      "Unnamed Hypergraph with 100 nodes and 360 hyperedges\n",
      "[5.e-02 5.e-04 5.e-06 5.e-08]\n"
     ]
    },
    {
     "name": "stderr",
     "output_type": "stream",
     "text": [
      "\r",
      " 59%|████████████████████████▊                 | 59/100 [03:00<02:07,  3.10s/it]"
     ]
    },
    {
     "name": "stdout",
     "output_type": "stream",
     "text": [
      "Unnamed Hypergraph with 100 nodes and 343 hyperedges\n",
      "[5.e-02 5.e-04 5.e-06 5.e-08]\n"
     ]
    },
    {
     "name": "stderr",
     "output_type": "stream",
     "text": [
      "\r",
      " 60%|█████████████████████████▏                | 60/100 [03:03<02:04,  3.10s/it]"
     ]
    },
    {
     "name": "stdout",
     "output_type": "stream",
     "text": [
      "Unnamed Hypergraph with 100 nodes and 349 hyperedges\n",
      "[5.e-02 5.e-04 5.e-06 5.e-08]\n"
     ]
    },
    {
     "name": "stderr",
     "output_type": "stream",
     "text": [
      "\r",
      " 61%|█████████████████████████▌                | 61/100 [03:07<02:00,  3.10s/it]"
     ]
    },
    {
     "name": "stdout",
     "output_type": "stream",
     "text": [
      "Unnamed Hypergraph with 100 nodes and 329 hyperedges\n",
      "[5.e-02 5.e-04 5.e-06 5.e-08]\n"
     ]
    },
    {
     "name": "stderr",
     "output_type": "stream",
     "text": [
      "\r",
      " 62%|██████████████████████████                | 62/100 [03:10<01:58,  3.12s/it]"
     ]
    },
    {
     "name": "stdout",
     "output_type": "stream",
     "text": [
      "Unnamed Hypergraph with 100 nodes and 358 hyperedges\n",
      "[5.e-02 5.e-04 5.e-06 5.e-08]\n"
     ]
    },
    {
     "name": "stderr",
     "output_type": "stream",
     "text": [
      "\r",
      " 63%|██████████████████████████▍               | 63/100 [03:13<01:55,  3.11s/it]"
     ]
    },
    {
     "name": "stdout",
     "output_type": "stream",
     "text": [
      "Unnamed Hypergraph with 100 nodes and 359 hyperedges\n",
      "[5.e-02 5.e-04 5.e-06 5.e-08]\n"
     ]
    },
    {
     "name": "stderr",
     "output_type": "stream",
     "text": [
      "\r",
      " 64%|██████████████████████████▉               | 64/100 [03:16<01:51,  3.10s/it]"
     ]
    },
    {
     "name": "stdout",
     "output_type": "stream",
     "text": [
      "Unnamed Hypergraph with 100 nodes and 363 hyperedges\n",
      "[5.e-02 5.e-04 5.e-06 5.e-08]\n"
     ]
    },
    {
     "name": "stderr",
     "output_type": "stream",
     "text": [
      "\r",
      " 65%|███████████████████████████▎              | 65/100 [03:19<01:48,  3.10s/it]"
     ]
    },
    {
     "name": "stdout",
     "output_type": "stream",
     "text": [
      "Unnamed Hypergraph with 100 nodes and 364 hyperedges\n",
      "[5.e-02 5.e-04 5.e-06 5.e-08]\n"
     ]
    },
    {
     "name": "stderr",
     "output_type": "stream",
     "text": [
      "\r",
      " 66%|███████████████████████████▋              | 66/100 [03:22<01:45,  3.10s/it]"
     ]
    },
    {
     "name": "stdout",
     "output_type": "stream",
     "text": [
      "Unnamed Hypergraph with 100 nodes and 346 hyperedges\n",
      "[5.e-02 5.e-04 5.e-06 5.e-08]\n"
     ]
    },
    {
     "name": "stderr",
     "output_type": "stream",
     "text": [
      "\r",
      " 67%|████████████████████████████▏             | 67/100 [03:25<01:42,  3.10s/it]"
     ]
    },
    {
     "name": "stdout",
     "output_type": "stream",
     "text": [
      "Unnamed Hypergraph with 100 nodes and 344 hyperedges\n",
      "[5.e-02 5.e-04 5.e-06 5.e-08]\n"
     ]
    },
    {
     "name": "stderr",
     "output_type": "stream",
     "text": [
      "\r",
      " 68%|████████████████████████████▌             | 68/100 [03:28<01:39,  3.10s/it]"
     ]
    },
    {
     "name": "stdout",
     "output_type": "stream",
     "text": [
      "Unnamed Hypergraph with 100 nodes and 345 hyperedges\n",
      "[5.e-02 5.e-04 5.e-06 5.e-08]\n"
     ]
    },
    {
     "name": "stderr",
     "output_type": "stream",
     "text": [
      "\r",
      " 69%|████████████████████████████▉             | 69/100 [03:31<01:35,  3.09s/it]"
     ]
    },
    {
     "name": "stdout",
     "output_type": "stream",
     "text": [
      "Unnamed Hypergraph with 100 nodes and 382 hyperedges\n",
      "[5.e-02 5.e-04 5.e-06 5.e-08]\n"
     ]
    },
    {
     "name": "stderr",
     "output_type": "stream",
     "text": [
      "\r",
      " 70%|█████████████████████████████▍            | 70/100 [03:34<01:32,  3.09s/it]"
     ]
    },
    {
     "name": "stdout",
     "output_type": "stream",
     "text": [
      "Unnamed Hypergraph with 100 nodes and 352 hyperedges\n",
      "[5.e-02 5.e-04 5.e-06 5.e-08]\n"
     ]
    },
    {
     "name": "stderr",
     "output_type": "stream",
     "text": [
      "\r",
      " 71%|█████████████████████████████▊            | 71/100 [03:37<01:29,  3.09s/it]"
     ]
    },
    {
     "name": "stdout",
     "output_type": "stream",
     "text": [
      "Unnamed Hypergraph with 100 nodes and 341 hyperedges\n",
      "[5.e-02 5.e-04 5.e-06 5.e-08]\n"
     ]
    },
    {
     "name": "stderr",
     "output_type": "stream",
     "text": [
      "\r",
      " 72%|██████████████████████████████▏           | 72/100 [03:41<01:26,  3.08s/it]"
     ]
    },
    {
     "name": "stdout",
     "output_type": "stream",
     "text": [
      "Unnamed Hypergraph with 100 nodes and 347 hyperedges\n",
      "[5.e-02 5.e-04 5.e-06 5.e-08]\n"
     ]
    },
    {
     "name": "stderr",
     "output_type": "stream",
     "text": [
      "\r",
      " 73%|██████████████████████████████▋           | 73/100 [03:44<01:23,  3.09s/it]"
     ]
    },
    {
     "name": "stdout",
     "output_type": "stream",
     "text": [
      "Unnamed Hypergraph with 100 nodes and 344 hyperedges\n",
      "[5.e-02 5.e-04 5.e-06 5.e-08]\n"
     ]
    },
    {
     "name": "stderr",
     "output_type": "stream",
     "text": [
      "\r",
      " 74%|███████████████████████████████           | 74/100 [03:47<01:21,  3.13s/it]"
     ]
    },
    {
     "name": "stdout",
     "output_type": "stream",
     "text": [
      "Unnamed Hypergraph with 100 nodes and 336 hyperedges\n",
      "[5.e-02 5.e-04 5.e-06 5.e-08]\n"
     ]
    },
    {
     "name": "stderr",
     "output_type": "stream",
     "text": [
      "\r",
      " 75%|███████████████████████████████▌          | 75/100 [03:50<01:18,  3.13s/it]"
     ]
    },
    {
     "name": "stdout",
     "output_type": "stream",
     "text": [
      "Unnamed Hypergraph with 100 nodes and 344 hyperedges\n",
      "[5.e-02 5.e-04 5.e-06 5.e-08]\n"
     ]
    },
    {
     "name": "stderr",
     "output_type": "stream",
     "text": [
      "\r",
      " 76%|███████████████████████████████▉          | 76/100 [03:53<01:14,  3.12s/it]"
     ]
    },
    {
     "name": "stdout",
     "output_type": "stream",
     "text": [
      "Unnamed Hypergraph with 100 nodes and 356 hyperedges\n",
      "[5.e-02 5.e-04 5.e-06 5.e-08]\n"
     ]
    },
    {
     "name": "stderr",
     "output_type": "stream",
     "text": [
      "\r",
      " 77%|████████████████████████████████▎         | 77/100 [03:56<01:11,  3.12s/it]"
     ]
    },
    {
     "name": "stdout",
     "output_type": "stream",
     "text": [
      "Unnamed Hypergraph with 100 nodes and 357 hyperedges\n",
      "[5.e-02 5.e-04 5.e-06 5.e-08]\n"
     ]
    },
    {
     "name": "stderr",
     "output_type": "stream",
     "text": [
      "\r",
      " 78%|████████████████████████████████▊         | 78/100 [03:59<01:08,  3.12s/it]"
     ]
    },
    {
     "name": "stdout",
     "output_type": "stream",
     "text": [
      "Unnamed Hypergraph with 100 nodes and 338 hyperedges\n",
      "[5.e-02 5.e-04 5.e-06 5.e-08]\n"
     ]
    },
    {
     "name": "stderr",
     "output_type": "stream",
     "text": [
      "\r",
      " 79%|█████████████████████████████████▏        | 79/100 [04:02<01:05,  3.13s/it]"
     ]
    },
    {
     "name": "stdout",
     "output_type": "stream",
     "text": [
      "Unnamed Hypergraph with 100 nodes and 357 hyperedges\n",
      "[5.e-02 5.e-04 5.e-06 5.e-08]\n"
     ]
    },
    {
     "name": "stderr",
     "output_type": "stream",
     "text": [
      "\r",
      " 80%|█████████████████████████████████▌        | 80/100 [04:06<01:02,  3.13s/it]"
     ]
    },
    {
     "name": "stdout",
     "output_type": "stream",
     "text": [
      "Unnamed Hypergraph with 100 nodes and 363 hyperedges\n",
      "[5.e-02 5.e-04 5.e-06 5.e-08]\n"
     ]
    },
    {
     "name": "stderr",
     "output_type": "stream",
     "text": [
      "\r",
      " 81%|██████████████████████████████████        | 81/100 [04:09<00:59,  3.12s/it]"
     ]
    },
    {
     "name": "stdout",
     "output_type": "stream",
     "text": [
      "Unnamed Hypergraph with 100 nodes and 368 hyperedges\n",
      "[5.e-02 5.e-04 5.e-06 5.e-08]\n"
     ]
    },
    {
     "name": "stderr",
     "output_type": "stream",
     "text": [
      "\r",
      " 82%|██████████████████████████████████▍       | 82/100 [04:12<00:56,  3.12s/it]"
     ]
    },
    {
     "name": "stdout",
     "output_type": "stream",
     "text": [
      "Unnamed Hypergraph with 100 nodes and 357 hyperedges\n",
      "[5.e-02 5.e-04 5.e-06 5.e-08]\n"
     ]
    },
    {
     "name": "stderr",
     "output_type": "stream",
     "text": [
      "\r",
      " 83%|██████████████████████████████████▊       | 83/100 [04:15<00:52,  3.11s/it]"
     ]
    },
    {
     "name": "stdout",
     "output_type": "stream",
     "text": [
      "Unnamed Hypergraph with 100 nodes and 349 hyperedges\n",
      "[5.e-02 5.e-04 5.e-06 5.e-08]\n"
     ]
    },
    {
     "name": "stderr",
     "output_type": "stream",
     "text": [
      "\r",
      " 84%|███████████████████████████████████▎      | 84/100 [04:18<00:49,  3.11s/it]"
     ]
    },
    {
     "name": "stdout",
     "output_type": "stream",
     "text": [
      "Unnamed Hypergraph with 100 nodes and 342 hyperedges\n",
      "[5.e-02 5.e-04 5.e-06 5.e-08]\n"
     ]
    },
    {
     "name": "stderr",
     "output_type": "stream",
     "text": [
      "\r",
      " 85%|███████████████████████████████████▋      | 85/100 [04:21<00:46,  3.11s/it]"
     ]
    },
    {
     "name": "stdout",
     "output_type": "stream",
     "text": [
      "Unnamed Hypergraph with 100 nodes and 369 hyperedges\n",
      "[5.e-02 5.e-04 5.e-06 5.e-08]\n"
     ]
    },
    {
     "name": "stderr",
     "output_type": "stream",
     "text": [
      "\r",
      " 86%|████████████████████████████████████      | 86/100 [04:24<00:43,  3.11s/it]"
     ]
    },
    {
     "name": "stdout",
     "output_type": "stream",
     "text": [
      "Unnamed Hypergraph with 100 nodes and 402 hyperedges\n",
      "[5.e-02 5.e-04 5.e-06 5.e-08]\n"
     ]
    },
    {
     "name": "stderr",
     "output_type": "stream",
     "text": [
      "\r",
      " 87%|████████████████████████████████████▌     | 87/100 [04:27<00:40,  3.12s/it]"
     ]
    },
    {
     "name": "stdout",
     "output_type": "stream",
     "text": [
      "Unnamed Hypergraph with 100 nodes and 354 hyperedges\n",
      "[5.e-02 5.e-04 5.e-06 5.e-08]\n"
     ]
    },
    {
     "name": "stderr",
     "output_type": "stream",
     "text": [
      "\r",
      " 88%|████████████████████████████████████▉     | 88/100 [04:31<00:37,  3.12s/it]"
     ]
    },
    {
     "name": "stdout",
     "output_type": "stream",
     "text": [
      "Unnamed Hypergraph with 100 nodes and 345 hyperedges\n",
      "[5.e-02 5.e-04 5.e-06 5.e-08]\n"
     ]
    },
    {
     "name": "stderr",
     "output_type": "stream",
     "text": [
      "\r",
      " 89%|█████████████████████████████████████▍    | 89/100 [04:34<00:34,  3.11s/it]"
     ]
    },
    {
     "name": "stdout",
     "output_type": "stream",
     "text": [
      "Unnamed Hypergraph with 100 nodes and 374 hyperedges\n",
      "[5.e-02 5.e-04 5.e-06 5.e-08]\n"
     ]
    },
    {
     "name": "stderr",
     "output_type": "stream",
     "text": [
      "\r",
      " 90%|█████████████████████████████████████▊    | 90/100 [04:37<00:31,  3.11s/it]"
     ]
    },
    {
     "name": "stdout",
     "output_type": "stream",
     "text": [
      "Unnamed Hypergraph with 100 nodes and 352 hyperedges\n",
      "[5.e-02 5.e-04 5.e-06 5.e-08]\n"
     ]
    },
    {
     "name": "stderr",
     "output_type": "stream",
     "text": [
      "\r",
      " 91%|██████████████████████████████████████▏   | 91/100 [04:40<00:27,  3.10s/it]"
     ]
    },
    {
     "name": "stdout",
     "output_type": "stream",
     "text": [
      "Unnamed Hypergraph with 100 nodes and 365 hyperedges\n",
      "[5.e-02 5.e-04 5.e-06 5.e-08]\n"
     ]
    },
    {
     "name": "stderr",
     "output_type": "stream",
     "text": [
      "\r",
      " 92%|██████████████████████████████████████▋   | 92/100 [04:43<00:24,  3.10s/it]"
     ]
    },
    {
     "name": "stdout",
     "output_type": "stream",
     "text": [
      "Unnamed Hypergraph with 100 nodes and 363 hyperedges\n",
      "[5.e-02 5.e-04 5.e-06 5.e-08]\n"
     ]
    },
    {
     "name": "stderr",
     "output_type": "stream",
     "text": [
      "\r",
      " 93%|███████████████████████████████████████   | 93/100 [04:46<00:21,  3.09s/it]"
     ]
    },
    {
     "name": "stdout",
     "output_type": "stream",
     "text": [
      "Unnamed Hypergraph with 100 nodes and 349 hyperedges\n",
      "[5.e-02 5.e-04 5.e-06 5.e-08]\n"
     ]
    },
    {
     "name": "stderr",
     "output_type": "stream",
     "text": [
      "\r",
      " 94%|███████████████████████████████████████▍  | 94/100 [04:49<00:18,  3.09s/it]"
     ]
    },
    {
     "name": "stdout",
     "output_type": "stream",
     "text": [
      "Unnamed Hypergraph with 100 nodes and 371 hyperedges\n",
      "[5.e-02 5.e-04 5.e-06 5.e-08]\n"
     ]
    },
    {
     "name": "stderr",
     "output_type": "stream",
     "text": [
      "\r",
      " 95%|███████████████████████████████████████▉  | 95/100 [04:52<00:15,  3.08s/it]"
     ]
    },
    {
     "name": "stdout",
     "output_type": "stream",
     "text": [
      "Unnamed Hypergraph with 100 nodes and 351 hyperedges\n",
      "[5.e-02 5.e-04 5.e-06 5.e-08]\n"
     ]
    },
    {
     "name": "stderr",
     "output_type": "stream",
     "text": [
      "\r",
      " 96%|████████████████████████████████████████▎ | 96/100 [04:55<00:12,  3.08s/it]"
     ]
    },
    {
     "name": "stdout",
     "output_type": "stream",
     "text": [
      "Unnamed Hypergraph with 100 nodes and 361 hyperedges\n",
      "[5.e-02 5.e-04 5.e-06 5.e-08]\n"
     ]
    },
    {
     "name": "stderr",
     "output_type": "stream",
     "text": [
      "\r",
      " 97%|████████████████████████████████████████▋ | 97/100 [04:58<00:09,  3.08s/it]"
     ]
    },
    {
     "name": "stdout",
     "output_type": "stream",
     "text": [
      "Unnamed Hypergraph with 100 nodes and 382 hyperedges\n",
      "[5.e-02 5.e-04 5.e-06 5.e-08]\n"
     ]
    },
    {
     "name": "stderr",
     "output_type": "stream",
     "text": [
      "\r",
      " 98%|█████████████████████████████████████████▏| 98/100 [05:01<00:06,  3.08s/it]"
     ]
    },
    {
     "name": "stdout",
     "output_type": "stream",
     "text": [
      "Unnamed Hypergraph with 100 nodes and 350 hyperedges\n",
      "[5.e-02 5.e-04 5.e-06 5.e-08]\n"
     ]
    },
    {
     "name": "stderr",
     "output_type": "stream",
     "text": [
      "\r",
      " 99%|█████████████████████████████████████████▌| 99/100 [05:04<00:03,  3.08s/it]"
     ]
    },
    {
     "name": "stdout",
     "output_type": "stream",
     "text": [
      "Unnamed Hypergraph with 100 nodes and 351 hyperedges\n",
      "[5.e-02 5.e-04 5.e-06 5.e-08]\n"
     ]
    },
    {
     "name": "stderr",
     "output_type": "stream",
     "text": [
      "100%|█████████████████████████████████████████| 100/100 [05:08<00:00,  3.08s/it]"
     ]
    },
    {
     "name": "stdout",
     "output_type": "stream",
     "text": [
      "Unnamed Hypergraph with 100 nodes and 361 hyperedges\n"
     ]
    },
    {
     "name": "stderr",
     "output_type": "stream",
     "text": [
      "\n"
     ]
    }
   ],
   "source": [
    "N = 100\n",
    "ps = np.array([1 / N, 1 / N**2, 1 / N**3, 1 / N**4]) # wiring probas\n",
    "density_scales = [5]\n",
    "\n",
    "n_rep = 100\n",
    "\n",
    "rescale = False\n",
    "\n",
    "Hs = dict()\n",
    "for density in density_scales:\n",
    "    Hs_i = []\n",
    "    for i in tqdm(range(n_rep)):\n",
    "        print(density * ps)\n",
    "        H = xgi.random_hypergraph(N, density * ps)\n",
    "        print(H)\n",
    "        Hs_i.append(H)\n",
    "    Hs[density] = Hs_i\n",
    "\n",
    "orders = np.array(xgi.unique_edge_sizes(Hs[density_scales[0]][0])) - 1\n",
    "weights = np.ones(len(orders))"
   ]
  },
  {
   "cell_type": "code",
   "execution_count": 241,
   "id": "301d0cea",
   "metadata": {},
   "outputs": [
    {
     "name": "stderr",
     "output_type": "stream",
     "text": [
      "100%|█████████████████████████████████████████| 100/100 [05:50<00:00,  3.50s/it]\n"
     ]
    }
   ],
   "source": [
    "info_losses = dict()\n",
    "complexities = dict()\n",
    "orders_arr = dict()\n",
    "message_lengths = dict()\n",
    "\n",
    "for density, Hs_i in Hs.items():\n",
    "    \n",
    "    info_losses_i = []\n",
    "    complexities_i = []\n",
    "    orders_arr_i = []\n",
    "    message_lengths_i = []\n",
    "    \n",
    "    for H0 in tqdm(Hs_i):\n",
    "        \n",
    "        orders = np.array(xgi.unique_edge_sizes(H0)) - 1\n",
    "        weights = np.ones(len(orders))\n",
    "        #tau_c = find_charact_tau(H0, orders, weights, rescale_per_node=rescale)\n",
    "        #Ds_H, lZs_H, orders = compute_information(H0, tau_c, rescale_per_node=rescale)\n",
    "        tau_c = find_charact_tau(H0, orders, weights, rescale_per_node=rescale)\n",
    "        inverse_rescaling_factors = [sigma(max(orders)) / sigma(d) for d in orders]\n",
    "        Ds_H, lZs_H = optimization(H0, tau_c, rescaling_factors=inverse_rescaling_factors, rescale_per_node=rescale)\n",
    "\n",
    "        info_losses_i.append(Ds_H)\n",
    "        complexities_i.append(lZs_H)\n",
    "        orders_arr_i.append(orders)\n",
    "        message_lengths_i.append(Ds_H + lZs_H)\n",
    "                  \n",
    "    info_losses[density] = info_losses_i\n",
    "    complexities[density] = complexities_i\n",
    "    orders_arr[density] = orders_arr_i\n",
    "    message_lengths[density] = message_lengths_i                          \n",
    "\n",
    "labels = [f\"{i}\" for i in density_scales]"
   ]
  },
  {
   "cell_type": "code",
   "execution_count": 242,
   "id": "b3b05ee0",
   "metadata": {},
   "outputs": [],
   "source": [
    "for i, s in enumerate(density_scales):\n",
    "    message_lengths[s] = pad_arr_list(message_lengths[s])"
   ]
  },
  {
   "cell_type": "code",
   "execution_count": 243,
   "id": "ed62a37d",
   "metadata": {},
   "outputs": [
    {
     "data": {
      "text/html": [
       "<div>\n",
       "<style scoped>\n",
       "    .dataframe tbody tr th:only-of-type {\n",
       "        vertical-align: middle;\n",
       "    }\n",
       "\n",
       "    .dataframe tbody tr th {\n",
       "        vertical-align: top;\n",
       "    }\n",
       "\n",
       "    .dataframe thead th {\n",
       "        text-align: right;\n",
       "    }\n",
       "</style>\n",
       "<table border=\"1\" class=\"dataframe\">\n",
       "  <thead>\n",
       "    <tr style=\"text-align: right;\">\n",
       "      <th></th>\n",
       "      <th></th>\n",
       "      <th>0</th>\n",
       "    </tr>\n",
       "  </thead>\n",
       "  <tbody>\n",
       "    <tr>\n",
       "      <th rowspan=\"11\" valign=\"top\">10</th>\n",
       "      <th>0</th>\n",
       "      <td>[0.014436101789460271, 0.014484669195806349, 0...</td>\n",
       "    </tr>\n",
       "    <tr>\n",
       "      <th>1</th>\n",
       "      <td>[0.025928630692527772, 0.025598515214244128, 0...</td>\n",
       "    </tr>\n",
       "    <tr>\n",
       "      <th>2</th>\n",
       "      <td>[0.0227531353501272, 0.021994442780176274, 0.0...</td>\n",
       "    </tr>\n",
       "    <tr>\n",
       "      <th>3</th>\n",
       "      <td>[0.02028899467549193, 0.019849607273032234, 0....</td>\n",
       "    </tr>\n",
       "    <tr>\n",
       "      <th>4</th>\n",
       "      <td>[0.022271614844766596, 0.022114299474241744, 0...</td>\n",
       "    </tr>\n",
       "    <tr>\n",
       "      <th>...</th>\n",
       "      <td>...</td>\n",
       "    </tr>\n",
       "    <tr>\n",
       "      <th>95</th>\n",
       "      <td>[0.017366043146319007, 0.01731804558080505, 0....</td>\n",
       "    </tr>\n",
       "    <tr>\n",
       "      <th>96</th>\n",
       "      <td>[0.0200248422669762, 0.019822375957212958, 0.0...</td>\n",
       "    </tr>\n",
       "    <tr>\n",
       "      <th>97</th>\n",
       "      <td>[0.01737953669933426, 0.017203097327861547, 0....</td>\n",
       "    </tr>\n",
       "    <tr>\n",
       "      <th>98</th>\n",
       "      <td>[0.018146028046136336, 0.017942002177686184, 0...</td>\n",
       "    </tr>\n",
       "    <tr>\n",
       "      <th>99</th>\n",
       "      <td>[0.015463738138179497, 0.014977897589849992, 0...</td>\n",
       "    </tr>\n",
       "  </tbody>\n",
       "</table>\n",
       "<p>100 rows × 1 columns</p>\n",
       "</div>"
      ],
      "text/plain": [
       "                                                       0\n",
       "10 0   [0.014436101789460271, 0.014484669195806349, 0...\n",
       "   1   [0.025928630692527772, 0.025598515214244128, 0...\n",
       "   2   [0.0227531353501272, 0.021994442780176274, 0.0...\n",
       "   3   [0.02028899467549193, 0.019849607273032234, 0....\n",
       "   4   [0.022271614844766596, 0.022114299474241744, 0...\n",
       "...                                                  ...\n",
       "   95  [0.017366043146319007, 0.01731804558080505, 0....\n",
       "   96  [0.0200248422669762, 0.019822375957212958, 0.0...\n",
       "   97  [0.01737953669933426, 0.017203097327861547, 0....\n",
       "   98  [0.018146028046136336, 0.017942002177686184, 0...\n",
       "   99  [0.015463738138179497, 0.014977897589849992, 0...\n",
       "\n",
       "[100 rows x 1 columns]"
      ]
     },
     "execution_count": 243,
     "metadata": {},
     "output_type": "execute_result"
    }
   ],
   "source": [
    "df = pd.DataFrame.from_dict(message_lengths, orient=\"index\").stack().to_frame()\n",
    "df"
   ]
  },
  {
   "cell_type": "code",
   "execution_count": 244,
   "id": "2c7c6835",
   "metadata": {},
   "outputs": [
    {
     "data": {
      "text/html": [
       "<div>\n",
       "<style scoped>\n",
       "    .dataframe tbody tr th:only-of-type {\n",
       "        vertical-align: middle;\n",
       "    }\n",
       "\n",
       "    .dataframe tbody tr th {\n",
       "        vertical-align: top;\n",
       "    }\n",
       "\n",
       "    .dataframe thead th {\n",
       "        text-align: right;\n",
       "    }\n",
       "</style>\n",
       "<table border=\"1\" class=\"dataframe\">\n",
       "  <thead>\n",
       "    <tr style=\"text-align: right;\">\n",
       "      <th></th>\n",
       "      <th></th>\n",
       "      <th>1</th>\n",
       "      <th>2</th>\n",
       "      <th>3</th>\n",
       "      <th>4</th>\n",
       "    </tr>\n",
       "  </thead>\n",
       "  <tbody>\n",
       "    <tr>\n",
       "      <th rowspan=\"11\" valign=\"top\">10</th>\n",
       "      <th>0</th>\n",
       "      <td>0.014436</td>\n",
       "      <td>0.014485</td>\n",
       "      <td>0.013883</td>\n",
       "      <td>0.011733</td>\n",
       "    </tr>\n",
       "    <tr>\n",
       "      <th>1</th>\n",
       "      <td>0.025929</td>\n",
       "      <td>0.025599</td>\n",
       "      <td>0.024456</td>\n",
       "      <td>0.021198</td>\n",
       "    </tr>\n",
       "    <tr>\n",
       "      <th>2</th>\n",
       "      <td>0.022753</td>\n",
       "      <td>0.021994</td>\n",
       "      <td>0.020419</td>\n",
       "      <td>0.018506</td>\n",
       "    </tr>\n",
       "    <tr>\n",
       "      <th>3</th>\n",
       "      <td>0.020289</td>\n",
       "      <td>0.019850</td>\n",
       "      <td>0.019311</td>\n",
       "      <td>0.016539</td>\n",
       "    </tr>\n",
       "    <tr>\n",
       "      <th>4</th>\n",
       "      <td>0.022272</td>\n",
       "      <td>0.022114</td>\n",
       "      <td>0.020839</td>\n",
       "      <td>0.018312</td>\n",
       "    </tr>\n",
       "    <tr>\n",
       "      <th>...</th>\n",
       "      <td>...</td>\n",
       "      <td>...</td>\n",
       "      <td>...</td>\n",
       "      <td>...</td>\n",
       "    </tr>\n",
       "    <tr>\n",
       "      <th>95</th>\n",
       "      <td>0.017366</td>\n",
       "      <td>0.017318</td>\n",
       "      <td>0.016833</td>\n",
       "      <td>0.014154</td>\n",
       "    </tr>\n",
       "    <tr>\n",
       "      <th>96</th>\n",
       "      <td>0.020025</td>\n",
       "      <td>0.019822</td>\n",
       "      <td>0.019141</td>\n",
       "      <td>0.016417</td>\n",
       "    </tr>\n",
       "    <tr>\n",
       "      <th>97</th>\n",
       "      <td>0.017380</td>\n",
       "      <td>0.017203</td>\n",
       "      <td>0.017006</td>\n",
       "      <td>0.013972</td>\n",
       "    </tr>\n",
       "    <tr>\n",
       "      <th>98</th>\n",
       "      <td>0.018146</td>\n",
       "      <td>0.017942</td>\n",
       "      <td>0.017189</td>\n",
       "      <td>0.014859</td>\n",
       "    </tr>\n",
       "    <tr>\n",
       "      <th>99</th>\n",
       "      <td>0.015464</td>\n",
       "      <td>0.014978</td>\n",
       "      <td>0.014380</td>\n",
       "      <td>0.012716</td>\n",
       "    </tr>\n",
       "  </tbody>\n",
       "</table>\n",
       "<p>100 rows × 4 columns</p>\n",
       "</div>"
      ],
      "text/plain": [
       "              1         2         3         4\n",
       "10 0   0.014436  0.014485  0.013883  0.011733\n",
       "   1   0.025929  0.025599  0.024456  0.021198\n",
       "   2   0.022753  0.021994  0.020419  0.018506\n",
       "   3   0.020289  0.019850  0.019311  0.016539\n",
       "   4   0.022272  0.022114  0.020839  0.018312\n",
       "...         ...       ...       ...       ...\n",
       "   95  0.017366  0.017318  0.016833  0.014154\n",
       "   96  0.020025  0.019822  0.019141  0.016417\n",
       "   97  0.017380  0.017203  0.017006  0.013972\n",
       "   98  0.018146  0.017942  0.017189  0.014859\n",
       "   99  0.015464  0.014978  0.014380  0.012716\n",
       "\n",
       "[100 rows x 4 columns]"
      ]
     },
     "execution_count": 244,
     "metadata": {},
     "output_type": "execute_result"
    }
   ],
   "source": [
    "def unpack_list(row):\n",
    "    return pd.Series(row[0])\n",
    "\n",
    "# Apply the function and join the new columns to the DataFrame\n",
    "df[orders] = df.apply(unpack_list, axis=1)\n",
    "df = df[orders]\n",
    "\n",
    "df"
   ]
  },
  {
   "cell_type": "code",
   "execution_count": 245,
   "id": "91395cf7",
   "metadata": {},
   "outputs": [],
   "source": [
    "dff = df.reset_index(names=[\"density\", \"rep\"]).melt(\n",
    "    id_vars=[\"density\", \"rep\"],\n",
    "    value_vars=orders,\n",
    "    var_name=\"order\",\n",
    "    value_name=\"message_length\",\n",
    ")"
   ]
  },
  {
   "cell_type": "code",
   "execution_count": 246,
   "id": "8f13e0d8",
   "metadata": {},
   "outputs": [
    {
     "name": "stdout",
     "output_type": "stream",
     "text": [
      "p-value annotation legend:\n",
      "      ns: p <= 1.00e+00\n",
      "       *: 1.00e-02 < p <= 5.00e-02\n",
      "      **: 1.00e-03 < p <= 1.00e-02\n",
      "     ***: 1.00e-04 < p <= 1.00e-03\n",
      "    ****: p <= 1.00e-04\n",
      "\n",
      "1 vs. 2: Welch's t-test independent samples, P_val:7.019e-01 t=3.834e-01\n",
      "2 vs. 3: Welch's t-test independent samples, P_val:2.067e-01 t=1.267e+00\n",
      "3 vs. 4: Welch's t-test independent samples, P_val:8.692e-07 t=5.082e+00\n",
      "1 vs. 3: Welch's t-test independent samples, P_val:1.001e-01 t=1.652e+00\n",
      "2 vs. 4: Welch's t-test independent samples, P_val:2.839e-09 t=6.233e+00\n",
      "1 vs. 4: Welch's t-test independent samples, P_val:4.100e-10 t=6.593e+00\n"
     ]
    },
    {
     "data": {
      "image/png": "[encoded data removed]",
      "text/plain": [
       "<Figure size 300x300 with 1 Axes>"
      ]
     },
     "metadata": {},
     "output_type": "display_data"
    }
   ],
   "source": [
    "from statannotations.Annotator import Annotator\n",
    "\n",
    "fix, ax = plt.subplots(figsize=(3, 3))\n",
    "\n",
    "#palette = sb.color_palette(\"Set1\", n_colors=4)\n",
    "\n",
    "#box_params = {\n",
    "#    'boxprops':{'facecolor':'none'},\n",
    "#    'medianprops':{'color':'silver'},\n",
    "    #'whiskerprops':{'color':'blue'},\n",
    "    #'capprops':{'color':'yellow'}\n",
    "#}\n",
    "\n",
    "sb.boxplot(data=dff, x=\"order\", y=\"message_length\", ax=ax)#, **box_params)\n",
    "\n",
    "sb.stripplot(data=dff, x=\"order\", y=\"message_length\", ax=ax, color=\"black\", dodge=True, alpha=0.2)#, legend=False)\n",
    "\n",
    "sb.despine()\n",
    "ax.set_title(rf\"Random HG, N={N}, nrep={n_rep}, ps=[$N^{{-1}}$, $1 N^{{-2}}$, ..,  $N^{{-4}}$] * ${density_scales}$\", weight=\"bold\")\n",
    "\n",
    "\n",
    "pairs = list(combinations(orders, 2))\n",
    "\n",
    "annotator = Annotator(ax, pairs, data=dff, y=\"message_length\", x=\"order\")\n",
    "annotator.configure(test='t-test_welch', text_format='star', loc='inside')\n",
    "annotator.apply_and_annotate()\n",
    "\n",
    "fig_name = f\"message_length_RHG_N{N}_pwiring_{density_scales}_nreps_{n_rep}_boxplot\"\n",
    "plt.savefig(f\"{out_dir}{fig_name}.png\", dpi=250, bbox_inches=\"tight\")\n"
   ]
  },
  {
   "cell_type": "code",
   "execution_count": null,
   "id": "a4188df5",
   "metadata": {},
   "outputs": [],
   "source": []
  },
  {
   "cell_type": "code",
   "execution_count": null,
   "id": "1f7b7089",
   "metadata": {},
   "outputs": [],
   "source": []
  }
 ],
 "metadata": {
  "kernelspec": {
   "display_name": "venv_xgi",
   "language": "python",
   "name": "venv_xgi"
  },
  "language_info": {
   "codemirror_mode": {
    "name": "ipython",
    "version": 3
   },
   "file_extension": ".py",
   "mimetype": "text/x-python",
   "name": "python",
   "nbconvert_exporter": "python",
   "pygments_lexer": "ipython3",
   "version": "3.9.13"
  },
  "toc": {
   "base_numbering": 1,
   "nav_menu": {},
   "number_sections": true,
   "sideBar": true,
   "skip_h1_title": false,
   "title_cell": "Table of Contents",
   "title_sidebar": "Contents",
   "toc_cell": false,
   "toc_position": {},
   "toc_section_display": true,
   "toc_window_display": true
  }
 },
 "nbformat": 4,
 "nbformat_minor": 5
}
