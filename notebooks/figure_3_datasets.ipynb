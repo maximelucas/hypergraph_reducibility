{
 "cells": [
  {
   "cell_type": "markdown",
   "id": "591a1ba5",
   "metadata": {},
   "source": [
    "## Figures"
   ]
  },
  {
   "cell_type": "code",
   "execution_count": 11,
   "id": "daa915a3",
   "metadata": {},
   "outputs": [],
   "source": [
    "import sys\n",
    "import warnings\n",
    "\n",
    "import networkx as nx\n",
    "import numpy as np\n",
    "import matplotlib.pyplot as plt\n",
    "import pandas as pd\n",
    "import seaborn as sb\n",
    "from tqdm import tqdm\n",
    "from itertools import combinations\n",
    "from tqdm import tqdm\n",
    "\n",
    "sys.path.append(\"../src/\")\n",
    "\n",
    "import xgi\n",
    "from reducibility_hg import *\n",
    "\n",
    "from statannotations.Annotator import Annotator\n",
    "\n",
    "sb.set_theme(style=\"ticks\", context=\"paper\")"
   ]
  },
  {
   "cell_type": "code",
   "execution_count": 2,
   "id": "b8413cfa",
   "metadata": {},
   "outputs": [],
   "source": [
    "results_dir = \"../results/\"\n",
    "out_dir = f\"{results_dir}datasets/\""
   ]
  },
  {
   "cell_type": "code",
   "execution_count": 3,
   "id": "8e3b7267",
   "metadata": {},
   "outputs": [],
   "source": [
    "# def sigma(d):\n",
    "#    \"\"\"\n",
    "#    Return d*(d+1)/2, the sum of the first d integers\"\"\"\n",
    "#    return d * (d + 1) / 2"
   ]
  },
  {
   "cell_type": "markdown",
   "id": "73c7d302",
   "metadata": {},
   "source": [
    "## try dataset"
   ]
  },
  {
   "cell_type": "code",
   "execution_count": 4,
   "id": "489b5f7f",
   "metadata": {},
   "outputs": [
    {
     "name": "stdout",
     "output_type": "stream",
     "text": [
      "Available datasets are the following:\n",
      "coauth-dblp\n",
      "coauth-mag-geology\n",
      "coauth-mag-history\n",
      "congress-bills\n",
      "contact-high-school\n",
      "contact-primary-school\n",
      "dawn\n",
      "diseasome\n",
      "disgenenet\n",
      "email-enron\n",
      "email-eu\n",
      "hospital-lyon\n",
      "hypertext-conference\n",
      "invs13\n",
      "invs15\n",
      "kaggle-whats-cooking\n",
      "malawi-village\n",
      "ndc-classes\n",
      "ndc-substances\n",
      "science-gallery\n",
      "sfhh-conference\n",
      "tags-ask-ubuntu\n",
      "tags-math-sx\n",
      "tags-stack-overflow\n"
     ]
    }
   ],
   "source": [
    "xgi.load_xgi_data()"
   ]
  },
  {
   "cell_type": "code",
   "execution_count": 13,
   "id": "96a8c49b",
   "metadata": {},
   "outputs": [
    {
     "name": "stderr",
     "output_type": "stream",
     "text": [
      "100%|█████████████████████████████████████████████| 1/1 [00:03<00:00,  3.37s/it]\n"
     ]
    }
   ],
   "source": [
    "data_names = [\n",
    "    # \"email-enron\",\n",
    "    #\"email-eu\",\n",
    "    # \"kaggle-whats-cooking\",\n",
    "    #\"hospital-lyon\",\n",
    "    #\"contact-high-school\",\n",
    "    # \"contact-primary-school\",\n",
    "    #\"sfhh-conference\",\n",
    "    #\"hypertext-conference\",\n",
    "    #\"science-gallery\",\n",
    "    \"tags-ask-ubuntu\",\n",
    "    #\"tags-math-sx\",\n",
    "    #\"tags-stack-overflow\",\n",
    "    #\"congress-bills\",\n",
    "    #\"disgenenet\",\n",
    "    #\"diseasome\",\n",
    "    #\"malawi-village\",\n",
    "    #\"ndc-classes\",\n",
    "    # \"ndc-substances\",\n",
    "    # \"coauth-mag-geology\",\n",
    "    # \"coauth-mag-history\",\n",
    "    # \"coauth-dblp\",\n",
    "    #\"dawn\"\n",
    "]\n",
    "\n",
    "HGs = {}\n",
    "for name in tqdm(data_names):\n",
    "    HGs[name] = xgi.load_xgi_data(name, max_order=None, cache=True)"
   ]
  },
  {
   "cell_type": "code",
   "execution_count": 14,
   "id": "5802bb60",
   "metadata": {},
   "outputs": [
    {
     "name": "stdout",
     "output_type": "stream",
     "text": [
      "tags-ask-ubuntu\n",
      "Hypergraph named tags-ask-ubuntu with 3029 nodes and 271233 hyperedges\n",
      "max order: 4\n",
      "Hypergraph named tags-ask-ubuntu with 3021 nodes and 145053 hyperedges\n"
     ]
    }
   ],
   "source": [
    "i = 0  # choose dataset here\n",
    "name = data_names[i]\n",
    "print(name)\n",
    "H0 = HGs[name]\n",
    "print(H0)\n",
    "print(\"max order:\", xgi.max_edge_order(H0))\n",
    "H0.cleanup(isolates=True)\n",
    "print(H0)\n",
    "\n",
    "orders = np.array(xgi.unique_edge_sizes(H0)) - 1\n",
    "weights = np.ones(len(orders))\n",
    "N = H0.num_nodes\n",
    "\n",
    "rescale = True"
   ]
  },
  {
   "cell_type": "code",
   "execution_count": 15,
   "id": "84bfe049",
   "metadata": {},
   "outputs": [],
   "source": [
    "# slice by years for coauthorship\n",
    "\n",
    "# years = [H0.edges[i][\"timestamp\"] for i in H0.edges]+\n",
    "# year = 1988\n",
    "# idx_keep = np.where(np.array(years)==year)[0]\n",
    "# idx_keep\n",
    "# H = xgi.subhypergraph(H0, edges=idx_keep).copy()\n",
    "\n",
    "# print(H)\n",
    "# H.cleanup(isolates=False, singletons=True, connected=True)\n",
    "# print(H)\n",
    "\n",
    "# H0 = H\n",
    "# orders = np.array(xgi.unique_edge_sizes(H0)) - 1\n",
    "# weights = np.ones(len(orders))\n",
    "# N = H0.num_nodes"
   ]
  },
  {
   "cell_type": "code",
   "execution_count": 16,
   "id": "87151d2a",
   "metadata": {},
   "outputs": [],
   "source": [
    "sparse = False"
   ]
  },
  {
   "cell_type": "code",
   "execution_count": 17,
   "id": "7f3c35b8",
   "metadata": {},
   "outputs": [
    {
     "data": {
      "text/plain": [
       "0.0033688303050038735"
      ]
     },
     "execution_count": 17,
     "metadata": {},
     "output_type": "execute_result"
    }
   ],
   "source": [
    "with warnings.catch_warnings():\n",
    "    warnings.simplefilter(\"ignore\", category=UserWarning)\n",
    "    \n",
    "    tau_c = find_charact_tau(H0, orders, weights, rescale_per_node=rescale, sparse_Lap=True, idx=-1)\n",
    "tau_c"
   ]
  },
  {
   "cell_type": "code",
   "execution_count": null,
   "id": "ac8d43f6",
   "metadata": {
    "scrolled": false
   },
   "outputs": [],
   "source": [
    "inverse_rescaling_factors = [max(orders) / d for d in orders]\n",
    "\n",
    "with warnings.catch_warnings():\n",
    "    warnings.simplefilter(\"ignore\", category=UserWarning)\n",
    "    \n",
    "    Ds_H, lZs_H = optimization(\n",
    "    H0,\n",
    "    tau_c,\n",
    "    rescaling_factors=inverse_rescaling_factors,\n",
    "    rescale_per_node=rescale,\n",
    "    sparse=sparse,\n",
    "    sparse_Lap=True\n",
    ")"
   ]
  },
  {
   "cell_type": "code",
   "execution_count": null,
   "id": "6cbdcacb",
   "metadata": {},
   "outputs": [],
   "source": [
    "np.savez(\n",
    "    f\"{out_dir}/message_length_{name}.npz\",\n",
    "    # f\"{out_dir}/message_length_{name}_{year}.npz\",\n",
    "    message_length=Ds_H + lZs_H,\n",
    "    KL=Ds_H,\n",
    "    complexity=lZs_H,\n",
    "    orders=orders,\n",
    "    dataset=name,\n",
    "    # year=year,\n",
    "    N=N,\n",
    ")"
   ]
  },
  {
   "cell_type": "code",
   "execution_count": null,
   "id": "a3ae3a7e",
   "metadata": {},
   "outputs": [],
   "source": [
    "fig, ax = plt.subplots(1, 1, figsize=(2.7, 2))\n",
    "\n",
    "message_length = Ds_H + lZs_H\n",
    "ax.plot(orders, message_length, \"o-\")\n",
    "\n",
    "\n",
    "ax.set_ylabel(\"Message Length\")\n",
    "ax.set_xlabel(\"Max Order\")\n",
    "ax.set_title(\"functional complex.\")\n",
    "\n",
    "# ax.set_title(f\"{name} {year}, N={N}\")\n",
    "ax.set_title(f\"{name}, N={N}\")\n",
    "\n",
    "sb.despine()\n",
    "\n",
    "# fig_name = f\"message_length_{name}_{year}_rescaled_tauc\"\n",
    "fig_name = f\"message_length_{name}_rescaled_tauc\"\n",
    "\n",
    "#plt.savefig(f\"{out_dir}{fig_name}.png\", dpi=250, bbox_inches=\"tight\")"
   ]
  },
  {
   "cell_type": "code",
   "execution_count": null,
   "id": "29b63d75",
   "metadata": {},
   "outputs": [],
   "source": [
    "fig, axs = plt.subplots(1, 3, figsize=(4.5, 1.5), sharey=True)\n",
    "\n",
    "message_length = Ds_H + lZs_H\n",
    "\n",
    "axs[0].plot(orders, Ds_H, \"o-\")\n",
    "axs[0].set_title(\"information\")\n",
    "\n",
    "axs[1].plot(orders, lZs_H, \"o-\")\n",
    "axs[1].set_title(\"complexity\")\n",
    "\n",
    "axs[2].plot(orders, message_length, \"o-\")\n",
    "axs[2].set_title(\"mess. length\")\n",
    "\n",
    "\n",
    "axs[0].set_ylabel(\"Message Length\")\n",
    "axs[0].set_xlabel(\"Max Order\")\n",
    "axs[1].set_xlabel(\"Max Order\")\n",
    "axs[2].set_xlabel(\"Max Order\")\n",
    "\n",
    "order_argmin = np.argmin(message_length)\n",
    "order_min = orders[order_argmin]\n",
    "\n",
    "axs[2].axvline(order_min, ls=\"--\", c=\"grey\", zorder=-2)\n",
    "\n",
    "# ax.set_title(\"functional complex.\")\n",
    "\n",
    "# ax.set_title(f\"{name} {year}, N={N}\")\n",
    "# fig.suptitle(f\"{name}_{year}\")\n",
    "fig.suptitle(f\"{name}\")\n",
    "\n",
    "sb.despine()\n",
    "plt.subplots_adjust(top=0.65)\n",
    "\n",
    "# fig_name = f\"message_length_{name}_{year}_rescaled_tauc_full\"\n",
    "fig_name = f\"message_length_{name}_rescaled_tauc_full\"\n",
    "\n",
    "#plt.savefig(f\"{out_dir}{fig_name}.png\", dpi=250, bbox_inches=\"tight\")"
   ]
  },
  {
   "cell_type": "raw",
   "id": "4f48545c",
   "metadata": {},
   "source": [
    "order\n",
    "\n"
   ]
  },
  {
   "cell_type": "code",
   "execution_count": null,
   "id": "a43799da",
   "metadata": {},
   "outputs": [],
   "source": []
  },
  {
   "cell_type": "code",
   "execution_count": null,
   "id": "99f521e6",
   "metadata": {},
   "outputs": [],
   "source": []
  },
  {
   "cell_type": "code",
   "execution_count": 17,
   "id": "219bf107",
   "metadata": {},
   "outputs": [
    {
     "data": {
      "text/plain": [
       "1.3862943611198906"
      ]
     },
     "execution_count": 17,
     "metadata": {},
     "output_type": "execute_result"
    }
   ],
   "source": [
    "np.log(4)"
   ]
  },
  {
   "cell_type": "markdown",
   "id": "be3a9e81",
   "metadata": {},
   "source": [
    "## all together"
   ]
  },
  {
   "cell_type": "code",
   "execution_count": 18,
   "id": "6437390c",
   "metadata": {},
   "outputs": [
    {
     "name": "stderr",
     "output_type": "stream",
     "text": [
      "100%|█████████████████████████████████████████████| 3/3 [00:02<00:00,  1.21it/s]\n"
     ]
    }
   ],
   "source": [
    "data_names = [\n",
    "    \"email-enron\",\n",
    "    # \"email-eu\",\n",
    "    \"hospital-lyon\",\n",
    "    \"contact-high-school\",\n",
    "    # \"contact-primary-school\",\n",
    "    # \"tags-ask-ubuntu\",\n",
    "    # \"congress-bills\",\n",
    "    # \"disgenenet\",\n",
    "    # \"diseasome\",\n",
    "    # \"ndc-substances\",\n",
    "    # \"coauth-mag-geology\",\n",
    "    # \"coauth-mag-history\",\n",
    "]\n",
    "\n",
    "HGs = {}\n",
    "for name in tqdm(data_names):\n",
    "    HGs[name] = xgi.load_xgi_data(name, max_order=None, cache=True)"
   ]
  },
  {
   "cell_type": "code",
   "execution_count": 19,
   "id": "f09b6d34",
   "metadata": {},
   "outputs": [
    {
     "name": "stderr",
     "output_type": "stream",
     "text": [
      "\r",
      "  0%|                                                     | 0/3 [00:00<?, ?it/s]"
     ]
    },
    {
     "name": "stdout",
     "output_type": "stream",
     "text": [
      "Hypergraph named email-Enron with 148 nodes and 10885 hyperedges\n",
      "max order: 36\n",
      "Hypergraph named email-Enron with 143 nodes and 1459 hyperedges\n"
     ]
    },
    {
     "name": "stderr",
     "output_type": "stream",
     "text": [
      "\r",
      " 33%|███████████████                              | 1/3 [00:18<00:36, 18.28s/it]"
     ]
    },
    {
     "name": "stdout",
     "output_type": "stream",
     "text": [
      "Hypergraph named hospital-lyon with 75 nodes and 27834 hyperedges\n",
      "max order: 4\n",
      "Hypergraph named hospital-lyon with 75 nodes and 1824 hyperedges\n"
     ]
    },
    {
     "name": "stderr",
     "output_type": "stream",
     "text": [
      "\r",
      " 67%|██████████████████████████████               | 2/3 [00:19<00:08,  8.45s/it]"
     ]
    },
    {
     "name": "stdout",
     "output_type": "stream",
     "text": [
      "Hypergraph named contact-high-school with 327 nodes and 172035 hyperedges\n",
      "max order: 4\n",
      "Hypergraph named contact-high-school with 327 nodes and 7818 hyperedges\n",
      "logm result may be inaccurate, approximate err = 5.128841825295042e-13\n",
      "logm result may be inaccurate, approximate err = 4.641378397856407e-13\n",
      "logm result may be inaccurate, approximate err = 5.128841825295042e-13\n",
      "logm result may be inaccurate, approximate err = 4.887420895249281e-13\n",
      "logm result may be inaccurate, approximate err = 5.128841825295042e-13\n",
      "logm result may be inaccurate, approximate err = 4.570432369407865e-13\n",
      "logm result may be inaccurate, approximate err = 5.128841825295042e-13\n"
     ]
    },
    {
     "name": "stderr",
     "output_type": "stream",
     "text": [
      "100%|█████████████████████████████████████████████| 3/3 [00:29<00:00,  9.88s/it]"
     ]
    },
    {
     "name": "stdout",
     "output_type": "stream",
     "text": [
      "logm result may be inaccurate, approximate err = 5.128841825295042e-13\n"
     ]
    },
    {
     "name": "stderr",
     "output_type": "stream",
     "text": [
      "\n"
     ]
    }
   ],
   "source": [
    "rescale = True\n",
    "\n",
    "message_length_arr = []\n",
    "orders_arr = []\n",
    "\n",
    "for i, H0 in enumerate(tqdm(HGs)):\n",
    "\n",
    "    # load and clean\n",
    "    name = data_names[i]\n",
    "    H0 = HGs[name]\n",
    "    print(H0)\n",
    "    print(\"max order:\", xgi.max_edge_order(H0))\n",
    "    H0.cleanup(isolates=True)\n",
    "    print(H0)\n",
    "\n",
    "    orders = np.array(xgi.unique_edge_sizes(H0)) - 1\n",
    "    weights = np.ones(len(orders))\n",
    "    N = H0.num_nodes\n",
    "\n",
    "    # compute\n",
    "    tau_c = find_charact_tau(H0, orders, weights, rescale_per_node=rescale, idx=-1)\n",
    "\n",
    "    inverse_rescaling_factors = [max(orders) / d for d in orders]\n",
    "    Ds_H, lZs_H = optimization(\n",
    "        H0, tau_c, rescaling_factors=inverse_rescaling_factors, rescale_per_node=rescale\n",
    "    )\n",
    "\n",
    "    message_length = Ds_H + lZs_H\n",
    "\n",
    "    message_length_arr.append(message_length)\n",
    "    orders_arr.append(orders)"
   ]
  },
  {
   "cell_type": "code",
   "execution_count": 20,
   "id": "de7c9287",
   "metadata": {},
   "outputs": [
    {
     "data": {
      "image/png": "[encoded data removed]",
      "text/plain": [
       "<Figure size 380x80 with 3 Axes>"
      ]
     },
     "metadata": {},
     "output_type": "display_data"
    }
   ],
   "source": [
    "fig, axs = plt.subplots(\n",
    "    1, len(data_names), figsize=(3.8, 0.8), sharey=False\n",
    ")  # , layout=\"constrained\")\n",
    "\n",
    "for i, name in enumerate(data_names):\n",
    "\n",
    "    ax = axs[i]\n",
    "    ax.plot(orders_arr[i], message_length_arr[i], \"o-\", ms=4)\n",
    "\n",
    "    order_argmin = np.argmin(message_length_arr[i])\n",
    "    order_min = orders_arr[i][order_argmin]\n",
    "\n",
    "    ax.axvline(order_min, ls=\"--\", c=\"grey\", zorder=-2)\n",
    "    ax.set_xlabel(\"Max Order\")\n",
    "    ax.ticklabel_format(\n",
    "        axis=\"y\", style=\"scientific\", scilimits=(0, 0), useMathText=True, useOffset=True\n",
    "    )\n",
    "\n",
    "    ax.set_title(name, fontsize=\"small\", style=\"italic\")\n",
    "\n",
    "axs[0].set_ylabel(\"Message length\")\n",
    "axs[0].set_xticks([1, 15, 30])\n",
    "axs[1].set_xticks([1, 2, 3, 4])\n",
    "axs[2].set_xticks([1, 2, 3, 4])\n",
    "\n",
    "plt.subplots_adjust(wspace=0.5)\n",
    "\n",
    "sb.despine()\n",
    "\n",
    "fig_name = f\"figure_3\"\n",
    "plt.savefig(f\"{out_dir}{fig_name}.png\", dpi=250, bbox_inches=\"tight\")\n",
    "plt.savefig(f\"{out_dir}{fig_name}.pdf\", dpi=250, bbox_inches=\"tight\")"
   ]
  },
  {
   "cell_type": "code",
   "execution_count": null,
   "id": "3d4e8586",
   "metadata": {},
   "outputs": [],
   "source": []
  }
 ],
 "metadata": {
  "kernelspec": {
   "display_name": "venv_xgi",
   "language": "python",
   "name": "venv_xgi"
  },
  "language_info": {
   "codemirror_mode": {
    "name": "ipython",
    "version": 3
   },
   "file_extension": ".py",
   "mimetype": "text/x-python",
   "name": "python",
   "nbconvert_exporter": "python",
   "pygments_lexer": "ipython3",
   "version": "3.9.13"
  },
  "toc": {
   "base_numbering": 1,
   "nav_menu": {},
   "number_sections": true,
   "sideBar": true,
   "skip_h1_title": false,
   "title_cell": "Table of Contents",
   "title_sidebar": "Contents",
   "toc_cell": false,
   "toc_position": {
    "height": "calc(100% - 180px)",
    "left": "10px",
    "top": "150px",
    "width": "288.188px"
   },
   "toc_section_display": true,
   "toc_window_display": true
  }
 },
 "nbformat": 4,
 "nbformat_minor": 5
}
