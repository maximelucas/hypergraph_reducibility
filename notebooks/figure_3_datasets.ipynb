{
 "cells": [
  {
   "cell_type": "markdown",
   "id": "591a1ba5",
   "metadata": {},
   "source": [
    "## Figures"
   ]
  },
  {
   "cell_type": "code",
   "execution_count": 1,
   "id": "daa915a3",
   "metadata": {},
   "outputs": [],
   "source": [
    "import sys\n",
    "\n",
    "import networkx as nx\n",
    "import numpy as np\n",
    "import matplotlib.pyplot as plt\n",
    "import pandas as pd\n",
    "import seaborn as sb\n",
    "from tqdm import tqdm\n",
    "from itertools import combinations\n",
    "from tqdm import tqdm\n",
    "\n",
    "sys.path.append(\"../src/\")\n",
    "\n",
    "import xgi\n",
    "from reducibility_hg import *\n",
    "\n",
    "from statannotations.Annotator import Annotator\n",
    "\n",
    "sb.set_theme(style=\"ticks\", context=\"paper\")"
   ]
  },
  {
   "cell_type": "code",
   "execution_count": 2,
   "id": "b8413cfa",
   "metadata": {},
   "outputs": [],
   "source": [
    "results_dir = \"../results/\"\n",
    "out_dir = f\"{results_dir}datasets/\""
   ]
  },
  {
   "cell_type": "code",
   "execution_count": 3,
   "id": "8e3b7267",
   "metadata": {},
   "outputs": [],
   "source": [
    "# def sigma(d):\n",
    "#    \"\"\"\n",
    "#    Return d*(d+1)/2, the sum of the first d integers\"\"\"\n",
    "#    return d * (d + 1) / 2"
   ]
  },
  {
   "cell_type": "markdown",
   "id": "73c7d302",
   "metadata": {},
   "source": [
    "## try dataset"
   ]
  },
  {
   "cell_type": "code",
   "execution_count": 4,
   "id": "489b5f7f",
   "metadata": {},
   "outputs": [
    {
     "name": "stdout",
     "output_type": "stream",
     "text": [
      "Available datasets are the following:\n",
      "coauth-dblp\n",
      "coauth-mag-geology\n",
      "coauth-mag-history\n",
      "congress-bills\n",
      "contact-high-school\n",
      "contact-primary-school\n",
      "dawn\n",
      "diseasome\n",
      "disgenenet\n",
      "email-enron\n",
      "email-eu\n",
      "hospital-lyon\n",
      "hypertext-conference\n",
      "invs13\n",
      "invs15\n",
      "kaggle-whats-cooking\n",
      "malawi-village\n",
      "ndc-classes\n",
      "ndc-substances\n",
      "science-gallery\n",
      "sfhh-conference\n",
      "tags-ask-ubuntu\n",
      "tags-math-sx\n",
      "tags-stack-overflow\n"
     ]
    }
   ],
   "source": [
    "xgi.load_xgi_data()"
   ]
  },
  {
   "cell_type": "code",
   "execution_count": 5,
   "id": "96a8c49b",
   "metadata": {},
   "outputs": [
    {
     "name": "stderr",
     "output_type": "stream",
     "text": [
      "100%|█████████████████████████████████████████████| 1/1 [00:00<00:00,  1.35it/s]\n"
     ]
    }
   ],
   "source": [
    "data_names = [\n",
    "    # \"email-enron\",\n",
    "    # \"email-eu\",\n",
    "    # \"kaggle-whats-cooking\",\n",
    "    \"hospital-lyon\",\n",
    "    # \"contact-high-school\",\n",
    "    # \"contact-primary-school\",\n",
    "    # \"tags-ask-ubuntu\",\n",
    "    # \"congress-bills\",\n",
    "    # \"disgenenet\",\n",
    "    # \"diseasome\",\n",
    "    # \"ndc-substances\",\n",
    "    # \"coauth-mag-geology\",\n",
    "    # \"coauth-mag-history\",\n",
    "    # \"coauth-dblp\",\n",
    "    # \"dawn\"\n",
    "]\n",
    "\n",
    "HGs = {}\n",
    "for name in tqdm(data_names):\n",
    "    HGs[name] = xgi.load_xgi_data(name, max_order=None, cache=True)"
   ]
  },
  {
   "cell_type": "code",
   "execution_count": null,
   "id": "35f17f1c",
   "metadata": {},
   "outputs": [],
   "source": []
  },
  {
   "cell_type": "code",
   "execution_count": null,
   "id": "8c88241c",
   "metadata": {},
   "outputs": [],
   "source": []
  },
  {
   "cell_type": "code",
   "execution_count": null,
   "id": "55fe1990",
   "metadata": {},
   "outputs": [],
   "source": []
  },
  {
   "cell_type": "code",
   "execution_count": 6,
   "id": "5802bb60",
   "metadata": {},
   "outputs": [
    {
     "name": "stdout",
     "output_type": "stream",
     "text": [
      "hospital-lyon\n",
      "Hypergraph named hospital-lyon with 75 nodes and 27834 hyperedges\n",
      "max order: 4\n",
      "Hypergraph named hospital-lyon with 75 nodes and 1824 hyperedges\n"
     ]
    }
   ],
   "source": [
    "i = 0  # choose dataset here\n",
    "name = data_names[i]\n",
    "print(name)\n",
    "H0 = HGs[name]\n",
    "print(H0)\n",
    "print(\"max order:\", xgi.max_edge_order(H0))\n",
    "H0.cleanup(isolates=True)\n",
    "print(H0)\n",
    "\n",
    "orders = np.array(xgi.unique_edge_sizes(H0)) - 1\n",
    "weights = np.ones(len(orders))\n",
    "N = H0.num_nodes\n",
    "\n",
    "rescale = True"
   ]
  },
  {
   "cell_type": "code",
   "execution_count": 7,
   "id": "84bfe049",
   "metadata": {},
   "outputs": [],
   "source": [
    "# slice by years for coauthorship\n",
    "\n",
    "# years = [H0.edges[i][\"timestamp\"] for i in H0.edges]+\n",
    "# year = 1988\n",
    "# idx_keep = np.where(np.array(years)==year)[0]\n",
    "# idx_keep\n",
    "# H = xgi.subhypergraph(H0, edges=idx_keep).copy()\n",
    "\n",
    "# print(H)\n",
    "# H.cleanup(isolates=False, singletons=True, connected=True)\n",
    "# print(H)\n",
    "\n",
    "# H0 = H\n",
    "# orders = np.array(xgi.unique_edge_sizes(H0)) - 1\n",
    "# weights = np.ones(len(orders))\n",
    "# N = H0.num_nodes"
   ]
  },
  {
   "cell_type": "code",
   "execution_count": 8,
   "id": "87151d2a",
   "metadata": {},
   "outputs": [],
   "source": [
    "sparse = False"
   ]
  },
  {
   "cell_type": "code",
   "execution_count": 9,
   "id": "7f3c35b8",
   "metadata": {},
   "outputs": [
    {
     "data": {
      "text/plain": [
       "0.02799023438260927"
      ]
     },
     "execution_count": 9,
     "metadata": {},
     "output_type": "execute_result"
    }
   ],
   "source": [
    "tau_c = find_charact_tau(H0, orders, weights, rescale_per_node=rescale, sparse=sparse)\n",
    "tau_c"
   ]
  },
  {
   "cell_type": "code",
   "execution_count": 22,
   "id": "ac8d43f6",
   "metadata": {
    "scrolled": false
   },
   "outputs": [
    {
     "name": "stdout",
     "output_type": "stream",
     "text": [
      "logm result may be inaccurate, approximate err = 5.128841825295042e-13\n",
      "logm result may be inaccurate, approximate err = 4.641378397856407e-13\n",
      "logm result may be inaccurate, approximate err = 5.128841825295042e-13\n",
      "logm result may be inaccurate, approximate err = 4.887420895249281e-13\n",
      "logm result may be inaccurate, approximate err = 5.128841825295042e-13\n",
      "logm result may be inaccurate, approximate err = 4.570432369407865e-13\n",
      "logm result may be inaccurate, approximate err = 5.128841825295042e-13\n",
      "logm result may be inaccurate, approximate err = 5.128841825295042e-13\n"
     ]
    }
   ],
   "source": [
    "inverse_rescaling_factors = [max(orders) / d for d in orders]\n",
    "Ds_H, lZs_H = optimization(\n",
    "    H0, tau_c, rescaling_factors=inverse_rescaling_factors, rescale_per_node=rescale\n",
    ")  # , sparse=sparse)"
   ]
  },
  {
   "cell_type": "code",
   "execution_count": null,
   "id": "0862c680",
   "metadata": {},
   "outputs": [],
   "source": []
  },
  {
   "cell_type": "code",
   "execution_count": 11,
   "id": "fffea6ea",
   "metadata": {},
   "outputs": [],
   "source": [
    "Ds_H2, lZs_H2 = Ds_H, lZs_H"
   ]
  },
  {
   "cell_type": "code",
   "execution_count": 23,
   "id": "86c99247",
   "metadata": {},
   "outputs": [
    {
     "data": {
      "text/plain": [
       "False"
      ]
     },
     "execution_count": 23,
     "metadata": {},
     "output_type": "execute_result"
    }
   ],
   "source": [
    "np.allclose(lZs_H2, lZs_H)"
   ]
  },
  {
   "cell_type": "code",
   "execution_count": 25,
   "id": "0c51bb35",
   "metadata": {},
   "outputs": [
    {
     "data": {
      "text/plain": [
       "[<matplotlib.lines.Line2D at 0x28f932cd0>]"
      ]
     },
     "execution_count": 25,
     "metadata": {},
     "output_type": "execute_result"
    },
    {
     "data": {
      "image/png": "[encoded data removed]",
      "text/plain": [
       "<Figure size 640x480 with 1 Axes>"
      ]
     },
     "metadata": {},
     "output_type": "display_data"
    }
   ],
   "source": [
    "plt.plot(Ds_H2)\n",
    "plt.plot(Ds_H)\n",
    "\n",
    "# plt.plot(lZs_H2)\n",
    "# plt.plot(lZs_H)"
   ]
  },
  {
   "cell_type": "code",
   "execution_count": 7,
   "id": "b29a045b",
   "metadata": {},
   "outputs": [],
   "source": [
    "import scipy as sc"
   ]
  },
  {
   "cell_type": "code",
   "execution_count": 8,
   "id": "b5cee349",
   "metadata": {},
   "outputs": [],
   "source": [
    "n = 4000\n",
    "m = np.random.random((n, n))"
   ]
  },
  {
   "cell_type": "code",
   "execution_count": 9,
   "id": "d3a71fb5",
   "metadata": {},
   "outputs": [
    {
     "name": "stdout",
     "output_type": "stream",
     "text": [
      "12.5 s ± 482 ms per loop (mean ± std. dev. of 7 runs, 1 loop each)\n"
     ]
    }
   ],
   "source": [
    "%timeit dens1 = density(m, tau = 2, sparse=False)"
   ]
  },
  {
   "cell_type": "code",
   "execution_count": 65,
   "id": "fff1d7d8",
   "metadata": {},
   "outputs": [
    {
     "name": "stdout",
     "output_type": "stream",
     "text": [
      "7.49 s ± 363 ms per loop (mean ± std. dev. of 7 runs, 1 loop each)\n"
     ]
    }
   ],
   "source": [
    "%timeit dens2 = density(m, tau = 2, sparse=True)"
   ]
  },
  {
   "cell_type": "code",
   "execution_count": 66,
   "id": "53187054",
   "metadata": {},
   "outputs": [
    {
     "data": {
      "text/plain": [
       "True"
      ]
     },
     "execution_count": 66,
     "metadata": {},
     "output_type": "execute_result"
    }
   ],
   "source": [
    "np.allclose(dens1, dens2)"
   ]
  },
  {
   "cell_type": "code",
   "execution_count": null,
   "id": "c6faa537",
   "metadata": {},
   "outputs": [],
   "source": []
  },
  {
   "cell_type": "code",
   "execution_count": null,
   "id": "67679ebd",
   "metadata": {},
   "outputs": [],
   "source": []
  },
  {
   "cell_type": "code",
   "execution_count": 44,
   "id": "45d0d46d",
   "metadata": {},
   "outputs": [],
   "source": [
    "lambdas = np.linalg.eigvalsh(m)  # Calculate eigenvalues of L"
   ]
  },
  {
   "cell_type": "code",
   "execution_count": 50,
   "id": "993c14b5",
   "metadata": {},
   "outputs": [],
   "source": [
    "expL = np.exp(lambdas)"
   ]
  },
  {
   "cell_type": "code",
   "execution_count": 51,
   "id": "fa9f7511",
   "metadata": {},
   "outputs": [],
   "source": [
    "expL2 = sc.linalg.expm(m)"
   ]
  },
  {
   "cell_type": "code",
   "execution_count": 52,
   "id": "a89710ba",
   "metadata": {},
   "outputs": [
    {
     "data": {
      "text/plain": [
       "False"
      ]
     },
     "execution_count": 52,
     "metadata": {},
     "output_type": "execute_result"
    }
   ],
   "source": [
    "np.allclose(expL2, expL)"
   ]
  },
  {
   "cell_type": "code",
   "execution_count": 53,
   "id": "b0b52725",
   "metadata": {},
   "outputs": [
    {
     "data": {
      "text/plain": [
       "array([[1.45198469e+214, 1.48563845e+214, 1.46640895e+214, ...,\n",
       "        1.44074309e+214, 1.50525571e+214, 1.45811232e+214],\n",
       "       [1.41930469e+214, 1.45220100e+214, 1.43340430e+214, ...,\n",
       "        1.40831610e+214, 1.47137673e+214, 1.42529440e+214],\n",
       "       [1.45881278e+214, 1.49262479e+214, 1.47330486e+214, ...,\n",
       "        1.44751830e+214, 1.51233430e+214, 1.46496922e+214],\n",
       "       ...,\n",
       "       [1.46492795e+214, 1.49888170e+214, 1.47948078e+214, ...,\n",
       "        1.45358613e+214, 1.51867383e+214, 1.47111020e+214],\n",
       "       [1.51084177e+214, 1.54585971e+214, 1.52585072e+214, ...,\n",
       "        1.49914448e+214, 1.56627216e+214, 1.51721779e+214],\n",
       "       [1.48610504e+214, 1.52054963e+214, 1.50086825e+214, ...,\n",
       "        1.47459927e+214, 1.54062788e+214, 1.49237666e+214]])"
      ]
     },
     "execution_count": 53,
     "metadata": {},
     "output_type": "execute_result"
    }
   ],
   "source": [
    "expL2"
   ]
  },
  {
   "cell_type": "code",
   "execution_count": 54,
   "id": "ada70e46",
   "metadata": {},
   "outputs": [
    {
     "data": {
      "text/plain": [
       "array([1.41134269e-008, 2.07239822e-008, 2.08853640e-008, 2.18789435e-008,\n",
       "       2.57288667e-008, 2.77035748e-008, 2.97903325e-008, 3.12557904e-008,\n",
       "       3.62629457e-008, 3.72717048e-008, 4.03943479e-008, 4.41552993e-008,\n",
       "       4.67448466e-008, 5.02130372e-008, 5.49609417e-008, 6.03694080e-008,\n",
       "       6.38816726e-008, 6.88198692e-008, 7.06330203e-008, 7.12525922e-008,\n",
       "       8.35849512e-008, 8.54312428e-008, 9.29517000e-008, 1.03761620e-007,\n",
       "       1.08841458e-007, 1.23670819e-007, 1.28367820e-007, 1.35602631e-007,\n",
       "       1.43195713e-007, 1.50365096e-007, 1.59747239e-007, 1.67634675e-007,\n",
       "       1.76281787e-007, 1.79388037e-007, 1.84958629e-007, 1.89013633e-007,\n",
       "       2.24453453e-007, 2.26843692e-007, 2.40094482e-007, 2.40737203e-007,\n",
       "       2.45933215e-007, 2.52577455e-007, 2.60460927e-007, 2.93284527e-007,\n",
       "       3.02734418e-007, 3.20293180e-007, 3.44188554e-007, 3.55868560e-007,\n",
       "       3.82467466e-007, 3.96802827e-007, 4.43663094e-007, 4.65155905e-007,\n",
       "       4.80759176e-007, 5.00974989e-007, 5.21001249e-007, 5.50419002e-007,\n",
       "       5.64725848e-007, 5.84781003e-007, 6.10235675e-007, 6.77571903e-007,\n",
       "       7.24491916e-007, 7.56454608e-007, 7.78471978e-007, 7.85730116e-007,\n",
       "       8.40401296e-007, 8.85902183e-007, 9.61345726e-007, 9.92246519e-007,\n",
       "       1.04318835e-006, 1.08742217e-006, 1.13786700e-006, 1.18015079e-006,\n",
       "       1.22441085e-006, 1.24151994e-006, 1.29052840e-006, 1.35718425e-006,\n",
       "       1.37749802e-006, 1.47576899e-006, 1.52257221e-006, 1.56087624e-006,\n",
       "       1.63648597e-006, 1.70798161e-006, 1.76495991e-006, 1.88876979e-006,\n",
       "       1.94808768e-006, 2.07034953e-006, 2.08346123e-006, 2.23328120e-006,\n",
       "       2.28548270e-006, 2.34930603e-006, 2.53467995e-006, 2.72350653e-006,\n",
       "       2.75814342e-006, 2.79441821e-006, 2.94426864e-006, 3.01604913e-006,\n",
       "       3.21120699e-006, 3.35362927e-006, 3.46294566e-006, 3.48305083e-006,\n",
       "       3.59715258e-006, 3.72681240e-006, 3.99571284e-006, 4.16345927e-006,\n",
       "       4.24974778e-006, 4.43804569e-006, 4.71335614e-006, 4.89573705e-006,\n",
       "       5.03388554e-006, 5.09260827e-006, 5.35543998e-006, 5.52324431e-006,\n",
       "       5.67813743e-006, 5.76089226e-006, 6.24782829e-006, 6.31303272e-006,\n",
       "       6.69809538e-006, 6.84794124e-006, 7.20444684e-006, 7.36703953e-006,\n",
       "       7.44979766e-006, 7.84046126e-006, 8.25401338e-006, 8.35814776e-006,\n",
       "       8.84857848e-006, 9.04920636e-006, 9.38916801e-006, 1.01038161e-005,\n",
       "       1.04413190e-005, 1.07129310e-005, 1.10344799e-005, 1.15716228e-005,\n",
       "       1.20006229e-005, 1.24177952e-005, 1.26823467e-005, 1.33061030e-005,\n",
       "       1.37867679e-005, 1.43471906e-005, 1.48285461e-005, 1.59794822e-005,\n",
       "       1.67087873e-005, 1.72156852e-005, 1.74320978e-005, 1.77985889e-005,\n",
       "       1.84018371e-005, 1.94814800e-005, 2.03986020e-005, 2.08582656e-005,\n",
       "       2.12720905e-005, 2.27801322e-005, 2.36630605e-005, 2.39399173e-005,\n",
       "       2.45669527e-005, 2.52964645e-005, 2.70958092e-005, 2.80196136e-005,\n",
       "       2.98834892e-005, 3.05449443e-005, 3.16194324e-005, 3.22568339e-005,\n",
       "       3.45384948e-005, 3.50379762e-005, 3.67433179e-005, 3.78409647e-005,\n",
       "       3.88274180e-005, 3.97275028e-005, 4.13572732e-005, 4.21371832e-005,\n",
       "       4.44626261e-005, 4.51543307e-005, 4.67253881e-005, 4.98360643e-005,\n",
       "       5.02515622e-005, 5.13323025e-005, 5.25822809e-005, 5.64708986e-005,\n",
       "       5.95729874e-005, 6.08104787e-005, 6.39314521e-005, 6.40482759e-005,\n",
       "       6.53780066e-005, 6.92221239e-005, 6.98905753e-005, 7.30303530e-005,\n",
       "       7.54720476e-005, 7.81965175e-005, 8.19510777e-005, 8.27787274e-005,\n",
       "       8.75714588e-005, 9.26080393e-005, 9.38457612e-005, 9.94540173e-005,\n",
       "       1.00663580e-004, 1.05752386e-004, 1.07579196e-004, 1.10855281e-004,\n",
       "       1.15630414e-004, 1.18181976e-004, 1.20478728e-004, 1.26297913e-004,\n",
       "       1.29196703e-004, 1.32035521e-004, 1.34524557e-004, 1.44777039e-004,\n",
       "       1.48340278e-004, 1.52382682e-004, 1.54955999e-004, 1.60577863e-004,\n",
       "       1.67095626e-004, 1.71472637e-004, 1.81398760e-004, 1.84522053e-004,\n",
       "       1.89746907e-004, 1.91582864e-004, 1.96174248e-004, 2.05207729e-004,\n",
       "       2.10335558e-004, 2.30023814e-004, 2.37018044e-004, 2.40753546e-004,\n",
       "       2.44095627e-004, 2.45981944e-004, 2.53780327e-004, 2.67917753e-004,\n",
       "       2.78154683e-004, 2.83502128e-004, 2.88566186e-004, 3.00138449e-004,\n",
       "       3.14853033e-004, 3.25196749e-004, 3.36045516e-004, 3.45494774e-004,\n",
       "       3.62360837e-004, 3.66974745e-004, 3.88077958e-004, 3.93731447e-004,\n",
       "       4.06738867e-004, 4.38378226e-004, 4.41970800e-004, 4.63134426e-004,\n",
       "       4.72231710e-004, 4.90743242e-004, 5.00270022e-004, 5.09636196e-004,\n",
       "       5.29346295e-004, 5.58012924e-004, 5.67019240e-004, 5.84625539e-004,\n",
       "       5.93873583e-004, 6.13626569e-004, 6.32107373e-004, 6.58600644e-004,\n",
       "       6.73289467e-004, 6.84789767e-004, 7.27137690e-004, 7.65169040e-004,\n",
       "       7.80052572e-004, 7.82657511e-004, 8.38452444e-004, 8.64984437e-004,\n",
       "       8.73210926e-004, 8.96518237e-004, 9.27327609e-004, 9.60725741e-004,\n",
       "       1.00904074e-003, 1.03638634e-003, 1.07377716e-003, 1.09956526e-003,\n",
       "       1.15827861e-003, 1.19941899e-003, 1.22547753e-003, 1.22873667e-003,\n",
       "       1.29244662e-003, 1.32992258e-003, 1.36625113e-003, 1.41106604e-003,\n",
       "       1.45508051e-003, 1.46889192e-003, 1.52462452e-003, 1.52875298e-003,\n",
       "       1.59886079e-003, 1.68247872e-003, 1.72000687e-003, 1.77572436e-003,\n",
       "       1.80193931e-003, 1.87501311e-003, 1.95382759e-003, 1.98964438e-003,\n",
       "       2.03678339e-003, 2.08227073e-003, 2.17991038e-003, 2.23327911e-003,\n",
       "       2.25016343e-003, 2.39286930e-003, 2.47723966e-003, 2.54981803e-003,\n",
       "       2.57172447e-003, 2.69477012e-003, 2.74076112e-003, 2.87955382e-003,\n",
       "       2.97299600e-003, 3.04665423e-003, 3.19859093e-003, 3.29355526e-003,\n",
       "       3.35924674e-003, 3.53147069e-003, 3.69943790e-003, 3.72939854e-003,\n",
       "       3.76529097e-003, 3.97445425e-003, 3.99931338e-003, 4.29127471e-003,\n",
       "       4.39339613e-003, 4.56843528e-003, 4.69815749e-003, 4.81897489e-003,\n",
       "       5.06200986e-003, 5.14106330e-003, 5.24893607e-003, 5.52897313e-003,\n",
       "       5.61901846e-003, 5.65277501e-003, 5.82758109e-003, 6.10806504e-003,\n",
       "       6.17896415e-003, 6.33283340e-003, 6.65751601e-003, 6.80946271e-003,\n",
       "       6.85053800e-003, 7.13855579e-003, 7.38216292e-003, 7.67465826e-003,\n",
       "       7.78582408e-003, 8.22842175e-003, 8.41588592e-003, 8.48931174e-003,\n",
       "       8.87026118e-003, 9.56011242e-003, 9.71159722e-003, 9.77128536e-003,\n",
       "       9.88354060e-003, 1.04250980e-002, 1.06577047e-002, 1.11482522e-002,\n",
       "       1.12584680e-002, 1.14651718e-002, 1.20093058e-002, 1.25289415e-002,\n",
       "       1.26400787e-002, 1.28323800e-002, 1.29836820e-002, 1.37710351e-002,\n",
       "       1.44204756e-002, 1.48928332e-002, 1.49422265e-002, 1.51763828e-002,\n",
       "       1.59155775e-002, 1.61784681e-002, 1.65070623e-002, 1.74739014e-002,\n",
       "       1.76667223e-002, 1.81531171e-002, 1.86790448e-002, 1.91584276e-002,\n",
       "       1.94291688e-002, 2.03739807e-002, 2.17633173e-002, 2.18615002e-002,\n",
       "       2.29669828e-002, 2.43633496e-002, 2.44540626e-002, 2.48357713e-002,\n",
       "       2.56585047e-002, 2.61457220e-002, 2.71713063e-002, 2.75334519e-002,\n",
       "       2.86011296e-002, 2.94806948e-002, 3.10602314e-002, 3.15286577e-002,\n",
       "       3.29174828e-002, 3.33334809e-002, 3.38740086e-002, 3.47005037e-002,\n",
       "       3.64233478e-002, 3.78708698e-002, 3.83610073e-002, 3.87829297e-002,\n",
       "       4.05262803e-002, 4.19016157e-002, 4.22739949e-002, 4.36425856e-002,\n",
       "       4.55570453e-002, 4.64279188e-002, 4.73265194e-002, 4.94001786e-002,\n",
       "       4.96359257e-002, 5.13286784e-002, 5.31093420e-002, 5.49309555e-002,\n",
       "       5.67534840e-002, 5.75296436e-002, 5.89181584e-002, 6.11277700e-002,\n",
       "       6.23509560e-002, 6.51994745e-002, 6.71253008e-002, 7.05329835e-002,\n",
       "       7.27094007e-002, 7.50714909e-002, 7.68677264e-002, 7.91644453e-002,\n",
       "       8.07557884e-002, 8.33832912e-002, 8.51144289e-002, 8.67088669e-002,\n",
       "       8.83186022e-002, 9.00688796e-002, 9.68361128e-002, 9.73945155e-002,\n",
       "       1.00551698e-001, 1.01072627e-001, 1.06631382e-001, 1.09561085e-001,\n",
       "       1.12890037e-001, 1.15759389e-001, 1.18539191e-001, 1.23304873e-001,\n",
       "       1.28814432e-001, 1.31142947e-001, 1.35721181e-001, 1.36702547e-001,\n",
       "       1.40282274e-001, 1.47654955e-001, 1.50559350e-001, 1.58321600e-001,\n",
       "       1.59555723e-001, 1.62459015e-001, 1.67063279e-001, 1.68609324e-001,\n",
       "       1.75030000e-001, 1.82409006e-001, 1.85366524e-001, 1.92261047e-001,\n",
       "       2.00530503e-001, 2.05045042e-001, 2.09457445e-001, 2.18161093e-001,\n",
       "       2.26605516e-001, 2.32871806e-001, 2.38444780e-001, 2.52840902e-001,\n",
       "       2.54915979e-001, 2.62404751e-001, 2.67385606e-001, 2.79674398e-001,\n",
       "       2.84414788e-001, 2.87432515e-001, 2.95795943e-001, 3.03598475e-001,\n",
       "       3.15297261e-001, 3.24440529e-001, 3.36050891e-001, 3.45637032e-001,\n",
       "       3.51380588e-001, 3.54857558e-001, 3.69213893e-001, 3.88953295e-001,\n",
       "       3.97892240e-001, 4.07148615e-001, 4.28946677e-001, 4.43376654e-001,\n",
       "       4.60957153e-001, 4.74663236e-001, 4.86286780e-001, 4.93586320e-001,\n",
       "       5.07021998e-001, 5.12040692e-001, 5.37390072e-001, 5.59888243e-001,\n",
       "       5.76967034e-001, 5.84695120e-001, 6.07063714e-001, 6.18229423e-001,\n",
       "       6.59713641e-001, 6.66370488e-001, 6.83339046e-001, 6.89592638e-001,\n",
       "       7.27049239e-001, 7.34069122e-001, 7.62568413e-001, 7.67131334e-001,\n",
       "       7.81111349e-001, 7.91441307e-001, 8.24397788e-001, 8.43757725e-001,\n",
       "       8.59262737e-001, 9.04847710e-001, 9.27493054e-001, 9.48571398e-001,\n",
       "       9.57897280e-001, 9.85111344e-001, 1.01062002e+000, 1.05881024e+000,\n",
       "       1.07386050e+000, 1.13013413e+000, 1.17495124e+000, 1.18754834e+000,\n",
       "       1.25320795e+000, 1.26687115e+000, 1.31480967e+000, 1.35717173e+000,\n",
       "       1.39084156e+000, 1.44514168e+000, 1.46717124e+000, 1.49952065e+000,\n",
       "       1.52118014e+000, 1.60263228e+000, 1.63823300e+000, 1.69281285e+000,\n",
       "       1.71754117e+000, 1.87175539e+000, 1.91998812e+000, 1.97684342e+000,\n",
       "       1.99256162e+000, 2.09710170e+000, 2.16025747e+000, 2.22195929e+000,\n",
       "       2.28217265e+000, 2.34635130e+000, 2.39511990e+000, 2.47250929e+000,\n",
       "       2.50842589e+000, 2.55668973e+000, 2.67163663e+000, 2.72899815e+000,\n",
       "       2.86001213e+000, 2.88551780e+000, 2.94686816e+000, 3.04006593e+000,\n",
       "       3.17153568e+000, 3.24478195e+000, 3.33885434e+000, 3.35557394e+000,\n",
       "       3.51946270e+000, 3.54150589e+000, 3.64039206e+000, 3.73359259e+000,\n",
       "       3.86017751e+000, 4.05485380e+000, 4.15810511e+000, 4.34105034e+000,\n",
       "       4.39404005e+000, 4.53126424e+000, 4.70977204e+000, 5.01241637e+000,\n",
       "       5.15879398e+000, 5.28837944e+000, 5.54222261e+000, 5.57704690e+000,\n",
       "       5.85490632e+000, 5.97405947e+000, 6.03720725e+000, 6.19539050e+000,\n",
       "       6.36055907e+000, 6.56752735e+000, 6.66389807e+000, 6.73605966e+000,\n",
       "       6.96787197e+000, 7.13125251e+000, 7.30493043e+000, 7.78609209e+000,\n",
       "       8.00026470e+000, 8.11008520e+000, 8.48566596e+000, 8.63206591e+000,\n",
       "       8.80993626e+000, 9.24467733e+000, 9.49324327e+000, 9.72825757e+000,\n",
       "       9.94725046e+000, 1.00976657e+001, 1.05845964e+001, 1.08849435e+001,\n",
       "       1.12224282e+001, 1.16194652e+001, 1.20778717e+001, 1.22661155e+001,\n",
       "       1.25675620e+001, 1.29906183e+001, 1.32992410e+001, 1.40190787e+001,\n",
       "       1.43756273e+001, 1.48088697e+001, 1.53280281e+001, 1.59584779e+001,\n",
       "       1.60617101e+001, 1.65469770e+001, 1.71672238e+001, 1.77317328e+001,\n",
       "       1.82827521e+001, 1.89953502e+001, 1.96191162e+001, 1.97337170e+001,\n",
       "       2.06525935e+001, 2.10153396e+001, 2.14028288e+001, 2.16448002e+001,\n",
       "       2.25279789e+001, 2.37375015e+001, 2.41836361e+001, 2.43701623e+001,\n",
       "       2.59723919e+001, 2.63027653e+001, 2.69708135e+001, 2.77795711e+001,\n",
       "       2.87315668e+001, 2.91836783e+001, 2.95290716e+001, 3.06772162e+001,\n",
       "       3.17703136e+001, 3.30160909e+001, 3.37571439e+001, 3.48978452e+001,\n",
       "       3.66521813e+001, 3.72727466e+001, 3.80367567e+001, 4.00286317e+001,\n",
       "       4.03013440e+001, 4.26108890e+001, 4.31868569e+001, 4.48183353e+001,\n",
       "       4.71025411e+001, 4.76715854e+001, 4.83673165e+001, 5.11776469e+001,\n",
       "       5.19778440e+001, 5.41111371e+001, 5.64754085e+001, 5.75511008e+001,\n",
       "       5.83769620e+001, 6.03758868e+001, 6.22804675e+001, 6.34152064e+001,\n",
       "       6.74492157e+001, 6.90571373e+001, 6.95703294e+001, 7.14820116e+001,\n",
       "       7.41837352e+001, 7.74156571e+001, 7.98461538e+001, 8.29560174e+001,\n",
       "       8.45781336e+001, 8.67156092e+001, 8.94321772e+001, 9.06433434e+001,\n",
       "       9.22109864e+001, 9.42546593e+001, 9.73703252e+001, 1.02957793e+002,\n",
       "       1.05827977e+002, 1.06470976e+002, 1.13141110e+002, 1.16886033e+002,\n",
       "       1.18973166e+002, 1.22044571e+002, 1.25550003e+002, 1.28084066e+002,\n",
       "       1.33013630e+002, 1.36282242e+002, 1.42820641e+002, 1.46580391e+002,\n",
       "       1.52430250e+002, 1.56065646e+002, 1.66115146e+002, 1.68441399e+002,\n",
       "       1.72911557e+002, 1.75867167e+002, 1.84817034e+002, 1.87958831e+002,\n",
       "       1.93143975e+002, 2.01700053e+002, 2.07399394e+002, 2.14546424e+002,\n",
       "       2.17139019e+002, 2.26682738e+002, 2.43539122e+002, 2.47834269e+002,\n",
       "       2.54737138e+002, 2.57399196e+002, 2.67479694e+002, 2.70424615e+002,\n",
       "       2.75741022e+002, 2.80008059e+002, 2.88395595e+002, 3.03370842e+002,\n",
       "       3.12540111e+002, 3.18719069e+002, 3.28379851e+002, 3.29940587e+002,\n",
       "       3.44072424e+002, 3.49650017e+002, 3.73611110e+002, 3.83769606e+002,\n",
       "       3.94580113e+002, 4.06456354e+002, 4.15460597e+002, 4.26702669e+002,\n",
       "       4.34322394e+002, 4.48963570e+002, 4.57133790e+002, 4.62824008e+002,\n",
       "       5.02843775e+002, 5.09423858e+002, 5.47034591e+002, 5.56154310e+002,\n",
       "       5.61580563e+002, 5.79322651e+002, 5.98210504e+002, 6.19156719e+002,\n",
       "       6.26128469e+002, 6.66051549e+002, 6.76335698e+002, 6.82767970e+002,\n",
       "       7.10091452e+002, 7.26561904e+002, 7.45270718e+002, 7.86180365e+002,\n",
       "       7.98734491e+002, 8.36314342e+002, 8.57764238e+002, 8.87962943e+002,\n",
       "       8.97413960e+002, 9.37169171e+002, 1.00568323e+003, 1.01074561e+003,\n",
       "       1.04814435e+003, 1.09382171e+003, 1.12581676e+003, 1.15145579e+003,\n",
       "       1.24349770e+003, 1.29029431e+003, 1.29271438e+003, 1.34176742e+003,\n",
       "       1.37410164e+003, 1.43172429e+003, 1.44463534e+003, 1.49539902e+003,\n",
       "       1.56530795e+003, 1.59502378e+003, 1.64963786e+003, 1.69776277e+003,\n",
       "       1.75214054e+003, 1.80804289e+003, 1.85962362e+003, 1.89255393e+003,\n",
       "       1.93875818e+003, 2.04859018e+003, 2.05845468e+003, 2.18009434e+003,\n",
       "       2.25462609e+003, 2.41927979e+003, 2.45066324e+003, 2.57305497e+003,\n",
       "       2.64254127e+003, 2.64599618e+003, 2.73232569e+003, 2.75544685e+003,\n",
       "       2.91847826e+003, 3.04896276e+003, 3.13079602e+003, 3.18435423e+003,\n",
       "       3.28437584e+003, 3.45250519e+003, 3.51985378e+003, 3.62012434e+003,\n",
       "       3.78324919e+003, 3.85267220e+003, 3.96306943e+003, 4.09916228e+003,\n",
       "       4.42024501e+003, 4.47998661e+003, 4.65612543e+003, 4.74538837e+003,\n",
       "       4.79461959e+003, 5.13201460e+003, 5.25669081e+003, 5.42447301e+003,\n",
       "       5.73999401e+003, 5.94148192e+003, 6.04933979e+003, 6.18341069e+003,\n",
       "       6.35208984e+003, 6.40742651e+003, 6.72583464e+003, 6.89071951e+003,\n",
       "       7.31999710e+003, 7.53108260e+003, 7.73492253e+003, 7.93339118e+003,\n",
       "       8.09646108e+003, 8.30991412e+003, 8.73804730e+003, 8.90483374e+003,\n",
       "       9.00522793e+003, 9.62150759e+003, 9.91545016e+003, 1.02043437e+004,\n",
       "       1.09232542e+004, 1.12600702e+004, 1.16952310e+004, 1.21096647e+004,\n",
       "       1.23510755e+004, 1.31231379e+004, 1.34784665e+004, 1.35816208e+004,\n",
       "       1.42953469e+004, 1.45566390e+004, 1.50168890e+004, 1.58604127e+004,\n",
       "       1.62847520e+004, 1.67782713e+004, 1.79316877e+004, 1.87528290e+004,\n",
       "       1.93914277e+004, 1.97940745e+004, 2.02878791e+004, 2.10395317e+004,\n",
       "       2.19178638e+004, 2.25853019e+004, 2.33802468e+004, 2.39932812e+004,\n",
       "       2.43733964e+004, 2.55893709e+004, 2.80716770e+004, 2.85553257e+004,\n",
       "       2.91712369e+004, 2.98557696e+004, 3.06659612e+004, 3.14102502e+004,\n",
       "       3.35403784e+004, 3.44917490e+004, 3.54893332e+004, 3.68711218e+004,\n",
       "       3.79812636e+004, 3.83347799e+004, 3.91287995e+004, 4.12732457e+004,\n",
       "       4.22834718e+004, 4.43743673e+004, 4.47076681e+004, 4.58670870e+004,\n",
       "       4.82804822e+004, 4.92028161e+004, 5.17653366e+004, 5.25417836e+004,\n",
       "       5.54306435e+004, 5.78095281e+004, 6.04992788e+004, 6.32758161e+004,\n",
       "       6.39295355e+004, 6.61351911e+004, 6.81000954e+004, 7.11528490e+004,\n",
       "       7.39322847e+004, 7.47789894e+004, 7.81153705e+004, 8.10863779e+004,\n",
       "       8.28541056e+004, 8.68714939e+004, 9.01534444e+004, 9.45965655e+004,\n",
       "       9.52711707e+004, 1.00240741e+005, 1.02822101e+005, 1.11648407e+005,\n",
       "       1.15273135e+005, 1.21205566e+005, 1.25625247e+005, 1.32408763e+005,\n",
       "       1.35943906e+005, 1.39694911e+005, 1.46543841e+005, 1.49942775e+005,\n",
       "       1.58072644e+005, 1.60070094e+005, 1.66377522e+005, 1.72485112e+005,\n",
       "       1.72970409e+005, 1.82766628e+005, 1.84883476e+005, 1.95107168e+005,\n",
       "       2.00206225e+005, 2.18614034e+005, 2.31081248e+005, 2.34554425e+005,\n",
       "       2.38821892e+005, 2.57855155e+005, 2.65622929e+005, 2.76126504e+005,\n",
       "       2.85305798e+005, 2.93918464e+005, 3.14081234e+005, 3.36197852e+005,\n",
       "       3.48692109e+005, 3.57478614e+005, 3.73784394e+005, 3.85234395e+005,\n",
       "       4.10249451e+005, 4.29114337e+005, 4.43124243e+005, 4.57412977e+005,\n",
       "       4.69452646e+005, 4.79582467e+005, 5.12820976e+005, 5.23613721e+005,\n",
       "       5.35996033e+005, 5.73086619e+005, 6.34635834e+005, 6.41228369e+005,\n",
       "       6.62431489e+005, 6.99690091e+005, 7.20354567e+005, 7.50237436e+005,\n",
       "       8.03679037e+005, 8.44761500e+005, 8.58848421e+005, 8.68117568e+005,\n",
       "       9.78558519e+005, 9.95988910e+005, 1.02397857e+006, 1.04087278e+006,\n",
       "       1.07437245e+006, 1.13483396e+006, 1.19521591e+006, 1.26022619e+006,\n",
       "       1.34918563e+006, 1.43908357e+006, 1.51075543e+006, 1.57459960e+006,\n",
       "       1.67899787e+006, 1.72317452e+006, 1.85664440e+006, 1.94083401e+006,\n",
       "       1.98461920e+006, 2.04213369e+006, 2.22899662e+006, 2.40202387e+006,\n",
       "       2.47707960e+006, 2.60063639e+006, 2.70610079e+006, 2.81264436e+006,\n",
       "       2.91745430e+006, 3.13027095e+006, 3.15363891e+006, 3.37489821e+006,\n",
       "       3.60057359e+006, 3.72640097e+006, 3.82586384e+006, 4.13981887e+006,\n",
       "       4.23340155e+006, 4.39071690e+006, 4.50956663e+006, 4.95757387e+006,\n",
       "       5.26014567e+006, 5.45226417e+006, 5.53764913e+006, 5.96593733e+006,\n",
       "       6.16404220e+006, 6.57999255e+006, 7.04160524e+006, 7.48856969e+006,\n",
       "       8.22198370e+006, 8.71387225e+006, 9.31076780e+006, 9.93593599e+006,\n",
       "       1.05960216e+007, 1.19613091e+007, 1.24114350e+007, 1.32287652e+007,\n",
       "       1.35688533e+007, 1.50290003e+007, 1.64796051e+007, 1.67553791e+007,\n",
       "       1.79422251e+007, 1.94918796e+007, 1.99342801e+007, 2.33505888e+007,\n",
       "       2.40790200e+007, 2.63181139e+007, 2.79028816e+007, 3.05680686e+007,\n",
       "       3.24094756e+007, 3.52442765e+007, 3.95030969e+007, 4.57234924e+007,\n",
       "       5.64412167e+007, 6.48272617e+007, 7.49068108e+007, 1.58519520e+217])"
      ]
     },
     "execution_count": 54,
     "metadata": {},
     "output_type": "execute_result"
    }
   ],
   "source": [
    "expL"
   ]
  },
  {
   "cell_type": "code",
   "execution_count": 14,
   "id": "6cbdcacb",
   "metadata": {},
   "outputs": [],
   "source": [
    "np.savez(\n",
    "    f\"{out_dir}/message_length_{name}.npz\",\n",
    "    # f\"{out_dir}/message_length_{name}_{year}.npz\",\n",
    "    message_length=Ds_H + lZs_H,\n",
    "    KL=Ds_H,\n",
    "    complexity=lZs_H,\n",
    "    orders=orders,\n",
    "    dataset=name,\n",
    "    # year=year,\n",
    "    N=N,\n",
    ")"
   ]
  },
  {
   "cell_type": "code",
   "execution_count": 15,
   "id": "a3ae3a7e",
   "metadata": {},
   "outputs": [
    {
     "data": {
      "image/png": "[encoded data removed]",
      "text/plain": [
       "<Figure size 270x200 with 1 Axes>"
      ]
     },
     "metadata": {},
     "output_type": "display_data"
    }
   ],
   "source": [
    "fig, ax = plt.subplots(1, 1, figsize=(2.7, 2))\n",
    "\n",
    "message_length = Ds_H + lZs_H\n",
    "ax.plot(orders, message_length, \"o-\")\n",
    "\n",
    "\n",
    "ax.set_ylabel(\"Message Length\")\n",
    "ax.set_xlabel(\"Max Order\")\n",
    "ax.set_title(\"functional complex.\")\n",
    "\n",
    "# ax.set_title(f\"{name} {year}, N={N}\")\n",
    "ax.set_title(f\"{name}, N={N}\")\n",
    "\n",
    "sb.despine()\n",
    "\n",
    "# fig_name = f\"message_length_{name}_{year}_rescaled_tauc\"\n",
    "fig_name = f\"message_length_{name}_rescaled_tauc\"\n",
    "\n",
    "plt.savefig(f\"{out_dir}{fig_name}.png\", dpi=250, bbox_inches=\"tight\")"
   ]
  },
  {
   "cell_type": "code",
   "execution_count": 16,
   "id": "29b63d75",
   "metadata": {},
   "outputs": [
    {
     "data": {
      "image/png": "[encoded data removed]",
      "text/plain": [
       "<Figure size 450x150 with 3 Axes>"
      ]
     },
     "metadata": {},
     "output_type": "display_data"
    }
   ],
   "source": [
    "fig, axs = plt.subplots(1, 3, figsize=(4.5, 1.5), sharey=True)\n",
    "\n",
    "message_length = Ds_H + lZs_H\n",
    "\n",
    "axs[0].plot(orders, Ds_H, \"o-\")\n",
    "axs[0].set_title(\"information\")\n",
    "\n",
    "axs[1].plot(orders, lZs_H, \"o-\")\n",
    "axs[1].set_title(\"complexity\")\n",
    "\n",
    "axs[2].plot(orders, message_length, \"o-\")\n",
    "axs[2].set_title(\"mess. length\")\n",
    "\n",
    "\n",
    "axs[0].set_ylabel(\"Message Length\")\n",
    "axs[0].set_xlabel(\"Max Order\")\n",
    "axs[1].set_xlabel(\"Max Order\")\n",
    "axs[2].set_xlabel(\"Max Order\")\n",
    "\n",
    "order_argmin = np.argmin(message_length)\n",
    "order_min = orders[order_argmin]\n",
    "\n",
    "axs[2].axvline(order_min, ls=\"--\", c=\"grey\", zorder=-2)\n",
    "\n",
    "# ax.set_title(\"functional complex.\")\n",
    "\n",
    "# ax.set_title(f\"{name} {year}, N={N}\")\n",
    "# fig.suptitle(f\"{name}_{year}\")\n",
    "fig.suptitle(f\"{name}\")\n",
    "\n",
    "sb.despine()\n",
    "plt.subplots_adjust(top=0.65)\n",
    "\n",
    "# fig_name = f\"message_length_{name}_{year}_rescaled_tauc_full\"\n",
    "fig_name = f\"message_length_{name}_rescaled_tauc_full\"\n",
    "\n",
    "plt.savefig(f\"{out_dir}{fig_name}.png\", dpi=250, bbox_inches=\"tight\")"
   ]
  },
  {
   "cell_type": "code",
   "execution_count": null,
   "id": "5a4d2ec7",
   "metadata": {},
   "outputs": [],
   "source": []
  },
  {
   "cell_type": "code",
   "execution_count": null,
   "id": "a43799da",
   "metadata": {},
   "outputs": [],
   "source": []
  },
  {
   "cell_type": "code",
   "execution_count": null,
   "id": "99f521e6",
   "metadata": {},
   "outputs": [],
   "source": []
  },
  {
   "cell_type": "code",
   "execution_count": 17,
   "id": "219bf107",
   "metadata": {},
   "outputs": [
    {
     "data": {
      "text/plain": [
       "1.3862943611198906"
      ]
     },
     "execution_count": 17,
     "metadata": {},
     "output_type": "execute_result"
    }
   ],
   "source": [
    "np.log(4)"
   ]
  },
  {
   "cell_type": "markdown",
   "id": "be3a9e81",
   "metadata": {},
   "source": [
    "## all together"
   ]
  },
  {
   "cell_type": "code",
   "execution_count": 18,
   "id": "6437390c",
   "metadata": {},
   "outputs": [
    {
     "name": "stderr",
     "output_type": "stream",
     "text": [
      "100%|█████████████████████████████████████████████| 3/3 [00:02<00:00,  1.21it/s]\n"
     ]
    }
   ],
   "source": [
    "data_names = [\n",
    "    \"email-enron\",\n",
    "    # \"email-eu\",\n",
    "    \"hospital-lyon\",\n",
    "    \"contact-high-school\",\n",
    "    # \"contact-primary-school\",\n",
    "    # \"tags-ask-ubuntu\",\n",
    "    # \"congress-bills\",\n",
    "    # \"disgenenet\",\n",
    "    # \"diseasome\",\n",
    "    # \"ndc-substances\",\n",
    "    # \"coauth-mag-geology\",\n",
    "    # \"coauth-mag-history\",\n",
    "]\n",
    "\n",
    "HGs = {}\n",
    "for name in tqdm(data_names):\n",
    "    HGs[name] = xgi.load_xgi_data(name, max_order=None, cache=True)"
   ]
  },
  {
   "cell_type": "code",
   "execution_count": 19,
   "id": "f09b6d34",
   "metadata": {},
   "outputs": [
    {
     "name": "stderr",
     "output_type": "stream",
     "text": [
      "\r",
      "  0%|                                                     | 0/3 [00:00<?, ?it/s]"
     ]
    },
    {
     "name": "stdout",
     "output_type": "stream",
     "text": [
      "Hypergraph named email-Enron with 148 nodes and 10885 hyperedges\n",
      "max order: 36\n",
      "Hypergraph named email-Enron with 143 nodes and 1459 hyperedges\n"
     ]
    },
    {
     "name": "stderr",
     "output_type": "stream",
     "text": [
      "\r",
      " 33%|███████████████                              | 1/3 [00:18<00:36, 18.28s/it]"
     ]
    },
    {
     "name": "stdout",
     "output_type": "stream",
     "text": [
      "Hypergraph named hospital-lyon with 75 nodes and 27834 hyperedges\n",
      "max order: 4\n",
      "Hypergraph named hospital-lyon with 75 nodes and 1824 hyperedges\n"
     ]
    },
    {
     "name": "stderr",
     "output_type": "stream",
     "text": [
      "\r",
      " 67%|██████████████████████████████               | 2/3 [00:19<00:08,  8.45s/it]"
     ]
    },
    {
     "name": "stdout",
     "output_type": "stream",
     "text": [
      "Hypergraph named contact-high-school with 327 nodes and 172035 hyperedges\n",
      "max order: 4\n",
      "Hypergraph named contact-high-school with 327 nodes and 7818 hyperedges\n",
      "logm result may be inaccurate, approximate err = 5.128841825295042e-13\n",
      "logm result may be inaccurate, approximate err = 4.641378397856407e-13\n",
      "logm result may be inaccurate, approximate err = 5.128841825295042e-13\n",
      "logm result may be inaccurate, approximate err = 4.887420895249281e-13\n",
      "logm result may be inaccurate, approximate err = 5.128841825295042e-13\n",
      "logm result may be inaccurate, approximate err = 4.570432369407865e-13\n",
      "logm result may be inaccurate, approximate err = 5.128841825295042e-13\n"
     ]
    },
    {
     "name": "stderr",
     "output_type": "stream",
     "text": [
      "100%|█████████████████████████████████████████████| 3/3 [00:29<00:00,  9.88s/it]"
     ]
    },
    {
     "name": "stdout",
     "output_type": "stream",
     "text": [
      "logm result may be inaccurate, approximate err = 5.128841825295042e-13\n"
     ]
    },
    {
     "name": "stderr",
     "output_type": "stream",
     "text": [
      "\n"
     ]
    }
   ],
   "source": [
    "rescale = True\n",
    "\n",
    "message_length_arr = []\n",
    "orders_arr = []\n",
    "\n",
    "for i, H0 in enumerate(tqdm(HGs)):\n",
    "\n",
    "    # load and clean\n",
    "    name = data_names[i]\n",
    "    H0 = HGs[name]\n",
    "    print(H0)\n",
    "    print(\"max order:\", xgi.max_edge_order(H0))\n",
    "    H0.cleanup(isolates=True)\n",
    "    print(H0)\n",
    "\n",
    "    orders = np.array(xgi.unique_edge_sizes(H0)) - 1\n",
    "    weights = np.ones(len(orders))\n",
    "    N = H0.num_nodes\n",
    "\n",
    "    # compute\n",
    "    tau_c = find_charact_tau(H0, orders, weights, rescale_per_node=rescale, idx=-1)\n",
    "\n",
    "    inverse_rescaling_factors = [max(orders) / d for d in orders]\n",
    "    Ds_H, lZs_H = optimization(\n",
    "        H0, tau_c, rescaling_factors=inverse_rescaling_factors, rescale_per_node=rescale\n",
    "    )\n",
    "\n",
    "    message_length = Ds_H + lZs_H\n",
    "\n",
    "    message_length_arr.append(message_length)\n",
    "    orders_arr.append(orders)"
   ]
  },
  {
   "cell_type": "code",
   "execution_count": 20,
   "id": "de7c9287",
   "metadata": {},
   "outputs": [
    {
     "data": {
      "image/png": "[encoded data removed]",
      "text/plain": [
       "<Figure size 380x80 with 3 Axes>"
      ]
     },
     "metadata": {},
     "output_type": "display_data"
    }
   ],
   "source": [
    "fig, axs = plt.subplots(\n",
    "    1, len(data_names), figsize=(3.8, 0.8), sharey=False\n",
    ")  # , layout=\"constrained\")\n",
    "\n",
    "for i, name in enumerate(data_names):\n",
    "\n",
    "    ax = axs[i]\n",
    "    ax.plot(orders_arr[i], message_length_arr[i], \"o-\", ms=4)\n",
    "\n",
    "    order_argmin = np.argmin(message_length_arr[i])\n",
    "    order_min = orders_arr[i][order_argmin]\n",
    "\n",
    "    ax.axvline(order_min, ls=\"--\", c=\"grey\", zorder=-2)\n",
    "    ax.set_xlabel(\"Max Order\")\n",
    "    ax.ticklabel_format(\n",
    "        axis=\"y\", style=\"scientific\", scilimits=(0, 0), useMathText=True, useOffset=True\n",
    "    )\n",
    "\n",
    "    ax.set_title(name, fontsize=\"small\", style=\"italic\")\n",
    "\n",
    "axs[0].set_ylabel(\"Message length\")\n",
    "axs[0].set_xticks([1, 15, 30])\n",
    "axs[1].set_xticks([1, 2, 3, 4])\n",
    "axs[2].set_xticks([1, 2, 3, 4])\n",
    "\n",
    "plt.subplots_adjust(wspace=0.5)\n",
    "\n",
    "sb.despine()\n",
    "\n",
    "fig_name = f\"figure_3\"\n",
    "plt.savefig(f\"{out_dir}{fig_name}.png\", dpi=250, bbox_inches=\"tight\")\n",
    "plt.savefig(f\"{out_dir}{fig_name}.pdf\", dpi=250, bbox_inches=\"tight\")"
   ]
  },
  {
   "cell_type": "code",
   "execution_count": null,
   "id": "3d4e8586",
   "metadata": {},
   "outputs": [],
   "source": []
  }
 ],
 "metadata": {
  "kernelspec": {
   "display_name": "venv_xgi",
   "language": "python",
   "name": "venv_xgi"
  },
  "language_info": {
   "codemirror_mode": {
    "name": "ipython",
    "version": 3
   },
   "file_extension": ".py",
   "mimetype": "text/x-python",
   "name": "python",
   "nbconvert_exporter": "python",
   "pygments_lexer": "ipython3",
   "version": "3.9.13"
  },
  "toc": {
   "base_numbering": 1,
   "nav_menu": {},
   "number_sections": true,
   "sideBar": true,
   "skip_h1_title": false,
   "title_cell": "Table of Contents",
   "title_sidebar": "Contents",
   "toc_cell": false,
   "toc_position": {
    "height": "calc(100% - 180px)",
    "left": "10px",
    "top": "150px",
    "width": "288.188px"
   },
   "toc_section_display": true,
   "toc_window_display": true
  }
 },
 "nbformat": 4,
 "nbformat_minor": 5
}
