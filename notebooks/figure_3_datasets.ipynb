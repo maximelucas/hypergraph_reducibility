{
 "cells": [
  {
   "cell_type": "markdown",
   "id": "591a1ba5",
   "metadata": {},
   "source": [
    "## Figures"
   ]
  },
  {
   "cell_type": "code",
   "execution_count": 1,
   "id": "daa915a3",
   "metadata": {},
   "outputs": [],
   "source": [
    "import sys\n",
    "import warnings\n",
    "\n",
    "import networkx as nx\n",
    "import numpy as np\n",
    "import matplotlib.pyplot as plt\n",
    "import pandas as pd\n",
    "import seaborn as sb\n",
    "from tqdm import tqdm\n",
    "from itertools import combinations\n",
    "from tqdm import tqdm\n",
    "\n",
    "sys.path.append(\"../src/\")\n",
    "\n",
    "import xgi\n",
    "from reducibility_hg import *\n",
    "\n",
    "from statannotations.Annotator import Annotator\n",
    "\n",
    "sb.set_theme(style=\"ticks\", context=\"paper\")"
   ]
  },
  {
   "cell_type": "code",
   "execution_count": 2,
   "id": "b8413cfa",
   "metadata": {},
   "outputs": [],
   "source": [
    "results_dir = \"../results/\"\n",
    "out_dir = f\"{results_dir}datasets/\""
   ]
  },
  {
   "cell_type": "code",
   "execution_count": 3,
   "id": "8e3b7267",
   "metadata": {},
   "outputs": [],
   "source": [
    "# def sigma(d):\n",
    "#    \"\"\"\n",
    "#    Return d*(d+1)/2, the sum of the first d integers\"\"\"\n",
    "#    return d * (d + 1) / 2"
   ]
  },
  {
   "cell_type": "markdown",
   "id": "73c7d302",
   "metadata": {},
   "source": [
    "## try dataset"
   ]
  },
  {
   "cell_type": "code",
   "execution_count": 4,
   "id": "489b5f7f",
   "metadata": {},
   "outputs": [
    {
     "name": "stdout",
     "output_type": "stream",
     "text": [
      "Available datasets are the following:\n",
      "coauth-dblp\n",
      "coauth-mag-geology\n",
      "coauth-mag-history\n",
      "congress-bills\n",
      "contact-high-school\n",
      "contact-primary-school\n",
      "dawn\n",
      "diseasome\n",
      "disgenenet\n",
      "email-enron\n",
      "email-eu\n",
      "hospital-lyon\n",
      "hypertext-conference\n",
      "invs13\n",
      "invs15\n",
      "kaggle-whats-cooking\n",
      "malawi-village\n",
      "ndc-classes\n",
      "ndc-substances\n",
      "science-gallery\n",
      "sfhh-conference\n",
      "tags-ask-ubuntu\n",
      "tags-math-sx\n",
      "tags-stack-overflow\n"
     ]
    }
   ],
   "source": [
    "xgi.load_xgi_data()"
   ]
  },
  {
   "cell_type": "code",
   "execution_count": 26,
   "id": "96a8c49b",
   "metadata": {},
   "outputs": [
    {
     "name": "stderr",
     "output_type": "stream",
     "text": [
      "100%|█████████████████████████████████████████████| 1/1 [00:33<00:00, 33.47s/it]\n"
     ]
    }
   ],
   "source": [
    "data_names = [\n",
    "    #\"email-enron\",\n",
    "    #\"email-eu\",\n",
    "    #\"kaggle-whats-cooking\",\n",
    "    #\"hospital-lyon\",\n",
    "    #\"contact-high-school\",\n",
    "    #\"contact-primary-school\",\n",
    "    #\"sfhh-conference\",\n",
    "    #\"hypertext-conference\",\n",
    "    #\"science-gallery\",\n",
    "    #\"invs13\",\n",
    "    #\"invs15\",\n",
    "    #\"tags-ask-ubuntu\",\n",
    "    #\"tags-math-sx\",\n",
    "    #\"tags-stack-overflow\",\n",
    "    #\"congress-bills\",\n",
    "    #\"disgenenet\",\n",
    "    #\"diseasome\",\n",
    "    #\"malawi-village\",\n",
    "    #\"ndc-classes\",\n",
    "    #\"ndc-substances\",\n",
    "    \"coauth-mag-geology\",\n",
    "    # \"coauth-mag-history\",\n",
    "    # \"coauth-dblp\",\n",
    "    #\"dawn\"\n",
    "]\n",
    "\n",
    "HGs = {}\n",
    "for name in tqdm(data_names):\n",
    "    HGs[name] = xgi.load_xgi_data(name, max_order=None, cache=True)"
   ]
  },
  {
   "cell_type": "code",
   "execution_count": 30,
   "id": "5802bb60",
   "metadata": {},
   "outputs": [
    {
     "name": "stdout",
     "output_type": "stream",
     "text": [
      "coauth-mag-geology\n",
      "Hypergraph named coauth-MAG-Geology with 898648 nodes and 833158 hyperedges\n",
      "max order: 24\n",
      "Hypergraph named coauth-MAG-Geology with 898648 nodes and 833158 hyperedges\n"
     ]
    }
   ],
   "source": [
    "i = 0  # choose dataset here\n",
    "name = data_names[i]\n",
    "print(name)\n",
    "H0 = HGs[name]\n",
    "print(H0)\n",
    "print(\"max order:\", xgi.max_edge_order(H0))\n",
    "H0.cleanup(isolates=True)\n",
    "print(H0)\n",
    "\n",
    "orders = np.array(xgi.unique_edge_sizes(H0)) - 1\n",
    "weights = np.ones(len(orders))\n",
    "N = H0.num_nodes\n",
    "\n",
    "rescale = True\n",
    "\n",
    "H = H0.copy()"
   ]
  },
  {
   "cell_type": "code",
   "execution_count": 102,
   "id": "84bfe049",
   "metadata": {},
   "outputs": [
    {
     "name": "stdout",
     "output_type": "stream",
     "text": [
      "Hypergraph named coauth-MAG-Geology with 898648 nodes and 6396 hyperedges\n",
      "Hypergraph named coauth-MAG-Geology with 535 nodes and 245 hyperedges\n"
     ]
    }
   ],
   "source": [
    "# slice by years for coauthorship\n",
    "\n",
    "years = [H.edges[i][\"timestamp\"] for i in H.edges]\n",
    "year = 1983\n",
    "name = data_names[i]\n",
    "name += f\"_{year}\"\n",
    "idx_keep = np.where(np.array(years)==year)[0]\n",
    "#idx_keep\n",
    "H0 = xgi.subhypergraph(H, edges=idx_keep).copy()\n",
    "\n",
    "print(H0)\n",
    "H0.cleanup(isolates=False, singletons=True, connected=True)\n",
    "print(H0)\n",
    "\n",
    "# H0 = H\n",
    "orders = np.array(xgi.unique_edge_sizes(H0)) - 1\n",
    "weights = np.ones(len(orders))\n",
    "N = H0.num_nodes"
   ]
  },
  {
   "cell_type": "code",
   "execution_count": 103,
   "id": "eda07cf8",
   "metadata": {},
   "outputs": [
    {
     "data": {
      "text/plain": [
       "'coauth-mag-geology_1983'"
      ]
     },
     "execution_count": 103,
     "metadata": {},
     "output_type": "execute_result"
    }
   ],
   "source": [
    "name"
   ]
  },
  {
   "cell_type": "code",
   "execution_count": 104,
   "id": "87151d2a",
   "metadata": {},
   "outputs": [],
   "source": [
    "sparse = False"
   ]
  },
  {
   "cell_type": "code",
   "execution_count": 105,
   "id": "7f3c35b8",
   "metadata": {},
   "outputs": [
    {
     "data": {
      "text/plain": [
       "0.013366173275514598"
      ]
     },
     "execution_count": 105,
     "metadata": {},
     "output_type": "execute_result"
    }
   ],
   "source": [
    "with warnings.catch_warnings():\n",
    "    warnings.simplefilter(\"ignore\", category=UserWarning)\n",
    "    \n",
    "    tau_c = find_charact_tau(H0, orders, weights, rescale_per_node=rescale, sparse_Lap=True, idx=-1)\n",
    "tau_c"
   ]
  },
  {
   "cell_type": "code",
   "execution_count": 106,
   "id": "ac8d43f6",
   "metadata": {
    "scrolled": false
   },
   "outputs": [
    {
     "name": "stderr",
     "output_type": "stream",
     "text": [
      "100%|███████████████████████████████████████████| 10/10 [00:01<00:00,  5.33it/s]\n"
     ]
    }
   ],
   "source": [
    "inverse_rescaling_factors = [max(orders) / d for d in orders]\n",
    "\n",
    "with warnings.catch_warnings():\n",
    "    warnings.simplefilter(\"ignore\", category=UserWarning)\n",
    "\n",
    "    Ds_H, lZs_H = optimization(\n",
    "        H0,\n",
    "        tau_c,\n",
    "        rescaling_factors=inverse_rescaling_factors,\n",
    "        rescale_per_node=rescale,\n",
    "        sparse=sparse,\n",
    "        sparse_Lap=True,\n",
    "    )"
   ]
  },
  {
   "cell_type": "code",
   "execution_count": 107,
   "id": "9befd075",
   "metadata": {},
   "outputs": [],
   "source": [
    "#xgi.load_xgi_data()"
   ]
  },
  {
   "cell_type": "code",
   "execution_count": 108,
   "id": "4a0e267c",
   "metadata": {},
   "outputs": [],
   "source": [
    "#name = \"hypertext-conference\"\n",
    "#data = np.load(f\"{out_dir}/message_length_{name}.npz\")\n",
    "\n",
    "#message_length = data[\"message_length\"]\n",
    "#Ds_H = data[\"KL\"]\n",
    "#lZs_H = data[\"complexity\"]\n",
    "#orders = data[\"orders\"]\n",
    "#N = int(data[\"N\"])"
   ]
  },
  {
   "cell_type": "code",
   "execution_count": 109,
   "id": "a3ae3a7e",
   "metadata": {},
   "outputs": [
    {
     "data": {
      "image/png": "[encoded data removed]",
      "text/plain": [
       "<Figure size 270x200 with 1 Axes>"
      ]
     },
     "metadata": {},
     "output_type": "display_data"
    }
   ],
   "source": [
    "fig, ax = plt.subplots(1, 1, figsize=(2.7, 2))\n",
    "\n",
    "message_length = Ds_H + lZs_H\n",
    "ax.plot(orders, message_length, \"o-\", ms=2, alpha=0.5)\n",
    "\n",
    "\n",
    "ax.set_ylabel(\"Message Length\")\n",
    "ax.set_xlabel(\"Max Order\")\n",
    "ax.set_title(\"functional complex.\")\n",
    "\n",
    "# ax.set_title(f\"{name} {year}, N={N}\")\n",
    "ax.set_title(f\"{name}, N={N}\")\n",
    "\n",
    "sb.despine()\n",
    "\n",
    "# fig_name = f\"message_length_{name}_{year}_rescaled_tauc\"\n",
    "fig_name = f\"message_length_{name}_rescaled_tauc\"\n",
    "\n",
    "plt.savefig(f\"{out_dir}{fig_name}.png\", dpi=250, bbox_inches=\"tight\")"
   ]
  },
  {
   "cell_type": "code",
   "execution_count": 110,
   "id": "29b63d75",
   "metadata": {},
   "outputs": [
    {
     "data": {
      "image/png": "[encoded data removed]",
      "text/plain": [
       "<Figure size 450x150 with 3 Axes>"
      ]
     },
     "metadata": {},
     "output_type": "display_data"
    }
   ],
   "source": [
    "fig, axs = plt.subplots(1, 3, figsize=(4.5, 1.5), sharey=True)\n",
    "\n",
    "message_length = Ds_H + lZs_H\n",
    "\n",
    "axs[0].plot(orders, Ds_H, \"o-\", ms=2, alpha=0.5)\n",
    "axs[0].set_title(\"information\")\n",
    "\n",
    "axs[1].plot(orders, lZs_H, \"o-\", ms=2, alpha=0.5)\n",
    "axs[1].set_title(\"complexity\")\n",
    "\n",
    "axs[2].plot(orders, message_length, \"o-\", ms=2, alpha=0.5)\n",
    "axs[2].set_title(\"mess. length\")\n",
    "\n",
    "\n",
    "axs[0].set_ylabel(\"Message Length\")\n",
    "axs[0].set_xlabel(\"Max Order\")\n",
    "axs[1].set_xlabel(\"Max Order\")\n",
    "axs[2].set_xlabel(\"Max Order\")\n",
    "\n",
    "order_argmin = np.argmin(message_length)\n",
    "order_min = orders[order_argmin]\n",
    "\n",
    "axs[2].axvline(order_min, ls=\"--\", c=\"grey\", zorder=-2, alpha=0.4)\n",
    "\n",
    "# ax.set_title(\"functional complex.\")\n",
    "\n",
    "# ax.set_title(f\"{name} {year}, N={N}\")\n",
    "# fig.suptitle(f\"{name}_{year}\")\n",
    "fig.suptitle(f\"{name}\")\n",
    "\n",
    "sb.despine()\n",
    "plt.subplots_adjust(top=0.65)\n",
    "\n",
    "# fig_name = f\"message_length_{name}_{year}_rescaled_tauc_full\"\n",
    "fig_name = f\"message_length_{name}_rescaled_tauc_full\"\n",
    "\n",
    "plt.savefig(f\"{out_dir}{fig_name}.png\", dpi=250, bbox_inches=\"tight\")"
   ]
  },
  {
   "cell_type": "code",
   "execution_count": 111,
   "id": "b900b645",
   "metadata": {},
   "outputs": [],
   "source": [
    "np.savez(\n",
    "    f\"{out_dir}/message_length_{name}.npz\",\n",
    "    # f\"{out_dir}/message_length_{name}_{year}.npz\",\n",
    "    message_length=Ds_H + lZs_H,\n",
    "    KL=Ds_H,\n",
    "    complexity=lZs_H,\n",
    "    orders=orders,\n",
    "    dataset=name,\n",
    "    # year=year,\n",
    "    N=N,\n",
    "    num_edges=H0.num_edges,\n",
    "    tau_c=tau_c,\n",
    "    order_min=order_min\n",
    ")"
   ]
  },
  {
   "cell_type": "code",
   "execution_count": 112,
   "id": "99d07bb6",
   "metadata": {},
   "outputs": [
    {
     "data": {
      "image/png": "[encoded data removed]",
      "text/plain": [
       "<Figure size 300x200 with 1 Axes>"
      ]
     },
     "metadata": {},
     "output_type": "display_data"
    }
   ],
   "source": [
    "bins = np.arange(1.5, max(orders)+1 + 1.5, 1) \n",
    "\n",
    "fig, ax = plt.subplots(figsize=(3, 2))\n",
    "\n",
    "sb.histplot(H0.edges.size.asnumpy(), bins=bins)\n",
    "\n",
    "ax.set_xlabel(\"Hyperedge size\")\n",
    "ax.set_title(name)\n",
    "\n",
    "sb.despine(bottom=True)\n",
    "\n",
    "fig_name = f\"dataset_{name}_edge_size_hist\"\n",
    "\n",
    "plt.savefig(f\"{out_dir}{fig_name}.png\", dpi=250, bbox_inches=\"tight\")"
   ]
  },
  {
   "cell_type": "code",
   "execution_count": 113,
   "id": "55bfa39c",
   "metadata": {},
   "outputs": [
    {
     "data": {
      "text/plain": [
       "'coauth-mag-geology_1983'"
      ]
     },
     "execution_count": 113,
     "metadata": {},
     "output_type": "execute_result"
    }
   ],
   "source": [
    "name"
   ]
  },
  {
   "cell_type": "code",
   "execution_count": 17,
   "id": "3667133a",
   "metadata": {},
   "outputs": [
    {
     "data": {
      "text/plain": [
       "[2,\n",
       " 3,\n",
       " 4,\n",
       " 5,\n",
       " 6,\n",
       " 7,\n",
       " 8,\n",
       " 9,\n",
       " 10,\n",
       " 11,\n",
       " 12,\n",
       " 13,\n",
       " 14,\n",
       " 15,\n",
       " 16,\n",
       " 17,\n",
       " 18,\n",
       " 19,\n",
       " 20,\n",
       " 21,\n",
       " 22,\n",
       " 23,\n",
       " 24,\n",
       " 25,\n",
       " 26,\n",
       " 27,\n",
       " 28,\n",
       " 29,\n",
       " 30,\n",
       " 31,\n",
       " 32,\n",
       " 33,\n",
       " 34,\n",
       " 35,\n",
       " 36,\n",
       " 37,\n",
       " 38,\n",
       " 39,\n",
       " 40,\n",
       " 41,\n",
       " 42,\n",
       " 43,\n",
       " 44,\n",
       " 45,\n",
       " 46,\n",
       " 47,\n",
       " 48,\n",
       " 49,\n",
       " 50,\n",
       " 51,\n",
       " 52,\n",
       " 53,\n",
       " 54,\n",
       " 55,\n",
       " 56,\n",
       " 57,\n",
       " 58,\n",
       " 59,\n",
       " 60,\n",
       " 61,\n",
       " 62,\n",
       " 63,\n",
       " 64,\n",
       " 65,\n",
       " 66,\n",
       " 67,\n",
       " 68,\n",
       " 69,\n",
       " 70,\n",
       " 71,\n",
       " 72,\n",
       " 73,\n",
       " 74,\n",
       " 75,\n",
       " 76,\n",
       " 77,\n",
       " 78,\n",
       " 79,\n",
       " 80,\n",
       " 81,\n",
       " 82,\n",
       " 83,\n",
       " 84,\n",
       " 85,\n",
       " 86,\n",
       " 87,\n",
       " 88,\n",
       " 89,\n",
       " 90,\n",
       " 91,\n",
       " 92,\n",
       " 93,\n",
       " 94,\n",
       " 95,\n",
       " 96,\n",
       " 97,\n",
       " 98,\n",
       " 99,\n",
       " 100,\n",
       " 101,\n",
       " 102,\n",
       " 103,\n",
       " 104,\n",
       " 105,\n",
       " 106,\n",
       " 107,\n",
       " 108,\n",
       " 109,\n",
       " 110,\n",
       " 111,\n",
       " 112,\n",
       " 113,\n",
       " 114,\n",
       " 115,\n",
       " 116,\n",
       " 117,\n",
       " 118,\n",
       " 119,\n",
       " 120,\n",
       " 121,\n",
       " 122,\n",
       " 123,\n",
       " 124,\n",
       " 125,\n",
       " 126,\n",
       " 127,\n",
       " 128,\n",
       " 129,\n",
       " 130,\n",
       " 131,\n",
       " 132,\n",
       " 133,\n",
       " 134,\n",
       " 135,\n",
       " 136,\n",
       " 137,\n",
       " 138,\n",
       " 139,\n",
       " 140,\n",
       " 141,\n",
       " 142,\n",
       " 143,\n",
       " 144,\n",
       " 145,\n",
       " 146,\n",
       " 147,\n",
       " 148,\n",
       " 149,\n",
       " 150,\n",
       " 151,\n",
       " 152,\n",
       " 153,\n",
       " 154,\n",
       " 155,\n",
       " 156,\n",
       " 157,\n",
       " 158,\n",
       " 159,\n",
       " 160,\n",
       " 161,\n",
       " 162,\n",
       " 163,\n",
       " 164,\n",
       " 165,\n",
       " 166,\n",
       " 167,\n",
       " 168,\n",
       " 169,\n",
       " 170,\n",
       " 171,\n",
       " 172,\n",
       " 173,\n",
       " 174,\n",
       " 175,\n",
       " 176,\n",
       " 177,\n",
       " 178,\n",
       " 179,\n",
       " 180,\n",
       " 181,\n",
       " 182,\n",
       " 183,\n",
       " 184,\n",
       " 185,\n",
       " 186,\n",
       " 187,\n",
       " 188,\n",
       " 189,\n",
       " 190,\n",
       " 191,\n",
       " 192,\n",
       " 193,\n",
       " 194,\n",
       " 195,\n",
       " 196,\n",
       " 197,\n",
       " 198,\n",
       " 199,\n",
       " 200,\n",
       " 201,\n",
       " 202,\n",
       " 203,\n",
       " 204,\n",
       " 205,\n",
       " 206,\n",
       " 207,\n",
       " 208,\n",
       " 209,\n",
       " 210,\n",
       " 211,\n",
       " 212,\n",
       " 213,\n",
       " 214,\n",
       " 215,\n",
       " 216,\n",
       " 217,\n",
       " 218,\n",
       " 219,\n",
       " 220,\n",
       " 221,\n",
       " 222,\n",
       " 223,\n",
       " 224,\n",
       " 225,\n",
       " 226,\n",
       " 227,\n",
       " 228,\n",
       " 229,\n",
       " 230,\n",
       " 231,\n",
       " 232,\n",
       " 233,\n",
       " 234,\n",
       " 235,\n",
       " 236,\n",
       " 237,\n",
       " 238,\n",
       " 239,\n",
       " 240,\n",
       " 241,\n",
       " 242,\n",
       " 243,\n",
       " 244,\n",
       " 245,\n",
       " 246,\n",
       " 247,\n",
       " 248,\n",
       " 249,\n",
       " 250,\n",
       " 251,\n",
       " 252,\n",
       " 253,\n",
       " 254,\n",
       " 255,\n",
       " 256,\n",
       " 257,\n",
       " 258,\n",
       " 259,\n",
       " 260,\n",
       " 261,\n",
       " 262,\n",
       " 263,\n",
       " 264,\n",
       " 265,\n",
       " 266,\n",
       " 267,\n",
       " 268,\n",
       " 269,\n",
       " 270,\n",
       " 271,\n",
       " 272,\n",
       " 273,\n",
       " 274,\n",
       " 275,\n",
       " 276,\n",
       " 277,\n",
       " 278,\n",
       " 279,\n",
       " 280,\n",
       " 281,\n",
       " 282,\n",
       " 283,\n",
       " 284,\n",
       " 285,\n",
       " 286,\n",
       " 287,\n",
       " 288,\n",
       " 289,\n",
       " 290,\n",
       " 291,\n",
       " 292,\n",
       " 294,\n",
       " 295,\n",
       " 296,\n",
       " 297,\n",
       " 298,\n",
       " 299,\n",
       " 300,\n",
       " 302,\n",
       " 303,\n",
       " 304,\n",
       " 305,\n",
       " 306,\n",
       " 308,\n",
       " 309,\n",
       " 311,\n",
       " 313,\n",
       " 314,\n",
       " 315,\n",
       " 316,\n",
       " 317,\n",
       " 318,\n",
       " 319,\n",
       " 320,\n",
       " 321,\n",
       " 323,\n",
       " 324,\n",
       " 325,\n",
       " 326,\n",
       " 327,\n",
       " 329,\n",
       " 332,\n",
       " 335,\n",
       " 337,\n",
       " 339,\n",
       " 340,\n",
       " 342,\n",
       " 348,\n",
       " 349,\n",
       " 354,\n",
       " 355,\n",
       " 359,\n",
       " 362,\n",
       " 365,\n",
       " 366,\n",
       " 368,\n",
       " 372,\n",
       " 373,\n",
       " 377,\n",
       " 380,\n",
       " 396,\n",
       " 400]"
      ]
     },
     "execution_count": 17,
     "metadata": {},
     "output_type": "execute_result"
    }
   ],
   "source": [
    "xgi.unique_edge_sizes(H0)"
   ]
  },
  {
   "cell_type": "code",
   "execution_count": 18,
   "id": "64c279e0",
   "metadata": {},
   "outputs": [
    {
     "data": {
      "text/plain": [
       "(array([  2,   3,   4,   5,   6,   7,   8,   9,  10,  11,  12,  13,  14,\n",
       "         15,  16,  17,  18,  19,  20,  21,  22,  23,  24,  25,  26,  27,\n",
       "         28,  29,  30,  31,  32,  33,  34,  35,  36,  37,  38,  39,  40,\n",
       "         41,  42,  43,  44,  45,  46,  47,  48,  49,  50,  51,  52,  53,\n",
       "         54,  55,  56,  57,  58,  59,  60,  61,  62,  63,  64,  65,  66,\n",
       "         67,  68,  69,  70,  71,  72,  73,  74,  75,  76,  77,  78,  79,\n",
       "         80,  81,  82,  83,  84,  85,  86,  87,  88,  89,  90,  91,  92,\n",
       "         93,  94,  95,  96,  97,  98,  99, 100, 101, 102, 103, 104, 105,\n",
       "        106, 107, 108, 109, 110, 111, 112, 113, 114, 115, 116, 117, 118,\n",
       "        119, 120, 121, 122, 123, 124, 125, 126, 127, 128, 129, 130, 131,\n",
       "        132, 133, 134, 135, 136, 137, 138, 139, 140, 141, 142, 143, 144,\n",
       "        145, 146, 147, 148, 149, 150, 151, 152, 153, 154, 155, 156, 157,\n",
       "        158, 159, 160, 161, 162, 163, 164, 165, 166, 167, 168, 169, 170,\n",
       "        171, 172, 173, 174, 175, 176, 177, 178, 179, 180, 181, 182, 183,\n",
       "        184, 185, 186, 187, 188, 189, 190, 191, 192, 193, 194, 195, 196,\n",
       "        197, 198, 199, 200, 201, 202, 203, 204, 205, 206, 207, 208, 209,\n",
       "        210, 211, 212, 213, 214, 215, 216, 217, 218, 219, 220, 221, 222,\n",
       "        223, 224, 225, 226, 227, 228, 229, 230, 231, 232, 233, 234, 235,\n",
       "        236, 237, 238, 239, 240, 241, 242, 243, 244, 245, 246, 247, 248,\n",
       "        249, 250, 251, 252, 253, 254, 255, 256, 257, 258, 259, 260, 261,\n",
       "        262, 263, 264, 265, 266, 267, 268, 269, 270, 271, 272, 273, 274,\n",
       "        275, 276, 277, 278, 279, 280, 281, 282, 283, 284, 285, 286, 287,\n",
       "        288, 289, 290, 291, 292, 294, 295, 296, 297, 298, 299, 300, 302,\n",
       "        303, 304, 305, 306, 308, 309, 311, 313, 314, 315, 316, 317, 318,\n",
       "        319, 320, 321, 323, 324, 325, 326, 327, 329, 332, 335, 337, 339,\n",
       "        340, 342, 348, 349, 354, 355, 359, 362, 365, 366, 368, 372, 373,\n",
       "        377, 380, 396, 400]),\n",
       " array([13871, 10156,  7764,  5780,  4829,  4090,  3616,  3250,  2837,\n",
       "         2595,  2350,  2125,  2143,  1978,  1725,  1603,  1534,  1461,\n",
       "         1273,  1254,  1254,  1222,  1645,  2750,   799,   741,   692,\n",
       "          614,   606,   604,   556,   518,   502,   456,   444,   398,\n",
       "          419,   336,   360,   340,   337,   308,   315,   282,   268,\n",
       "          284,   240,   255,   288,   284,   295,   317,   275,   260,\n",
       "          249,   233,   215,   218,   196,   186,   166,   159,   148,\n",
       "          143,   144,   134,   145,   110,   116,   102,   102,    90,\n",
       "           75,   111,    89,    89,    66,    85,    89,    78,    81,\n",
       "           69,    81,    69,    80,    71,    56,    58,    45,    49,\n",
       "           59,    60,    62,    49,    56,    61,    49,    75,    73,\n",
       "           53,    52,    54,    41,    52,    53,    36,    35,    48,\n",
       "           45,    43,    49,    32,    33,    35,    35,    35,    24,\n",
       "           29,    26,    34,    18,    33,    29,    34,    37,    30,\n",
       "           28,    28,    37,    24,    31,    26,    34,    25,    24,\n",
       "           32,    18,    26,    33,    22,    25,    23,    13,    24,\n",
       "           16,    22,    16,    20,    20,    21,    13,    21,    14,\n",
       "           15,    25,    21,    18,    19,    24,    12,    17,    21,\n",
       "           19,    12,    21,    19,    19,    12,    20,    10,    16,\n",
       "           14,    12,    11,    12,     7,    13,    14,    17,    17,\n",
       "           11,     9,    15,    12,     8,    11,     7,     7,    11,\n",
       "            5,     8,     8,    11,     4,    11,     7,     9,     7,\n",
       "           12,     9,     8,    12,     7,    14,     6,    13,    12,\n",
       "           11,     8,     9,    12,    10,    26,    50,    61,    70,\n",
       "           76,    75,    62,    55,    52,    57,    59,    56,    43,\n",
       "           38,    40,    23,    34,    22,    23,    24,    17,    11,\n",
       "           17,    18,    14,     9,    10,     9,    12,    10,    12,\n",
       "           16,     9,     7,     6,     6,     5,     8,    13,     7,\n",
       "            6,     5,     3,     7,     4,     6,     5,     3,     8,\n",
       "            3,     6,     3,     5,     3,     2,     5,     5,     2,\n",
       "            2,     2,     2,     3,     3,     2,     3,     1,     6,\n",
       "            2,     1,     3,     1,     2,     3,     3,     6,     4,\n",
       "            4,     5,     1,     2,     3,     5,     2,     6,     3,\n",
       "            3,     4,     2,     1,     2,     2,     2,     2,     4,\n",
       "            2,     3,     3,     2,     1,     2,     2,     1,     1,\n",
       "            1,     2,     6,     1,     1,     1,     1,     3,     2,\n",
       "            1,     1,     1,     1,     1,     1,     1,     1,     1,\n",
       "            1,     1,     1,     1,     1,     1,     1,     1,     1]))"
      ]
     },
     "execution_count": 18,
     "metadata": {},
     "output_type": "execute_result"
    }
   ],
   "source": [
    "np.unique(H0.edges.size.asnumpy(), return_counts=True)"
   ]
  },
  {
   "cell_type": "code",
   "execution_count": null,
   "id": "c02d5732",
   "metadata": {},
   "outputs": [],
   "source": []
  },
  {
   "cell_type": "code",
   "execution_count": null,
   "id": "05e803d1",
   "metadata": {},
   "outputs": [],
   "source": []
  },
  {
   "cell_type": "code",
   "execution_count": null,
   "id": "6217af2e",
   "metadata": {},
   "outputs": [],
   "source": []
  },
  {
   "cell_type": "markdown",
   "id": "be3a9e81",
   "metadata": {},
   "source": [
    "## all together"
   ]
  },
  {
   "cell_type": "code",
   "execution_count": 18,
   "id": "6437390c",
   "metadata": {},
   "outputs": [
    {
     "name": "stderr",
     "output_type": "stream",
     "text": [
      "100%|█████████████████████████████████████████████| 3/3 [00:02<00:00,  1.21it/s]\n"
     ]
    }
   ],
   "source": [
    "data_names = [\n",
    "    \"email-enron\",\n",
    "    # \"email-eu\",\n",
    "    \"hospital-lyon\",\n",
    "    \"contact-high-school\",\n",
    "    # \"contact-primary-school\",\n",
    "    # \"tags-ask-ubuntu\",\n",
    "    # \"congress-bills\",\n",
    "    # \"disgenenet\",\n",
    "    # \"diseasome\",\n",
    "    # \"ndc-substances\",\n",
    "    # \"coauth-mag-geology\",\n",
    "    # \"coauth-mag-history\",\n",
    "]\n",
    "\n",
    "HGs = {}\n",
    "for name in tqdm(data_names):\n",
    "    HGs[name] = xgi.load_xgi_data(name, max_order=None, cache=True)"
   ]
  },
  {
   "cell_type": "code",
   "execution_count": 19,
   "id": "f09b6d34",
   "metadata": {},
   "outputs": [
    {
     "name": "stderr",
     "output_type": "stream",
     "text": [
      "\r",
      "  0%|                                                     | 0/3 [00:00<?, ?it/s]"
     ]
    },
    {
     "name": "stdout",
     "output_type": "stream",
     "text": [
      "Hypergraph named email-Enron with 148 nodes and 10885 hyperedges\n",
      "max order: 36\n",
      "Hypergraph named email-Enron with 143 nodes and 1459 hyperedges\n"
     ]
    },
    {
     "name": "stderr",
     "output_type": "stream",
     "text": [
      "\r",
      " 33%|███████████████                              | 1/3 [00:18<00:36, 18.28s/it]"
     ]
    },
    {
     "name": "stdout",
     "output_type": "stream",
     "text": [
      "Hypergraph named hospital-lyon with 75 nodes and 27834 hyperedges\n",
      "max order: 4\n",
      "Hypergraph named hospital-lyon with 75 nodes and 1824 hyperedges\n"
     ]
    },
    {
     "name": "stderr",
     "output_type": "stream",
     "text": [
      "\r",
      " 67%|██████████████████████████████               | 2/3 [00:19<00:08,  8.45s/it]"
     ]
    },
    {
     "name": "stdout",
     "output_type": "stream",
     "text": [
      "Hypergraph named contact-high-school with 327 nodes and 172035 hyperedges\n",
      "max order: 4\n",
      "Hypergraph named contact-high-school with 327 nodes and 7818 hyperedges\n",
      "logm result may be inaccurate, approximate err = 5.128841825295042e-13\n",
      "logm result may be inaccurate, approximate err = 4.641378397856407e-13\n",
      "logm result may be inaccurate, approximate err = 5.128841825295042e-13\n",
      "logm result may be inaccurate, approximate err = 4.887420895249281e-13\n",
      "logm result may be inaccurate, approximate err = 5.128841825295042e-13\n",
      "logm result may be inaccurate, approximate err = 4.570432369407865e-13\n",
      "logm result may be inaccurate, approximate err = 5.128841825295042e-13\n"
     ]
    },
    {
     "name": "stderr",
     "output_type": "stream",
     "text": [
      "100%|█████████████████████████████████████████████| 3/3 [00:29<00:00,  9.88s/it]"
     ]
    },
    {
     "name": "stdout",
     "output_type": "stream",
     "text": [
      "logm result may be inaccurate, approximate err = 5.128841825295042e-13\n"
     ]
    },
    {
     "name": "stderr",
     "output_type": "stream",
     "text": [
      "\n"
     ]
    }
   ],
   "source": [
    "rescale = True\n",
    "\n",
    "message_length_arr = []\n",
    "orders_arr = []\n",
    "\n",
    "for i, H0 in enumerate(tqdm(HGs)):\n",
    "\n",
    "    # load and clean\n",
    "    name = data_names[i]\n",
    "    H0 = HGs[name]\n",
    "    print(H0)\n",
    "    print(\"max order:\", xgi.max_edge_order(H0))\n",
    "    H0.cleanup(isolates=True)\n",
    "    print(H0)\n",
    "\n",
    "    orders = np.array(xgi.unique_edge_sizes(H0)) - 1\n",
    "    weights = np.ones(len(orders))\n",
    "    N = H0.num_nodes\n",
    "\n",
    "    # compute\n",
    "    tau_c = find_charact_tau(H0, orders, weights, rescale_per_node=rescale, idx=-1)\n",
    "\n",
    "    inverse_rescaling_factors = [max(orders) / d for d in orders]\n",
    "    Ds_H, lZs_H = optimization(\n",
    "        H0, tau_c, rescaling_factors=inverse_rescaling_factors, rescale_per_node=rescale\n",
    "    )\n",
    "\n",
    "    message_length = Ds_H + lZs_H\n",
    "\n",
    "    message_length_arr.append(message_length)\n",
    "    orders_arr.append(orders)"
   ]
  },
  {
   "cell_type": "code",
   "execution_count": 20,
   "id": "de7c9287",
   "metadata": {},
   "outputs": [
    {
     "data": {
      "image/png": "[encoded data removed]",
      "text/plain": [
       "<Figure size 380x80 with 3 Axes>"
      ]
     },
     "metadata": {},
     "output_type": "display_data"
    }
   ],
   "source": [
    "fig, axs = plt.subplots(\n",
    "    1, len(data_names), figsize=(3.8, 0.8), sharey=False\n",
    ")  # , layout=\"constrained\")\n",
    "\n",
    "for i, name in enumerate(data_names):\n",
    "\n",
    "    ax = axs[i]\n",
    "    ax.plot(orders_arr[i], message_length_arr[i], \"o-\", ms=4)\n",
    "\n",
    "    order_argmin = np.argmin(message_length_arr[i])\n",
    "    order_min = orders_arr[i][order_argmin]\n",
    "\n",
    "    ax.axvline(order_min, ls=\"--\", c=\"grey\", zorder=-2)\n",
    "    ax.set_xlabel(\"Max Order\")\n",
    "    ax.ticklabel_format(\n",
    "        axis=\"y\", style=\"scientific\", scilimits=(0, 0), useMathText=True, useOffset=True\n",
    "    )\n",
    "\n",
    "    ax.set_title(name, fontsize=\"small\", style=\"italic\")\n",
    "\n",
    "axs[0].set_ylabel(\"Message length\")\n",
    "axs[0].set_xticks([1, 15, 30])\n",
    "axs[1].set_xticks([1, 2, 3, 4])\n",
    "axs[2].set_xticks([1, 2, 3, 4])\n",
    "\n",
    "plt.subplots_adjust(wspace=0.5)\n",
    "\n",
    "sb.despine()\n",
    "\n",
    "fig_name = f\"figure_3\"\n",
    "plt.savefig(f\"{out_dir}{fig_name}.png\", dpi=250, bbox_inches=\"tight\")\n",
    "plt.savefig(f\"{out_dir}{fig_name}.pdf\", dpi=250, bbox_inches=\"tight\")"
   ]
  },
  {
   "cell_type": "code",
   "execution_count": null,
   "id": "3d4e8586",
   "metadata": {},
   "outputs": [],
   "source": []
  }
 ],
 "metadata": {
  "kernelspec": {
   "display_name": "venv_xgi",
   "language": "python",
   "name": "venv_xgi"
  },
  "language_info": {
   "codemirror_mode": {
    "name": "ipython",
    "version": 3
   },
   "file_extension": ".py",
   "mimetype": "text/x-python",
   "name": "python",
   "nbconvert_exporter": "python",
   "pygments_lexer": "ipython3",
   "version": "3.9.13"
  },
  "toc": {
   "base_numbering": 1,
   "nav_menu": {},
   "number_sections": true,
   "sideBar": true,
   "skip_h1_title": false,
   "title_cell": "Table of Contents",
   "title_sidebar": "Contents",
   "toc_cell": false,
   "toc_position": {
    "height": "calc(100% - 180px)",
    "left": "10px",
    "top": "150px",
    "width": "288.188px"
   },
   "toc_section_display": true,
   "toc_window_display": true
  }
 },
 "nbformat": 4,
 "nbformat_minor": 5
}
