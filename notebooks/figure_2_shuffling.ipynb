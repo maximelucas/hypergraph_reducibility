{
 "cells": [
  {
   "cell_type": "markdown",
   "id": "af9b5bd0",
   "metadata": {},
   "source": [
    "# Figure 2: shuffling hyperedges of a given order"
   ]
  },
  {
   "cell_type": "code",
   "execution_count": 1,
   "id": "207f6576",
   "metadata": {},
   "outputs": [],
   "source": [
    "import argparse\n",
    "import os\n",
    "import sys\n",
    "\n",
    "import numpy as np\n",
    "import matplotlib.pyplot as plt\n",
    "import pandas as pd\n",
    "import seaborn as sb\n",
    "from tqdm import tqdm\n",
    "\n",
    "sys.path.append(\"../src/\")\n",
    "\n",
    "import xgi\n",
    "from reducibility_hg import *\n",
    "\n",
    "sb.set_theme(style=\"ticks\", context=\"paper\")\n",
    "\n",
    "results_dir = \"../results/\"\n",
    "out_dir = f\"{results_dir}datasets/\""
   ]
  },
  {
   "cell_type": "markdown",
   "id": "56e27a03",
   "metadata": {},
   "source": [
    "## Load data"
   ]
  },
  {
   "cell_type": "code",
   "execution_count": 95,
   "id": "127526b9",
   "metadata": {},
   "outputs": [
    {
     "name": "stdout",
     "output_type": "stream",
     "text": [
      "Hypergraph named tags-ask-ubuntu with 3029 nodes and 271233 hyperedges\n",
      "max order: 4\n",
      "Hypergraph named tags-ask-ubuntu with 3021 nodes and 145053 hyperedges\n"
     ]
    }
   ],
   "source": [
    "datasets = [\n",
    "    \"email-enron\",\n",
    "    \"email-eu\",\n",
    "    \"hospital-lyon\",\n",
    "    \"contact-high-school\",\n",
    "    \"contact-primary-school\",\n",
    "    \"tags-ask-ubuntu\",\n",
    "]\n",
    "\n",
    "data_names = [\n",
    "    \"email-enron\",\n",
    "    \"email-eu\",\n",
    "    \"hospital-lyon\",\n",
    "    \"contact-high-school\",\n",
    "    \"contact-primary-school\",\n",
    "    \"tags-ask-ubuntu\",\n",
    "    \"congress-bills\",\n",
    "    \"disgenenet\",\n",
    "    \"diseasome\",\n",
    "    \"ndc-substances\",\n",
    "    \"coauth-mag-geology\",\n",
    "    \"coauth-mag-history\",\n",
    "]\n",
    "\n",
    "kk = 5\n",
    "dataset = datasets[kk]\n",
    "rescale_per_node = False\n",
    "\n",
    "# compute only if not computed yet\n",
    "tag = f\"shuffling_{dataset}\"\n",
    "file_name = f\"{out_dir}{tag}.npz\"\n",
    "if os.path.isfile(file_name):\n",
    "    print(f\"Dataset {dataset} was already computed and saved at {file_name}.\")\n",
    "\n",
    "try:\n",
    "    if \"PACS\" in dataset:\n",
    "        H0 = xgi.read_json(f\"../data/{dataset}.json\")  # not yet online\n",
    "    else:\n",
    "        H0 = xgi.load_xgi_data(dataset, max_order=None, cache=True)\n",
    "except Exception as e:\n",
    "    print(e)\n",
    "    \n",
    "print(H0)\n",
    "print(\"max order:\", xgi.max_edge_order(H0))\n",
    "H0.cleanup(isolates=False, singletons=False, multiedges=False)\n",
    "print(H0)\n"
   ]
  },
  {
   "cell_type": "code",
   "execution_count": 96,
   "id": "55853737",
   "metadata": {},
   "outputs": [
    {
     "name": "stdout",
     "output_type": "stream",
     "text": [
      "Computing characteristic tau...\n"
     ]
    }
   ],
   "source": [
    "orders = np.array(xgi.unique_edge_sizes(H0)) - 1\n",
    "weights = np.ones(len(orders))\n",
    "\n",
    "# compute characteristic timescale\n",
    "print(\"Computing characteristic tau...\")\n",
    "tau_c = find_charact_tau(H0, orders, weights, rescale_per_node=rescale_per_node)"
   ]
  },
  {
   "cell_type": "code",
   "execution_count": 97,
   "id": "d3439c35",
   "metadata": {},
   "outputs": [
    {
     "name": "stdout",
     "output_type": "stream",
     "text": [
      "3\n"
     ]
    }
   ],
   "source": [
    "d_shuffles = [3, 5, 7] # orders to shuffle\n",
    "p_shuffle = 1 # probability of shuffling\n",
    "\n",
    "Hs = []\n",
    "\n",
    "# create copies of the hypergraph with edges shuffled\n",
    "for d_shuffle in d_shuffles:\n",
    "    if d_shuffle <= xgi.max_edge_order(H0):\n",
    "        print(d_shuffle)\n",
    "        Hs.append(shuffle_hyperedges(S=H0, order=d_shuffle, p=p_shuffle))"
   ]
  },
  {
   "cell_type": "code",
   "execution_count": 98,
   "id": "fe0e5961",
   "metadata": {},
   "outputs": [
    {
     "name": "stderr",
     "output_type": "stream",
     "text": [
      "\r",
      "  0%|                                                     | 0/2 [00:00<?, ?it/s]"
     ]
    },
    {
     "name": "stdout",
     "output_type": "stream",
     "text": [
      "logm result may be inaccurate, approximate err = 4.139872182232195e-12\n",
      "logm result may be inaccurate, approximate err = 4.097611108417193e-12\n",
      "logm result may be inaccurate, approximate err = 4.139872182232195e-12\n",
      "logm result may be inaccurate, approximate err = 4.200715802849714e-12\n",
      "logm result may be inaccurate, approximate err = 4.139872182232195e-12\n",
      "logm result may be inaccurate, approximate err = 4.059824959894267e-12\n",
      "logm result may be inaccurate, approximate err = 4.139872182232195e-12\n",
      "logm result may be inaccurate, approximate err = 4.139872182232195e-12\n"
     ]
    },
    {
     "name": "stderr",
     "output_type": "stream",
     "text": [
      "\r",
      " 50%|█████████████████████▌                     | 1/2 [34:44<34:44, 2084.38s/it]"
     ]
    },
    {
     "name": "stdout",
     "output_type": "stream",
     "text": [
      "logm result may be inaccurate, approximate err = 4.156995107389829e-12\n",
      "logm result may be inaccurate, approximate err = 4.097611108417193e-12\n",
      "logm result may be inaccurate, approximate err = 4.156995107389829e-12\n",
      "logm result may be inaccurate, approximate err = 4.200715802849714e-12\n",
      "logm result may be inaccurate, approximate err = 4.156995107389829e-12\n",
      "logm result may be inaccurate, approximate err = 4.431910868231712e-12\n",
      "logm result may be inaccurate, approximate err = 4.156995107389829e-12\n",
      "logm result may be inaccurate, approximate err = 4.156995107389829e-12\n"
     ]
    },
    {
     "name": "stderr",
     "output_type": "stream",
     "text": [
      " 50%|███████████████████▌                   | 1/2 [1:09:11<1:09:11, 4151.14s/it]\n"
     ]
    },
    {
     "ename": "KeyboardInterrupt",
     "evalue": "",
     "output_type": "error",
     "traceback": [
      "\u001b[0;31m---------------------------------------------------------------------------\u001b[0m",
      "\u001b[0;31mKeyboardInterrupt\u001b[0m                         Traceback (most recent call last)",
      "Cell \u001b[0;32mIn [98], line 8\u001b[0m\n\u001b[1;32m      4\u001b[0m Qs_H \u001b[38;5;241m=\u001b[39m []\n\u001b[1;32m      6\u001b[0m \u001b[38;5;28;01mfor\u001b[39;00m H \u001b[38;5;129;01min\u001b[39;00m tqdm([H0] \u001b[38;5;241m+\u001b[39m Hs):\n\u001b[0;32m----> 8\u001b[0m     Ds_H_i, lZs_H_i, orders \u001b[38;5;241m=\u001b[39m compute_information(H, tau_c, rescale_per_node\u001b[38;5;241m=\u001b[39mrescale_per_node)\n\u001b[1;32m      9\u001b[0m     Q_i \u001b[38;5;241m=\u001b[39m Ds_H_i \u001b[38;5;241m+\u001b[39m lZs_H_i\n\u001b[1;32m     11\u001b[0m     Ds_H\u001b[38;5;241m.\u001b[39mappend(Ds_H_i)\n",
      "File \u001b[0;32m~/Dropbox (ISI Foundation)/WORK/SCIENCE/hypergraph_reducibility_arsham/notebooks/../src/reducibility_hg.py:249\u001b[0m, in \u001b[0;36mcompute_information\u001b[0;34m(H, tau, rescale_per_node)\u001b[0m\n\u001b[1;32m    246\u001b[0m Ds \u001b[38;5;241m=\u001b[39m np\u001b[38;5;241m.\u001b[39mzeros(d_max)\n\u001b[1;32m    247\u001b[0m lZs \u001b[38;5;241m=\u001b[39m np\u001b[38;5;241m.\u001b[39mzeros(d_max)\n\u001b[0;32m--> 249\u001b[0m Ds, lZs \u001b[38;5;241m=\u001b[39m \u001b[43moptimization\u001b[49m\u001b[43m(\u001b[49m\u001b[43mH\u001b[49m\u001b[43m,\u001b[49m\u001b[43m \u001b[49m\u001b[43mtau\u001b[49m\u001b[43m,\u001b[49m\u001b[43m \u001b[49m\u001b[43mrescale_per_node\u001b[49m\u001b[38;5;241;43m=\u001b[39;49m\u001b[43mrescale_per_node\u001b[49m\u001b[43m)\u001b[49m\n\u001b[1;32m    251\u001b[0m \u001b[38;5;28;01mreturn\u001b[39;00m Ds, lZs, orders\n",
      "File \u001b[0;32m~/Dropbox (ISI Foundation)/WORK/SCIENCE/hypergraph_reducibility_arsham/notebooks/../src/reducibility_hg.py:188\u001b[0m, in \u001b[0;36moptimization\u001b[0;34m(H, tau, rescale_per_node)\u001b[0m\n\u001b[1;32m    186\u001b[0m rho_l \u001b[38;5;241m=\u001b[39m density(L_l, tau)\n\u001b[1;32m    187\u001b[0m d \u001b[38;5;241m=\u001b[39m KL(rho_all, rho_l)\n\u001b[0;32m--> 188\u001b[0m z \u001b[38;5;241m=\u001b[39m \u001b[43mpenalization\u001b[49m\u001b[43m(\u001b[49m\u001b[43mL_l\u001b[49m\u001b[43m,\u001b[49m\u001b[43mtau\u001b[49m\u001b[43m)\u001b[49m\n\u001b[1;32m    190\u001b[0m D\u001b[38;5;241m.\u001b[39mappend(d)   \n\u001b[1;32m    191\u001b[0m lZ\u001b[38;5;241m.\u001b[39mappend(z)\n",
      "File \u001b[0;32m~/Dropbox (ISI Foundation)/WORK/SCIENCE/hypergraph_reducibility_arsham/notebooks/../src/reducibility_hg.py:153\u001b[0m, in \u001b[0;36mpenalization\u001b[0;34m(Lap, tau)\u001b[0m\n\u001b[1;32m    151\u001b[0m Z \u001b[38;5;241m=\u001b[39m np\u001b[38;5;241m.\u001b[39mtrace(linalg\u001b[38;5;241m.\u001b[39mexpm(\u001b[38;5;241m-\u001b[39m tau \u001b[38;5;241m*\u001b[39m Lap))\n\u001b[1;32m    152\u001b[0m N \u001b[38;5;241m=\u001b[39m \u001b[38;5;28mlen\u001b[39m(Lap)\n\u001b[0;32m--> 153\u001b[0m \u001b[38;5;28;01mreturn\u001b[39;00m np\u001b[38;5;241m.\u001b[39mlog(N) \u001b[38;5;241m-\u001b[39m \u001b[43mentropy\u001b[49m\u001b[43m(\u001b[49m\u001b[43mLap\u001b[49m\u001b[43m,\u001b[49m\u001b[43mtau\u001b[49m\u001b[43m)\u001b[49m\n",
      "File \u001b[0;32m~/Dropbox (ISI Foundation)/WORK/SCIENCE/hypergraph_reducibility_arsham/notebooks/../src/reducibility_hg.py:215\u001b[0m, in \u001b[0;36mentropy\u001b[0;34m(L, tau)\u001b[0m\n\u001b[1;32m    199\u001b[0m \u001b[38;5;28;01mdef\u001b[39;00m \u001b[38;5;21mentropy\u001b[39m(L, tau):\n\u001b[1;32m    200\u001b[0m     \u001b[38;5;124;03m\"\"\"\u001b[39;00m\n\u001b[1;32m    201\u001b[0m \u001b[38;5;124;03m    Computes the entropy associated to the Laplacian matrix.\u001b[39;00m\n\u001b[1;32m    202\u001b[0m \n\u001b[0;32m   (...)\u001b[0m\n\u001b[1;32m    213\u001b[0m \u001b[38;5;124;03m        The entropy of the graph\u001b[39;00m\n\u001b[1;32m    214\u001b[0m \u001b[38;5;124;03m    \"\"\"\u001b[39;00m\n\u001b[0;32m--> 215\u001b[0m     Ls \u001b[38;5;241m=\u001b[39m \u001b[43mnp\u001b[49m\u001b[38;5;241;43m.\u001b[39;49m\u001b[43mlinalg\u001b[49m\u001b[38;5;241;43m.\u001b[39;49m\u001b[43meigvals\u001b[49m\u001b[43m(\u001b[49m\u001b[43mL\u001b[49m\u001b[43m)\u001b[49m  \u001b[38;5;66;03m# Calculate eigenvalues of L\u001b[39;00m\n\u001b[1;32m    216\u001b[0m     Z \u001b[38;5;241m=\u001b[39m np\u001b[38;5;241m.\u001b[39msum(np\u001b[38;5;241m.\u001b[39mexp(\u001b[38;5;241m-\u001b[39mtau \u001b[38;5;241m*\u001b[39m Ls))  \u001b[38;5;66;03m# Calculates the partition function\u001b[39;00m\n\u001b[1;32m    217\u001b[0m     p \u001b[38;5;241m=\u001b[39m np\u001b[38;5;241m.\u001b[39mexp(\u001b[38;5;241m-\u001b[39mtau \u001b[38;5;241m*\u001b[39m Ls) \u001b[38;5;241m/\u001b[39m Z  \u001b[38;5;66;03m# Calculates the probabilities\u001b[39;00m\n",
      "File \u001b[0;32m<__array_function__ internals>:180\u001b[0m, in \u001b[0;36meigvals\u001b[0;34m(*args, **kwargs)\u001b[0m\n",
      "File \u001b[0;32m~/.pyenv/versions/venv_xgi/lib/python3.9/site-packages/numpy/linalg/linalg.py:1063\u001b[0m, in \u001b[0;36meigvals\u001b[0;34m(a)\u001b[0m\n\u001b[1;32m   1060\u001b[0m extobj \u001b[38;5;241m=\u001b[39m get_linalg_error_extobj(\n\u001b[1;32m   1061\u001b[0m     _raise_linalgerror_eigenvalues_nonconvergence)\n\u001b[1;32m   1062\u001b[0m signature \u001b[38;5;241m=\u001b[39m \u001b[38;5;124m'\u001b[39m\u001b[38;5;124mD->D\u001b[39m\u001b[38;5;124m'\u001b[39m \u001b[38;5;28;01mif\u001b[39;00m isComplexType(t) \u001b[38;5;28;01melse\u001b[39;00m \u001b[38;5;124m'\u001b[39m\u001b[38;5;124md->D\u001b[39m\u001b[38;5;124m'\u001b[39m\n\u001b[0;32m-> 1063\u001b[0m w \u001b[38;5;241m=\u001b[39m \u001b[43m_umath_linalg\u001b[49m\u001b[38;5;241;43m.\u001b[39;49m\u001b[43meigvals\u001b[49m\u001b[43m(\u001b[49m\u001b[43ma\u001b[49m\u001b[43m,\u001b[49m\u001b[43m \u001b[49m\u001b[43msignature\u001b[49m\u001b[38;5;241;43m=\u001b[39;49m\u001b[43msignature\u001b[49m\u001b[43m,\u001b[49m\u001b[43m \u001b[49m\u001b[43mextobj\u001b[49m\u001b[38;5;241;43m=\u001b[39;49m\u001b[43mextobj\u001b[49m\u001b[43m)\u001b[49m\n\u001b[1;32m   1065\u001b[0m \u001b[38;5;28;01mif\u001b[39;00m \u001b[38;5;129;01mnot\u001b[39;00m isComplexType(t):\n\u001b[1;32m   1066\u001b[0m     \u001b[38;5;28;01mif\u001b[39;00m \u001b[38;5;28mall\u001b[39m(w\u001b[38;5;241m.\u001b[39mimag \u001b[38;5;241m==\u001b[39m \u001b[38;5;241m0\u001b[39m):\n",
      "\u001b[0;31mKeyboardInterrupt\u001b[0m: "
     ]
    }
   ],
   "source": [
    "# compute message length\n",
    "Ds_H = []\n",
    "lZs_H = []\n",
    "Qs_H = []\n",
    "\n",
    "for H in tqdm([H0] + Hs):\n",
    "    \n",
    "    Ds_H_i, lZs_H_i, orders = compute_information(H, tau_c, rescale_per_node=rescale_per_node)\n",
    "    Q_i = Ds_H_i + lZs_H_i\n",
    "    \n",
    "    Ds_H.append(Ds_H_i)\n",
    "    lZs_H.append(lZs_H_i)\n",
    "    Qs_H.append(Q_i)"
   ]
  },
  {
   "cell_type": "code",
   "execution_count": null,
   "id": "35ff55a9",
   "metadata": {},
   "outputs": [],
   "source": [
    "np.savez(\n",
    "    f\"{out_dir}shuffled_{dataset}_ds_{d_shuffles}.npz\",\n",
    "    Ds_H=Ds_H,\n",
    "    lZs_H=lZs_H,\n",
    "    Qs_H=Qs_H,\n",
    "    d_shuffles=d_shuffles,\n",
    "    orders=orders,\n",
    "    p_shuffle=p_shuffle,\n",
    "    tau_c=tau_c\n",
    ")"
   ]
  },
  {
   "cell_type": "code",
   "execution_count": null,
   "id": "e9dd5db2",
   "metadata": {},
   "outputs": [],
   "source": []
  },
  {
   "cell_type": "code",
   "execution_count": null,
   "id": "42ff18a7",
   "metadata": {},
   "outputs": [],
   "source": [
    "fig, ax = plt.subplots(figsize=(3.4, 2.2))\n",
    "    \n",
    "ax.plot(orders, Qs_H[0], \"o-\", label=f\"not shuffled\", ms=10, mfc=\"white\")    \n",
    "ax.axvline(d_shuffles[0], ls=\"--\", c=f\"C0\", zorder=-2, alpha=0.8)\n",
    "\n",
    "for j, H in enumerate(Hs):\n",
    "    ax.plot(orders, Qs_H[j+1], \"o-\", label=f\"d={d_shuffles[j]} shuffled\")\n",
    "\n",
    "    ax.axvline(d_shuffles[j], ls=\"--\", c=f\"C{j+1}\", zorder=-2, alpha=0.8)\n",
    "\n",
    "ax.set_xlabel(\"Max order\")\n",
    "#ax.set_xticks(orders)\n",
    "\n",
    "ax.set_ylabel(\"Quality function\")\n",
    "ax.legend(loc=\"center left\", bbox_to_anchor=(1, 0.5))\n",
    "#ax.set_xlim([0, 20])\n",
    "\n",
    "sb.despine()\n",
    "\n",
    "fig.suptitle(f\"{dataset} $p_s={p_shuffle}$\")\n",
    "\n",
    "fig_name = f\"info_{dataset}_p_s_{p_shuffle}\" #lambda2_HG_SC_N_{N}_ps_{ps}_nrep_{n_repetitions}\"\n",
    "\n",
    "plt.savefig(f\"{out_dir}{fig_name}.png\", dpi=250, bbox_inches=\"tight\")\n",
    "plt.savefig(f\"{out_dir}{fig_name}.pdf\", dpi=250, bbox_inches=\"tight\")"
   ]
  },
  {
   "cell_type": "code",
   "execution_count": null,
   "id": "c5cf2d7c",
   "metadata": {},
   "outputs": [],
   "source": [
    "fig, (ax, ax2) = plt.subplots(1, 2, figsize=(6.4, 2.2), sharey=True)\n",
    "    \n",
    "ax.plot(orders, Qs_H[0], \"o-\", label=f\"not shuffled\", ms=10, mfc=\"white\")    \n",
    "ax.axvline(d_shuffles[0], ls=\"--\", c=f\"C0\", zorder=-2, alpha=0.8)\n",
    "\n",
    "for j, H in enumerate(Hs):\n",
    "    ax.plot(orders, Qs_H[j+1], \"o-\", label=f\"d={d_shuffles[j]} shuffled\")\n",
    "\n",
    "    ax.axvline(d_shuffles[j], ls=\"--\", c=f\"C{j+1}\", zorder=-2, alpha=0.8)\n",
    "\n",
    "ax.set_xlabel(\"Max order\")\n",
    "#ax.set_xticks(orders)\n",
    "\n",
    "ax.set_ylabel(\"Quality function\")\n",
    "#ax.legend(loc=\"center left\", bbox_to_anchor=(1, 0.5))\n",
    "#ax.set_xlim([0, 20])\n",
    "\n",
    "ax2.plot(orders, Qs_H[0], \"o-\", label=f\"not shuffled\", ms=10, mfc=\"white\")    \n",
    "ax2.axvline(d_shuffles[0], ls=\"--\", c=f\"C0\", zorder=-2, alpha=0.8)\n",
    "\n",
    "for j, H in enumerate(Hs):\n",
    "    ax2.plot(orders, Qs_H[j+1], \"o-\", label=f\"d={d_shuffles[j]} shuffled\")\n",
    "\n",
    "    ax2.axvline(d_shuffles[j], ls=\"--\", c=f\"C{j+1}\", zorder=-2, alpha=0.8)\n",
    "\n",
    "ax2.set_xlabel(\"Max order\")\n",
    "#ax2.set_xticks(orders)\n",
    "\n",
    "#ax2.set_ylabel(\"Quality function\")\n",
    "ax2.legend(loc=\"center left\", bbox_to_anchor=(1, 0.5))\n",
    "ax2.set_xlim([0, 15])\n",
    "ax2.set_title(\"zoom in\")\n",
    "\n",
    "sb.despine()\n",
    "\n",
    "fig.suptitle(f\"{dataset} $p_s={p_shuffle}$\")\n",
    "\n",
    "fig_name = f\"info_{dataset}_p_s_{p_shuffle}\" #lambda2_HG_SC_N_{N}_ps_{ps}_nrep_{n_repetitions}\"\n",
    "\n",
    "#plt.savefig(f\"{out_dir}{fig_name}_zoom.png\", dpi=250, bbox_inches=\"tight\")\n",
    "#plt.savefig(f\"{out_dir}{fig_name}_zoom.pdf\", dpi=250, bbox_inches=\"tight\")"
   ]
  },
  {
   "cell_type": "markdown",
   "id": "462c15c8",
   "metadata": {},
   "source": [
    "## all datasets"
   ]
  },
  {
   "cell_type": "code",
   "execution_count": 66,
   "id": "ad7e190f",
   "metadata": {},
   "outputs": [],
   "source": [
    "import glob"
   ]
  },
  {
   "cell_type": "code",
   "execution_count": 90,
   "id": "442146a3",
   "metadata": {},
   "outputs": [
    {
     "name": "stdout",
     "output_type": "stream",
     "text": [
      "email-enron\n",
      "contact-high-school\n",
      "contact-primary-school\n",
      "hospital-lyon\n"
     ]
    }
   ],
   "source": [
    "data = dict()\n",
    "\n",
    "for file_name in glob.glob(f\"{out_dir}shuffled*.npz\"):\n",
    "    \n",
    "    data_i = np.load(file_name)\n",
    "    \n",
    "    dataset = file_name.split(\"/\")[-1].split(\".\")[0].split(\"_\")[1]\n",
    "    \n",
    "    #print(file_name)\n",
    "    print(dataset)\n",
    "    data[dataset] = {}\n",
    "    data[dataset][\"Qs_H\"] = data_i[\"Qs_H\"]\n",
    "    data[dataset][\"orders\"] = data_i[\"orders\"]\n",
    "    data[dataset][\"d_shuffles\"] = data_i[\"d_shuffles\"]\n"
   ]
  },
  {
   "cell_type": "code",
   "execution_count": 94,
   "id": "84923979",
   "metadata": {},
   "outputs": [
    {
     "name": "stdout",
     "output_type": "stream",
     "text": [
      "[ 3  5  7 11]\n",
      "[ 3  5  7 11]\n",
      "[ 3  5  7 11]\n",
      "[ 3  5  7 11]\n"
     ]
    },
    {
     "data": {
      "image/png": "[encoded data removed]",
      "text/plain": [
       "<Figure size 700x500 with 9 Axes>"
      ]
     },
     "metadata": {},
     "output_type": "display_data"
    }
   ],
   "source": [
    "n_sets = len(data)\n",
    "\n",
    "fig, axs = plt.subplots(3, 3, sharex=False, sharey=False, figsize=(7, 5))\n",
    "\n",
    "for i, (dataset, vals_dict) in enumerate(data.items()):\n",
    "\n",
    "    ax = axs.flatten()[i]\n",
    "    \n",
    "    Qs_H = vals_dict[\"Qs_H\"]\n",
    "    orders = vals_dict[\"orders\"]\n",
    "    d_shuffles = vals_dict[\"d_shuffles\"]\n",
    "    print(d_shuffles)\n",
    "\n",
    "    ax.plot(orders, Qs_H[0], \"o-\", label=f\"not shuffled\", ms=10, mfc=\"white\")    \n",
    "    ax.axvline(d_shuffles[0], ls=\"--\", c=f\"C0\", zorder=-2, alpha=0.8)\n",
    "\n",
    "    for j in range(len(Qs_H)-1):\n",
    "        ax.plot(orders, Qs_H[j+1], \"o-\", label=f\"d={d_shuffles[j]} shuffled\")\n",
    "\n",
    "        ax.axvline(d_shuffles[j], ls=\"--\", c=f\"C{j+1}\", zorder=-2, alpha=0.8)\n",
    "\n",
    "    ax.set_title(dataset, weight=\"bold\")\n",
    "\n",
    "plt.subplots_adjust(wspace=0.5, hspace=0.5)\n",
    "\n",
    "for ax in axs[:, 0]:\n",
    "    ax.set_ylabel(\"Message legnth\")\n",
    "\n",
    "for ax in axs[-1, :]:\n",
    "    ax.set_xlabel(\"Order\")\n",
    "    \n",
    "sb.despine()\n",
    "\n",
    "fig_name = f\"figure_2_v1\" #lambda2_HG_SC_N_{N}_ps_{ps}_nrep_{n_repetitions}\"\n",
    "\n",
    "#plt.savefig(f\"{out_dir}{fig_name}.png\", dpi=250, bbox_inches=\"tight\")\n",
    "#plt.savefig(f\"{out_dir}{fig_name}.pdf\", dpi=250, bbox_inches=\"tight\")"
   ]
  },
  {
   "cell_type": "code",
   "execution_count": null,
   "id": "5098b80d",
   "metadata": {},
   "outputs": [],
   "source": []
  },
  {
   "cell_type": "code",
   "execution_count": null,
   "id": "c3afffa0",
   "metadata": {},
   "outputs": [],
   "source": []
  }
 ],
 "metadata": {
  "kernelspec": {
   "display_name": "venv_xgi",
   "language": "python",
   "name": "venv_xgi"
  },
  "language_info": {
   "codemirror_mode": {
    "name": "ipython",
    "version": 3
   },
   "file_extension": ".py",
   "mimetype": "text/x-python",
   "name": "python",
   "nbconvert_exporter": "python",
   "pygments_lexer": "ipython3",
   "version": "3.9.13"
  },
  "toc": {
   "base_numbering": 1,
   "nav_menu": {},
   "number_sections": true,
   "sideBar": true,
   "skip_h1_title": false,
   "title_cell": "Table of Contents",
   "title_sidebar": "Contents",
   "toc_cell": false,
   "toc_position": {},
   "toc_section_display": true,
   "toc_window_display": true
  }
 },
 "nbformat": 4,
 "nbformat_minor": 5
}
