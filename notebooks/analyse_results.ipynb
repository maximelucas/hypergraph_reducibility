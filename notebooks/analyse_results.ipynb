{
 "cells": [
  {
   "cell_type": "code",
   "execution_count": 112,
   "id": "ceb95f0b",
   "metadata": {},
   "outputs": [],
   "source": [
    "import sys\n",
    "import warnings\n",
    "\n",
    "import networkx as nx\n",
    "import numpy as np\n",
    "import matplotlib.pyplot as plt\n",
    "import pandas as pd\n",
    "import seaborn as sb\n",
    "from tqdm import tqdm\n",
    "from itertools import combinations\n",
    "from tqdm import tqdm\n",
    "\n",
    "sys.path.append(\"../src/\")\n",
    "\n",
    "import xgi\n",
    "from reducibility_hg import *\n",
    "\n",
    "from statannotations.Annotator import Annotator\n",
    "\n",
    "sb.set_theme(style=\"ticks\", context=\"paper\")\n",
    "\n",
    "results_dir = \"../results/\"\n",
    "out_dir = f\"{results_dir}datasets/\""
   ]
  },
  {
   "cell_type": "code",
   "execution_count": 113,
   "id": "be644712",
   "metadata": {},
   "outputs": [
    {
     "name": "stdout",
     "output_type": "stream",
     "text": [
      "Available datasets are the following:\n",
      "coauth-dblp\n",
      "coauth-mag-geology\n",
      "coauth-mag-history\n",
      "congress-bills\n",
      "contact-high-school\n",
      "contact-primary-school\n",
      "dawn\n",
      "diseasome\n",
      "disgenenet\n",
      "email-enron\n",
      "email-eu\n",
      "hospital-lyon\n",
      "hypertext-conference\n",
      "invs13\n",
      "invs15\n",
      "kaggle-whats-cooking\n",
      "malawi-village\n",
      "ndc-classes\n",
      "ndc-substances\n",
      "science-gallery\n",
      "sfhh-conference\n",
      "tags-ask-ubuntu\n",
      "tags-math-sx\n",
      "tags-stack-overflow\n"
     ]
    }
   ],
   "source": [
    "xgi.load_xgi_data()"
   ]
  },
  {
   "cell_type": "code",
   "execution_count": 114,
   "id": "1764f7cc",
   "metadata": {},
   "outputs": [
    {
     "data": {
      "text/plain": [
       "24"
      ]
     },
     "execution_count": 114,
     "metadata": {},
     "output_type": "execute_result"
    }
   ],
   "source": [
    "len(dataset_categories)"
   ]
  },
  {
   "cell_type": "code",
   "execution_count": 149,
   "id": "4bc4e27f",
   "metadata": {},
   "outputs": [],
   "source": [
    "dataset_categories = {\n",
    "    \"coauth-mag-geology_1980\": \"coauthorship\",\n",
    "    \"coauth-mag-geology_1981\": \"coauthorship\",\n",
    "    \"coauth-mag-geology_1982\": \"coauthorship\",\n",
    "    \"coauth-mag-geology_1983\": \"coauthorship\",\n",
    "    \"coauth-mag-geology_1988\": \"coauthorship\",\n",
    "    \"coauth-dblp\": \"coauthorship\",\n",
    "    \"coauth-mag-geology\": \"coauthorship\",\n",
    "    \"coauth-mag-history\": \"coauthorship\",\n",
    "    \"congress-bills\": \"other\",\n",
    "    \"contact-high-school\": \"contact\",\n",
    "    \"contact-primary-school\": \"contact\",\n",
    "    \"dawn\": \"bio\",\n",
    "    \"diseasome\": \"bio\",\n",
    "    \"disgenenet\": \"bio\",\n",
    "    \"email-enron\": \"technology\",\n",
    "    \"email-eu\": \"technology\",\n",
    "    \"hospital-lyon\": \"contact\",\n",
    "    \"hypertext-conference\": \"contact\",\n",
    "    \"invs13\": \"contact\",\n",
    "    \"invs15\": \"contact\",\n",
    "    \"kaggle-whats-cooking\": \"other\",\n",
    "    \"malawi-village\": \"contact\",\n",
    "    \"ndc-classes\": \"bio\",\n",
    "    \"ndc-substances\": \"bio\",\n",
    "    \"science-gallery\": \"contact\",\n",
    "    \"sfhh-conference\": \"contact\",\n",
    "    \"tags-ask-ubuntu\": \"technology\",\n",
    "    \"tags-math-sx\": \"technology\",\n",
    "    \"tags-stack-overflow\": \"technology\"\n",
    "}\n"
   ]
  },
  {
   "cell_type": "markdown",
   "id": "a07bdb4e",
   "metadata": {},
   "source": [
    "## load dataset"
   ]
  },
  {
   "cell_type": "code",
   "execution_count": 240,
   "id": "6a40cd73",
   "metadata": {},
   "outputs": [],
   "source": [
    "stats = {}\n",
    "\n",
    "datasets = [\n",
    "    \"coauth-mag-geology_1980\",\n",
    "    \"coauth-mag-geology_1981\",\n",
    "    \"coauth-mag-geology_1982\",\n",
    "    \"coauth-mag-geology_1983\",\n",
    "    #\"coauth-mag-geology_1988\",\n",
    "    #\"coauth-dblp\",\n",
    "    #\"coauth-mag-geology\",\n",
    "    #\"coauth-mag-history\",\n",
    "    #\"congress-bills\",\n",
    "    \"contact-high-school\",\n",
    "    \"contact-primary-school\",\n",
    "    \"dawn\",\n",
    "    #\"diseasome\",\n",
    "    #\"disgenenet\",\n",
    "    \"email-enron\",\n",
    "    \"email-eu\",\n",
    "    \"hospital-lyon\",\n",
    "    \"hypertext-conference\",\n",
    "    \"invs13\",\n",
    "    \"invs15\",\n",
    "    \"kaggle-whats-cooking\",\n",
    "    \"malawi-village\",\n",
    "    \"ndc-classes\",\n",
    "    \"ndc-substances\",\n",
    "    \"science-gallery\",\n",
    "    \"sfhh-conference\",\n",
    "    \"tags-ask-ubuntu\",\n",
    "    \"tags-math-sx\",\n",
    "    #\"tags-stack-overflow\"\n",
    "]\n",
    "\n",
    "suffix = \"no_rescaling\"\n",
    "\n",
    "for name in datasets:\n",
    "    \n",
    "    stats[name] = {}\n",
    "    \n",
    "    #name = \"hypertext-conference\"\n",
    "    data = np.load(f\"{out_dir}/message_length_{name}_{suffix}.npz\")\n",
    "\n",
    "    stats[name] = data\n",
    "    "
   ]
  },
  {
   "cell_type": "code",
   "execution_count": 241,
   "id": "3dbd04e8",
   "metadata": {},
   "outputs": [],
   "source": [
    "stats_df = pd.DataFrame.from_dict(stats, orient=\"index\")\n",
    "stats_df[\"max_order\"] = stats_df[\"orders\"].apply(max)\n",
    "stats_df[\"dataset\"] = stats_df[\"dataset\"].astype(str)\n",
    "stats_df[\"N\"] = stats_df[\"N\"].astype(int)\n",
    "stats_df[\"num_edges\"] = stats_df[\"num_edges\"].astype(int)\n",
    "stats_df[\"order_min\"] = stats_df[\"order_min\"].astype(int)\n",
    "\n",
    "# stats_df"
   ]
  },
  {
   "cell_type": "code",
   "execution_count": 242,
   "id": "6711ac1e",
   "metadata": {},
   "outputs": [
    {
     "data": {
      "text/html": [
       "<div>\n",
       "<style scoped>\n",
       "    .dataframe tbody tr th:only-of-type {\n",
       "        vertical-align: middle;\n",
       "    }\n",
       "\n",
       "    .dataframe tbody tr th {\n",
       "        vertical-align: top;\n",
       "    }\n",
       "\n",
       "    .dataframe thead th {\n",
       "        text-align: right;\n",
       "    }\n",
       "</style>\n",
       "<table border=\"1\" class=\"dataframe\">\n",
       "  <thead>\n",
       "    <tr style=\"text-align: right;\">\n",
       "      <th></th>\n",
       "      <th>dataset</th>\n",
       "      <th>N</th>\n",
       "      <th>num_edges</th>\n",
       "      <th>max_order</th>\n",
       "      <th>order_min</th>\n",
       "      <th>reduce</th>\n",
       "      <th>category</th>\n",
       "    </tr>\n",
       "  </thead>\n",
       "  <tbody>\n",
       "    <tr>\n",
       "      <th>coauth-mag-geology_1980</th>\n",
       "      <td>coauth-mag-geology_1980</td>\n",
       "      <td>1350</td>\n",
       "      <td>657</td>\n",
       "      <td>17</td>\n",
       "      <td>17</td>\n",
       "      <td>0.000000</td>\n",
       "      <td>coauthorship</td>\n",
       "    </tr>\n",
       "    <tr>\n",
       "      <th>coauth-mag-geology_1981</th>\n",
       "      <td>coauth-mag-geology_1981</td>\n",
       "      <td>464</td>\n",
       "      <td>233</td>\n",
       "      <td>17</td>\n",
       "      <td>17</td>\n",
       "      <td>0.000000</td>\n",
       "      <td>coauthorship</td>\n",
       "    </tr>\n",
       "    <tr>\n",
       "      <th>coauth-mag-geology_1982</th>\n",
       "      <td>coauth-mag-geology_1982</td>\n",
       "      <td>1331</td>\n",
       "      <td>622</td>\n",
       "      <td>17</td>\n",
       "      <td>17</td>\n",
       "      <td>0.000000</td>\n",
       "      <td>coauthorship</td>\n",
       "    </tr>\n",
       "    <tr>\n",
       "      <th>coauth-mag-geology_1983</th>\n",
       "      <td>coauth-mag-geology_1983</td>\n",
       "      <td>535</td>\n",
       "      <td>245</td>\n",
       "      <td>14</td>\n",
       "      <td>14</td>\n",
       "      <td>0.000000</td>\n",
       "      <td>coauthorship</td>\n",
       "    </tr>\n",
       "    <tr>\n",
       "      <th>contact-high-school</th>\n",
       "      <td>contact-high-school</td>\n",
       "      <td>327</td>\n",
       "      <td>7818</td>\n",
       "      <td>4</td>\n",
       "      <td>3</td>\n",
       "      <td>0.333333</td>\n",
       "      <td>contact</td>\n",
       "    </tr>\n",
       "    <tr>\n",
       "      <th>contact-primary-school</th>\n",
       "      <td>contact-primary-school</td>\n",
       "      <td>242</td>\n",
       "      <td>12704</td>\n",
       "      <td>4</td>\n",
       "      <td>3</td>\n",
       "      <td>0.333333</td>\n",
       "      <td>contact</td>\n",
       "    </tr>\n",
       "    <tr>\n",
       "      <th>dawn</th>\n",
       "      <td>dawn</td>\n",
       "      <td>2290</td>\n",
       "      <td>138742</td>\n",
       "      <td>15</td>\n",
       "      <td>8</td>\n",
       "      <td>0.500000</td>\n",
       "      <td>bio</td>\n",
       "    </tr>\n",
       "    <tr>\n",
       "      <th>email-enron</th>\n",
       "      <td>email-enron</td>\n",
       "      <td>143</td>\n",
       "      <td>1459</td>\n",
       "      <td>36</td>\n",
       "      <td>9</td>\n",
       "      <td>0.771429</td>\n",
       "      <td>technology</td>\n",
       "    </tr>\n",
       "    <tr>\n",
       "      <th>email-eu</th>\n",
       "      <td>email-eu</td>\n",
       "      <td>986</td>\n",
       "      <td>24520</td>\n",
       "      <td>39</td>\n",
       "      <td>16</td>\n",
       "      <td>0.605263</td>\n",
       "      <td>technology</td>\n",
       "    </tr>\n",
       "    <tr>\n",
       "      <th>hospital-lyon</th>\n",
       "      <td>hospital-lyon</td>\n",
       "      <td>75</td>\n",
       "      <td>1824</td>\n",
       "      <td>4</td>\n",
       "      <td>3</td>\n",
       "      <td>0.333333</td>\n",
       "      <td>contact</td>\n",
       "    </tr>\n",
       "    <tr>\n",
       "      <th>hypertext-conference</th>\n",
       "      <td>hypertext-conference</td>\n",
       "      <td>113</td>\n",
       "      <td>2434</td>\n",
       "      <td>5</td>\n",
       "      <td>4</td>\n",
       "      <td>0.250000</td>\n",
       "      <td>contact</td>\n",
       "    </tr>\n",
       "    <tr>\n",
       "      <th>invs13</th>\n",
       "      <td>invs13</td>\n",
       "      <td>92</td>\n",
       "      <td>787</td>\n",
       "      <td>3</td>\n",
       "      <td>2</td>\n",
       "      <td>0.500000</td>\n",
       "      <td>contact</td>\n",
       "    </tr>\n",
       "    <tr>\n",
       "      <th>invs15</th>\n",
       "      <td>invs15</td>\n",
       "      <td>217</td>\n",
       "      <td>4909</td>\n",
       "      <td>3</td>\n",
       "      <td>2</td>\n",
       "      <td>0.500000</td>\n",
       "      <td>contact</td>\n",
       "    </tr>\n",
       "    <tr>\n",
       "      <th>kaggle-whats-cooking</th>\n",
       "      <td>kaggle-whats-cooking</td>\n",
       "      <td>6714</td>\n",
       "      <td>39224</td>\n",
       "      <td>64</td>\n",
       "      <td>19</td>\n",
       "      <td>0.714286</td>\n",
       "      <td>other</td>\n",
       "    </tr>\n",
       "    <tr>\n",
       "      <th>malawi-village</th>\n",
       "      <td>malawi-village</td>\n",
       "      <td>84</td>\n",
       "      <td>431</td>\n",
       "      <td>3</td>\n",
       "      <td>2</td>\n",
       "      <td>0.500000</td>\n",
       "      <td>contact</td>\n",
       "    </tr>\n",
       "    <tr>\n",
       "      <th>ndc-classes</th>\n",
       "      <td>ndc-classes</td>\n",
       "      <td>628</td>\n",
       "      <td>796</td>\n",
       "      <td>38</td>\n",
       "      <td>14</td>\n",
       "      <td>0.648649</td>\n",
       "      <td>bio</td>\n",
       "    </tr>\n",
       "    <tr>\n",
       "      <th>ndc-substances</th>\n",
       "      <td>ndc-substances</td>\n",
       "      <td>3065</td>\n",
       "      <td>6093</td>\n",
       "      <td>24</td>\n",
       "      <td>11</td>\n",
       "      <td>0.565217</td>\n",
       "      <td>bio</td>\n",
       "    </tr>\n",
       "    <tr>\n",
       "      <th>science-gallery</th>\n",
       "      <td>science-gallery</td>\n",
       "      <td>410</td>\n",
       "      <td>3350</td>\n",
       "      <td>4</td>\n",
       "      <td>2</td>\n",
       "      <td>0.666667</td>\n",
       "      <td>contact</td>\n",
       "    </tr>\n",
       "    <tr>\n",
       "      <th>sfhh-conference</th>\n",
       "      <td>sfhh-conference</td>\n",
       "      <td>403</td>\n",
       "      <td>10541</td>\n",
       "      <td>8</td>\n",
       "      <td>6</td>\n",
       "      <td>0.285714</td>\n",
       "      <td>contact</td>\n",
       "    </tr>\n",
       "    <tr>\n",
       "      <th>tags-ask-ubuntu</th>\n",
       "      <td>tags-ask-ubuntu</td>\n",
       "      <td>3021</td>\n",
       "      <td>145053</td>\n",
       "      <td>4</td>\n",
       "      <td>2</td>\n",
       "      <td>0.666667</td>\n",
       "      <td>technology</td>\n",
       "    </tr>\n",
       "    <tr>\n",
       "      <th>tags-math-sx</th>\n",
       "      <td>tags-math-sx</td>\n",
       "      <td>1627</td>\n",
       "      <td>169259</td>\n",
       "      <td>4</td>\n",
       "      <td>2</td>\n",
       "      <td>0.666667</td>\n",
       "      <td>technology</td>\n",
       "    </tr>\n",
       "  </tbody>\n",
       "</table>\n",
       "</div>"
      ],
      "text/plain": [
       "                                         dataset     N  num_edges  max_order  \\\n",
       "coauth-mag-geology_1980  coauth-mag-geology_1980  1350        657         17   \n",
       "coauth-mag-geology_1981  coauth-mag-geology_1981   464        233         17   \n",
       "coauth-mag-geology_1982  coauth-mag-geology_1982  1331        622         17   \n",
       "coauth-mag-geology_1983  coauth-mag-geology_1983   535        245         14   \n",
       "contact-high-school          contact-high-school   327       7818          4   \n",
       "contact-primary-school    contact-primary-school   242      12704          4   \n",
       "dawn                                        dawn  2290     138742         15   \n",
       "email-enron                          email-enron   143       1459         36   \n",
       "email-eu                                email-eu   986      24520         39   \n",
       "hospital-lyon                      hospital-lyon    75       1824          4   \n",
       "hypertext-conference        hypertext-conference   113       2434          5   \n",
       "invs13                                    invs13    92        787          3   \n",
       "invs15                                    invs15   217       4909          3   \n",
       "kaggle-whats-cooking        kaggle-whats-cooking  6714      39224         64   \n",
       "malawi-village                    malawi-village    84        431          3   \n",
       "ndc-classes                          ndc-classes   628        796         38   \n",
       "ndc-substances                    ndc-substances  3065       6093         24   \n",
       "science-gallery                  science-gallery   410       3350          4   \n",
       "sfhh-conference                  sfhh-conference   403      10541          8   \n",
       "tags-ask-ubuntu                  tags-ask-ubuntu  3021     145053          4   \n",
       "tags-math-sx                        tags-math-sx  1627     169259          4   \n",
       "\n",
       "                         order_min    reduce      category  \n",
       "coauth-mag-geology_1980         17  0.000000  coauthorship  \n",
       "coauth-mag-geology_1981         17  0.000000  coauthorship  \n",
       "coauth-mag-geology_1982         17  0.000000  coauthorship  \n",
       "coauth-mag-geology_1983         14  0.000000  coauthorship  \n",
       "contact-high-school              3  0.333333       contact  \n",
       "contact-primary-school           3  0.333333       contact  \n",
       "dawn                             8  0.500000           bio  \n",
       "email-enron                      9  0.771429    technology  \n",
       "email-eu                        16  0.605263    technology  \n",
       "hospital-lyon                    3  0.333333       contact  \n",
       "hypertext-conference             4  0.250000       contact  \n",
       "invs13                           2  0.500000       contact  \n",
       "invs15                           2  0.500000       contact  \n",
       "kaggle-whats-cooking            19  0.714286         other  \n",
       "malawi-village                   2  0.500000       contact  \n",
       "ndc-classes                     14  0.648649           bio  \n",
       "ndc-substances                  11  0.565217           bio  \n",
       "science-gallery                  2  0.666667       contact  \n",
       "sfhh-conference                  6  0.285714       contact  \n",
       "tags-ask-ubuntu                  2  0.666667    technology  \n",
       "tags-math-sx                     2  0.666667    technology  "
      ]
     },
     "execution_count": 242,
     "metadata": {},
     "output_type": "execute_result"
    }
   ],
   "source": [
    "stats_df = stats_df[[\"dataset\", \"N\", \"num_edges\", \"max_order\", \"order_min\"]]\n",
    "\n",
    "def reducibility(max_order, order_min):\n",
    "    return (max_order - order_min) / (max_order - 1)\n",
    "\n",
    "stats_df[\"reduce\"] = stats_df.apply(lambda x: reducibility(x[\"max_order\"], x[\"order_min\"]), axis=1)\n",
    "stats_df[\"category\"] = stats_df['dataset'].map(dataset_categories)\n",
    "\n",
    "stats_df"
   ]
  },
  {
   "cell_type": "code",
   "execution_count": 243,
   "id": "b3a74a07",
   "metadata": {},
   "outputs": [
    {
     "data": {
      "image/png": "[encoded data removed]",
      "text/plain": [
       "<Figure size 714.5x600 with 20 Axes>"
      ]
     },
     "metadata": {},
     "output_type": "display_data"
    }
   ],
   "source": [
    "sb.pairplot(\n",
    "    data=stats_df,\n",
    "    hue=\"category\",\n",
    "    height=1.2,\n",
    "    aspect=1,\n",
    "    corner=True,\n",
    "    plot_kws={\"alpha\": 0.8},\n",
    "    diag_kind=\"hist\",\n",
    ")\n",
    "\n",
    "fig_name = f\"reduce_datasets_pairplot_{suffix}\"\n",
    "plt.savefig(f\"{out_dir}{fig_name}.png\", dpi=250, bbox_inches=\"tight\")\n",
    "\n",
    "\n",
    "plt.show()"
   ]
  },
  {
   "cell_type": "code",
   "execution_count": null,
   "id": "cd5e0af9",
   "metadata": {},
   "outputs": [],
   "source": []
  },
  {
   "cell_type": "code",
   "execution_count": 248,
   "id": "6d1f7da7",
   "metadata": {},
   "outputs": [
    {
     "data": {
      "image/png": "[encoded data removed]",
      "text/plain": [
       "<Figure size 350x200 with 1 Axes>"
      ]
     },
     "metadata": {},
     "output_type": "display_data"
    }
   ],
   "source": [
    "fig, ax = plt.subplots(figsize=(3.5,2))\n",
    "\n",
    "sb.swarmplot(data=stats_df, y=\"reduce\", x=\"category\", alpha=0.99)\n",
    "\n",
    "sb.despine()\n",
    "\n",
    "ax.set_title(suffix)\n",
    "\n",
    "ax.set_ylim([-0.1, 1.1])\n",
    "\n",
    "fig_name = f\"reduce_datasets_{suffix}\"\n",
    "#plt.savefig(f\"{out_dir}{fig_name}.png\", dpi=250, bbox_inches=\"tight\")\n",
    "\n",
    "plt.show()"
   ]
  },
  {
   "cell_type": "code",
   "execution_count": 249,
   "id": "27993131",
   "metadata": {},
   "outputs": [
    {
     "data": {
      "image/png": "[encoded data removed]",
      "text/plain": [
       "<Figure size 350x200 with 1 Axes>"
      ]
     },
     "metadata": {},
     "output_type": "display_data"
    }
   ],
   "source": [
    "fig, ax = plt.subplots(figsize=(3.5,2))\n",
    "\n",
    "sb.swarmplot(data=stats_df, y=\"reduce\", x=\"max_order\", hue=\"category\", alpha=0.99)\n",
    "\n",
    "sb.despine()\n",
    "\n",
    "sb.move_legend(ax, loc=\"center left\", bbox_to_anchor=(1, 0.5), frameon=False)\n",
    "\n",
    "fig_name = f\"reduce_datasets_vs_maxorder\"\n",
    "#plt.savefig(f\"{out_dir}{fig_name}.png\", dpi=250, bbox_inches=\"tight\")\n",
    "\n",
    "plt.show()"
   ]
  },
  {
   "cell_type": "code",
   "execution_count": 257,
   "id": "1e698bb6",
   "metadata": {},
   "outputs": [
    {
     "data": {
      "image/png": "[encoded data removed]",
      "text/plain": [
       "<Figure size 200x200 with 1 Axes>"
      ]
     },
     "metadata": {},
     "output_type": "display_data"
    }
   ],
   "source": [
    "fig, ax = plt.subplots(figsize=(2,2))\n",
    "\n",
    "sb.scatterplot(data=stats_df, y=\"reduce\", x=\"N\", hue=\"category\")\n",
    "sb.move_legend(ax, loc=\"center left\", bbox_to_anchor=(1, 0.5), frameon=False)\n",
    "\n",
    "sb.despine()\n",
    "\n",
    "#ax.set_xlim(xmin=-0.5, xmax=70)\n",
    "\n",
    "plt.show()\n",
    "\n"
   ]
  },
  {
   "cell_type": "code",
   "execution_count": null,
   "id": "4c285ffb",
   "metadata": {},
   "outputs": [],
   "source": []
  },
  {
   "cell_type": "code",
   "execution_count": null,
   "id": "353282f3",
   "metadata": {},
   "outputs": [],
   "source": []
  },
  {
   "cell_type": "code",
   "execution_count": 231,
   "id": "36846deb",
   "metadata": {},
   "outputs": [
    {
     "data": {
      "image/png": "[encoded data removed]",
      "text/plain": [
       "<Figure size 350x200 with 1 Axes>"
      ]
     },
     "metadata": {},
     "output_type": "display_data"
    }
   ],
   "source": [
    "fig, ax = plt.subplots(figsize=(3.5,2))\n",
    "\n",
    "sb.swarmplot(data=stats_df, y=\"reduce\", x=\"N\", hue=\"category\", alpha=0.99)\n",
    "\n",
    "sb.despine()\n",
    "\n",
    "sb.move_legend(ax, loc=\"center left\", bbox_to_anchor=(1, 0.5), frameon=False)\n",
    "\n",
    "fig_name = f\"reduce_datasets_vs_N\"\n",
    "#plt.savefig(f\"{out_dir}{fig_name}.png\", dpi=250, bbox_inches=\"tight\")\n",
    "\n",
    "plt.show()"
   ]
  },
  {
   "cell_type": "markdown",
   "id": "bc30c201",
   "metadata": {},
   "source": [
    "## plot curves"
   ]
  },
  {
   "cell_type": "code",
   "execution_count": 155,
   "id": "ab09311b",
   "metadata": {},
   "outputs": [
    {
     "ename": "NameError",
     "evalue": "name 'H0' is not defined",
     "output_type": "error",
     "traceback": [
      "\u001b[0;31m---------------------------------------------------------------------------\u001b[0m",
      "\u001b[0;31mNameError\u001b[0m                                 Traceback (most recent call last)",
      "Cell \u001b[0;32mIn [155], line 77\u001b[0m\n\u001b[1;32m     73\u001b[0m bins \u001b[38;5;241m=\u001b[39m np\u001b[38;5;241m.\u001b[39marange(\u001b[38;5;241m1.5\u001b[39m, \u001b[38;5;28mmax\u001b[39m(orders)\u001b[38;5;241m+\u001b[39m\u001b[38;5;241m1\u001b[39m \u001b[38;5;241m+\u001b[39m \u001b[38;5;241m1.5\u001b[39m, \u001b[38;5;241m1\u001b[39m) \n\u001b[1;32m     75\u001b[0m fig, ax \u001b[38;5;241m=\u001b[39m plt\u001b[38;5;241m.\u001b[39msubplots(figsize\u001b[38;5;241m=\u001b[39m(\u001b[38;5;241m3\u001b[39m, \u001b[38;5;241m2\u001b[39m))\n\u001b[0;32m---> 77\u001b[0m sb\u001b[38;5;241m.\u001b[39mhistplot(H0\u001b[38;5;241m.\u001b[39medges\u001b[38;5;241m.\u001b[39msize\u001b[38;5;241m.\u001b[39masnumpy(), bins\u001b[38;5;241m=\u001b[39mbins)\n\u001b[1;32m     79\u001b[0m ax\u001b[38;5;241m.\u001b[39mset_xlabel(\u001b[38;5;124m\"\u001b[39m\u001b[38;5;124mHyperedge size\u001b[39m\u001b[38;5;124m\"\u001b[39m)\n\u001b[1;32m     80\u001b[0m ax\u001b[38;5;241m.\u001b[39mset_title(name)\n",
      "\u001b[0;31mNameError\u001b[0m: name 'H0' is not defined"
     ]
    }
   ],
   "source": [
    "for name in datasets:\n",
    "    \n",
    "    #name = \"hypertext-conference\"\n",
    "    data = np.load(f\"{out_dir}/message_length_{name}.npz\")\n",
    "\n",
    "    message_length = data[\"message_length\"]\n",
    "    Ds_H = data[\"KL\"]\n",
    "    lZs_H = data[\"complexity\"]\n",
    "    orders = data[\"orders\"]\n",
    "    N = int(data[\"N\"])\n",
    "    \n",
    "    ## first plot\n",
    "    \n",
    "    fig, ax = plt.subplots(1, 1, figsize=(2.7, 2))\n",
    "\n",
    "    message_length = Ds_H + lZs_H\n",
    "    ax.plot(orders, message_length, \"o-\", ms=2, alpha=0.5)\n",
    "\n",
    "    ax.set_ylabel(\"Message Length\")\n",
    "    ax.set_xlabel(\"Max Order\")\n",
    "    ax.set_title(\"functional complex.\")\n",
    "\n",
    "    # ax.set_title(f\"{name} {year}, N={N}\")\n",
    "    ax.set_title(f\"{name}, N={N}\")\n",
    "\n",
    "    sb.despine()\n",
    "\n",
    "    # fig_name = f\"message_length_{name}_{year}_rescaled_tauc\"\n",
    "    fig_name = f\"message_length_{name}_rescaled_tauc\"\n",
    "\n",
    "    plt.savefig(f\"{out_dir}{fig_name}.png\", dpi=250, bbox_inches=\"tight\")\n",
    "    \n",
    "    ## second plot\n",
    "    \n",
    "    fig, axs = plt.subplots(1, 3, figsize=(4.5, 1.5), sharey=True)\n",
    "\n",
    "    axs[0].plot(orders, Ds_H, \"o-\", ms=2, alpha=0.5)\n",
    "    axs[0].set_title(\"information\")\n",
    "\n",
    "    axs[1].plot(orders, lZs_H, \"o-\", ms=2, alpha=0.5)\n",
    "    axs[1].set_title(\"complexity\")\n",
    "\n",
    "    axs[2].plot(orders, message_length, \"o-\", ms=2, alpha=0.5)\n",
    "    axs[2].set_title(\"mess. length\")\n",
    "\n",
    "\n",
    "    axs[0].set_ylabel(\"Message Length\")\n",
    "    axs[0].set_xlabel(\"Max Order\")\n",
    "    axs[1].set_xlabel(\"Max Order\")\n",
    "    axs[2].set_xlabel(\"Max Order\")\n",
    "\n",
    "    order_argmin = np.argmin(message_length)\n",
    "    order_min = orders[order_argmin]\n",
    "\n",
    "    axs[2].axvline(order_min, ls=\"--\", c=\"grey\", zorder=-2, alpha=0.4)\n",
    "\n",
    "    # ax.set_title(\"functional complex.\")\n",
    "\n",
    "    # ax.set_title(f\"{name} {year}, N={N}\")\n",
    "    # fig.suptitle(f\"{name}_{year}\")\n",
    "    fig.suptitle(f\"{name}\")\n",
    "\n",
    "    sb.despine() \n",
    "    plt.subplots_adjust(top=0.65)\n",
    "\n",
    "    # fig_name = f\"message_length_{name}_{year}_rescaled_tauc_full\"\n",
    "    fig_name = f\"message_length_{name}_rescaled_tauc_full\"\n",
    "\n",
    "    plt.savefig(f\"{out_dir}{fig_name}.png\", dpi=250, bbox_inches=\"tight\")\n",
    "    \n",
    "    plt.show()"
   ]
  },
  {
   "cell_type": "code",
   "execution_count": 164,
   "id": "48db5cdb",
   "metadata": {},
   "outputs": [],
   "source": [
    "n = 100\n",
    "\n",
    "L = np.zeros((n,n))"
   ]
  },
  {
   "cell_type": "code",
   "execution_count": 165,
   "id": "884f41bc",
   "metadata": {},
   "outputs": [
    {
     "data": {
      "text/plain": [
       "4.60517018598809"
      ]
     },
     "execution_count": 165,
     "metadata": {},
     "output_type": "execute_result"
    }
   ],
   "source": [
    "entropy(L, tau=0.1)"
   ]
  },
  {
   "cell_type": "code",
   "execution_count": 166,
   "id": "4f8a2981",
   "metadata": {},
   "outputs": [
    {
     "data": {
      "text/plain": [
       "4.605170185988092"
      ]
     },
     "execution_count": 166,
     "metadata": {},
     "output_type": "execute_result"
    }
   ],
   "source": [
    "np.log(n)"
   ]
  },
  {
   "cell_type": "code",
   "execution_count": 167,
   "id": "738b9c4f",
   "metadata": {},
   "outputs": [
    {
     "data": {
      "text/plain": [
       "1.7763568394002505e-15"
      ]
     },
     "execution_count": 167,
     "metadata": {},
     "output_type": "execute_result"
    }
   ],
   "source": [
    "penalization(L, tau=0.1)"
   ]
  },
  {
   "cell_type": "code",
   "execution_count": null,
   "id": "cdebacb9",
   "metadata": {},
   "outputs": [],
   "source": []
  }
 ],
 "metadata": {
  "kernelspec": {
   "display_name": "venv_xgi",
   "language": "python",
   "name": "venv_xgi"
  },
  "language_info": {
   "codemirror_mode": {
    "name": "ipython",
    "version": 3
   },
   "file_extension": ".py",
   "mimetype": "text/x-python",
   "name": "python",
   "nbconvert_exporter": "python",
   "pygments_lexer": "ipython3",
   "version": "3.9.13"
  },
  "toc": {
   "base_numbering": 1,
   "nav_menu": {},
   "number_sections": true,
   "sideBar": true,
   "skip_h1_title": false,
   "title_cell": "Table of Contents",
   "title_sidebar": "Contents",
   "toc_cell": false,
   "toc_position": {},
   "toc_section_display": true,
   "toc_window_display": true
  }
 },
 "nbformat": 4,
 "nbformat_minor": 5
}
