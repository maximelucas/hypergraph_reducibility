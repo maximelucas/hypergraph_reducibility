{
 "cells": [
  {
   "cell_type": "markdown",
   "id": "591a1ba5",
   "metadata": {},
   "source": [
    "## Figure S1: regular structures with flat message length"
   ]
  },
  {
   "cell_type": "code",
   "execution_count": 1,
   "id": "daa915a3",
   "metadata": {},
   "outputs": [],
   "source": [
    "import sys\n",
    "from random import random\n",
    "\n",
    "import matplotlib.pyplot as plt\n",
    "import networkx as nx\n",
    "import numpy as np\n",
    "import seaborn as sb\n",
    "\n",
    "sys.path.append(\"../src/\")\n",
    "\n",
    "import xgi\n",
    "from statannotations.Annotator import Annotator\n",
    "\n",
    "from hypergraph_reducibility import find_charact_tau, optimization\n",
    "\n",
    "sb.set_theme(style=\"ticks\", context=\"paper\")"
   ]
  },
  {
   "cell_type": "code",
   "execution_count": 2,
   "id": "bf84677f",
   "metadata": {},
   "outputs": [
    {
     "data": {
      "text/html": [
       "<svg  width=\"220\" height=\"55\"><rect x=\"0\" y=\"0\" width=\"55\" height=\"55\" style=\"fill:#306d5e;stroke-width:2;stroke:rgb(255,255,255)\"/><rect x=\"55\" y=\"0\" width=\"55\" height=\"55\" style=\"fill:#5b9e8d;stroke-width:2;stroke:rgb(255,255,255)\"/><rect x=\"110\" y=\"0\" width=\"55\" height=\"55\" style=\"fill:#92c9bb;stroke-width:2;stroke:rgb(255,255,255)\"/><rect x=\"165\" y=\"0\" width=\"55\" height=\"55\" style=\"fill:#d6eee8;stroke-width:2;stroke:rgb(255,255,255)\"/></svg>"
      ],
      "text/plain": [
       "[[0.1864737742223481, 0.42817540482404803, 0.36776204954698094],\n",
       " [0.3552744615776239, 0.6200435958444379, 0.5538645149046753],\n",
       " [0.5726826684223166, 0.7882411282035537, 0.7343622620108751],\n",
       " [0.8386983947564264, 0.9327680019013955, 0.9092552908655802]]"
      ]
     },
     "execution_count": 2,
     "metadata": {},
     "output_type": "execute_result"
    }
   ],
   "source": [
    "palette = sb.cubehelix_palette(\n",
    "    start=2.3, rot=0.0, dark=0.35, light=0.9, as_cmap=False, n_colors=4, reverse=True\n",
    ")\n",
    "sb.set_palette(palette)\n",
    "palette"
   ]
  },
  {
   "cell_type": "code",
   "execution_count": 3,
   "id": "1417882b",
   "metadata": {},
   "outputs": [
    {
     "data": {
      "text/html": [
       "<svg  width=\"330\" height=\"55\"><rect x=\"0\" y=\"0\" width=\"55\" height=\"55\" style=\"fill:#7dba91;stroke-width:2;stroke:rgb(255,255,255)\"/><rect x=\"55\" y=\"0\" width=\"55\" height=\"55\" style=\"fill:#59a590;stroke-width:2;stroke:rgb(255,255,255)\"/><rect x=\"110\" y=\"0\" width=\"55\" height=\"55\" style=\"fill:#40908e;stroke-width:2;stroke:rgb(255,255,255)\"/><rect x=\"165\" y=\"0\" width=\"55\" height=\"55\" style=\"fill:#287a8c;stroke-width:2;stroke:rgb(255,255,255)\"/><rect x=\"220\" y=\"0\" width=\"55\" height=\"55\" style=\"fill:#1c6488;stroke-width:2;stroke:rgb(255,255,255)\"/><rect x=\"275\" y=\"0\" width=\"55\" height=\"55\" style=\"fill:#254b7f;stroke-width:2;stroke:rgb(255,255,255)\"/></svg>"
      ],
      "text/plain": [
       "[(0.48942421, 0.72854938, 0.56751036),\n",
       " (0.34892097, 0.64828676, 0.56513633),\n",
       " (0.24929311, 0.56486397, 0.5586654),\n",
       " (0.15615526, 0.47913212, 0.54850526),\n",
       " (0.11131735, 0.39155635, 0.53422678),\n",
       " (0.14573579, 0.29354139, 0.49847009)]"
      ]
     },
     "execution_count": 3,
     "metadata": {},
     "output_type": "execute_result"
    }
   ],
   "source": [
    "sb.color_palette(\"crest\")"
   ]
  },
  {
   "cell_type": "code",
   "execution_count": 4,
   "id": "dd2fff9b",
   "metadata": {},
   "outputs": [
    {
     "data": {
      "text/plain": [
       "[0.3552744615776239, 0.6200435958444379, 0.5538645149046753]"
      ]
     },
     "execution_count": 4,
     "metadata": {},
     "output_type": "execute_result"
    }
   ],
   "source": [
    "palette[1]"
   ]
  },
  {
   "cell_type": "code",
   "execution_count": 5,
   "id": "96843aeb",
   "metadata": {},
   "outputs": [
    {
     "data": {
      "text/html": [
       "<svg  width=\"330\" height=\"55\"><rect x=\"0\" y=\"0\" width=\"55\" height=\"55\" style=\"fill:#c7e5cb;stroke-width:2;stroke:rgb(255,255,255)\"/><rect x=\"55\" y=\"0\" width=\"55\" height=\"55\" style=\"fill:#9cd0b2;stroke-width:2;stroke:rgb(255,255,255)\"/><rect x=\"110\" y=\"0\" width=\"55\" height=\"55\" style=\"fill:#77b7a0;stroke-width:2;stroke:rgb(255,255,255)\"/><rect x=\"165\" y=\"0\" width=\"55\" height=\"55\" style=\"fill:#589992;stroke-width:2;stroke:rgb(255,255,255)\"/><rect x=\"220\" y=\"0\" width=\"55\" height=\"55\" style=\"fill:#417781;stroke-width:2;stroke:rgb(255,255,255)\"/><rect x=\"275\" y=\"0\" width=\"55\" height=\"55\" style=\"fill:#30556b;stroke-width:2;stroke:rgb(255,255,255)\"/></svg>"
      ],
      "text/plain": [
       "[[0.7788013041060939, 0.8977179643101579, 0.7971480974663592],\n",
       " [0.6134506682164845, 0.8142462550039887, 0.6975983250108415],\n",
       " [0.4656457578928198, 0.7161885378682564, 0.6284309618978261],\n",
       " [0.34578922187214445, 0.6015106895337712, 0.5721854455518277],\n",
       " [0.25318977343381555, 0.46803524902300564, 0.5067755143579389],\n",
       " [0.18734079863984593, 0.33178359036045907, 0.41895106294640405]]"
      ]
     },
     "execution_count": 5,
     "metadata": {},
     "output_type": "execute_result"
    }
   ],
   "source": [
    "sb.cubehelix_palette(rot=-0.4, dark=0.3)"
   ]
  },
  {
   "cell_type": "code",
   "execution_count": 6,
   "id": "2aa4bbac",
   "metadata": {},
   "outputs": [
    {
     "data": {
      "text/html": [
       "<svg  width=\"330\" height=\"55\"><rect x=\"0\" y=\"0\" width=\"55\" height=\"55\" style=\"fill:#eaf3ef;stroke-width:2;stroke:rgb(255,255,255)\"/><rect x=\"55\" y=\"0\" width=\"55\" height=\"55\" style=\"fill:#c3e4da;stroke-width:2;stroke:rgb(255,255,255)\"/><rect x=\"110\" y=\"0\" width=\"55\" height=\"55\" style=\"fill:#9dd6c5;stroke-width:2;stroke:rgb(255,255,255)\"/><rect x=\"165\" y=\"0\" width=\"55\" height=\"55\" style=\"fill:#76c8b1;stroke-width:2;stroke:rgb(255,255,255)\"/><rect x=\"220\" y=\"0\" width=\"55\" height=\"55\" style=\"fill:#50b99c;stroke-width:2;stroke:rgb(255,255,255)\"/><rect x=\"275\" y=\"0\" width=\"55\" height=\"55\" style=\"fill:#29ab87;stroke-width:2;stroke:rgb(255,255,255)\"/></svg>"
      ],
      "text/plain": [
       "[(0.917139939135656, 0.9517714678297925, 0.9370383847160141),\n",
       " (0.7658688140536227, 0.8955348213226575, 0.8555130607139877),\n",
       " (0.6145976889715896, 0.8392981748155225, 0.7739877367119614),\n",
       " (0.4633265638895565, 0.7830615283083876, 0.692462412709935),\n",
       " (0.3120554388075233, 0.7268248818012526, 0.6109370887079086),\n",
       " (0.1607843137254902, 0.6705882352941176, 0.5294117647058824)]"
      ]
     },
     "execution_count": 6,
     "metadata": {},
     "output_type": "execute_result"
    }
   ],
   "source": [
    "sb.color_palette(\"light:#29AB87\")"
   ]
  },
  {
   "cell_type": "code",
   "execution_count": 7,
   "id": "b8413cfa",
   "metadata": {},
   "outputs": [],
   "source": [
    "results_dir = \"../results/\"\n",
    "out_dir = f\"{results_dir}synthetic/\""
   ]
  },
  {
   "cell_type": "markdown",
   "id": "5db05137",
   "metadata": {},
   "source": [
    "## generate complete hypergraph"
   ]
  },
  {
   "cell_type": "code",
   "execution_count": 9,
   "id": "33927229",
   "metadata": {},
   "outputs": [],
   "source": [
    "N = 10\n",
    "rescale = True\n",
    "d_max = 4\n",
    "\n",
    "H0 = xgi.complete_hypergraph(N=N, max_order=d_max)\n",
    "H_complete = xgi.complete_hypergraph(N=N, max_order=d_max)\n",
    "\n",
    "\n",
    "orders = np.array(xgi.unique_edge_sizes(H0)) - 1\n",
    "weights = np.ones(len(orders))"
   ]
  },
  {
   "cell_type": "code",
   "execution_count": 10,
   "id": "7daf7673",
   "metadata": {},
   "outputs": [
    {
     "name": "stderr",
     "output_type": "stream",
     "text": [
      "100%|████████████████████████████████████████████| 4/4 [00:00<00:00, 153.11it/s]\n"
     ]
    }
   ],
   "source": [
    "tau_c = find_charact_tau(H0, orders, weights, rescale_per_node=rescale, idx=-1)\n",
    "\n",
    "inverse_rescaling_factors = [max(orders) / d for d in orders]\n",
    "Ds_H, lZs_H = optimization(\n",
    "    H0, tau_c, rescaling_factors=inverse_rescaling_factors, rescale_per_node=rescale\n",
    ")"
   ]
  },
  {
   "cell_type": "code",
   "execution_count": 11,
   "id": "c335467f",
   "metadata": {},
   "outputs": [
    {
     "data": {
      "image/png": "[encoded data removed]",
      "text/plain": [
       "<Figure size 270x200 with 1 Axes>"
      ]
     },
     "metadata": {},
     "output_type": "display_data"
    }
   ],
   "source": [
    "fig, ax = plt.subplots(1, 1, figsize=(2.7, 2))\n",
    "\n",
    "message_length = Ds_H + lZs_H\n",
    "ax.plot(orders, message_length, \"o-\", mfc=\"w\", c=palette[1])\n",
    "\n",
    "ax.set_ylabel(\"Message Length\")\n",
    "ax.set_xlabel(\"Max Order\")\n",
    "ax.set_title(\"functional complex.\")\n",
    "ax.set_title(f\"Complete HG, N={N}\")\n",
    "\n",
    "# ax.set_ylim([0.02, 0.04])\n",
    "# ax.set_yticks([0.02, 0.03, 0.04])\n",
    "\n",
    "\n",
    "sb.despine()\n",
    "\n",
    "fig_name = f\"message_length_a2a_node_rescaled_tauc_N_{N}\"\n",
    "\n",
    "plt.savefig(f\"{out_dir}{fig_name}.png\", dpi=250, bbox_inches=\"tight\")"
   ]
  },
  {
   "cell_type": "code",
   "execution_count": 12,
   "id": "2ddb75e8",
   "metadata": {},
   "outputs": [
    {
     "data": {
      "text/plain": [
       "array([[ 9, -1, -1, -1, -1, -1, -1, -1, -1, -1],\n",
       "       [-1,  9, -1, -1, -1, -1, -1, -1, -1, -1],\n",
       "       [-1, -1,  9, -1, -1, -1, -1, -1, -1, -1],\n",
       "       [-1, -1, -1,  9, -1, -1, -1, -1, -1, -1],\n",
       "       [-1, -1, -1, -1,  9, -1, -1, -1, -1, -1],\n",
       "       [-1, -1, -1, -1, -1,  9, -1, -1, -1, -1],\n",
       "       [-1, -1, -1, -1, -1, -1,  9, -1, -1, -1],\n",
       "       [-1, -1, -1, -1, -1, -1, -1,  9, -1, -1],\n",
       "       [-1, -1, -1, -1, -1, -1, -1, -1,  9, -1],\n",
       "       [-1, -1, -1, -1, -1, -1, -1, -1, -1,  9]])"
      ]
     },
     "execution_count": 12,
     "metadata": {},
     "output_type": "execute_result"
    }
   ],
   "source": [
    "xgi.laplacian(H0, order=1, rescale_per_node=False)"
   ]
  },
  {
   "cell_type": "code",
   "execution_count": 13,
   "id": "c4e3e6d1",
   "metadata": {},
   "outputs": [
    {
     "data": {
      "text/plain": [
       "array([[36., -4., -4., -4., -4., -4., -4., -4., -4., -4.],\n",
       "       [-4., 36., -4., -4., -4., -4., -4., -4., -4., -4.],\n",
       "       [-4., -4., 36., -4., -4., -4., -4., -4., -4., -4.],\n",
       "       [-4., -4., -4., 36., -4., -4., -4., -4., -4., -4.],\n",
       "       [-4., -4., -4., -4., 36., -4., -4., -4., -4., -4.],\n",
       "       [-4., -4., -4., -4., -4., 36., -4., -4., -4., -4.],\n",
       "       [-4., -4., -4., -4., -4., -4., 36., -4., -4., -4.],\n",
       "       [-4., -4., -4., -4., -4., -4., -4., 36., -4., -4.],\n",
       "       [-4., -4., -4., -4., -4., -4., -4., -4., 36., -4.],\n",
       "       [-4., -4., -4., -4., -4., -4., -4., -4., -4., 36.]])"
      ]
     },
     "execution_count": 13,
     "metadata": {},
     "output_type": "execute_result"
    }
   ],
   "source": [
    "xgi.laplacian(H0, order=2, rescale_per_node=True)"
   ]
  },
  {
   "cell_type": "code",
   "execution_count": 14,
   "id": "ec3e0935",
   "metadata": {},
   "outputs": [
    {
     "data": {
      "text/plain": [
       "array([0., 0., 0.])"
      ]
     },
     "execution_count": 14,
     "metadata": {},
     "output_type": "execute_result"
    }
   ],
   "source": [
    "np.diff(message_length)"
   ]
  },
  {
   "cell_type": "code",
   "execution_count": 15,
   "id": "f9350c65",
   "metadata": {},
   "outputs": [],
   "source": [
    "np.save(f\"{results_dir}message_lengths_2a2.npy\", message_length)"
   ]
  },
  {
   "cell_type": "markdown",
   "id": "7013116c",
   "metadata": {},
   "source": [
    "## generate full triangular lattice"
   ]
  },
  {
   "cell_type": "code",
   "execution_count": 16,
   "id": "3478027f",
   "metadata": {},
   "outputs": [],
   "source": [
    "def triangular_lattice_flag(n_rows, p2, periodic=False):\n",
    "    \"\"\"\n",
    "    Generates a flag complex from a triangular lattice graph.\n",
    "\n",
    "    Parameters\n",
    "    ----------\n",
    "    n_rows : int\n",
    "        Number of rows in the lattice.\n",
    "    p2 : float\n",
    "        Probability of adding a 2-simplex to the clique complex.\n",
    "    periodic : bool, optional\n",
    "        Whether the lattice should have periodic boundary conditions. Default is False.\n",
    "\n",
    "    Returns\n",
    "    -------\n",
    "    S_lattice : xgi Simplicial Complex\n",
    "\n",
    "    pos : dict\n",
    "        Node positions keyed by node ID.\n",
    "    \"\"\"\n",
    "\n",
    "    # number of rows\n",
    "    m = n_rows - 1\n",
    "    # number of columns\n",
    "    columns = n_rows + 1\n",
    "    n = 2 * columns - 1\n",
    "\n",
    "    if not periodic:\n",
    "        n = n - 1\n",
    "        m = m - 1\n",
    "\n",
    "    # generate lattice\n",
    "    G_lattice = nx.triangular_lattice_graph(\n",
    "        m, n, periodic=periodic, with_positions=True\n",
    "    )\n",
    "    G_lattice = nx.convert_node_labels_to_integers(G_lattice)\n",
    "    pos = nx.get_node_attributes(G_lattice, \"pos\")\n",
    "\n",
    "    # generate random clique complex (fill in triangles)\n",
    "    S_lattice = xgi.flag_complex_d2(G_lattice, p2=p2)\n",
    "    return S_lattice, pos"
   ]
  },
  {
   "cell_type": "code",
   "execution_count": 17,
   "id": "a75b6c19",
   "metadata": {},
   "outputs": [],
   "source": [
    "n_rows = 6\n",
    "rescale = True\n",
    "d_max = 2\n",
    "p_2 = 1\n",
    "\n",
    "H0, _ = triangular_lattice_flag(n_rows, p2=p_2, periodic=True)\n",
    "H_lattice, pos_lattice = triangular_lattice_flag(n_rows, p2=p_2, periodic=False)\n",
    "\n",
    "orders = np.array(xgi.unique_edge_sizes(H0)) - 1\n",
    "weights = np.ones(len(orders))\n",
    "\n",
    "N = H0.num_nodes"
   ]
  },
  {
   "cell_type": "code",
   "execution_count": 18,
   "id": "38c3de50",
   "metadata": {},
   "outputs": [
    {
     "name": "stderr",
     "output_type": "stream",
     "text": [
      "100%|████████████████████████████████████████████| 2/2 [00:00<00:00, 251.70it/s]\n"
     ]
    }
   ],
   "source": [
    "tau_c = find_charact_tau(H0, orders, weights, rescale_per_node=rescale, idx=-1)\n",
    "\n",
    "inverse_rescaling_factors = [d_max / d for d in orders]\n",
    "Ds_H, lZs_H = optimization(\n",
    "    H0, tau_c, rescaling_factors=inverse_rescaling_factors, rescale_per_node=rescale\n",
    ")"
   ]
  },
  {
   "cell_type": "code",
   "execution_count": 19,
   "id": "cfd2056d",
   "metadata": {},
   "outputs": [
    {
     "data": {
      "image/png": "[encoded data removed]",
      "text/plain": [
       "<Figure size 270x200 with 1 Axes>"
      ]
     },
     "metadata": {},
     "output_type": "display_data"
    }
   ],
   "source": [
    "fig, ax = plt.subplots(1, 1, figsize=(2.7, 2))\n",
    "\n",
    "message_length = Ds_H + lZs_H\n",
    "ax.plot(orders, message_length, \"o-\")\n",
    "\n",
    "ax.set_ylabel(\"Message Length\")\n",
    "ax.set_xlabel(\"Max Order\")\n",
    "ax.set_title(\"functional complex.\")\n",
    "\n",
    "ax.set_title(f\"Full triangular lattice, N={N}\")\n",
    "\n",
    "ax.set_xticks([1, 2])\n",
    "plt.subplots_adjust(top=0.7, wspace=0.3)\n",
    "\n",
    "sb.despine()\n",
    "\n",
    "fig_name = f\"message_length_full_triangular_lattice_rescaled_tauc_N_{N}\"\n",
    "\n",
    "# plt.savefig(f\"{out_dir}{fig_name}.png\", dpi=250, bbox_inches=\"tight\")"
   ]
  },
  {
   "cell_type": "code",
   "execution_count": 20,
   "id": "b286817b",
   "metadata": {},
   "outputs": [
    {
     "data": {
      "text/plain": [
       "array([0.])"
      ]
     },
     "execution_count": 20,
     "metadata": {},
     "output_type": "execute_result"
    }
   ],
   "source": [
    "np.diff(message_length)"
   ]
  },
  {
   "cell_type": "code",
   "execution_count": 21,
   "id": "dd749e74",
   "metadata": {},
   "outputs": [],
   "source": [
    "np.save(f\"{results_dir}message_lengths_latticetri.npy\", message_length)"
   ]
  },
  {
   "cell_type": "markdown",
   "id": "87bc8e8f",
   "metadata": {},
   "source": [
    "## together"
   ]
  },
  {
   "cell_type": "code",
   "execution_count": 22,
   "id": "7795f211",
   "metadata": {},
   "outputs": [],
   "source": [
    "message_lengths_a2a = np.load(f\"{results_dir}message_lengths_2a2.npy\")\n",
    "message_lengths_tri = np.load(f\"{results_dir}message_lengths_latticetri.npy\")"
   ]
  },
  {
   "cell_type": "code",
   "execution_count": 23,
   "id": "40d60b06",
   "metadata": {},
   "outputs": [
    {
     "data": {
      "text/plain": [
       "array([0.07340424, 0.07340424, 0.07340424, 0.07340424])"
      ]
     },
     "execution_count": 23,
     "metadata": {},
     "output_type": "execute_result"
    }
   ],
   "source": [
    "message_lengths_a2a"
   ]
  },
  {
   "cell_type": "code",
   "execution_count": 24,
   "id": "51ab1c7e",
   "metadata": {},
   "outputs": [
    {
     "data": {
      "image/png": "[encoded data removed]",
      "text/plain": [
       "<Figure size 340x150 with 2 Axes>"
      ]
     },
     "metadata": {},
     "output_type": "display_data"
    }
   ],
   "source": [
    "fig, (ax1, ax2) = plt.subplots(1, 2, figsize=(3.4, 1.5), layout=\"constrained\")\n",
    "\n",
    "orders1 = list(range(1, 5))\n",
    "ax1.plot(orders1, message_lengths_a2a, \"o-\")\n",
    "\n",
    "# ax1.set_ylim([0.02, 0.04])\n",
    "# ax1.set_yticks([0.02, 0.03, 0.04])\n",
    "ax1.set_xticks(orders1)\n",
    "\n",
    "orders2 = list(range(1, 3))\n",
    "ax2.plot(orders2, message_lengths_tri, \"o-\")\n",
    "ax2.set_xticks(orders2)\n",
    "\n",
    "ax1.set_ylabel(\"Message length\")\n",
    "ax1.set_xlabel(\"Max. order\")\n",
    "ax2.set_xlabel(\"Max. order\")\n",
    "\n",
    "\n",
    "sb.despine()"
   ]
  },
  {
   "cell_type": "code",
   "execution_count": 33,
   "id": "74907870",
   "metadata": {},
   "outputs": [
    {
     "data": {
      "image/png": "[encoded data removed]",
      "text/plain": [
       "<Figure size 340x250 with 4 Axes>"
      ]
     },
     "metadata": {},
     "output_type": "display_data"
    }
   ],
   "source": [
    "fig, axs = plt.subplots(\n",
    "    2, 2, figsize=(3.4, 2.5), height_ratios=[1, 1]\n",
    ")  # ,layout=\"constrained\")\n",
    "\n",
    "orders1 = list(range(1, 5))\n",
    "axs[1, 0].plot(orders1, message_lengths_a2a, \"o-\", ms=3.5, mfc=\"w\")\n",
    "\n",
    "# axs[1, 0].set_ylim([0.02, 0.04])\n",
    "axs[1, 0].set_yticks([0.07, 0.0725, 0.075])\n",
    "axs[1, 0].set_xticks(orders1)\n",
    "\n",
    "orders2 = list(range(1, 3))\n",
    "axs[1, 1].plot(orders2, message_lengths_tri, \"o-\", ms=3.5, mfc=\"w\")\n",
    "axs[1, 1].set_xticks(orders2)\n",
    "axs[1, 1].set_yticks([0.043, 0.045, 0.047])\n",
    "\n",
    "\n",
    "axs[1, 0].set_ylabel(\"Message length\")\n",
    "axs[1, 1].set_xlabel(\"$d$, order\")\n",
    "axs[1, 0].set_xlabel(\"$d$, order\")\n",
    "\n",
    "axs[1, 0].set_title(\"Complete hypergraph\", style=\"italic\")\n",
    "axs[1, 1].set_title(\"Triangular lattice\", style=\"italic\")\n",
    "\n",
    "pos_complete = xgi.circular_layout(H_complete)\n",
    "xgi.draw(\n",
    "    H_complete,\n",
    "    pos=pos_complete,\n",
    "    alpha=0.1,\n",
    "    ax=axs[0, 0],\n",
    "    node_size=5,\n",
    "    dyad_color=\"silver\",\n",
    "    dyad_lw=0.5,\n",
    "    edge_fc=palette[0],\n",
    ")\n",
    "\n",
    "_, _ = xgi.draw(\n",
    "    H_lattice,\n",
    "    pos=pos_lattice,\n",
    "    alpha=0.1,\n",
    "    ax=axs[0, 1],\n",
    "    node_size=4,\n",
    "    dyad_color=\"black\",\n",
    "    dyad_lw=0.5,\n",
    "    edge_fc=palette[0],\n",
    ")\n",
    "\n",
    "sb.despine(bottom=False, trim=True)\n",
    "plt.subplots_adjust(wspace=0.5, hspace=0.6)\n",
    "\n",
    "fig_name = f\"figure_1_flat\"\n",
    "\n",
    "import string\n",
    "\n",
    "# string.ascii_lowercase\n",
    "for i, ax in enumerate(axs.ravel()[2:]):\n",
    "    ax.text(\n",
    "        0.05,\n",
    "        1,\n",
    "        string.ascii_lowercase[i],\n",
    "        transform=ax.transAxes,\n",
    "        weight=\"bold\",\n",
    "        ha=\"left\",\n",
    "        va=\"top\",\n",
    "    )\n",
    "\n",
    "\n",
    "plt.savefig(f\"{out_dir}{fig_name}.png\", dpi=250, bbox_inches=\"tight\", pad_inches=0)\n",
    "plt.savefig(f\"{out_dir}{fig_name}.pdf\", dpi=250, bbox_inches=\"tight\", pad_inches=0)"
   ]
  },
  {
   "cell_type": "markdown",
   "id": "b6788d87",
   "metadata": {},
   "source": [
    "## complete with holes"
   ]
  },
  {
   "cell_type": "code",
   "execution_count": 228,
   "id": "4d58625b",
   "metadata": {},
   "outputs": [
    {
     "name": "stdout",
     "output_type": "stream",
     "text": [
      "Unnamed Hypergraph with 10 nodes and 627 hyperedges\n",
      "210\n",
      "Unnamed Hypergraph with 10 nodes and 417 hyperedges\n"
     ]
    }
   ],
   "source": [
    "N = 10\n",
    "rescale = True\n",
    "d_max = 4\n",
    "\n",
    "H0 = xgi.complete_hypergraph(N=N, max_order=d_max)\n",
    "# H_complete = xgi.complete_hypergraph(N=N, max_order=d_max)\n",
    "\n",
    "\n",
    "orders = np.array(xgi.unique_edge_sizes(H0)) - 1\n",
    "weights = np.ones(len(orders))\n",
    "\n",
    "print(H0)\n",
    "\n",
    "p_rm = 1\n",
    "\n",
    "edges_rm = []\n",
    "orders_rm = [3]\n",
    "for order in orders_rm:\n",
    "    edges_rm += [i for i in H0.edges.filterby(\"order\", order) if random() < p_rm]\n",
    "# print(edges_rm)\n",
    "print(len(edges_rm))\n",
    "\n",
    "H0.remove_edges_from(edges_rm)\n",
    "\n",
    "orders = np.array(xgi.unique_edge_sizes(H0)) - 1\n",
    "weights = np.ones(len(orders))\n",
    "\n",
    "print(H0)"
   ]
  },
  {
   "cell_type": "code",
   "execution_count": 234,
   "id": "140b147d",
   "metadata": {},
   "outputs": [
    {
     "name": "stderr",
     "output_type": "stream",
     "text": [
      "100%|████████████████████████████████████████████| 3/3 [00:00<00:00, 258.71it/s]\n"
     ]
    }
   ],
   "source": [
    "tau_c = find_charact_tau(H0, orders, weights, rescale_per_node=rescale, idx=-1)\n",
    "\n",
    "# inverse_rescaling_factors = [max(orders) / d for d in orders]\n",
    "\n",
    "inverse_rescaling_factors = [len(orders) / i for i in range(1, len(orders) + 1)]\n",
    "suffix = \"rescaling_present_orders\"\n",
    "\n",
    "# inverse_rescaling_factors = list(range(1, len(orders)+1))[::-1]\n",
    "\n",
    "# inverse_rescaling_factors = [1 for d in orders]\n",
    "# suffix = \"no_rescaling\"\n",
    "\n",
    "tau_per_order = False\n",
    "\n",
    "# tau_c = 1\n",
    "# suffix = \"tau_per_order\"\n",
    "\n",
    "if tau_per_order and suffix != \"tau_per_order\":\n",
    "    raise ValueError(\"check input params\")\n",
    "\n",
    "\n",
    "Ds_H, lZs_H = optimization(\n",
    "    H0,\n",
    "    tau_c,\n",
    "    rescaling_factors=inverse_rescaling_factors,\n",
    "    rescale_per_node=rescale,\n",
    "    tau_per_order=tau_per_order,\n",
    ")"
   ]
  },
  {
   "cell_type": "code",
   "execution_count": 235,
   "id": "5ce3c14a",
   "metadata": {},
   "outputs": [
    {
     "name": "stderr",
     "output_type": "stream",
     "text": [
      "/var/folders/wm/5gv37br900l73y63tjf8sr1r0000gn/T/ipykernel_88748/451306837.py:10: MatplotlibDeprecationWarning: The join function was deprecated in Matplotlib 3.6 and will be removed two minor releases later.\n",
      "  axs[0, 0].get_shared_y_axes().join(axs[0, 0], axs[0, 1])\n",
      "/var/folders/wm/5gv37br900l73y63tjf8sr1r0000gn/T/ipykernel_88748/451306837.py:11: MatplotlibDeprecationWarning: The join function was deprecated in Matplotlib 3.6 and will be removed two minor releases later.\n",
      "  axs[0, 0].get_shared_y_axes().join(axs[0, 0], axs[0, 2])\n"
     ]
    },
    {
     "name": "stdout",
     "output_type": "stream",
     "text": [
      "3.00e-01\n",
      "rescaling_present_orders\n"
     ]
    },
    {
     "data": {
      "text/plain": [
       "'message_length_a2a_N_10_p_rm_1_orders_rm_[3]_tau_N_full'"
      ]
     },
     "execution_count": 235,
     "metadata": {},
     "output_type": "execute_result"
    },
    {
     "data": {
      "image/png": "[encoded data removed]",
      "text/plain": [
       "<Figure size 500x250 with 6 Axes>"
      ]
     },
     "metadata": {},
     "output_type": "display_data"
    }
   ],
   "source": [
    "fig, axs = plt.subplots(\n",
    "    2, 3, figsize=(5, 2.5), sharey=False, sharex=True, layout=\"constrained\"\n",
    ")\n",
    "\n",
    "message_length = Ds_H + lZs_H\n",
    "axs[0, 0].plot(orders, Ds_H, \"o-\")\n",
    "axs[0, 1].plot(orders, lZs_H, \"o-\")\n",
    "axs[0, 2].plot(orders, message_length, \"o-\")\n",
    "\n",
    "axs[0, 0].get_shared_y_axes().join(axs[0, 0], axs[0, 1])\n",
    "axs[0, 0].get_shared_y_axes().join(axs[0, 0], axs[0, 2])\n",
    "\n",
    "\n",
    "axs[1, 0].plot(orders, Ds_H, \"o-\")\n",
    "axs[1, 1].plot(orders, lZs_H, \"o-\")\n",
    "axs[1, 2].plot(orders, message_length, \"o-\")\n",
    "\n",
    "# ax.set_ylabel(\"Message Length\")\n",
    "axs[1, 0].set_xlabel(\"Max Order\")\n",
    "axs[1, 1].set_xlabel(\"Max Order\")\n",
    "axs[1, 2].set_xlabel(\"Max Order\")\n",
    "\n",
    "axs[1, 0].set_xticks(range(1, 5))\n",
    "# ax.set_title(\"functional complex.\")\n",
    "fig.suptitle(\n",
    "    rf\"Complete HG, N={N}, $\\tau = 1 / \\lambda_N$,\"\n",
    "    + f\" p_rm={p_rm}, orders_rm={orders_rm}\"\n",
    ")\n",
    "\n",
    "# ax.set_ylim([0.02, 0.04])\n",
    "# ax.set_yticks([0.02, 0.03, 0.04])\n",
    "\n",
    "order_min = np.argmin(message_length)\n",
    "axs[1, 2].axvline(orders[order_min], ls=\"--\", zorder=-2, alpha=0.5, c=\"grey\")\n",
    "axs[0, 2].axvline(orders[order_min], ls=\"--\", zorder=-2, alpha=0.5, c=\"grey\")\n",
    "\n",
    "tau_2 = find_charact_tau(H0, orders, weights, rescale_per_node=rescale, idx=1)\n",
    "tau_N = find_charact_tau(H0, orders, weights, rescale_per_node=rescale, idx=-1)\n",
    "\n",
    "axs[0, 0].text(\n",
    "    0.5,\n",
    "    0.9,\n",
    "    rf\"$1 / \\lambda_2$ = {tau_2:.2e}\",\n",
    "    va=\"top\",\n",
    "    ha=\"center\",\n",
    "    transform=axs[0, 0].transAxes,\n",
    "    c=\"grey\",\n",
    ")\n",
    "axs[0, 0].text(\n",
    "    0.5,\n",
    "    0.7,\n",
    "    rf\"$1 / \\lambda_N$ = {tau_N:.2e}\",\n",
    "    va=\"top\",\n",
    "    ha=\"center\",\n",
    "    transform=axs[0, 0].transAxes,\n",
    "    c=\"grey\",\n",
    ")\n",
    "\n",
    "axs[1, 0].ticklabel_format(\n",
    "    axis=\"y\", style=\"scientific\", scilimits=(0, 0), useMathText=True, useOffset=True\n",
    ")\n",
    "axs[1, 1].ticklabel_format(\n",
    "    axis=\"y\", style=\"scientific\", scilimits=(0, 0), useMathText=True, useOffset=True\n",
    ")\n",
    "axs[1, 2].ticklabel_format(\n",
    "    axis=\"y\", style=\"scientific\", scilimits=(0, 0), useMathText=True, useOffset=True\n",
    ")\n",
    "\n",
    "axs[0, 0].set_title(\"KL divergence\")\n",
    "axs[0, 1].set_title(\"Model Complexity\")\n",
    "axs[0, 2].set_title(\"Message length\")\n",
    "\n",
    "\n",
    "print(f\"{tau_N:.2e}\")\n",
    "print(suffix)\n",
    "\n",
    "sb.despine()\n",
    "\n",
    "fig_name = f\"message_length_a2a_N_{N}_p_rm_{p_rm}_orders_rm_{orders_rm}_tau_N_full\"\n",
    "fig_name\n",
    "# plt.savefig(f\"{out_dir}{fig_name}.png\", dpi=250, bbox_inches=\"tight\")"
   ]
  },
  {
   "cell_type": "code",
   "execution_count": null,
   "id": "9cfdbe68",
   "metadata": {},
   "outputs": [],
   "source": []
  },
  {
   "cell_type": "code",
   "execution_count": null,
   "id": "9ce8fc30",
   "metadata": {},
   "outputs": [],
   "source": []
  },
  {
   "cell_type": "code",
   "execution_count": null,
   "id": "fa3d5094",
   "metadata": {},
   "outputs": [],
   "source": []
  },
  {
   "cell_type": "code",
   "execution_count": 57,
   "id": "c34ff9b6",
   "metadata": {},
   "outputs": [
    {
     "name": "stdout",
     "output_type": "stream",
     "text": [
      "2.37e-01\n"
     ]
    },
    {
     "data": {
      "text/plain": [
       "'message_length_a2a_N_20_p_rm_0.0_orders_rm_[4]_tau_N'"
      ]
     },
     "execution_count": 57,
     "metadata": {},
     "output_type": "execute_result"
    },
    {
     "data": {
      "image/png": "[encoded data removed]",
      "text/plain": [
       "<Figure size 270x200 with 1 Axes>"
      ]
     },
     "metadata": {},
     "output_type": "display_data"
    }
   ],
   "source": [
    "fig, ax = plt.subplots(1, 1, figsize=(2.7, 2))\n",
    "\n",
    "message_length = Ds_H + lZs_H\n",
    "ax.plot(orders, message_length, \"o-\")\n",
    "\n",
    "ax.set_ylabel(\"Message Length\")\n",
    "ax.set_xlabel(\"Max Order\")\n",
    "ax.set_title(\"functional complex.\")\n",
    "ax.set_title(\n",
    "    rf\"Complete HG, N={N}, $\\tau = 1 / \\lambda_N$\"\n",
    "    + f\"\\n p_rm={p_rm}, orders_rm={orders_rm}\"\n",
    ")\n",
    "\n",
    "# ax.set_ylim([0.02, 0.04])\n",
    "# ax.set_yticks([0.02, 0.03, 0.04])\n",
    "\n",
    "order_min = np.argmin(message_length)\n",
    "ax.axvline(orders[order_min], ls=\"--\", zorder=-2, alpha=0.5, c=\"grey\")\n",
    "\n",
    "tau_2 = find_charact_tau(H0, orders, weights, rescale_per_node=rescale, idx=1)\n",
    "tau_N = find_charact_tau(H0, orders, weights, rescale_per_node=rescale, idx=-1)\n",
    "\n",
    "ax.text(\n",
    "    0.75,\n",
    "    0.9,\n",
    "    rf\"$1 / \\lambda_2$ = {tau_2:.2e}\",\n",
    "    va=\"top\",\n",
    "    ha=\"center\",\n",
    "    transform=ax.transAxes,\n",
    ")\n",
    "ax.text(\n",
    "    0.75,\n",
    "    0.8,\n",
    "    rf\"$1 / \\lambda_N$ = {tau_N:.2e}\",\n",
    "    va=\"top\",\n",
    "    ha=\"center\",\n",
    "    transform=ax.transAxes,\n",
    ")\n",
    "\n",
    "print(f\"{tau_N:.2e}\")\n",
    "\n",
    "sb.despine()\n",
    "\n",
    "fig_name = f\"message_length_a2a_N_{N}_p_rm_{p_rm}_orders_rm_{orders_rm}_tau_N\"\n",
    "fig_name\n",
    "# plt.savefig(f\"{out_dir}{fig_name}.png\", dpi=250, bbox_inches=\"tight\")"
   ]
  },
  {
   "cell_type": "code",
   "execution_count": 455,
   "id": "9c2cefcd",
   "metadata": {},
   "outputs": [
    {
     "name": "stdout",
     "output_type": "stream",
     "text": [
      "2.41e-01\n",
      "2.33e-01\n"
     ]
    }
   ],
   "source": [
    "tau_2 = find_charact_tau(H0, orders, weights, rescale_per_node=rescale, idx=1)\n",
    "tau_N = find_charact_tau(H0, orders, weights, rescale_per_node=rescale, idx=-1)\n",
    "\n",
    "print(f\"{tau_2:.2e}\")\n",
    "print(f\"{tau_N:.2e}\")"
   ]
  },
  {
   "cell_type": "code",
   "execution_count": 437,
   "id": "b2b56f7d",
   "metadata": {},
   "outputs": [],
   "source": [
    "from numpy.linalg import eigvalsh"
   ]
  },
  {
   "cell_type": "code",
   "execution_count": 285,
   "id": "ee666baf",
   "metadata": {},
   "outputs": [],
   "source": [
    "L_multi = xgi.multiorder_laplacian(\n",
    "    H0, orders, weights, rescale_per_node=True, sparse=False\n",
    ")\n",
    "\n",
    "lambdas = eigvalsh(L_multi)\n",
    "\n",
    "spectrum = 1 / lambdas"
   ]
  }
 ],
 "metadata": {
  "kernelspec": {
   "display_name": "venv_xgi",
   "language": "python",
   "name": "venv_xgi"
  },
  "language_info": {
   "codemirror_mode": {
    "name": "ipython",
    "version": 3
   },
   "file_extension": ".py",
   "mimetype": "text/x-python",
   "name": "python",
   "nbconvert_exporter": "python",
   "pygments_lexer": "ipython3",
   "version": "3.9.13"
  },
  "toc": {
   "base_numbering": 1,
   "nav_menu": {},
   "number_sections": true,
   "sideBar": true,
   "skip_h1_title": false,
   "title_cell": "Table of Contents",
   "title_sidebar": "Contents",
   "toc_cell": false,
   "toc_position": {
    "height": "calc(100% - 180px)",
    "left": "10px",
    "top": "150px",
    "width": "288.188px"
   },
   "toc_section_display": true,
   "toc_window_display": true
  }
 },
 "nbformat": 4,
 "nbformat_minor": 5
}
