{
 "cells": [
  {
   "cell_type": "markdown",
   "metadata": {},
   "source": [
    "# Examples of hypergraph and simplicial complexes"
   ]
  },
  {
   "cell_type": "code",
   "execution_count": 1,
   "metadata": {},
   "outputs": [],
   "source": [
    "import numpy as np\n",
    "import matplotlib.pyplot as plt\n",
    "import seaborn as sb\n",
    "\n",
    "from hypergraphs_arsham import *"
   ]
  },
  {
   "cell_type": "code",
   "execution_count": 2,
   "metadata": {},
   "outputs": [],
   "source": [
    "def compute_laplacians(hyperedges) : \n",
    "    \"\"\"Compute the Laplacian up to order 2 and the multiorder Laplacian. \n",
    "    \n",
    "    If the highest order is larger than 2 (triangles), modify the function accordingly.\n",
    "    \n",
    "    \"\"\"\n",
    "    L1, K1 = laplacian_of_order(d=1, N=N, hyperedges=hyperedges, return_k=True)\n",
    "    L2, K2 = laplacian_of_order(d=2, N=N, hyperedges=hyperedges, return_k=True)\n",
    "\n",
    "    gamma_1 = 1\n",
    "    gamma_2 = 1\n",
    "\n",
    "    # multiorder Laplacian\n",
    "    L12 = (gamma_1 / np.mean(K1)) * L1 + (gamma_2 / np.mean(K2)) * L2 #+ (gamma_3 / np.mean(K3)) * L3\n",
    "    \n",
    "    return L1, L2, L12\n",
    "\n",
    "def compute_eigenvalues(hyperedges) :\n",
    "    \"\"\"Compute corresponding Lyapunov exponents.\n",
    "    \n",
    "    If the highest order is larger than 2 (triangles), modify the function accordingly.\n",
    "    \n",
    "    \"\"\"\n",
    "\n",
    "    L1, K1 = laplacian_of_order(d=1, N=N, hyperedges=hyperedges, return_k=True)\n",
    "    L2, K2 = laplacian_of_order(d=2, N=N, hyperedges=hyperedges, return_k=True)\n",
    "\n",
    "    gamma_1 = 1\n",
    "    gamma_2 = 1\n",
    "\n",
    "    # multiorder Laplacian\n",
    "    L12 = (gamma_1 / np.mean(K1)) * L1 + (gamma_2 / np.mean(K2)) * L2 #+ (gamma_3 / np.mean(K3)) * L3\n",
    "\n",
    "    eival_1, _ = np.linalg.eig(L1)\n",
    "    eival_2, _ = np.linalg.eig(L2)\n",
    "\n",
    "    eival_12, _ = np.linalg.eig(L12)\n",
    "\n",
    "    lyap_1 = - (gamma_1 / np.mean(K1)) * eival_1\n",
    "    lyap_2 = - (gamma_2 / np.mean(K2)) * eival_2\n",
    "\n",
    "    # Multiorder Lyapunov exponents\n",
    "    lyap_12 = - eival_12\n",
    "\n",
    "    return lyap_1, lyap_2, lyap_12"
   ]
  },
  {
   "cell_type": "markdown",
   "metadata": {},
   "source": [
    "## 2. Random hypergraph "
   ]
  },
  {
   "cell_type": "code",
   "execution_count": 118,
   "metadata": {},
   "outputs": [
    {
     "name": "stdout",
     "output_type": "stream",
     "text": [
      "3391\n"
     ]
    }
   ],
   "source": [
    "N = 100\n",
    "d_max = 4\n",
    "p_max = 0.00001\n",
    "n_lower = 1\n",
    "p_swap = 0.5\n",
    "\n",
    "# generate hyperedges \n",
    "hyperedges, hyperedges_lists = random_nested_generator(N, d_max, p_max, n_lower, p_swap)\n",
    "print(len(hyperedges))"
   ]
  },
  {
   "cell_type": "code",
   "execution_count": 119,
   "metadata": {},
   "outputs": [
    {
     "name": "stdout",
     "output_type": "stream",
     "text": [
      "1: 892\n",
      "2: 854\n",
      "3: 826\n",
      "4: 819\n"
     ]
    }
   ],
   "source": [
    "for d in range(1, d_max+1):\n",
    "    print(f\"{d}: {len(hyperedges_of_order(hyperedges, d))}\")"
   ]
  },
  {
   "cell_type": "code",
   "execution_count": 120,
   "metadata": {},
   "outputs": [
    {
     "ename": "MemoryError",
     "evalue": "Unable to allocate 74.5 GiB for an array with shape (100, 100, 100, 100, 100) and data type float64",
     "output_type": "error",
     "traceback": [
      "\u001b[0;31m---------------------------------------------------------------------------\u001b[0m",
      "\u001b[0;31mMemoryError\u001b[0m                               Traceback (most recent call last)",
      "\u001b[0;32m/tmp/ipykernel_22671/1304294097.py\u001b[0m in \u001b[0;36m<module>\u001b[0;34m\u001b[0m\n\u001b[1;32m      2\u001b[0m \u001b[0mL2\u001b[0m\u001b[0;34m,\u001b[0m \u001b[0mK2\u001b[0m \u001b[0;34m=\u001b[0m \u001b[0mlaplacian_of_order\u001b[0m\u001b[0;34m(\u001b[0m\u001b[0md\u001b[0m\u001b[0;34m=\u001b[0m\u001b[0;36m2\u001b[0m\u001b[0;34m,\u001b[0m \u001b[0mN\u001b[0m\u001b[0;34m=\u001b[0m\u001b[0mN\u001b[0m\u001b[0;34m,\u001b[0m \u001b[0mhyperedges\u001b[0m\u001b[0;34m=\u001b[0m\u001b[0mhyperedges\u001b[0m\u001b[0;34m,\u001b[0m \u001b[0mreturn_k\u001b[0m\u001b[0;34m=\u001b[0m\u001b[0;32mTrue\u001b[0m\u001b[0;34m)\u001b[0m\u001b[0;34m\u001b[0m\u001b[0;34m\u001b[0m\u001b[0m\n\u001b[1;32m      3\u001b[0m \u001b[0mL3\u001b[0m\u001b[0;34m,\u001b[0m \u001b[0mK3\u001b[0m \u001b[0;34m=\u001b[0m \u001b[0mlaplacian_of_order\u001b[0m\u001b[0;34m(\u001b[0m\u001b[0md\u001b[0m\u001b[0;34m=\u001b[0m\u001b[0;36m3\u001b[0m\u001b[0;34m,\u001b[0m \u001b[0mN\u001b[0m\u001b[0;34m=\u001b[0m\u001b[0mN\u001b[0m\u001b[0;34m,\u001b[0m \u001b[0mhyperedges\u001b[0m\u001b[0;34m=\u001b[0m\u001b[0mhyperedges\u001b[0m\u001b[0;34m,\u001b[0m \u001b[0mreturn_k\u001b[0m\u001b[0;34m=\u001b[0m\u001b[0;32mTrue\u001b[0m\u001b[0;34m)\u001b[0m\u001b[0;34m\u001b[0m\u001b[0;34m\u001b[0m\u001b[0m\n\u001b[0;32m----> 4\u001b[0;31m \u001b[0mL4\u001b[0m\u001b[0;34m,\u001b[0m \u001b[0mK4\u001b[0m \u001b[0;34m=\u001b[0m \u001b[0mlaplacian_of_order\u001b[0m\u001b[0;34m(\u001b[0m\u001b[0md\u001b[0m\u001b[0;34m=\u001b[0m\u001b[0;36m4\u001b[0m\u001b[0;34m,\u001b[0m \u001b[0mN\u001b[0m\u001b[0;34m=\u001b[0m\u001b[0mN\u001b[0m\u001b[0;34m,\u001b[0m \u001b[0mhyperedges\u001b[0m\u001b[0;34m=\u001b[0m\u001b[0mhyperedges\u001b[0m\u001b[0;34m,\u001b[0m \u001b[0mreturn_k\u001b[0m\u001b[0;34m=\u001b[0m\u001b[0;32mTrue\u001b[0m\u001b[0;34m)\u001b[0m\u001b[0;34m\u001b[0m\u001b[0;34m\u001b[0m\u001b[0m\n\u001b[0m\u001b[1;32m      5\u001b[0m \u001b[0;34m\u001b[0m\u001b[0m\n\u001b[1;32m      6\u001b[0m \u001b[0;31m# gamma_1 = 1\u001b[0m\u001b[0;34m\u001b[0m\u001b[0;34m\u001b[0m\u001b[0;34m\u001b[0m\u001b[0m\n",
      "\u001b[0;32m~/Nextcloud/WORK/SCIENCE/simplicial_sync_arsham/hypergraphs_arsham.py\u001b[0m in \u001b[0;36mlaplacian_of_order\u001b[0;34m(d, N, hyperedges, return_k, rescale_per_node)\u001b[0m\n\u001b[1;32m    411\u001b[0m     \u001b[0md_hyperedges\u001b[0m \u001b[0;34m=\u001b[0m \u001b[0mhyperedges_of_order\u001b[0m\u001b[0;34m(\u001b[0m\u001b[0mhyperedges\u001b[0m\u001b[0;34m,\u001b[0m \u001b[0md\u001b[0m\u001b[0;34m)\u001b[0m\u001b[0;34m\u001b[0m\u001b[0;34m\u001b[0m\u001b[0m\n\u001b[1;32m    412\u001b[0m \u001b[0;34m\u001b[0m\u001b[0m\n\u001b[0;32m--> 413\u001b[0;31m     \u001b[0mM_d\u001b[0m \u001b[0;34m=\u001b[0m \u001b[0madj_tensor_of_order\u001b[0m\u001b[0;34m(\u001b[0m\u001b[0md\u001b[0m\u001b[0;34m,\u001b[0m \u001b[0mN\u001b[0m\u001b[0;34m,\u001b[0m \u001b[0md_hyperedges\u001b[0m\u001b[0;34m)\u001b[0m\u001b[0;34m\u001b[0m\u001b[0;34m\u001b[0m\u001b[0m\n\u001b[0m\u001b[1;32m    414\u001b[0m \u001b[0;34m\u001b[0m\u001b[0m\n\u001b[1;32m    415\u001b[0m     \u001b[0mAdj_d\u001b[0m \u001b[0;34m=\u001b[0m \u001b[0madj_matrix_of_order\u001b[0m\u001b[0;34m(\u001b[0m\u001b[0md\u001b[0m\u001b[0;34m,\u001b[0m \u001b[0mM_d\u001b[0m\u001b[0;34m)\u001b[0m\u001b[0;34m\u001b[0m\u001b[0;34m\u001b[0m\u001b[0m\n",
      "\u001b[0;32m~/Nextcloud/WORK/SCIENCE/simplicial_sync_arsham/hypergraphs_arsham.py\u001b[0m in \u001b[0;36madj_tensor_of_order\u001b[0;34m(d, N, hyperedges)\u001b[0m\n\u001b[1;32m    332\u001b[0m \u001b[0;34m\u001b[0m\u001b[0m\n\u001b[1;32m    333\u001b[0m     \u001b[0mdims\u001b[0m \u001b[0;34m=\u001b[0m \u001b[0;34m(\u001b[0m\u001b[0mN\u001b[0m\u001b[0;34m,\u001b[0m\u001b[0;34m)\u001b[0m \u001b[0;34m*\u001b[0m \u001b[0;34m(\u001b[0m\u001b[0md\u001b[0m \u001b[0;34m+\u001b[0m \u001b[0;36m1\u001b[0m\u001b[0;34m)\u001b[0m\u001b[0;34m\u001b[0m\u001b[0;34m\u001b[0m\u001b[0m\n\u001b[0;32m--> 334\u001b[0;31m     \u001b[0mM\u001b[0m \u001b[0;34m=\u001b[0m \u001b[0mnp\u001b[0m\u001b[0;34m.\u001b[0m\u001b[0mzeros\u001b[0m\u001b[0;34m(\u001b[0m\u001b[0mdims\u001b[0m\u001b[0;34m)\u001b[0m\u001b[0;34m\u001b[0m\u001b[0;34m\u001b[0m\u001b[0m\n\u001b[0m\u001b[1;32m    335\u001b[0m \u001b[0;34m\u001b[0m\u001b[0m\n\u001b[1;32m    336\u001b[0m     \u001b[0;32mfor\u001b[0m \u001b[0md_hyperedge\u001b[0m \u001b[0;32min\u001b[0m \u001b[0md_hyperedges\u001b[0m\u001b[0;34m:\u001b[0m\u001b[0;34m\u001b[0m\u001b[0;34m\u001b[0m\u001b[0m\n",
      "\u001b[0;31mMemoryError\u001b[0m: Unable to allocate 74.5 GiB for an array with shape (100, 100, 100, 100, 100) and data type float64"
     ]
    }
   ],
   "source": [
    "L1, K1 = laplacian_of_order(d=1, N=N, hyperedges=hyperedges, return_k=True)\n",
    "L2, K2 = laplacian_of_order(d=2, N=N, hyperedges=hyperedges, return_k=True)\n",
    "L3, K3 = laplacian_of_order(d=3, N=N, hyperedges=hyperedges, return_k=True)\n",
    "L4, K4 = laplacian_of_order(d=4, N=N, hyperedges=hyperedges, return_k=True)\n",
    "\n",
    "# gamma_1 = 1\n",
    "# gamma_2 = 1\n",
    "\n",
    "# multiorder Laplacian\n",
    "Lmul = (1 / np.mean(K1)) * L1 + (1 / np.mean(K2)) * L2 + (1 / np.mean(K3)) * L3 + (1 / np.mean(K4)) * L4"
   ]
  },
  {
   "cell_type": "code",
   "execution_count": 116,
   "metadata": {},
   "outputs": [],
   "source": [
    "# compute eigenvalues \n",
    "# L1, L2, L12 = compute_laplacians(hyperedges) # L12 is the multiorder one\n",
    "# lyap_1, lyap_2, lyap_12 = compute_eigenvalues(hyperedges)"
   ]
  },
  {
   "cell_type": "code",
   "execution_count": 117,
   "metadata": {},
   "outputs": [],
   "source": [
    "tag = f\"N_{N}_dmax_{d_max}_pmax_{p_max}_nlower_{n_lower}_pswap_{p_swap}\"\n",
    "\n",
    "np.savez(f\"{tag}_laplacians.npz\", L1=L1, L2=L2, L3=L3, L4=L4, Lmul=Lmul)"
   ]
  },
  {
   "cell_type": "code",
   "execution_count": null,
   "metadata": {},
   "outputs": [],
   "source": []
  }
 ],
 "metadata": {
  "kernelspec": {
   "display_name": "venv_xgi",
   "language": "python",
   "name": "venv_xgi"
  },
  "language_info": {
   "codemirror_mode": {
    "name": "ipython",
    "version": 3
   },
   "file_extension": ".py",
   "mimetype": "text/x-python",
   "name": "python",
   "nbconvert_exporter": "python",
   "pygments_lexer": "ipython3",
   "version": "3.9.13"
  }
 },
 "nbformat": 4,
 "nbformat_minor": 2
}
